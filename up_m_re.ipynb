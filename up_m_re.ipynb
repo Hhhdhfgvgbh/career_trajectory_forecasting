{
  "cells": [
    {
      "cell_type": "markdown",
      "metadata": {
        "id": "qJh6Z4syRQha"
      },
      "source": [
        "# Условие задачи, описание"
      ]
    },
    {
      "cell_type": "markdown",
      "metadata": {
        "id": "srdlWKb5RQhi"
      },
      "source": [
        "## Разработка алгоритма по прогнозированию карьерной траектории сотрудника\n",
        "\n",
        "На основе метаданных работников необходимо разработать прогнозную модель, которая будет предсказывать, какой тип повышения получит сотрудник в будущем.\n",
        "\n",
        "Данные:\n",
        "- Calls.csv — файл, содержащий данные о звонках\n",
        "- ConnectionTime.csv — определение опозданий по данным\n",
        "- Education.csv — файл, содержащий данные об образовании сотрудников:\n",
        "- SKUD.csv — файл, содержащий данные прихода/ухода сотрудников на рабочее место\n",
        "- Tasks.csv — файл, содержащий данные о исполнение задач:\n",
        "- TimenNetwork.csv — интервалы времени в сети в системе учета рабочего времени сотрудника за компьютером\n",
        "- WorkingDay.csv — файл, содержащий интервалы времени активности, система учета рабочего времени сотрудника за компьютером\n",
        "- train.csv — файл, содержащий данные сотрудников с типом повышения для\n",
        "- test.csv — пример файла для отправки, содержит id работников, для которых требуется предсказать тип повышения.\n"
      ]
    },
    {
      "cell_type": "markdown",
      "metadata": {
        "id": "GjnDaz8_ZKCF"
      },
      "source": [
        "# Импортирование библиотек, загрузка и анализ данных"
      ]
    },
    {
      "cell_type": "markdown",
      "metadata": {
        "id": "9HWYllnIZKCG"
      },
      "source": [
        "Необходимо подготовить данные, для того чтобы их можно было использовать для обучения."
      ]
    },
    {
      "cell_type": "code",
      "execution_count": null,
      "metadata": {
        "id": "Q4pH7HxJOSLX"
      },
      "outputs": [],
      "source": [
        "#conda install -c \"conda-forge/label/cf201901\" catboost"
      ]
    },
    {
      "cell_type": "code",
      "execution_count": null,
      "metadata": {
        "id": "oPfevpN6RQho"
      },
      "outputs": [],
      "source": [
        "#conda install -c conda-forge skopt"
      ]
    },
    {
      "cell_type": "code",
      "source": [
        "pip install scikit-optimize"
      ],
      "metadata": {
        "colab": {
          "base_uri": "https://localhost:8080/"
        },
        "id": "5z7jS7SKSCPZ",
        "outputId": "fe584545-1c3e-402d-869a-164023490947"
      },
      "execution_count": null,
      "outputs": [
        {
          "output_type": "stream",
          "name": "stdout",
          "text": [
            "Looking in indexes: https://pypi.org/simple, https://us-python.pkg.dev/colab-wheels/public/simple/\n",
            "Requirement already satisfied: scikit-optimize in /usr/local/lib/python3.7/dist-packages (0.9.0)\n",
            "Requirement already satisfied: pyaml>=16.9 in /usr/local/lib/python3.7/dist-packages (from scikit-optimize) (21.10.1)\n",
            "Requirement already satisfied: scikit-learn>=0.20.0 in /usr/local/lib/python3.7/dist-packages (from scikit-optimize) (1.0.2)\n",
            "Requirement already satisfied: joblib>=0.11 in /usr/local/lib/python3.7/dist-packages (from scikit-optimize) (1.2.0)\n",
            "Requirement already satisfied: scipy>=0.19.1 in /usr/local/lib/python3.7/dist-packages (from scikit-optimize) (1.7.3)\n",
            "Requirement already satisfied: numpy>=1.13.3 in /usr/local/lib/python3.7/dist-packages (from scikit-optimize) (1.21.6)\n",
            "Requirement already satisfied: PyYAML in /usr/local/lib/python3.7/dist-packages (from pyaml>=16.9->scikit-optimize) (6.0)\n",
            "Requirement already satisfied: threadpoolctl>=2.0.0 in /usr/local/lib/python3.7/dist-packages (from scikit-learn>=0.20.0->scikit-optimize) (3.1.0)\n"
          ]
        }
      ]
    },
    {
      "cell_type": "code",
      "execution_count": null,
      "metadata": {
        "colab": {
          "base_uri": "https://localhost:8080/"
        },
        "id": "K65wBwbOZZSY",
        "outputId": "24a603a3-bb2b-42d2-dd1e-4f90dda38196"
      },
      "outputs": [
        {
          "output_type": "stream",
          "name": "stdout",
          "text": [
            "Looking in indexes: https://pypi.org/simple, https://us-python.pkg.dev/colab-wheels/public/simple/\n",
            "Requirement already satisfied: catboost in /usr/local/lib/python3.7/dist-packages (1.1)\n",
            "Requirement already satisfied: six in /usr/local/lib/python3.7/dist-packages (from catboost) (1.15.0)\n",
            "Requirement already satisfied: graphviz in /usr/local/lib/python3.7/dist-packages (from catboost) (0.10.1)\n",
            "Requirement already satisfied: matplotlib in /usr/local/lib/python3.7/dist-packages (from catboost) (3.2.2)\n",
            "Requirement already satisfied: scipy in /usr/local/lib/python3.7/dist-packages (from catboost) (1.7.3)\n",
            "Requirement already satisfied: plotly in /usr/local/lib/python3.7/dist-packages (from catboost) (5.5.0)\n",
            "Requirement already satisfied: pandas>=0.24.0 in /usr/local/lib/python3.7/dist-packages (from catboost) (1.3.5)\n",
            "Requirement already satisfied: numpy>=1.16.0 in /usr/local/lib/python3.7/dist-packages (from catboost) (1.21.6)\n",
            "Requirement already satisfied: python-dateutil>=2.7.3 in /usr/local/lib/python3.7/dist-packages (from pandas>=0.24.0->catboost) (2.8.2)\n",
            "Requirement already satisfied: pytz>=2017.3 in /usr/local/lib/python3.7/dist-packages (from pandas>=0.24.0->catboost) (2022.5)\n",
            "Requirement already satisfied: cycler>=0.10 in /usr/local/lib/python3.7/dist-packages (from matplotlib->catboost) (0.11.0)\n",
            "Requirement already satisfied: pyparsing!=2.0.4,!=2.1.2,!=2.1.6,>=2.0.1 in /usr/local/lib/python3.7/dist-packages (from matplotlib->catboost) (3.0.9)\n",
            "Requirement already satisfied: kiwisolver>=1.0.1 in /usr/local/lib/python3.7/dist-packages (from matplotlib->catboost) (1.4.4)\n",
            "Requirement already satisfied: typing-extensions in /usr/local/lib/python3.7/dist-packages (from kiwisolver>=1.0.1->matplotlib->catboost) (4.1.1)\n",
            "Requirement already satisfied: tenacity>=6.2.0 in /usr/local/lib/python3.7/dist-packages (from plotly->catboost) (8.1.0)\n"
          ]
        }
      ],
      "source": [
        "pip install catboost"
      ]
    },
    {
      "cell_type": "code",
      "execution_count": null,
      "metadata": {
        "id": "FkFq2jJkRQhq"
      },
      "outputs": [],
      "source": [
        "#conda install -c conda-forge lightgbm"
      ]
    },
    {
      "cell_type": "code",
      "execution_count": null,
      "metadata": {
        "id": "IzpD8adJZKCH"
      },
      "outputs": [],
      "source": [
        "import pandas as pd\n",
        "import matplotlib as plt\n",
        "import numpy as np\n",
        "\n",
        "from sklearn.metrics import roc_auc_score\n",
        "from sklearn.preprocessing import StandardScaler\n",
        "from sklearn.model_selection import train_test_split\n",
        "from sklearn.model_selection import GridSearchCV\n",
        "\n",
        "\n",
        "import catboost as cb\n",
        "from sklearn.ensemble import RandomForestClassifier\n",
        "from sklearn.ensemble import RandomForestRegressor\n",
        "from sklearn.linear_model import LogisticRegression\n",
        "import lightgbm as lgb\n",
        "from lightgbm import LGBMClassifier\n",
        "\n",
        "\n",
        "from sklearn.utils.class_weight import compute_class_weight\n",
        "from sklearn.utils import shuffle\n",
        "\n",
        "\n",
        "import warnings\n",
        "warnings.filterwarnings(\"ignore\")"
      ]
    },
    {
      "cell_type": "code",
      "execution_count": null,
      "metadata": {
        "id": "jkQT1V6rZKCJ"
      },
      "outputs": [],
      "source": [
        "from sklearn.metrics import precision_score\n",
        "from sklearn.metrics import recall_score\n",
        "from sklearn.metrics import confusion_matrix\n",
        "from sklearn.metrics import f1_score"
      ]
    },
    {
      "cell_type": "code",
      "execution_count": null,
      "metadata": {
        "id": "E7rCUM9oPvDG"
      },
      "outputs": [],
      "source": [
        "from skopt import BayesSearchCV"
      ]
    },
    {
      "cell_type": "markdown",
      "metadata": {
        "id": "vJzw4VMnRQhu"
      },
      "source": [
        "## Обработка звонков"
      ]
    },
    {
      "cell_type": "markdown",
      "metadata": {
        "id": "f_mmTGXXRQhv"
      },
      "source": [
        "- Date: дата звонка;\n",
        "\n",
        "- Calltime: длительность звонка в часах;\n",
        "\n",
        "- NumberOfCalls: количество звонков;\n",
        "\n",
        "- Вид учета времени: будни/выходные;\n",
        "\n",
        "- InOut: входящий или исходящий звонок (ToUser: входящий, FromUser: исходящий);\n",
        "\n",
        "- ID: уникальный номер сотрудника."
      ]
    },
    {
      "cell_type": "code",
      "execution_count": null,
      "metadata": {
        "id": "Ks7Ca9RCRQhv"
      },
      "outputs": [],
      "source": [
        "data_c = pd.read_csv('Calls.csv')"
      ]
    },
    {
      "cell_type": "code",
      "execution_count": null,
      "metadata": {
        "id": "pTLe10guMb_5",
        "outputId": "d55ca6db-09cf-4bb5-c414-16edd2e96f6b",
        "colab": {
          "base_uri": "https://localhost:8080/",
          "height": 187
        }
      },
      "outputs": [
        {
          "output_type": "execute_result",
          "data": {
            "text/plain": [
              "                      Date                CallTime  NumberOfCalls  \\\n",
              "0  2021-08-16 00:00:00,000  0,00027777777777777778              1   \n",
              "1  2021-09-21 00:00:00,000  0,00027777777777777778              1   \n",
              "2  2021-01-11 00:00:00,000  0,00027777777777777778              1   \n",
              "\n",
              "  Вид учета времени   InOut          id  \n",
              "0             Будни  ToUser  ОРГ1-01945  \n",
              "1             Будни  ToUser  ОРГ1-01945  \n",
              "2             Будни  ToUser  ОРГ1-01945  "
            ],
            "text/html": [
              "\n",
              "  <div id=\"df-feb7aedd-6ccf-4a60-979a-235d9f245fd1\">\n",
              "    <div class=\"colab-df-container\">\n",
              "      <div>\n",
              "<style scoped>\n",
              "    .dataframe tbody tr th:only-of-type {\n",
              "        vertical-align: middle;\n",
              "    }\n",
              "\n",
              "    .dataframe tbody tr th {\n",
              "        vertical-align: top;\n",
              "    }\n",
              "\n",
              "    .dataframe thead th {\n",
              "        text-align: right;\n",
              "    }\n",
              "</style>\n",
              "<table border=\"1\" class=\"dataframe\">\n",
              "  <thead>\n",
              "    <tr style=\"text-align: right;\">\n",
              "      <th></th>\n",
              "      <th>Date</th>\n",
              "      <th>CallTime</th>\n",
              "      <th>NumberOfCalls</th>\n",
              "      <th>Вид учета времени</th>\n",
              "      <th>InOut</th>\n",
              "      <th>id</th>\n",
              "    </tr>\n",
              "  </thead>\n",
              "  <tbody>\n",
              "    <tr>\n",
              "      <th>0</th>\n",
              "      <td>2021-08-16 00:00:00,000</td>\n",
              "      <td>0,00027777777777777778</td>\n",
              "      <td>1</td>\n",
              "      <td>Будни</td>\n",
              "      <td>ToUser</td>\n",
              "      <td>ОРГ1-01945</td>\n",
              "    </tr>\n",
              "    <tr>\n",
              "      <th>1</th>\n",
              "      <td>2021-09-21 00:00:00,000</td>\n",
              "      <td>0,00027777777777777778</td>\n",
              "      <td>1</td>\n",
              "      <td>Будни</td>\n",
              "      <td>ToUser</td>\n",
              "      <td>ОРГ1-01945</td>\n",
              "    </tr>\n",
              "    <tr>\n",
              "      <th>2</th>\n",
              "      <td>2021-01-11 00:00:00,000</td>\n",
              "      <td>0,00027777777777777778</td>\n",
              "      <td>1</td>\n",
              "      <td>Будни</td>\n",
              "      <td>ToUser</td>\n",
              "      <td>ОРГ1-01945</td>\n",
              "    </tr>\n",
              "  </tbody>\n",
              "</table>\n",
              "</div>\n",
              "      <button class=\"colab-df-convert\" onclick=\"convertToInteractive('df-feb7aedd-6ccf-4a60-979a-235d9f245fd1')\"\n",
              "              title=\"Convert this dataframe to an interactive table.\"\n",
              "              style=\"display:none;\">\n",
              "        \n",
              "  <svg xmlns=\"http://www.w3.org/2000/svg\" height=\"24px\"viewBox=\"0 0 24 24\"\n",
              "       width=\"24px\">\n",
              "    <path d=\"M0 0h24v24H0V0z\" fill=\"none\"/>\n",
              "    <path d=\"M18.56 5.44l.94 2.06.94-2.06 2.06-.94-2.06-.94-.94-2.06-.94 2.06-2.06.94zm-11 1L8.5 8.5l.94-2.06 2.06-.94-2.06-.94L8.5 2.5l-.94 2.06-2.06.94zm10 10l.94 2.06.94-2.06 2.06-.94-2.06-.94-.94-2.06-.94 2.06-2.06.94z\"/><path d=\"M17.41 7.96l-1.37-1.37c-.4-.4-.92-.59-1.43-.59-.52 0-1.04.2-1.43.59L10.3 9.45l-7.72 7.72c-.78.78-.78 2.05 0 2.83L4 21.41c.39.39.9.59 1.41.59.51 0 1.02-.2 1.41-.59l7.78-7.78 2.81-2.81c.8-.78.8-2.07 0-2.86zM5.41 20L4 18.59l7.72-7.72 1.47 1.35L5.41 20z\"/>\n",
              "  </svg>\n",
              "      </button>\n",
              "      \n",
              "  <style>\n",
              "    .colab-df-container {\n",
              "      display:flex;\n",
              "      flex-wrap:wrap;\n",
              "      gap: 12px;\n",
              "    }\n",
              "\n",
              "    .colab-df-convert {\n",
              "      background-color: #E8F0FE;\n",
              "      border: none;\n",
              "      border-radius: 50%;\n",
              "      cursor: pointer;\n",
              "      display: none;\n",
              "      fill: #1967D2;\n",
              "      height: 32px;\n",
              "      padding: 0 0 0 0;\n",
              "      width: 32px;\n",
              "    }\n",
              "\n",
              "    .colab-df-convert:hover {\n",
              "      background-color: #E2EBFA;\n",
              "      box-shadow: 0px 1px 2px rgba(60, 64, 67, 0.3), 0px 1px 3px 1px rgba(60, 64, 67, 0.15);\n",
              "      fill: #174EA6;\n",
              "    }\n",
              "\n",
              "    [theme=dark] .colab-df-convert {\n",
              "      background-color: #3B4455;\n",
              "      fill: #D2E3FC;\n",
              "    }\n",
              "\n",
              "    [theme=dark] .colab-df-convert:hover {\n",
              "      background-color: #434B5C;\n",
              "      box-shadow: 0px 1px 3px 1px rgba(0, 0, 0, 0.15);\n",
              "      filter: drop-shadow(0px 1px 2px rgba(0, 0, 0, 0.3));\n",
              "      fill: #FFFFFF;\n",
              "    }\n",
              "  </style>\n",
              "\n",
              "      <script>\n",
              "        const buttonEl =\n",
              "          document.querySelector('#df-feb7aedd-6ccf-4a60-979a-235d9f245fd1 button.colab-df-convert');\n",
              "        buttonEl.style.display =\n",
              "          google.colab.kernel.accessAllowed ? 'block' : 'none';\n",
              "\n",
              "        async function convertToInteractive(key) {\n",
              "          const element = document.querySelector('#df-feb7aedd-6ccf-4a60-979a-235d9f245fd1');\n",
              "          const dataTable =\n",
              "            await google.colab.kernel.invokeFunction('convertToInteractive',\n",
              "                                                     [key], {});\n",
              "          if (!dataTable) return;\n",
              "\n",
              "          const docLinkHtml = 'Like what you see? Visit the ' +\n",
              "            '<a target=\"_blank\" href=https://colab.research.google.com/notebooks/data_table.ipynb>data table notebook</a>'\n",
              "            + ' to learn more about interactive tables.';\n",
              "          element.innerHTML = '';\n",
              "          dataTable['output_type'] = 'display_data';\n",
              "          await google.colab.output.renderOutput(dataTable, element);\n",
              "          const docLink = document.createElement('div');\n",
              "          docLink.innerHTML = docLinkHtml;\n",
              "          element.appendChild(docLink);\n",
              "        }\n",
              "      </script>\n",
              "    </div>\n",
              "  </div>\n",
              "  "
            ]
          },
          "metadata": {},
          "execution_count": 44
        }
      ],
      "source": [
        "data_c.head(3)"
      ]
    },
    {
      "cell_type": "code",
      "execution_count": null,
      "metadata": {
        "id": "kflkAHgURQhy",
        "outputId": "5384fde8-52a1-4bb4-ccd6-76831543d6d0",
        "colab": {
          "base_uri": "https://localhost:8080/"
        }
      },
      "outputs": [
        {
          "output_type": "stream",
          "name": "stdout",
          "text": [
            "<class 'pandas.core.frame.DataFrame'>\n",
            "RangeIndex: 407867 entries, 0 to 407866\n",
            "Data columns (total 6 columns):\n",
            " #   Column             Non-Null Count   Dtype \n",
            "---  ------             --------------   ----- \n",
            " 0   Date               407867 non-null  object\n",
            " 1   CallTime           407867 non-null  object\n",
            " 2   NumberOfCalls      407867 non-null  int64 \n",
            " 3   Вид учета времени  392655 non-null  object\n",
            " 4   InOut              407867 non-null  object\n",
            " 5   id                 407867 non-null  object\n",
            "dtypes: int64(1), object(5)\n",
            "memory usage: 18.7+ MB\n"
          ]
        }
      ],
      "source": [
        "data_c.info()"
      ]
    },
    {
      "cell_type": "code",
      "execution_count": null,
      "metadata": {
        "id": "25zX8AAxRQhz",
        "outputId": "3d0db06c-af3c-4a0f-957f-a0cb412e181d",
        "colab": {
          "base_uri": "https://localhost:8080/"
        }
      },
      "outputs": [
        {
          "output_type": "execute_result",
          "data": {
            "text/plain": [
              "13"
            ]
          },
          "metadata": {},
          "execution_count": 46
        }
      ],
      "source": [
        "sum(data_c.duplicated())"
      ]
    },
    {
      "cell_type": "code",
      "execution_count": null,
      "metadata": {
        "id": "RYBMVBw7RQh0",
        "outputId": "0fee2499-480b-4101-b932-2cc8d9ab9033",
        "colab": {
          "base_uri": "https://localhost:8080/"
        }
      },
      "outputs": [
        {
          "output_type": "execute_result",
          "data": {
            "text/plain": [
              "array(['Будни', nan, 'Выходные дни'], dtype=object)"
            ]
          },
          "metadata": {},
          "execution_count": 47
        }
      ],
      "source": [
        "data_c['Вид учета времени'].unique()"
      ]
    },
    {
      "cell_type": "code",
      "execution_count": null,
      "metadata": {
        "id": "OXM3BDHJRQh1",
        "outputId": "df0c1aff-a7d5-412a-e298-3db28e200f08",
        "colab": {
          "base_uri": "https://localhost:8080/"
        }
      },
      "outputs": [
        {
          "output_type": "execute_result",
          "data": {
            "text/plain": [
              "array([  1,   2,   3,   4,   5,   6,   7,   8,   9,  10,  11,  24,  15,\n",
              "        18,  12,  14,  13,  16,  26,  30,  32,  27,  22,  25,  17,  20,\n",
              "        19,  21,  35,  31,  33,  36,  29,  42,  49,  23,  37,  44,  28,\n",
              "        46,  40,  43,  34,  52,  39,  71,  53,  48,  51,  38,  45,  47,\n",
              "        57,  41,  55,  58,  59,  66,  68,  61,  54,  72,  63,  50,  69,\n",
              "        62,  79,  82,  56,  67,  60,  76,  75,  78,  74,  91,  90,  64,\n",
              "        87,  81,  92,  65,  80,  70,  98,  73,  84,  94, 114, 105, 107,\n",
              "       101,  93,  77,  83,  85,  86,  88, 102,  89,  97,  95])"
            ]
          },
          "metadata": {},
          "execution_count": 48
        }
      ],
      "source": [
        "data_c['NumberOfCalls'].unique()"
      ]
    },
    {
      "cell_type": "code",
      "source": [
        "data_c['CallTime'].sort_values()"
      ],
      "metadata": {
        "colab": {
          "base_uri": "https://localhost:8080/"
        },
        "id": "CfPIv1b3eIl-",
        "outputId": "9b1b252c-43aa-400a-cb83-802f384367d0"
      },
      "execution_count": null,
      "outputs": [
        {
          "output_type": "execute_result",
          "data": {
            "text/plain": [
              "0         0,00027777777777777778\n",
              "2515      0,00027777777777777778\n",
              "2516      0,00027777777777777778\n",
              "2517      0,00027777777777777778\n",
              "2518      0,00027777777777777778\n",
              "                   ...          \n",
              "281531        9,0372222222222209\n",
              "190925        9,0538888888888884\n",
              "298073                     9,665\n",
              "81809         9,6919444444444434\n",
              "106598        9,6919444444444434\n",
              "Name: CallTime, Length: 407867, dtype: object"
            ]
          },
          "metadata": {},
          "execution_count": 49
        }
      ]
    },
    {
      "cell_type": "code",
      "execution_count": null,
      "metadata": {
        "id": "QQ39_Y3fRQh2",
        "outputId": "a6463761-8891-47dc-edbd-86538ee6c8c6",
        "colab": {
          "base_uri": "https://localhost:8080/"
        }
      },
      "outputs": [
        {
          "output_type": "execute_result",
          "data": {
            "text/plain": [
              "array(['Будни', nan, 'Выходные дни'], dtype=object)"
            ]
          },
          "metadata": {},
          "execution_count": 50
        }
      ],
      "source": [
        "data_c['Вид учета времени'].unique()"
      ]
    },
    {
      "cell_type": "code",
      "execution_count": null,
      "metadata": {
        "id": "kZ9S0FJ5RQh2",
        "outputId": "7e1efd79-e9d0-43ec-9ea5-e017c2ff478e",
        "colab": {
          "base_uri": "https://localhost:8080/",
          "height": 257
        }
      },
      "outputs": [
        {
          "output_type": "execute_result",
          "data": {
            "text/plain": [
              "                           Date               CallTime  NumberOfCalls  \\\n",
              "131529  2021-01-13 00:00:00,000  0,0047222222222222223              1   \n",
              "131530  2021-01-03 00:00:00,000  0,0063888888888888884              1   \n",
              "131531  2021-01-14 00:00:00,000  0,0013888888888888887              1   \n",
              "\n",
              "       Вид учета времени     InOut          id  \n",
              "131529               NaN  FromUser  ОРГ2-05347  \n",
              "131530               NaN  FromUser  ОРГ1-03083  \n",
              "131531               NaN  FromUser  ОРГ2-05862  "
            ],
            "text/html": [
              "\n",
              "  <div id=\"df-70de86eb-1d8a-4b3e-9712-3071ddee4a1a\">\n",
              "    <div class=\"colab-df-container\">\n",
              "      <div>\n",
              "<style scoped>\n",
              "    .dataframe tbody tr th:only-of-type {\n",
              "        vertical-align: middle;\n",
              "    }\n",
              "\n",
              "    .dataframe tbody tr th {\n",
              "        vertical-align: top;\n",
              "    }\n",
              "\n",
              "    .dataframe thead th {\n",
              "        text-align: right;\n",
              "    }\n",
              "</style>\n",
              "<table border=\"1\" class=\"dataframe\">\n",
              "  <thead>\n",
              "    <tr style=\"text-align: right;\">\n",
              "      <th></th>\n",
              "      <th>Date</th>\n",
              "      <th>CallTime</th>\n",
              "      <th>NumberOfCalls</th>\n",
              "      <th>Вид учета времени</th>\n",
              "      <th>InOut</th>\n",
              "      <th>id</th>\n",
              "    </tr>\n",
              "  </thead>\n",
              "  <tbody>\n",
              "    <tr>\n",
              "      <th>131529</th>\n",
              "      <td>2021-01-13 00:00:00,000</td>\n",
              "      <td>0,0047222222222222223</td>\n",
              "      <td>1</td>\n",
              "      <td>NaN</td>\n",
              "      <td>FromUser</td>\n",
              "      <td>ОРГ2-05347</td>\n",
              "    </tr>\n",
              "    <tr>\n",
              "      <th>131530</th>\n",
              "      <td>2021-01-03 00:00:00,000</td>\n",
              "      <td>0,0063888888888888884</td>\n",
              "      <td>1</td>\n",
              "      <td>NaN</td>\n",
              "      <td>FromUser</td>\n",
              "      <td>ОРГ1-03083</td>\n",
              "    </tr>\n",
              "    <tr>\n",
              "      <th>131531</th>\n",
              "      <td>2021-01-14 00:00:00,000</td>\n",
              "      <td>0,0013888888888888887</td>\n",
              "      <td>1</td>\n",
              "      <td>NaN</td>\n",
              "      <td>FromUser</td>\n",
              "      <td>ОРГ2-05862</td>\n",
              "    </tr>\n",
              "  </tbody>\n",
              "</table>\n",
              "</div>\n",
              "      <button class=\"colab-df-convert\" onclick=\"convertToInteractive('df-70de86eb-1d8a-4b3e-9712-3071ddee4a1a')\"\n",
              "              title=\"Convert this dataframe to an interactive table.\"\n",
              "              style=\"display:none;\">\n",
              "        \n",
              "  <svg xmlns=\"http://www.w3.org/2000/svg\" height=\"24px\"viewBox=\"0 0 24 24\"\n",
              "       width=\"24px\">\n",
              "    <path d=\"M0 0h24v24H0V0z\" fill=\"none\"/>\n",
              "    <path d=\"M18.56 5.44l.94 2.06.94-2.06 2.06-.94-2.06-.94-.94-2.06-.94 2.06-2.06.94zm-11 1L8.5 8.5l.94-2.06 2.06-.94-2.06-.94L8.5 2.5l-.94 2.06-2.06.94zm10 10l.94 2.06.94-2.06 2.06-.94-2.06-.94-.94-2.06-.94 2.06-2.06.94z\"/><path d=\"M17.41 7.96l-1.37-1.37c-.4-.4-.92-.59-1.43-.59-.52 0-1.04.2-1.43.59L10.3 9.45l-7.72 7.72c-.78.78-.78 2.05 0 2.83L4 21.41c.39.39.9.59 1.41.59.51 0 1.02-.2 1.41-.59l7.78-7.78 2.81-2.81c.8-.78.8-2.07 0-2.86zM5.41 20L4 18.59l7.72-7.72 1.47 1.35L5.41 20z\"/>\n",
              "  </svg>\n",
              "      </button>\n",
              "      \n",
              "  <style>\n",
              "    .colab-df-container {\n",
              "      display:flex;\n",
              "      flex-wrap:wrap;\n",
              "      gap: 12px;\n",
              "    }\n",
              "\n",
              "    .colab-df-convert {\n",
              "      background-color: #E8F0FE;\n",
              "      border: none;\n",
              "      border-radius: 50%;\n",
              "      cursor: pointer;\n",
              "      display: none;\n",
              "      fill: #1967D2;\n",
              "      height: 32px;\n",
              "      padding: 0 0 0 0;\n",
              "      width: 32px;\n",
              "    }\n",
              "\n",
              "    .colab-df-convert:hover {\n",
              "      background-color: #E2EBFA;\n",
              "      box-shadow: 0px 1px 2px rgba(60, 64, 67, 0.3), 0px 1px 3px 1px rgba(60, 64, 67, 0.15);\n",
              "      fill: #174EA6;\n",
              "    }\n",
              "\n",
              "    [theme=dark] .colab-df-convert {\n",
              "      background-color: #3B4455;\n",
              "      fill: #D2E3FC;\n",
              "    }\n",
              "\n",
              "    [theme=dark] .colab-df-convert:hover {\n",
              "      background-color: #434B5C;\n",
              "      box-shadow: 0px 1px 3px 1px rgba(0, 0, 0, 0.15);\n",
              "      filter: drop-shadow(0px 1px 2px rgba(0, 0, 0, 0.3));\n",
              "      fill: #FFFFFF;\n",
              "    }\n",
              "  </style>\n",
              "\n",
              "      <script>\n",
              "        const buttonEl =\n",
              "          document.querySelector('#df-70de86eb-1d8a-4b3e-9712-3071ddee4a1a button.colab-df-convert');\n",
              "        buttonEl.style.display =\n",
              "          google.colab.kernel.accessAllowed ? 'block' : 'none';\n",
              "\n",
              "        async function convertToInteractive(key) {\n",
              "          const element = document.querySelector('#df-70de86eb-1d8a-4b3e-9712-3071ddee4a1a');\n",
              "          const dataTable =\n",
              "            await google.colab.kernel.invokeFunction('convertToInteractive',\n",
              "                                                     [key], {});\n",
              "          if (!dataTable) return;\n",
              "\n",
              "          const docLinkHtml = 'Like what you see? Visit the ' +\n",
              "            '<a target=\"_blank\" href=https://colab.research.google.com/notebooks/data_table.ipynb>data table notebook</a>'\n",
              "            + ' to learn more about interactive tables.';\n",
              "          element.innerHTML = '';\n",
              "          dataTable['output_type'] = 'display_data';\n",
              "          await google.colab.output.renderOutput(dataTable, element);\n",
              "          const docLink = document.createElement('div');\n",
              "          docLink.innerHTML = docLinkHtml;\n",
              "          element.appendChild(docLink);\n",
              "        }\n",
              "      </script>\n",
              "    </div>\n",
              "  </div>\n",
              "  "
            ]
          },
          "metadata": {},
          "execution_count": 51
        }
      ],
      "source": [
        "data_c[data_c['Вид учета времени'].isna()].head(3)"
      ]
    },
    {
      "cell_type": "markdown",
      "metadata": {
        "id": "NsarlMUYRQh3"
      },
      "source": [
        "Обработка звонков\n",
        "Перевести время звонка в число.\n",
        "перевести дату\n",
        "Сгруппировать по юзеру: промежуток времени, среднее время и количество звонков исходящих, среднее время и количество звонков входящих для работы в будни\n",
        "аналогично для работы в выходные\n",
        "\n",
        "Проще говоря нужно создать таблицу с индексом id, и столбцами \"общее время работы\" (total working time), среднее время звонков в будни (average call time on weekdays), среднее количество исходящих звонков в будни (average number of outgoing calls on weekdays)\n",
        "\n",
        "В перспективе для увеличения точности можно добавить среднее количество исходящих/входящих звонков в выходные и всяческий повышать разделение"
      ]
    },
    {
      "cell_type": "code",
      "execution_count": null,
      "metadata": {
        "id": "rKQ70nvMRQh3"
      },
      "outputs": [],
      "source": [
        "data_c = data_c.drop_duplicates()\n",
        "#Удалил дубликаты"
      ]
    },
    {
      "cell_type": "code",
      "execution_count": null,
      "metadata": {
        "id": "2jb7Z4toRQh4"
      },
      "outputs": [],
      "source": [
        "data_c['CallTime'] = data_c['CallTime'].apply(lambda x: x.replace(',','.'))\n",
        "data_c['CallTime'] = data_c['CallTime'].astype(float)\n",
        "data_c['CallTime'] = data_c['CallTime']*60\n",
        "#Перевёл время звонка в минуты (число)"
      ]
    },
    {
      "cell_type": "code",
      "source": [
        "data_c['CallTime'].hist(bins = 40)"
      ],
      "metadata": {
        "colab": {
          "base_uri": "https://localhost:8080/",
          "height": 286
        },
        "id": "mV9sdoHlgCZR",
        "outputId": "77690261-7db4-4ee8-e065-499ea20cf5bb"
      },
      "execution_count": null,
      "outputs": [
        {
          "output_type": "execute_result",
          "data": {
            "text/plain": [
              "<matplotlib.axes._subplots.AxesSubplot at 0x7fb7ab561e10>"
            ]
          },
          "metadata": {},
          "execution_count": 54
        },
        {
          "output_type": "display_data",
          "data": {
            "text/plain": [
              "<Figure size 432x288 with 1 Axes>"
            ],
            "image/png": "[encoded data removed]"
          },
          "metadata": {
            "needs_background": "light"
          }
        }
      ]
    },
    {
      "cell_type": "code",
      "source": [
        "data_c.loc[data_c['CallTime'] > 240, 'CallTime'].count(), data_c['CallTime'].median()"
      ],
      "metadata": {
        "colab": {
          "base_uri": "https://localhost:8080/"
        },
        "id": "SxJx5V9DgNKu",
        "outputId": "68d2ef0b-f7c7-447d-9d82-4a75ea8858b1"
      },
      "execution_count": null,
      "outputs": [
        {
          "output_type": "execute_result",
          "data": {
            "text/plain": [
              "(325, 5.383333333333333)"
            ]
          },
          "metadata": {},
          "execution_count": 55
        }
      ]
    },
    {
      "cell_type": "code",
      "source": [
        "data_c.loc[data_c['CallTime'] > 240, 'CallTime'] = data_c['CallTime'].median()\n",
        "# Отбросил неправдоподобно большое время звонка (больше двух часов)"
      ],
      "metadata": {
        "id": "Ff2qnbUogXzI"
      },
      "execution_count": null,
      "outputs": []
    },
    {
      "cell_type": "code",
      "execution_count": null,
      "metadata": {
        "id": "ObZ7BCgoRQh4",
        "outputId": "27bd364b-2956-4786-a2c6-15795e58b37d",
        "colab": {
          "base_uri": "https://localhost:8080/"
        }
      },
      "outputs": [
        {
          "output_type": "execute_result",
          "data": {
            "text/plain": [
              "id\n",
              "ОРГ1-00004    352.0\n",
              "ОРГ1-00005    359.0\n",
              "ОРГ1-00028    353.0\n",
              "ОРГ1-00030    353.0\n",
              "ОРГ1-00044    358.0\n",
              "              ...  \n",
              "ОРГ2-05629     74.0\n",
              "ОРГ2-05862    113.0\n",
              "ОРГ2-05932     79.0\n",
              "ОРГ2-06006      0.0\n",
              "ОРГ2-06638    241.0\n",
              "Name: date, Length: 1071, dtype: float64"
            ]
          },
          "metadata": {},
          "execution_count": 57
        }
      ],
      "source": [
        "data_c['Date'] = data_c['Date'].apply(lambda x: x.replace('00,000','00'))\n",
        "data_c['date'] = pd.to_datetime(data_c['Date'], format='%Y-%m-%d %H:%M:%S')\n",
        "df_c_t = data_c.groupby('id')['date'].max()-data_c.groupby('id')['date'].min()\n",
        "oneday = pd.Timedelta(days=1)\n",
        "df_c_t = df_c_t / oneday\n",
        "df_c_t\n",
        "#Перевёл даты в datetime, нашёл промежуток времени для каждого пользователя"
      ]
    },
    {
      "cell_type": "code",
      "execution_count": null,
      "metadata": {
        "id": "pKY3RwezRQh5"
      },
      "outputs": [],
      "source": [
        "df_c_ct = data_c.groupby('id')['CallTime'].mean()\n",
        "df_c_nc = data_c.groupby('id')['NumberOfCalls'].mean()\n",
        "df_c_activ = data_c[data_c['InOut'] == 'FromUser'].groupby('id')['CallTime'].mean() /data_c.groupby('id')['CallTime'].mean()\n",
        "df_c_nc_w = data_c[data_c['Вид учета времени'] == 'Выходные дни'].groupby('id')['NumberOfCalls'].mean()\n",
        "df_c_ct_w = data_c[data_c['Вид учета времени'] == 'Выходные дни'].groupby('id')['CallTime'].mean()\n",
        "# Сгруппировал по абонентам, посчитал среднее для всего времени и выходных, количество звонков и общ время звонка"
      ]
    },
    {
      "cell_type": "code",
      "execution_count": null,
      "metadata": {
        "id": "WvSW63ZcRQh5"
      },
      "outputs": [],
      "source": [
        "#df_c_nc = data_c[(data_c['Вид учета времени'] == 'Будни') & (data_c['InOut'] == 'FromUser')].groupby('id')['NumberOfCalls'].mean()\n",
        "#df_c_nc_w = data_c[data_c['Вид учета времени'] == 'Выходные дни'].groupby('id')['NumberOfCalls'].mean()\n",
        "#df_c_ct_w = data_c[data_c['Вид учета времени'] == 'Выходные дни'].groupby('id')['CallTime'].mean()"
      ]
    },
    {
      "cell_type": "code",
      "execution_count": null,
      "metadata": {
        "id": "wEECOvkyRQh6"
      },
      "outputs": [],
      "source": [
        "data_call_rez = pd.concat([df_c_t,\n",
        "                           df_c_ct,\n",
        "                           df_c_nc,\n",
        "                           df_c_ct_w,\n",
        "                           df_c_nc_w, \n",
        "                           df_c_activ], axis=1, keys=['total_working_time_days',\n",
        "                                                              'average_call_time',\n",
        "                                                              'average_number_calls',\n",
        "                                                              'average_call_time_on_weekends',\n",
        "                                                              'average_number_calls_on_weekends', \n",
        "                                                              'activ_user'])"
      ]
    },
    {
      "cell_type": "code",
      "execution_count": null,
      "metadata": {
        "id": "khqTfHZRRQh7",
        "outputId": "571181d7-066b-4584-e5ba-b38377ae8a0d",
        "colab": {
          "base_uri": "https://localhost:8080/",
          "height": 291
        }
      },
      "outputs": [
        {
          "output_type": "execute_result",
          "data": {
            "text/plain": [
              "            total_working_time_days  average_call_time  average_number_calls  \\\n",
              "id                                                                             \n",
              "ОРГ1-00004                    352.0          18.099660             10.491651   \n",
              "ОРГ1-00005                    359.0          17.947194              3.982935   \n",
              "ОРГ1-00028                    353.0           7.948673              4.608407   \n",
              "\n",
              "            average_call_time_on_weekends  average_number_calls_on_weekends  \\\n",
              "id                                                                            \n",
              "ОРГ1-00004                      10.450000                             4.875   \n",
              "ОРГ1-00005                      34.103509                             2.000   \n",
              "ОРГ1-00028                       2.395833                             1.250   \n",
              "\n",
              "            activ_user  \n",
              "id                      \n",
              "ОРГ1-00004    1.017227  \n",
              "ОРГ1-00005    1.268309  \n",
              "ОРГ1-00028    0.933769  "
            ],
            "text/html": [
              "\n",
              "  <div id=\"df-5fd1894a-d45d-4404-892c-c6686037445f\">\n",
              "    <div class=\"colab-df-container\">\n",
              "      <div>\n",
              "<style scoped>\n",
              "    .dataframe tbody tr th:only-of-type {\n",
              "        vertical-align: middle;\n",
              "    }\n",
              "\n",
              "    .dataframe tbody tr th {\n",
              "        vertical-align: top;\n",
              "    }\n",
              "\n",
              "    .dataframe thead th {\n",
              "        text-align: right;\n",
              "    }\n",
              "</style>\n",
              "<table border=\"1\" class=\"dataframe\">\n",
              "  <thead>\n",
              "    <tr style=\"text-align: right;\">\n",
              "      <th></th>\n",
              "      <th>total_working_time_days</th>\n",
              "      <th>average_call_time</th>\n",
              "      <th>average_number_calls</th>\n",
              "      <th>average_call_time_on_weekends</th>\n",
              "      <th>average_number_calls_on_weekends</th>\n",
              "      <th>activ_user</th>\n",
              "    </tr>\n",
              "    <tr>\n",
              "      <th>id</th>\n",
              "      <th></th>\n",
              "      <th></th>\n",
              "      <th></th>\n",
              "      <th></th>\n",
              "      <th></th>\n",
              "      <th></th>\n",
              "    </tr>\n",
              "  </thead>\n",
              "  <tbody>\n",
              "    <tr>\n",
              "      <th>ОРГ1-00004</th>\n",
              "      <td>352.0</td>\n",
              "      <td>18.099660</td>\n",
              "      <td>10.491651</td>\n",
              "      <td>10.450000</td>\n",
              "      <td>4.875</td>\n",
              "      <td>1.017227</td>\n",
              "    </tr>\n",
              "    <tr>\n",
              "      <th>ОРГ1-00005</th>\n",
              "      <td>359.0</td>\n",
              "      <td>17.947194</td>\n",
              "      <td>3.982935</td>\n",
              "      <td>34.103509</td>\n",
              "      <td>2.000</td>\n",
              "      <td>1.268309</td>\n",
              "    </tr>\n",
              "    <tr>\n",
              "      <th>ОРГ1-00028</th>\n",
              "      <td>353.0</td>\n",
              "      <td>7.948673</td>\n",
              "      <td>4.608407</td>\n",
              "      <td>2.395833</td>\n",
              "      <td>1.250</td>\n",
              "      <td>0.933769</td>\n",
              "    </tr>\n",
              "  </tbody>\n",
              "</table>\n",
              "</div>\n",
              "      <button class=\"colab-df-convert\" onclick=\"convertToInteractive('df-5fd1894a-d45d-4404-892c-c6686037445f')\"\n",
              "              title=\"Convert this dataframe to an interactive table.\"\n",
              "              style=\"display:none;\">\n",
              "        \n",
              "  <svg xmlns=\"http://www.w3.org/2000/svg\" height=\"24px\"viewBox=\"0 0 24 24\"\n",
              "       width=\"24px\">\n",
              "    <path d=\"M0 0h24v24H0V0z\" fill=\"none\"/>\n",
              "    <path d=\"M18.56 5.44l.94 2.06.94-2.06 2.06-.94-2.06-.94-.94-2.06-.94 2.06-2.06.94zm-11 1L8.5 8.5l.94-2.06 2.06-.94-2.06-.94L8.5 2.5l-.94 2.06-2.06.94zm10 10l.94 2.06.94-2.06 2.06-.94-2.06-.94-.94-2.06-.94 2.06-2.06.94z\"/><path d=\"M17.41 7.96l-1.37-1.37c-.4-.4-.92-.59-1.43-.59-.52 0-1.04.2-1.43.59L10.3 9.45l-7.72 7.72c-.78.78-.78 2.05 0 2.83L4 21.41c.39.39.9.59 1.41.59.51 0 1.02-.2 1.41-.59l7.78-7.78 2.81-2.81c.8-.78.8-2.07 0-2.86zM5.41 20L4 18.59l7.72-7.72 1.47 1.35L5.41 20z\"/>\n",
              "  </svg>\n",
              "      </button>\n",
              "      \n",
              "  <style>\n",
              "    .colab-df-container {\n",
              "      display:flex;\n",
              "      flex-wrap:wrap;\n",
              "      gap: 12px;\n",
              "    }\n",
              "\n",
              "    .colab-df-convert {\n",
              "      background-color: #E8F0FE;\n",
              "      border: none;\n",
              "      border-radius: 50%;\n",
              "      cursor: pointer;\n",
              "      display: none;\n",
              "      fill: #1967D2;\n",
              "      height: 32px;\n",
              "      padding: 0 0 0 0;\n",
              "      width: 32px;\n",
              "    }\n",
              "\n",
              "    .colab-df-convert:hover {\n",
              "      background-color: #E2EBFA;\n",
              "      box-shadow: 0px 1px 2px rgba(60, 64, 67, 0.3), 0px 1px 3px 1px rgba(60, 64, 67, 0.15);\n",
              "      fill: #174EA6;\n",
              "    }\n",
              "\n",
              "    [theme=dark] .colab-df-convert {\n",
              "      background-color: #3B4455;\n",
              "      fill: #D2E3FC;\n",
              "    }\n",
              "\n",
              "    [theme=dark] .colab-df-convert:hover {\n",
              "      background-color: #434B5C;\n",
              "      box-shadow: 0px 1px 3px 1px rgba(0, 0, 0, 0.15);\n",
              "      filter: drop-shadow(0px 1px 2px rgba(0, 0, 0, 0.3));\n",
              "      fill: #FFFFFF;\n",
              "    }\n",
              "  </style>\n",
              "\n",
              "      <script>\n",
              "        const buttonEl =\n",
              "          document.querySelector('#df-5fd1894a-d45d-4404-892c-c6686037445f button.colab-df-convert');\n",
              "        buttonEl.style.display =\n",
              "          google.colab.kernel.accessAllowed ? 'block' : 'none';\n",
              "\n",
              "        async function convertToInteractive(key) {\n",
              "          const element = document.querySelector('#df-5fd1894a-d45d-4404-892c-c6686037445f');\n",
              "          const dataTable =\n",
              "            await google.colab.kernel.invokeFunction('convertToInteractive',\n",
              "                                                     [key], {});\n",
              "          if (!dataTable) return;\n",
              "\n",
              "          const docLinkHtml = 'Like what you see? Visit the ' +\n",
              "            '<a target=\"_blank\" href=https://colab.research.google.com/notebooks/data_table.ipynb>data table notebook</a>'\n",
              "            + ' to learn more about interactive tables.';\n",
              "          element.innerHTML = '';\n",
              "          dataTable['output_type'] = 'display_data';\n",
              "          await google.colab.output.renderOutput(dataTable, element);\n",
              "          const docLink = document.createElement('div');\n",
              "          docLink.innerHTML = docLinkHtml;\n",
              "          element.appendChild(docLink);\n",
              "        }\n",
              "      </script>\n",
              "    </div>\n",
              "  </div>\n",
              "  "
            ]
          },
          "metadata": {},
          "execution_count": 63
        }
      ],
      "source": [
        "data_call_rez.head(3)"
      ]
    },
    {
      "cell_type": "code",
      "source": [
        "data_call_rez.info()"
      ],
      "metadata": {
        "colab": {
          "base_uri": "https://localhost:8080/"
        },
        "id": "NBzYPwWzkU2_",
        "outputId": "68479843-ae4d-4b78-d6c3-359c2eb54fc7"
      },
      "execution_count": null,
      "outputs": [
        {
          "output_type": "stream",
          "name": "stdout",
          "text": [
            "<class 'pandas.core.frame.DataFrame'>\n",
            "Index: 1071 entries, ОРГ1-00004 to ОРГ2-06638\n",
            "Data columns (total 6 columns):\n",
            " #   Column                            Non-Null Count  Dtype  \n",
            "---  ------                            --------------  -----  \n",
            " 0   total_working_time_days           1071 non-null   float64\n",
            " 1   average_call_time                 1071 non-null   float64\n",
            " 2   average_number_calls              1071 non-null   float64\n",
            " 3   average_call_time_on_weekends     514 non-null    float64\n",
            " 4   average_number_calls_on_weekends  514 non-null    float64\n",
            " 5   activ_user                        1058 non-null   float64\n",
            "dtypes: float64(6)\n",
            "memory usage: 90.9+ KB\n"
          ]
        }
      ]
    },
    {
      "cell_type": "code",
      "source": [
        "for i in list(data_call_rez.columns):\n",
        "    data_call_rez.loc[data_call_rez[i].isna(), i] = 0"
      ],
      "metadata": {
        "id": "LmAcceminug5"
      },
      "execution_count": null,
      "outputs": []
    },
    {
      "cell_type": "markdown",
      "metadata": {
        "id": "wPYyeCP7RQh7"
      },
      "source": [
        "Удалил дубликаты. Изменил форматы данных. Сгруппировал по пользователям.Нашёл среднее для общего количества звонков и для времени звонков, для общего времени и для выходных. nan отдельно не обрабатывал."
      ]
    },
    {
      "cell_type": "code",
      "execution_count": null,
      "metadata": {
        "id": "59gIb4cLRQh8",
        "outputId": "93f2b366-9245-4320-e7bb-df01c59356a7",
        "colab": {
          "base_uri": "https://localhost:8080/",
          "height": 283
        }
      },
      "outputs": [
        {
          "output_type": "execute_result",
          "data": {
            "text/plain": [
              "<matplotlib.axes._subplots.AxesSubplot at 0x7fb7a8b210d0>"
            ]
          },
          "metadata": {},
          "execution_count": 65
        },
        {
          "output_type": "display_data",
          "data": {
            "text/plain": [
              "<Figure size 432x288 with 1 Axes>"
            ],
            "image/png": "[encoded data removed]"
          },
          "metadata": {
            "needs_background": "light"
          }
        }
      ],
      "source": [
        "data_call_rez['total_working_time_days'].hist()"
      ]
    },
    {
      "cell_type": "code",
      "execution_count": null,
      "metadata": {
        "id": "fttgAsJjRQh8",
        "outputId": "18200dd3-4355-4528-c1b9-031e4aa20392",
        "colab": {
          "base_uri": "https://localhost:8080/",
          "height": 283
        }
      },
      "outputs": [
        {
          "output_type": "execute_result",
          "data": {
            "text/plain": [
              "<matplotlib.axes._subplots.AxesSubplot at 0x7fb7a8ab0190>"
            ]
          },
          "metadata": {},
          "execution_count": 66
        },
        {
          "output_type": "display_data",
          "data": {
            "text/plain": [
              "<Figure size 432x288 with 1 Axes>"
            ],
            "image/png": "[encoded data removed]"
          },
          "metadata": {
            "needs_background": "light"
          }
        }
      ],
      "source": [
        "data_call_rez['average_call_time'].hist()"
      ]
    },
    {
      "cell_type": "code",
      "execution_count": null,
      "metadata": {
        "id": "-qXb-l1ZRQh9",
        "outputId": "98511755-263e-4286-cfbe-78a06ad6e490",
        "colab": {
          "base_uri": "https://localhost:8080/",
          "height": 283
        }
      },
      "outputs": [
        {
          "output_type": "execute_result",
          "data": {
            "text/plain": [
              "<matplotlib.axes._subplots.AxesSubplot at 0x7fb7a89b3110>"
            ]
          },
          "metadata": {},
          "execution_count": 67
        },
        {
          "output_type": "display_data",
          "data": {
            "text/plain": [
              "<Figure size 432x288 with 1 Axes>"
            ],
            "image/png": "[encoded data removed]"
          },
          "metadata": {
            "needs_background": "light"
          }
        }
      ],
      "source": [
        "data_call_rez['average_number_calls'].hist()"
      ]
    },
    {
      "cell_type": "markdown",
      "metadata": {
        "id": "dz92ZX1jRQh9"
      },
      "source": [
        "## Обработка опозданий"
      ]
    },
    {
      "cell_type": "markdown",
      "metadata": {
        "id": "KNbZTsOmRQh-"
      },
      "source": [
        "- dateNum: дата;\n",
        "\n",
        "- maxLogOff: последний выход из сети;\n",
        "\n",
        "- Нормативное время начала раб.дня: время начала рабочего дня согласно должности и часового пояса;\n",
        "\n",
        "- Фактич. время начала раб.дня: фактическое время начала рабочего дня\n",
        "\n",
        "- Время опоздания: длительность опоздания;\n",
        "\n",
        "- Признак опоздания: опоздание или нет;\n",
        "\n",
        "- Вых/Будни: выходной или будний день;\n",
        "\n",
        "- ID: уникальный номер сотрудника."
      ]
    },
    {
      "cell_type": "code",
      "execution_count": null,
      "metadata": {
        "id": "kguYP0itRQh-"
      },
      "outputs": [],
      "source": [
        "data_con = pd.read_csv('ConnectionTime.csv')"
      ]
    },
    {
      "cell_type": "code",
      "execution_count": null,
      "metadata": {
        "id": "2q5LW7SRRQh-",
        "outputId": "fcea39ef-886b-48e9-a522-3a7911005d6f",
        "colab": {
          "base_uri": "https://localhost:8080/",
          "height": 274
        }
      },
      "outputs": [
        {
          "output_type": "execute_result",
          "data": {
            "text/plain": [
              "                   dateNum                maxLogOff  \\\n",
              "0  2021-12-15 00:00:00,000  2021-12-15 17:30:27,246   \n",
              "1  2021-12-15 00:00:00,000  2021-12-15 16:30:13,330   \n",
              "2  2021-12-15 00:00:00,000  2021-12-15 15:27:37,246   \n",
              "\n",
              "  Нормативное время начала раб.дня Фактич. время начала раб.дня  \\\n",
              "0          1899-12-30 08:30:00,000      1899-12-30 08:24:18,606   \n",
              "1          1899-12-30 08:30:00,000      1899-12-30 01:05:20,513   \n",
              "2          1899-12-30 08:30:00,000      1899-12-30 05:47:33,156   \n",
              "\n",
              "  Время опоздания Признак опоздания Вых/Будни          id  \n",
              "0             NaN               NaN     Будни  ОРГ1-02782  \n",
              "1             NaN               NaN     Будни  ОРГ1-01407  \n",
              "2             NaN               NaN     Будни  ОРГ1-01909  "
            ],
            "text/html": [
              "\n",
              "  <div id=\"df-772a1603-0b00-4771-ae95-6608503d02ef\">\n",
              "    <div class=\"colab-df-container\">\n",
              "      <div>\n",
              "<style scoped>\n",
              "    .dataframe tbody tr th:only-of-type {\n",
              "        vertical-align: middle;\n",
              "    }\n",
              "\n",
              "    .dataframe tbody tr th {\n",
              "        vertical-align: top;\n",
              "    }\n",
              "\n",
              "    .dataframe thead th {\n",
              "        text-align: right;\n",
              "    }\n",
              "</style>\n",
              "<table border=\"1\" class=\"dataframe\">\n",
              "  <thead>\n",
              "    <tr style=\"text-align: right;\">\n",
              "      <th></th>\n",
              "      <th>dateNum</th>\n",
              "      <th>maxLogOff</th>\n",
              "      <th>Нормативное время начала раб.дня</th>\n",
              "      <th>Фактич. время начала раб.дня</th>\n",
              "      <th>Время опоздания</th>\n",
              "      <th>Признак опоздания</th>\n",
              "      <th>Вых/Будни</th>\n",
              "      <th>id</th>\n",
              "    </tr>\n",
              "  </thead>\n",
              "  <tbody>\n",
              "    <tr>\n",
              "      <th>0</th>\n",
              "      <td>2021-12-15 00:00:00,000</td>\n",
              "      <td>2021-12-15 17:30:27,246</td>\n",
              "      <td>1899-12-30 08:30:00,000</td>\n",
              "      <td>1899-12-30 08:24:18,606</td>\n",
              "      <td>NaN</td>\n",
              "      <td>NaN</td>\n",
              "      <td>Будни</td>\n",
              "      <td>ОРГ1-02782</td>\n",
              "    </tr>\n",
              "    <tr>\n",
              "      <th>1</th>\n",
              "      <td>2021-12-15 00:00:00,000</td>\n",
              "      <td>2021-12-15 16:30:13,330</td>\n",
              "      <td>1899-12-30 08:30:00,000</td>\n",
              "      <td>1899-12-30 01:05:20,513</td>\n",
              "      <td>NaN</td>\n",
              "      <td>NaN</td>\n",
              "      <td>Будни</td>\n",
              "      <td>ОРГ1-01407</td>\n",
              "    </tr>\n",
              "    <tr>\n",
              "      <th>2</th>\n",
              "      <td>2021-12-15 00:00:00,000</td>\n",
              "      <td>2021-12-15 15:27:37,246</td>\n",
              "      <td>1899-12-30 08:30:00,000</td>\n",
              "      <td>1899-12-30 05:47:33,156</td>\n",
              "      <td>NaN</td>\n",
              "      <td>NaN</td>\n",
              "      <td>Будни</td>\n",
              "      <td>ОРГ1-01909</td>\n",
              "    </tr>\n",
              "  </tbody>\n",
              "</table>\n",
              "</div>\n",
              "      <button class=\"colab-df-convert\" onclick=\"convertToInteractive('df-772a1603-0b00-4771-ae95-6608503d02ef')\"\n",
              "              title=\"Convert this dataframe to an interactive table.\"\n",
              "              style=\"display:none;\">\n",
              "        \n",
              "  <svg xmlns=\"http://www.w3.org/2000/svg\" height=\"24px\"viewBox=\"0 0 24 24\"\n",
              "       width=\"24px\">\n",
              "    <path d=\"M0 0h24v24H0V0z\" fill=\"none\"/>\n",
              "    <path d=\"M18.56 5.44l.94 2.06.94-2.06 2.06-.94-2.06-.94-.94-2.06-.94 2.06-2.06.94zm-11 1L8.5 8.5l.94-2.06 2.06-.94-2.06-.94L8.5 2.5l-.94 2.06-2.06.94zm10 10l.94 2.06.94-2.06 2.06-.94-2.06-.94-.94-2.06-.94 2.06-2.06.94z\"/><path d=\"M17.41 7.96l-1.37-1.37c-.4-.4-.92-.59-1.43-.59-.52 0-1.04.2-1.43.59L10.3 9.45l-7.72 7.72c-.78.78-.78 2.05 0 2.83L4 21.41c.39.39.9.59 1.41.59.51 0 1.02-.2 1.41-.59l7.78-7.78 2.81-2.81c.8-.78.8-2.07 0-2.86zM5.41 20L4 18.59l7.72-7.72 1.47 1.35L5.41 20z\"/>\n",
              "  </svg>\n",
              "      </button>\n",
              "      \n",
              "  <style>\n",
              "    .colab-df-container {\n",
              "      display:flex;\n",
              "      flex-wrap:wrap;\n",
              "      gap: 12px;\n",
              "    }\n",
              "\n",
              "    .colab-df-convert {\n",
              "      background-color: #E8F0FE;\n",
              "      border: none;\n",
              "      border-radius: 50%;\n",
              "      cursor: pointer;\n",
              "      display: none;\n",
              "      fill: #1967D2;\n",
              "      height: 32px;\n",
              "      padding: 0 0 0 0;\n",
              "      width: 32px;\n",
              "    }\n",
              "\n",
              "    .colab-df-convert:hover {\n",
              "      background-color: #E2EBFA;\n",
              "      box-shadow: 0px 1px 2px rgba(60, 64, 67, 0.3), 0px 1px 3px 1px rgba(60, 64, 67, 0.15);\n",
              "      fill: #174EA6;\n",
              "    }\n",
              "\n",
              "    [theme=dark] .colab-df-convert {\n",
              "      background-color: #3B4455;\n",
              "      fill: #D2E3FC;\n",
              "    }\n",
              "\n",
              "    [theme=dark] .colab-df-convert:hover {\n",
              "      background-color: #434B5C;\n",
              "      box-shadow: 0px 1px 3px 1px rgba(0, 0, 0, 0.15);\n",
              "      filter: drop-shadow(0px 1px 2px rgba(0, 0, 0, 0.3));\n",
              "      fill: #FFFFFF;\n",
              "    }\n",
              "  </style>\n",
              "\n",
              "      <script>\n",
              "        const buttonEl =\n",
              "          document.querySelector('#df-772a1603-0b00-4771-ae95-6608503d02ef button.colab-df-convert');\n",
              "        buttonEl.style.display =\n",
              "          google.colab.kernel.accessAllowed ? 'block' : 'none';\n",
              "\n",
              "        async function convertToInteractive(key) {\n",
              "          const element = document.querySelector('#df-772a1603-0b00-4771-ae95-6608503d02ef');\n",
              "          const dataTable =\n",
              "            await google.colab.kernel.invokeFunction('convertToInteractive',\n",
              "                                                     [key], {});\n",
              "          if (!dataTable) return;\n",
              "\n",
              "          const docLinkHtml = 'Like what you see? Visit the ' +\n",
              "            '<a target=\"_blank\" href=https://colab.research.google.com/notebooks/data_table.ipynb>data table notebook</a>'\n",
              "            + ' to learn more about interactive tables.';\n",
              "          element.innerHTML = '';\n",
              "          dataTable['output_type'] = 'display_data';\n",
              "          await google.colab.output.renderOutput(dataTable, element);\n",
              "          const docLink = document.createElement('div');\n",
              "          docLink.innerHTML = docLinkHtml;\n",
              "          element.appendChild(docLink);\n",
              "        }\n",
              "      </script>\n",
              "    </div>\n",
              "  </div>\n",
              "  "
            ]
          },
          "metadata": {},
          "execution_count": 74
        }
      ],
      "source": [
        "data_con.head(3)"
      ]
    },
    {
      "cell_type": "code",
      "execution_count": null,
      "metadata": {
        "id": "MGiaBoQYRQh_",
        "outputId": "17011a6a-a9a2-4d39-b050-b3b7f53a006a",
        "colab": {
          "base_uri": "https://localhost:8080/"
        }
      },
      "outputs": [
        {
          "output_type": "stream",
          "name": "stdout",
          "text": [
            "<class 'pandas.core.frame.DataFrame'>\n",
            "RangeIndex: 230662 entries, 0 to 230661\n",
            "Data columns (total 8 columns):\n",
            " #   Column                            Non-Null Count   Dtype \n",
            "---  ------                            --------------   ----- \n",
            " 0   dateNum                           230662 non-null  object\n",
            " 1   maxLogOff                         230662 non-null  object\n",
            " 2   Нормативное время начала раб.дня  230662 non-null  object\n",
            " 3   Фактич. время начала раб.дня      230662 non-null  object\n",
            " 4   Время опоздания                   103101 non-null  object\n",
            " 5   Признак опоздания                 77520 non-null   object\n",
            " 6   Вых/Будни                         230662 non-null  object\n",
            " 7   id                                230662 non-null  object\n",
            "dtypes: object(8)\n",
            "memory usage: 14.1+ MB\n"
          ]
        }
      ],
      "source": [
        "data_con.info()"
      ]
    },
    {
      "cell_type": "code",
      "execution_count": null,
      "metadata": {
        "id": "3Hb_uV9tRQh_",
        "outputId": "dcc6ecf0-784d-4b85-dd2a-b0e5dac06ec9",
        "colab": {
          "base_uri": "https://localhost:8080/"
        }
      },
      "outputs": [
        {
          "output_type": "execute_result",
          "data": {
            "text/plain": [
              "235"
            ]
          },
          "metadata": {},
          "execution_count": 76
        }
      ],
      "source": [
        "sum(data_con.duplicated())"
      ]
    },
    {
      "cell_type": "code",
      "execution_count": null,
      "metadata": {
        "id": "5kWZVAfiRQh_",
        "outputId": "6699bc2a-a728-4b7f-b855-887571d7dc40",
        "colab": {
          "base_uri": "https://localhost:8080/"
        }
      },
      "outputs": [
        {
          "output_type": "execute_result",
          "data": {
            "text/plain": [
              "array([nan, 'Опоздание'], dtype=object)"
            ]
          },
          "metadata": {},
          "execution_count": 77
        }
      ],
      "source": [
        "data_con['Признак опоздания'].unique()"
      ]
    },
    {
      "cell_type": "code",
      "execution_count": null,
      "metadata": {
        "id": "yJ-jw2mXRQiA",
        "outputId": "9200b748-136f-421b-845a-178976002ae8"
      },
      "outputs": [
        {
          "data": {
            "text/plain": [
              "array([nan, '3,8434999999999997', '2,2224119444444446', ...,\n",
              "       '6,7784936111111112', '2,5917499999999998', '0,78347027777777778'],\n",
              "      dtype=object)"
            ]
          },
          "execution_count": 355,
          "metadata": {},
          "output_type": "execute_result"
        }
      ],
      "source": [
        "data_con['Время опоздания'].unique()"
      ]
    },
    {
      "cell_type": "markdown",
      "metadata": {
        "id": "zT-UV9xTRQiA"
      },
      "source": [
        "Обработка опозданий.\n",
        "\n",
        "Перевести в нужные форматы. Найти время работы, выделить среднее количество опозданий и среднее время опозданий."
      ]
    },
    {
      "cell_type": "code",
      "execution_count": null,
      "metadata": {
        "id": "oQLyffzyRQiA"
      },
      "outputs": [],
      "source": [
        "data_con = data_con.drop_duplicates()\n",
        "#Удалил дубликаты"
      ]
    },
    {
      "cell_type": "code",
      "execution_count": null,
      "metadata": {
        "id": "FpHISOFBRQiB"
      },
      "outputs": [],
      "source": [
        "data_con['Время опоздания'] = data_con['Время опоздания'].astype(str)\n",
        "data_con['Время опоздания'] = data_con['Время опоздания'].apply(lambda x: x.replace(',','.'))\n",
        "data_con['Время опоздания'] = data_con['Время опоздания'].astype(float)\n"
      ]
    },
    {
      "cell_type": "code",
      "execution_count": null,
      "metadata": {
        "id": "Ejvbv7T2RQiB",
        "outputId": "993ab2cd-d06a-4bc3-9d16-da03c0a9767c",
        "colab": {
          "base_uri": "https://localhost:8080/"
        }
      },
      "outputs": [
        {
          "output_type": "execute_result",
          "data": {
            "text/plain": [
              "158928    0.000005\n",
              "146336    0.000013\n",
              "147352    0.000014\n",
              "136223    0.000021\n",
              "165461    0.000022\n",
              "            ...   \n",
              "127556         NaN\n",
              "127557         NaN\n",
              "127558         NaN\n",
              "127559         NaN\n",
              "127560         NaN\n",
              "Name: Время опоздания, Length: 230427, dtype: float64"
            ]
          },
          "metadata": {},
          "execution_count": 80
        }
      ],
      "source": [
        "data_con['Время опоздания'].sort_values()"
      ]
    },
    {
      "cell_type": "code",
      "execution_count": null,
      "metadata": {
        "id": "V3JUaH_iRQiB"
      },
      "outputs": [],
      "source": [
        "#data_con['dateNum'] = data_con['Date'].apply(lambda x: x.replace('00,000','00'))\n",
        "data_con['dateNum'] = pd.to_datetime(data_con['dateNum'], format='%Y-%m-%d %H:%M:%S,%f')"
      ]
    },
    {
      "cell_type": "code",
      "execution_count": null,
      "metadata": {
        "id": "RBMye-UCRQiC",
        "outputId": "caa886ad-5a10-421a-9435-f937501a2c6d",
        "colab": {
          "base_uri": "https://localhost:8080/"
        }
      },
      "outputs": [
        {
          "output_type": "execute_result",
          "data": {
            "text/plain": [
              "id\n",
              "ОРГ1-00004    193.0\n",
              "ОРГ1-00028    192.0\n",
              "ОРГ1-00030    192.0\n",
              "ОРГ1-00044    192.0\n",
              "ОРГ1-00046    193.0\n",
              "              ...  \n",
              "ОРГ2-08179      2.0\n",
              "ОРГ2-08181     10.0\n",
              "ОРГ2-08203      8.0\n",
              "ОРГ2-08204      7.0\n",
              "ОРГ2-08215      3.0\n",
              "Name: dateNum, Length: 1588, dtype: float64"
            ]
          },
          "metadata": {},
          "execution_count": 83
        }
      ],
      "source": [
        "df_ct_t = data_con.groupby('id')['dateNum'].max()-data_con.groupby('id')['dateNum'].min()\n",
        "#oneday = pd.Timedelta(days=1)\n",
        "df_ct_t = df_ct_t / oneday\n",
        "df_ct_t"
      ]
    },
    {
      "cell_type": "code",
      "execution_count": null,
      "metadata": {
        "id": "9cAPGoYiRQiC"
      },
      "outputs": [],
      "source": [
        "df_ct_out_t = data_con[data_con['Вых/Будни'] == 'Будни'].groupby('id')['Время опоздания'].mean()\n",
        "df_ct_out_c = data_con[data_con['Вых/Будни'] == 'Будни'].groupby('id')['Время опоздания'].count()"
      ]
    },
    {
      "cell_type": "code",
      "execution_count": null,
      "metadata": {
        "id": "SG1lEgRPRQiD"
      },
      "outputs": [],
      "source": [
        "data_con_rez = pd.concat([df_ct_t,\n",
        "                           df_ct_out_t,\n",
        "                           df_ct_out_c / (df_ct_t+1)], axis=1, keys=['total_working_time_days_2',\n",
        "                                                              'average_time_of_lateness',\n",
        "                                                              'average_number_of_delays'])"
      ]
    },
    {
      "cell_type": "code",
      "execution_count": null,
      "metadata": {
        "id": "TylvWxMQRQiD",
        "outputId": "3c855189-70e8-4ad5-92db-436c1351f927",
        "colab": {
          "base_uri": "https://localhost:8080/",
          "height": 175
        }
      },
      "outputs": [
        {
          "output_type": "execute_result",
          "data": {
            "text/plain": [
              "            total_working_time_days_2  average_time_of_lateness  \\\n",
              "id                                                                \n",
              "ОРГ1-00004                      193.0                  2.789025   \n",
              "ОРГ1-00028                      192.0                  1.841427   \n",
              "ОРГ1-00030                      192.0                  1.708453   \n",
              "\n",
              "            average_number_of_delays  \n",
              "id                                    \n",
              "ОРГ1-00004                  1.350515  \n",
              "ОРГ1-00028                  0.264249  \n",
              "ОРГ1-00030                  0.678756  "
            ],
            "text/html": [
              "\n",
              "  <div id=\"df-1bc87812-c238-46e6-b0a9-d9032b330204\">\n",
              "    <div class=\"colab-df-container\">\n",
              "      <div>\n",
              "<style scoped>\n",
              "    .dataframe tbody tr th:only-of-type {\n",
              "        vertical-align: middle;\n",
              "    }\n",
              "\n",
              "    .dataframe tbody tr th {\n",
              "        vertical-align: top;\n",
              "    }\n",
              "\n",
              "    .dataframe thead th {\n",
              "        text-align: right;\n",
              "    }\n",
              "</style>\n",
              "<table border=\"1\" class=\"dataframe\">\n",
              "  <thead>\n",
              "    <tr style=\"text-align: right;\">\n",
              "      <th></th>\n",
              "      <th>total_working_time_days_2</th>\n",
              "      <th>average_time_of_lateness</th>\n",
              "      <th>average_number_of_delays</th>\n",
              "    </tr>\n",
              "    <tr>\n",
              "      <th>id</th>\n",
              "      <th></th>\n",
              "      <th></th>\n",
              "      <th></th>\n",
              "    </tr>\n",
              "  </thead>\n",
              "  <tbody>\n",
              "    <tr>\n",
              "      <th>ОРГ1-00004</th>\n",
              "      <td>193.0</td>\n",
              "      <td>2.789025</td>\n",
              "      <td>1.350515</td>\n",
              "    </tr>\n",
              "    <tr>\n",
              "      <th>ОРГ1-00028</th>\n",
              "      <td>192.0</td>\n",
              "      <td>1.841427</td>\n",
              "      <td>0.264249</td>\n",
              "    </tr>\n",
              "    <tr>\n",
              "      <th>ОРГ1-00030</th>\n",
              "      <td>192.0</td>\n",
              "      <td>1.708453</td>\n",
              "      <td>0.678756</td>\n",
              "    </tr>\n",
              "  </tbody>\n",
              "</table>\n",
              "</div>\n",
              "      <button class=\"colab-df-convert\" onclick=\"convertToInteractive('df-1bc87812-c238-46e6-b0a9-d9032b330204')\"\n",
              "              title=\"Convert this dataframe to an interactive table.\"\n",
              "              style=\"display:none;\">\n",
              "        \n",
              "  <svg xmlns=\"http://www.w3.org/2000/svg\" height=\"24px\"viewBox=\"0 0 24 24\"\n",
              "       width=\"24px\">\n",
              "    <path d=\"M0 0h24v24H0V0z\" fill=\"none\"/>\n",
              "    <path d=\"M18.56 5.44l.94 2.06.94-2.06 2.06-.94-2.06-.94-.94-2.06-.94 2.06-2.06.94zm-11 1L8.5 8.5l.94-2.06 2.06-.94-2.06-.94L8.5 2.5l-.94 2.06-2.06.94zm10 10l.94 2.06.94-2.06 2.06-.94-2.06-.94-.94-2.06-.94 2.06-2.06.94z\"/><path d=\"M17.41 7.96l-1.37-1.37c-.4-.4-.92-.59-1.43-.59-.52 0-1.04.2-1.43.59L10.3 9.45l-7.72 7.72c-.78.78-.78 2.05 0 2.83L4 21.41c.39.39.9.59 1.41.59.51 0 1.02-.2 1.41-.59l7.78-7.78 2.81-2.81c.8-.78.8-2.07 0-2.86zM5.41 20L4 18.59l7.72-7.72 1.47 1.35L5.41 20z\"/>\n",
              "  </svg>\n",
              "      </button>\n",
              "      \n",
              "  <style>\n",
              "    .colab-df-container {\n",
              "      display:flex;\n",
              "      flex-wrap:wrap;\n",
              "      gap: 12px;\n",
              "    }\n",
              "\n",
              "    .colab-df-convert {\n",
              "      background-color: #E8F0FE;\n",
              "      border: none;\n",
              "      border-radius: 50%;\n",
              "      cursor: pointer;\n",
              "      display: none;\n",
              "      fill: #1967D2;\n",
              "      height: 32px;\n",
              "      padding: 0 0 0 0;\n",
              "      width: 32px;\n",
              "    }\n",
              "\n",
              "    .colab-df-convert:hover {\n",
              "      background-color: #E2EBFA;\n",
              "      box-shadow: 0px 1px 2px rgba(60, 64, 67, 0.3), 0px 1px 3px 1px rgba(60, 64, 67, 0.15);\n",
              "      fill: #174EA6;\n",
              "    }\n",
              "\n",
              "    [theme=dark] .colab-df-convert {\n",
              "      background-color: #3B4455;\n",
              "      fill: #D2E3FC;\n",
              "    }\n",
              "\n",
              "    [theme=dark] .colab-df-convert:hover {\n",
              "      background-color: #434B5C;\n",
              "      box-shadow: 0px 1px 3px 1px rgba(0, 0, 0, 0.15);\n",
              "      filter: drop-shadow(0px 1px 2px rgba(0, 0, 0, 0.3));\n",
              "      fill: #FFFFFF;\n",
              "    }\n",
              "  </style>\n",
              "\n",
              "      <script>\n",
              "        const buttonEl =\n",
              "          document.querySelector('#df-1bc87812-c238-46e6-b0a9-d9032b330204 button.colab-df-convert');\n",
              "        buttonEl.style.display =\n",
              "          google.colab.kernel.accessAllowed ? 'block' : 'none';\n",
              "\n",
              "        async function convertToInteractive(key) {\n",
              "          const element = document.querySelector('#df-1bc87812-c238-46e6-b0a9-d9032b330204');\n",
              "          const dataTable =\n",
              "            await google.colab.kernel.invokeFunction('convertToInteractive',\n",
              "                                                     [key], {});\n",
              "          if (!dataTable) return;\n",
              "\n",
              "          const docLinkHtml = 'Like what you see? Visit the ' +\n",
              "            '<a target=\"_blank\" href=https://colab.research.google.com/notebooks/data_table.ipynb>data table notebook</a>'\n",
              "            + ' to learn more about interactive tables.';\n",
              "          element.innerHTML = '';\n",
              "          dataTable['output_type'] = 'display_data';\n",
              "          await google.colab.output.renderOutput(dataTable, element);\n",
              "          const docLink = document.createElement('div');\n",
              "          docLink.innerHTML = docLinkHtml;\n",
              "          element.appendChild(docLink);\n",
              "        }\n",
              "      </script>\n",
              "    </div>\n",
              "  </div>\n",
              "  "
            ]
          },
          "metadata": {},
          "execution_count": 86
        }
      ],
      "source": [
        "data_con_rez.head(3)"
      ]
    },
    {
      "cell_type": "code",
      "execution_count": null,
      "metadata": {
        "id": "5kL_bRvTRQiD"
      },
      "outputs": [],
      "source": [
        "data_con_rez.loc[data_con_rez['average_number_of_delays'].isna(), 'average_number_of_delays'] = 0\n",
        "data_con_rez.loc[data_con_rez['average_time_of_lateness'].isna(), 'average_time_of_lateness'] = 0\n",
        "# Заменил пустые значения нулями"
      ]
    },
    {
      "cell_type": "markdown",
      "metadata": {
        "id": "ZqkP8hRdRQiE"
      },
      "source": [
        "Перевести в нужные форматы. Найти время работы, выделить среднее количество опозданий и среднее время опозданий."
      ]
    },
    {
      "cell_type": "code",
      "execution_count": null,
      "metadata": {
        "id": "rIkFy74uRQiE",
        "outputId": "88c6dee3-c4c0-4e42-f267-1b36383da3e1",
        "colab": {
          "base_uri": "https://localhost:8080/",
          "height": 283
        }
      },
      "outputs": [
        {
          "output_type": "execute_result",
          "data": {
            "text/plain": [
              "<matplotlib.axes._subplots.AxesSubplot at 0x7fb7a876d4d0>"
            ]
          },
          "metadata": {},
          "execution_count": 88
        },
        {
          "output_type": "display_data",
          "data": {
            "text/plain": [
              "<Figure size 432x288 with 1 Axes>"
            ],
            "image/png": "[encoded data removed]"
          },
          "metadata": {
            "needs_background": "light"
          }
        }
      ],
      "source": [
        "data_con_rez['average_time_of_lateness'].hist()"
      ]
    },
    {
      "cell_type": "code",
      "execution_count": null,
      "metadata": {
        "id": "QGafhXgQRQiF",
        "outputId": "c826dd24-e7e8-492f-dfd4-c7e1e8ba3110"
      },
      "outputs": [
        {
          "data": {
            "text/plain": [
              "<AxesSubplot:>"
            ]
          },
          "execution_count": 366,
          "metadata": {},
          "output_type": "execute_result"
        },
        {
          "data": {
            "image/png": "[encoded data removed]",
            "text/plain": [
              "<Figure size 432x288 with 1 Axes>"
            ]
          },
          "metadata": {
            "needs_background": "light"
          },
          "output_type": "display_data"
        }
      ],
      "source": [
        "data_con_rez['average_number_of_delays'].hist()"
      ]
    },
    {
      "cell_type": "markdown",
      "metadata": {
        "id": "npOTYFe-RQiF"
      },
      "source": [
        "## Обработка исполнения задач"
      ]
    },
    {
      "cell_type": "markdown",
      "metadata": {
        "id": "NJ8AkNvcRQiF"
      },
      "source": [
        "- Статус по просрочке: без нарушения срока или с нарушением;\n",
        "- Срок плановый: плановая дата завершения;\n",
        "- Просрочено, дней: на сколько дней просрочено завершение задания;\n",
        "- Длительность просрочки: без нарушения срока, более 30 дней, менее 30 дней, менее 7 дней;\n",
        "- Вид документа: виды документа, связанного с заданием (СЗ, договор и т.п.);\n",
        "- Дата старта задания;\n",
        "- Дата завершения задания плановая;\n",
        "- Дата завершения задания фактическая;\n",
        "- Состояние задания:\n",
        "- завершено – завершенное задание,\n",
        "- на приёмке, на проверке – завершенное, но еще не принятое контролёром задание,\n",
        "- делегировано – передано другому сотруднику,\n",
        "- все остальные состояния означают, что задание не завершено.\n",
        "- ID: уникальный номер сотрудника."
      ]
    },
    {
      "cell_type": "code",
      "execution_count": null,
      "metadata": {
        "id": "BYa0bCJjRQiG"
      },
      "outputs": [],
      "source": [
        "data_ta = pd.read_csv('Tasks.csv')"
      ]
    },
    {
      "cell_type": "code",
      "execution_count": null,
      "metadata": {
        "id": "nyMDEtiXRQiG",
        "outputId": "a1cc44bb-1e36-48be-9794-6441076953b0",
        "colab": {
          "base_uri": "https://localhost:8080/",
          "height": 416
        }
      },
      "outputs": [
        {
          "output_type": "execute_result",
          "data": {
            "text/plain": [
              "   Статус по просрочке Срок плановый  Просрочено, дней ДлительностьПросрочки  \\\n",
              "0  Без нарушения срока           NaN                 0   без нарушения срока   \n",
              "1  Без нарушения срока           NaN                 0   без нарушения срока   \n",
              "2  Без нарушения срока           NaN                 0   без нарушения срока   \n",
              "\n",
              "                              ID задачи      Вид документа  \\\n",
              "0  E1DE844D-EE2D-4C41-AEDF-93F246749F0E  Служебная записка   \n",
              "1  7A92343C-8C9A-46E7-AC81-8F50F95009D0  Служебная записка   \n",
              "2  5CE64E52-D2D1-4DCC-B2C8-34734AA39AC0  Служебная записка   \n",
              "\n",
              "       Дата старта задания Дата завершения задания плановая  \\\n",
              "0  2021-12-10 00:00:00,000                              NaN   \n",
              "1  2021-12-10 00:00:00,000                              NaN   \n",
              "2  2021-12-10 00:00:00,000                              NaN   \n",
              "\n",
              "  Дата завершения задания фактическая Состояние задания          id  \n",
              "0             2021-12-10 00:00:00,000         Завершено  ОРГ1-02588  \n",
              "1             2021-12-10 00:00:00,000         Завершено  ОРГ1-02588  \n",
              "2             2021-12-10 00:00:00,000         Завершено  ОРГ1-02588  "
            ],
            "text/html": [
              "\n",
              "  <div id=\"df-97fa0dcb-b70d-4ec0-b115-e5e15a6343d8\">\n",
              "    <div class=\"colab-df-container\">\n",
              "      <div>\n",
              "<style scoped>\n",
              "    .dataframe tbody tr th:only-of-type {\n",
              "        vertical-align: middle;\n",
              "    }\n",
              "\n",
              "    .dataframe tbody tr th {\n",
              "        vertical-align: top;\n",
              "    }\n",
              "\n",
              "    .dataframe thead th {\n",
              "        text-align: right;\n",
              "    }\n",
              "</style>\n",
              "<table border=\"1\" class=\"dataframe\">\n",
              "  <thead>\n",
              "    <tr style=\"text-align: right;\">\n",
              "      <th></th>\n",
              "      <th>Статус по просрочке</th>\n",
              "      <th>Срок плановый</th>\n",
              "      <th>Просрочено, дней</th>\n",
              "      <th>ДлительностьПросрочки</th>\n",
              "      <th>ID задачи</th>\n",
              "      <th>Вид документа</th>\n",
              "      <th>Дата старта задания</th>\n",
              "      <th>Дата завершения задания плановая</th>\n",
              "      <th>Дата завершения задания фактическая</th>\n",
              "      <th>Состояние задания</th>\n",
              "      <th>id</th>\n",
              "    </tr>\n",
              "  </thead>\n",
              "  <tbody>\n",
              "    <tr>\n",
              "      <th>0</th>\n",
              "      <td>Без нарушения срока</td>\n",
              "      <td>NaN</td>\n",
              "      <td>0</td>\n",
              "      <td>без нарушения срока</td>\n",
              "      <td>E1DE844D-EE2D-4C41-AEDF-93F246749F0E</td>\n",
              "      <td>Служебная записка</td>\n",
              "      <td>2021-12-10 00:00:00,000</td>\n",
              "      <td>NaN</td>\n",
              "      <td>2021-12-10 00:00:00,000</td>\n",
              "      <td>Завершено</td>\n",
              "      <td>ОРГ1-02588</td>\n",
              "    </tr>\n",
              "    <tr>\n",
              "      <th>1</th>\n",
              "      <td>Без нарушения срока</td>\n",
              "      <td>NaN</td>\n",
              "      <td>0</td>\n",
              "      <td>без нарушения срока</td>\n",
              "      <td>7A92343C-8C9A-46E7-AC81-8F50F95009D0</td>\n",
              "      <td>Служебная записка</td>\n",
              "      <td>2021-12-10 00:00:00,000</td>\n",
              "      <td>NaN</td>\n",
              "      <td>2021-12-10 00:00:00,000</td>\n",
              "      <td>Завершено</td>\n",
              "      <td>ОРГ1-02588</td>\n",
              "    </tr>\n",
              "    <tr>\n",
              "      <th>2</th>\n",
              "      <td>Без нарушения срока</td>\n",
              "      <td>NaN</td>\n",
              "      <td>0</td>\n",
              "      <td>без нарушения срока</td>\n",
              "      <td>5CE64E52-D2D1-4DCC-B2C8-34734AA39AC0</td>\n",
              "      <td>Служебная записка</td>\n",
              "      <td>2021-12-10 00:00:00,000</td>\n",
              "      <td>NaN</td>\n",
              "      <td>2021-12-10 00:00:00,000</td>\n",
              "      <td>Завершено</td>\n",
              "      <td>ОРГ1-02588</td>\n",
              "    </tr>\n",
              "  </tbody>\n",
              "</table>\n",
              "</div>\n",
              "      <button class=\"colab-df-convert\" onclick=\"convertToInteractive('df-97fa0dcb-b70d-4ec0-b115-e5e15a6343d8')\"\n",
              "              title=\"Convert this dataframe to an interactive table.\"\n",
              "              style=\"display:none;\">\n",
              "        \n",
              "  <svg xmlns=\"http://www.w3.org/2000/svg\" height=\"24px\"viewBox=\"0 0 24 24\"\n",
              "       width=\"24px\">\n",
              "    <path d=\"M0 0h24v24H0V0z\" fill=\"none\"/>\n",
              "    <path d=\"M18.56 5.44l.94 2.06.94-2.06 2.06-.94-2.06-.94-.94-2.06-.94 2.06-2.06.94zm-11 1L8.5 8.5l.94-2.06 2.06-.94-2.06-.94L8.5 2.5l-.94 2.06-2.06.94zm10 10l.94 2.06.94-2.06 2.06-.94-2.06-.94-.94-2.06-.94 2.06-2.06.94z\"/><path d=\"M17.41 7.96l-1.37-1.37c-.4-.4-.92-.59-1.43-.59-.52 0-1.04.2-1.43.59L10.3 9.45l-7.72 7.72c-.78.78-.78 2.05 0 2.83L4 21.41c.39.39.9.59 1.41.59.51 0 1.02-.2 1.41-.59l7.78-7.78 2.81-2.81c.8-.78.8-2.07 0-2.86zM5.41 20L4 18.59l7.72-7.72 1.47 1.35L5.41 20z\"/>\n",
              "  </svg>\n",
              "      </button>\n",
              "      \n",
              "  <style>\n",
              "    .colab-df-container {\n",
              "      display:flex;\n",
              "      flex-wrap:wrap;\n",
              "      gap: 12px;\n",
              "    }\n",
              "\n",
              "    .colab-df-convert {\n",
              "      background-color: #E8F0FE;\n",
              "      border: none;\n",
              "      border-radius: 50%;\n",
              "      cursor: pointer;\n",
              "      display: none;\n",
              "      fill: #1967D2;\n",
              "      height: 32px;\n",
              "      padding: 0 0 0 0;\n",
              "      width: 32px;\n",
              "    }\n",
              "\n",
              "    .colab-df-convert:hover {\n",
              "      background-color: #E2EBFA;\n",
              "      box-shadow: 0px 1px 2px rgba(60, 64, 67, 0.3), 0px 1px 3px 1px rgba(60, 64, 67, 0.15);\n",
              "      fill: #174EA6;\n",
              "    }\n",
              "\n",
              "    [theme=dark] .colab-df-convert {\n",
              "      background-color: #3B4455;\n",
              "      fill: #D2E3FC;\n",
              "    }\n",
              "\n",
              "    [theme=dark] .colab-df-convert:hover {\n",
              "      background-color: #434B5C;\n",
              "      box-shadow: 0px 1px 3px 1px rgba(0, 0, 0, 0.15);\n",
              "      filter: drop-shadow(0px 1px 2px rgba(0, 0, 0, 0.3));\n",
              "      fill: #FFFFFF;\n",
              "    }\n",
              "  </style>\n",
              "\n",
              "      <script>\n",
              "        const buttonEl =\n",
              "          document.querySelector('#df-97fa0dcb-b70d-4ec0-b115-e5e15a6343d8 button.colab-df-convert');\n",
              "        buttonEl.style.display =\n",
              "          google.colab.kernel.accessAllowed ? 'block' : 'none';\n",
              "\n",
              "        async function convertToInteractive(key) {\n",
              "          const element = document.querySelector('#df-97fa0dcb-b70d-4ec0-b115-e5e15a6343d8');\n",
              "          const dataTable =\n",
              "            await google.colab.kernel.invokeFunction('convertToInteractive',\n",
              "                                                     [key], {});\n",
              "          if (!dataTable) return;\n",
              "\n",
              "          const docLinkHtml = 'Like what you see? Visit the ' +\n",
              "            '<a target=\"_blank\" href=https://colab.research.google.com/notebooks/data_table.ipynb>data table notebook</a>'\n",
              "            + ' to learn more about interactive tables.';\n",
              "          element.innerHTML = '';\n",
              "          dataTable['output_type'] = 'display_data';\n",
              "          await google.colab.output.renderOutput(dataTable, element);\n",
              "          const docLink = document.createElement('div');\n",
              "          docLink.innerHTML = docLinkHtml;\n",
              "          element.appendChild(docLink);\n",
              "        }\n",
              "      </script>\n",
              "    </div>\n",
              "  </div>\n",
              "  "
            ]
          },
          "metadata": {},
          "execution_count": 138
        }
      ],
      "source": [
        "data_ta.head(3)"
      ]
    },
    {
      "cell_type": "code",
      "execution_count": null,
      "metadata": {
        "id": "8hQBYMiwRQiH",
        "outputId": "65e1e2b8-e805-45d6-a11c-bd222bc9130d",
        "colab": {
          "base_uri": "https://localhost:8080/"
        }
      },
      "outputs": [
        {
          "output_type": "stream",
          "name": "stdout",
          "text": [
            "<class 'pandas.core.frame.DataFrame'>\n",
            "RangeIndex: 536660 entries, 0 to 536659\n",
            "Data columns (total 11 columns):\n",
            " #   Column                               Non-Null Count   Dtype \n",
            "---  ------                               --------------   ----- \n",
            " 0   Статус по просрочке                  536660 non-null  object\n",
            " 1   Срок плановый                        15821 non-null   object\n",
            " 2   Просрочено, дней                     536660 non-null  int64 \n",
            " 3   ДлительностьПросрочки                536660 non-null  object\n",
            " 4   ID задачи                            536660 non-null  object\n",
            " 5   Вид документа                        533143 non-null  object\n",
            " 6   Дата старта задания                  536660 non-null  object\n",
            " 7   Дата завершения задания плановая     274057 non-null  object\n",
            " 8   Дата завершения задания фактическая  520683 non-null  object\n",
            " 9   Состояние задания                    536660 non-null  object\n",
            " 10  id                                   536660 non-null  object\n",
            "dtypes: int64(1), object(10)\n",
            "memory usage: 45.0+ MB\n"
          ]
        }
      ],
      "source": [
        "data_ta.info()"
      ]
    },
    {
      "cell_type": "code",
      "execution_count": null,
      "metadata": {
        "id": "qt_1uY0lRQiH",
        "outputId": "2c79d31f-1ffd-40fa-dd67-ab96cf47f8a5",
        "colab": {
          "base_uri": "https://localhost:8080/"
        }
      },
      "outputs": [
        {
          "output_type": "execute_result",
          "data": {
            "text/plain": [
              "0"
            ]
          },
          "metadata": {},
          "execution_count": 140
        }
      ],
      "source": [
        "sum(data_ta.duplicated())         "
      ]
    },
    {
      "cell_type": "markdown",
      "metadata": {
        "id": "Z0gnhCt6RQiH"
      },
      "source": [
        "Обработка задач\n",
        "\n",
        "Выделить вид документа. Создать сводную таблицу, для каждого пользователя найти среднее количество задач по каждому типу в день, потом найти для кадого пользователя среднюю просрочку по каждой задаче"
      ]
    },
    {
      "cell_type": "code",
      "execution_count": null,
      "metadata": {
        "id": "QITjdYs3RQiI",
        "outputId": "31042935-69c6-4ace-cd3b-ad039dcc7416",
        "colab": {
          "base_uri": "https://localhost:8080/"
        }
      },
      "outputs": [
        {
          "output_type": "execute_result",
          "data": {
            "text/plain": [
              "array(['без нарушения срока', 'до 7 дней', 'более 30 дней', 'до 30 дней'],\n",
              "      dtype=object)"
            ]
          },
          "metadata": {},
          "execution_count": 141
        }
      ],
      "source": [
        "data_ta['ДлительностьПросрочки'].unique()"
      ]
    },
    {
      "cell_type": "code",
      "execution_count": null,
      "metadata": {
        "id": "sCSCU1oZRQiI",
        "outputId": "05203d8b-2ba2-4712-bc4f-a0898fdd8af5",
        "colab": {
          "base_uri": "https://localhost:8080/"
        }
      },
      "outputs": [
        {
          "output_type": "execute_result",
          "data": {
            "text/plain": [
              "array(['Служебная записка', 'Исходящий', 'Входящий',\n",
              "       'Дополнительное соглашение', 'Договор', 'Внутренний документ',\n",
              "       'Акт', 'Приказ', nan, 'Файл', 'Распоряжение', 'Протокол',\n",
              "       'Запрос на внесение изменений', 'Отчет по ВА', 'Исходящий РМЗ',\n",
              "       'Внутренний документ для БП синхронизация 1С'], dtype=object)"
            ]
          },
          "metadata": {},
          "execution_count": 142
        }
      ],
      "source": [
        "data_ta['Вид документа'].unique()"
      ]
    },
    {
      "cell_type": "code",
      "execution_count": null,
      "metadata": {
        "id": "80lo81_RRQiN"
      },
      "outputs": [],
      "source": [
        "data_ta.loc[data_ta['Вид документа'].isna(), 'Вид документа'] = 'not'"
      ]
    },
    {
      "cell_type": "code",
      "execution_count": null,
      "metadata": {
        "id": "blHiT8MARQiN",
        "outputId": "88e6f9f9-c432-4080-d11e-ca26ab76795b",
        "colab": {
          "base_uri": "https://localhost:8080/"
        }
      },
      "outputs": [
        {
          "output_type": "execute_result",
          "data": {
            "text/plain": [
              "array(['Без нарушения срока', 'С нарушением срока'], dtype=object)"
            ]
          },
          "metadata": {},
          "execution_count": 144
        }
      ],
      "source": [
        "data_ta['Статус по просрочке'].unique()"
      ]
    },
    {
      "cell_type": "code",
      "execution_count": null,
      "metadata": {
        "id": "O35_ikoKRQiO"
      },
      "outputs": [],
      "source": [
        "dadta_ta_tim = data_ta.groupby('id')['Просрочено, дней'].mean()\n",
        "dadta_ta_sum = data_ta.groupby('id')['ID задачи'].count()"
      ]
    },
    {
      "cell_type": "code",
      "execution_count": null,
      "metadata": {
        "id": "SgcOs1EDRQiO"
      },
      "outputs": [],
      "source": [
        "data_ta['Дата старта задания'] = pd.to_datetime(data_ta['Дата старта задания'], format='%Y-%m-%d %H:%M:%S,%f')"
      ]
    },
    {
      "cell_type": "code",
      "execution_count": null,
      "metadata": {
        "id": "AORtROHWRQiO"
      },
      "outputs": [],
      "source": [
        "data_ta_o_t = data_ta.groupby('id')['Дата старта задания'].max()-data_ta.groupby('id')['Дата старта задания'].min()\n",
        "data_ta_o_t = (data_ta_o_t / oneday) + 1"
      ]
    },
    {
      "cell_type": "code",
      "execution_count": null,
      "metadata": {
        "id": "8-lxJWxqRQiO"
      },
      "outputs": [],
      "source": [
        "data_tasks_rez = pd.concat([data_ta_o_t, dadta_ta_tim, dadta_ta_sum / data_ta_o_t], axis=1)"
      ]
    },
    {
      "cell_type": "code",
      "execution_count": null,
      "metadata": {
        "id": "ekpQptiYRQiP"
      },
      "outputs": [],
      "source": [
        "#dadta_ta_gr_count = data_ta.pivot_table(index = 'id',\n",
        "#                                        columns = 'Вид документа', values = 'Просрочено, дней',\n",
        "#                                        aggfunc = 'count', fill_value = 0) \n",
        "\n",
        "#dadta_ta_sum = dadta_ta_sum / data_ta.groupby('id')['Просрочено, дней'].count()\n",
        "\n",
        "#for i in range(16):\n",
        "#    dadta_ta_gr_count.iloc[:,i] = dadta_ta_gr_count.iloc[:,i] / data_ta_t\n",
        "\n",
        "#data_tasks_rez = pd.concat([dadta_ta_sum, dadta_ta_gr_count], axis=1)\n",
        "\n",
        "# Старый вариант (отказался по причине корреляций в финальной таблице)"
      ]
    },
    {
      "cell_type": "code",
      "execution_count": null,
      "metadata": {
        "id": "_6Sz99k6RQiP",
        "outputId": "0a33547b-b319-4165-ca62-ebc69ba9b86b",
        "colab": {
          "base_uri": "https://localhost:8080/",
          "height": 237
        }
      },
      "outputs": [
        {
          "output_type": "execute_result",
          "data": {
            "text/plain": [
              "            Дата старта задания  Просрочено, дней         0\n",
              "id                                                         \n",
              "ОРГ1-00004                375.0          7.728621  3.056000\n",
              "ОРГ1-00005                703.0          0.667418  3.156472\n",
              "ОРГ1-00028                480.0          0.209016  0.508333\n",
              "ОРГ1-00030                343.0          0.472222  0.104956\n",
              "ОРГ1-00044                539.0          5.566879  0.582560"
            ],
            "text/html": [
              "\n",
              "  <div id=\"df-ae0dc4a1-2242-430b-981e-4876a9998861\">\n",
              "    <div class=\"colab-df-container\">\n",
              "      <div>\n",
              "<style scoped>\n",
              "    .dataframe tbody tr th:only-of-type {\n",
              "        vertical-align: middle;\n",
              "    }\n",
              "\n",
              "    .dataframe tbody tr th {\n",
              "        vertical-align: top;\n",
              "    }\n",
              "\n",
              "    .dataframe thead th {\n",
              "        text-align: right;\n",
              "    }\n",
              "</style>\n",
              "<table border=\"1\" class=\"dataframe\">\n",
              "  <thead>\n",
              "    <tr style=\"text-align: right;\">\n",
              "      <th></th>\n",
              "      <th>Дата старта задания</th>\n",
              "      <th>Просрочено, дней</th>\n",
              "      <th>0</th>\n",
              "    </tr>\n",
              "    <tr>\n",
              "      <th>id</th>\n",
              "      <th></th>\n",
              "      <th></th>\n",
              "      <th></th>\n",
              "    </tr>\n",
              "  </thead>\n",
              "  <tbody>\n",
              "    <tr>\n",
              "      <th>ОРГ1-00004</th>\n",
              "      <td>375.0</td>\n",
              "      <td>7.728621</td>\n",
              "      <td>3.056000</td>\n",
              "    </tr>\n",
              "    <tr>\n",
              "      <th>ОРГ1-00005</th>\n",
              "      <td>703.0</td>\n",
              "      <td>0.667418</td>\n",
              "      <td>3.156472</td>\n",
              "    </tr>\n",
              "    <tr>\n",
              "      <th>ОРГ1-00028</th>\n",
              "      <td>480.0</td>\n",
              "      <td>0.209016</td>\n",
              "      <td>0.508333</td>\n",
              "    </tr>\n",
              "    <tr>\n",
              "      <th>ОРГ1-00030</th>\n",
              "      <td>343.0</td>\n",
              "      <td>0.472222</td>\n",
              "      <td>0.104956</td>\n",
              "    </tr>\n",
              "    <tr>\n",
              "      <th>ОРГ1-00044</th>\n",
              "      <td>539.0</td>\n",
              "      <td>5.566879</td>\n",
              "      <td>0.582560</td>\n",
              "    </tr>\n",
              "  </tbody>\n",
              "</table>\n",
              "</div>\n",
              "      <button class=\"colab-df-convert\" onclick=\"convertToInteractive('df-ae0dc4a1-2242-430b-981e-4876a9998861')\"\n",
              "              title=\"Convert this dataframe to an interactive table.\"\n",
              "              style=\"display:none;\">\n",
              "        \n",
              "  <svg xmlns=\"http://www.w3.org/2000/svg\" height=\"24px\"viewBox=\"0 0 24 24\"\n",
              "       width=\"24px\">\n",
              "    <path d=\"M0 0h24v24H0V0z\" fill=\"none\"/>\n",
              "    <path d=\"M18.56 5.44l.94 2.06.94-2.06 2.06-.94-2.06-.94-.94-2.06-.94 2.06-2.06.94zm-11 1L8.5 8.5l.94-2.06 2.06-.94-2.06-.94L8.5 2.5l-.94 2.06-2.06.94zm10 10l.94 2.06.94-2.06 2.06-.94-2.06-.94-.94-2.06-.94 2.06-2.06.94z\"/><path d=\"M17.41 7.96l-1.37-1.37c-.4-.4-.92-.59-1.43-.59-.52 0-1.04.2-1.43.59L10.3 9.45l-7.72 7.72c-.78.78-.78 2.05 0 2.83L4 21.41c.39.39.9.59 1.41.59.51 0 1.02-.2 1.41-.59l7.78-7.78 2.81-2.81c.8-.78.8-2.07 0-2.86zM5.41 20L4 18.59l7.72-7.72 1.47 1.35L5.41 20z\"/>\n",
              "  </svg>\n",
              "      </button>\n",
              "      \n",
              "  <style>\n",
              "    .colab-df-container {\n",
              "      display:flex;\n",
              "      flex-wrap:wrap;\n",
              "      gap: 12px;\n",
              "    }\n",
              "\n",
              "    .colab-df-convert {\n",
              "      background-color: #E8F0FE;\n",
              "      border: none;\n",
              "      border-radius: 50%;\n",
              "      cursor: pointer;\n",
              "      display: none;\n",
              "      fill: #1967D2;\n",
              "      height: 32px;\n",
              "      padding: 0 0 0 0;\n",
              "      width: 32px;\n",
              "    }\n",
              "\n",
              "    .colab-df-convert:hover {\n",
              "      background-color: #E2EBFA;\n",
              "      box-shadow: 0px 1px 2px rgba(60, 64, 67, 0.3), 0px 1px 3px 1px rgba(60, 64, 67, 0.15);\n",
              "      fill: #174EA6;\n",
              "    }\n",
              "\n",
              "    [theme=dark] .colab-df-convert {\n",
              "      background-color: #3B4455;\n",
              "      fill: #D2E3FC;\n",
              "    }\n",
              "\n",
              "    [theme=dark] .colab-df-convert:hover {\n",
              "      background-color: #434B5C;\n",
              "      box-shadow: 0px 1px 3px 1px rgba(0, 0, 0, 0.15);\n",
              "      filter: drop-shadow(0px 1px 2px rgba(0, 0, 0, 0.3));\n",
              "      fill: #FFFFFF;\n",
              "    }\n",
              "  </style>\n",
              "\n",
              "      <script>\n",
              "        const buttonEl =\n",
              "          document.querySelector('#df-ae0dc4a1-2242-430b-981e-4876a9998861 button.colab-df-convert');\n",
              "        buttonEl.style.display =\n",
              "          google.colab.kernel.accessAllowed ? 'block' : 'none';\n",
              "\n",
              "        async function convertToInteractive(key) {\n",
              "          const element = document.querySelector('#df-ae0dc4a1-2242-430b-981e-4876a9998861');\n",
              "          const dataTable =\n",
              "            await google.colab.kernel.invokeFunction('convertToInteractive',\n",
              "                                                     [key], {});\n",
              "          if (!dataTable) return;\n",
              "\n",
              "          const docLinkHtml = 'Like what you see? Visit the ' +\n",
              "            '<a target=\"_blank\" href=https://colab.research.google.com/notebooks/data_table.ipynb>data table notebook</a>'\n",
              "            + ' to learn more about interactive tables.';\n",
              "          element.innerHTML = '';\n",
              "          dataTable['output_type'] = 'display_data';\n",
              "          await google.colab.output.renderOutput(dataTable, element);\n",
              "          const docLink = document.createElement('div');\n",
              "          docLink.innerHTML = docLinkHtml;\n",
              "          element.appendChild(docLink);\n",
              "        }\n",
              "      </script>\n",
              "    </div>\n",
              "  </div>\n",
              "  "
            ]
          },
          "metadata": {},
          "execution_count": 150
        }
      ],
      "source": [
        "data_tasks_rez.head()"
      ]
    },
    {
      "cell_type": "code",
      "execution_count": null,
      "metadata": {
        "id": "7XYfgjg2RQiP"
      },
      "outputs": [],
      "source": [
        "#data_tasks_rez.columns = ['delay_on_task', 'not', 'act', 'document', 'document_1C', 'incoming', 'contract',\n",
        "#                                 'supp_agreement', 'request', 'outgoing', 'outgoing_rmz', 'report',\n",
        "#                                 'order', 'protocol', 'order_2', 'memo', 'file']"
      ]
    },
    {
      "cell_type": "code",
      "execution_count": null,
      "metadata": {
        "id": "5Xeww8dhRQiQ"
      },
      "outputs": [],
      "source": [
        "data_tasks_rez.columns = ['total_working_time_days_3', 'average_delay', 'average_number_of_tasks']"
      ]
    },
    {
      "cell_type": "code",
      "execution_count": null,
      "metadata": {
        "id": "6qJ5481XRQiQ",
        "outputId": "2f42a8ce-b354-449a-cea9-28bd0e328ab0",
        "colab": {
          "base_uri": "https://localhost:8080/",
          "height": 175
        }
      },
      "outputs": [
        {
          "output_type": "execute_result",
          "data": {
            "text/plain": [
              "            total_working_time_days_3  average_delay  average_number_of_tasks\n",
              "id                                                                           \n",
              "ОРГ1-00004                      375.0       7.728621                 3.056000\n",
              "ОРГ1-00005                      703.0       0.667418                 3.156472\n",
              "ОРГ1-00028                      480.0       0.209016                 0.508333"
            ],
            "text/html": [
              "\n",
              "  <div id=\"df-549b9a0e-c3ce-4569-8b55-f990cd397f1e\">\n",
              "    <div class=\"colab-df-container\">\n",
              "      <div>\n",
              "<style scoped>\n",
              "    .dataframe tbody tr th:only-of-type {\n",
              "        vertical-align: middle;\n",
              "    }\n",
              "\n",
              "    .dataframe tbody tr th {\n",
              "        vertical-align: top;\n",
              "    }\n",
              "\n",
              "    .dataframe thead th {\n",
              "        text-align: right;\n",
              "    }\n",
              "</style>\n",
              "<table border=\"1\" class=\"dataframe\">\n",
              "  <thead>\n",
              "    <tr style=\"text-align: right;\">\n",
              "      <th></th>\n",
              "      <th>total_working_time_days_3</th>\n",
              "      <th>average_delay</th>\n",
              "      <th>average_number_of_tasks</th>\n",
              "    </tr>\n",
              "    <tr>\n",
              "      <th>id</th>\n",
              "      <th></th>\n",
              "      <th></th>\n",
              "      <th></th>\n",
              "    </tr>\n",
              "  </thead>\n",
              "  <tbody>\n",
              "    <tr>\n",
              "      <th>ОРГ1-00004</th>\n",
              "      <td>375.0</td>\n",
              "      <td>7.728621</td>\n",
              "      <td>3.056000</td>\n",
              "    </tr>\n",
              "    <tr>\n",
              "      <th>ОРГ1-00005</th>\n",
              "      <td>703.0</td>\n",
              "      <td>0.667418</td>\n",
              "      <td>3.156472</td>\n",
              "    </tr>\n",
              "    <tr>\n",
              "      <th>ОРГ1-00028</th>\n",
              "      <td>480.0</td>\n",
              "      <td>0.209016</td>\n",
              "      <td>0.508333</td>\n",
              "    </tr>\n",
              "  </tbody>\n",
              "</table>\n",
              "</div>\n",
              "      <button class=\"colab-df-convert\" onclick=\"convertToInteractive('df-549b9a0e-c3ce-4569-8b55-f990cd397f1e')\"\n",
              "              title=\"Convert this dataframe to an interactive table.\"\n",
              "              style=\"display:none;\">\n",
              "        \n",
              "  <svg xmlns=\"http://www.w3.org/2000/svg\" height=\"24px\"viewBox=\"0 0 24 24\"\n",
              "       width=\"24px\">\n",
              "    <path d=\"M0 0h24v24H0V0z\" fill=\"none\"/>\n",
              "    <path d=\"M18.56 5.44l.94 2.06.94-2.06 2.06-.94-2.06-.94-.94-2.06-.94 2.06-2.06.94zm-11 1L8.5 8.5l.94-2.06 2.06-.94-2.06-.94L8.5 2.5l-.94 2.06-2.06.94zm10 10l.94 2.06.94-2.06 2.06-.94-2.06-.94-.94-2.06-.94 2.06-2.06.94z\"/><path d=\"M17.41 7.96l-1.37-1.37c-.4-.4-.92-.59-1.43-.59-.52 0-1.04.2-1.43.59L10.3 9.45l-7.72 7.72c-.78.78-.78 2.05 0 2.83L4 21.41c.39.39.9.59 1.41.59.51 0 1.02-.2 1.41-.59l7.78-7.78 2.81-2.81c.8-.78.8-2.07 0-2.86zM5.41 20L4 18.59l7.72-7.72 1.47 1.35L5.41 20z\"/>\n",
              "  </svg>\n",
              "      </button>\n",
              "      \n",
              "  <style>\n",
              "    .colab-df-container {\n",
              "      display:flex;\n",
              "      flex-wrap:wrap;\n",
              "      gap: 12px;\n",
              "    }\n",
              "\n",
              "    .colab-df-convert {\n",
              "      background-color: #E8F0FE;\n",
              "      border: none;\n",
              "      border-radius: 50%;\n",
              "      cursor: pointer;\n",
              "      display: none;\n",
              "      fill: #1967D2;\n",
              "      height: 32px;\n",
              "      padding: 0 0 0 0;\n",
              "      width: 32px;\n",
              "    }\n",
              "\n",
              "    .colab-df-convert:hover {\n",
              "      background-color: #E2EBFA;\n",
              "      box-shadow: 0px 1px 2px rgba(60, 64, 67, 0.3), 0px 1px 3px 1px rgba(60, 64, 67, 0.15);\n",
              "      fill: #174EA6;\n",
              "    }\n",
              "\n",
              "    [theme=dark] .colab-df-convert {\n",
              "      background-color: #3B4455;\n",
              "      fill: #D2E3FC;\n",
              "    }\n",
              "\n",
              "    [theme=dark] .colab-df-convert:hover {\n",
              "      background-color: #434B5C;\n",
              "      box-shadow: 0px 1px 3px 1px rgba(0, 0, 0, 0.15);\n",
              "      filter: drop-shadow(0px 1px 2px rgba(0, 0, 0, 0.3));\n",
              "      fill: #FFFFFF;\n",
              "    }\n",
              "  </style>\n",
              "\n",
              "      <script>\n",
              "        const buttonEl =\n",
              "          document.querySelector('#df-549b9a0e-c3ce-4569-8b55-f990cd397f1e button.colab-df-convert');\n",
              "        buttonEl.style.display =\n",
              "          google.colab.kernel.accessAllowed ? 'block' : 'none';\n",
              "\n",
              "        async function convertToInteractive(key) {\n",
              "          const element = document.querySelector('#df-549b9a0e-c3ce-4569-8b55-f990cd397f1e');\n",
              "          const dataTable =\n",
              "            await google.colab.kernel.invokeFunction('convertToInteractive',\n",
              "                                                     [key], {});\n",
              "          if (!dataTable) return;\n",
              "\n",
              "          const docLinkHtml = 'Like what you see? Visit the ' +\n",
              "            '<a target=\"_blank\" href=https://colab.research.google.com/notebooks/data_table.ipynb>data table notebook</a>'\n",
              "            + ' to learn more about interactive tables.';\n",
              "          element.innerHTML = '';\n",
              "          dataTable['output_type'] = 'display_data';\n",
              "          await google.colab.output.renderOutput(dataTable, element);\n",
              "          const docLink = document.createElement('div');\n",
              "          docLink.innerHTML = docLinkHtml;\n",
              "          element.appendChild(docLink);\n",
              "        }\n",
              "      </script>\n",
              "    </div>\n",
              "  </div>\n",
              "  "
            ]
          },
          "metadata": {},
          "execution_count": 153
        }
      ],
      "source": [
        "data_tasks_rez.head(3)"
      ]
    },
    {
      "cell_type": "code",
      "execution_count": null,
      "metadata": {
        "id": "yHHeU6qIRQiQ",
        "outputId": "cbe8971d-2112-4c03-9075-7ad8e7a40308",
        "colab": {
          "base_uri": "https://localhost:8080/"
        }
      },
      "outputs": [
        {
          "output_type": "stream",
          "name": "stdout",
          "text": [
            "<class 'pandas.core.frame.DataFrame'>\n",
            "Index: 1272 entries, ОРГ1-00004 to ОРГ2-06373\n",
            "Data columns (total 3 columns):\n",
            " #   Column                     Non-Null Count  Dtype  \n",
            "---  ------                     --------------  -----  \n",
            " 0   total_working_time_days_3  1272 non-null   float64\n",
            " 1   average_delay              1272 non-null   float64\n",
            " 2   average_number_of_tasks    1272 non-null   float64\n",
            "dtypes: float64(3)\n",
            "memory usage: 39.8+ KB\n"
          ]
        }
      ],
      "source": [
        "data_tasks_rez.info()"
      ]
    },
    {
      "cell_type": "markdown",
      "metadata": {
        "id": "wJJ62SlvRQiR"
      },
      "source": [
        "## Обработка уровня образования"
      ]
    },
    {
      "cell_type": "markdown",
      "metadata": {
        "id": "iHfVb1NdRQiR"
      },
      "source": [
        "- Табельный номер руководителя;\n",
        "\n",
        "- Табельный номер сотрудника;\n",
        "\n",
        "- ID: уникальный номер сотрудника.\n",
        "\n",
        "- Специальность: название специальности."
      ]
    },
    {
      "cell_type": "code",
      "execution_count": null,
      "metadata": {
        "id": "CJBrmJZARQiR"
      },
      "outputs": [],
      "source": [
        "data_ed = pd.read_csv('Education.csv')"
      ]
    },
    {
      "cell_type": "code",
      "execution_count": null,
      "metadata": {
        "id": "e4OS11XERQiR",
        "outputId": "c8e4cbff-fb79-46ca-eb54-a2ae4d23467e",
        "colab": {
          "base_uri": "https://localhost:8080/"
        }
      },
      "outputs": [
        {
          "output_type": "stream",
          "name": "stdout",
          "text": [
            "<class 'pandas.core.frame.DataFrame'>\n",
            "RangeIndex: 5609 entries, 0 to 5608\n",
            "Data columns (total 4 columns):\n",
            " #   Column                        Non-Null Count  Dtype \n",
            "---  ------                        --------------  ----- \n",
            " 0   Табельный номер руководителя  3380 non-null   object\n",
            " 1   id                            5609 non-null   object\n",
            " 2   Вид образования               5510 non-null   object\n",
            " 3   Специальность                 4852 non-null   object\n",
            "dtypes: object(4)\n",
            "memory usage: 175.4+ KB\n"
          ]
        }
      ],
      "source": [
        "data_ed.info()"
      ]
    },
    {
      "cell_type": "code",
      "execution_count": null,
      "metadata": {
        "id": "VpheJw8qRQiS",
        "outputId": "5ffc05e9-ae74-4c0b-88a7-31dd0ce4da26",
        "colab": {
          "base_uri": "https://localhost:8080/",
          "height": 143
        }
      },
      "outputs": [
        {
          "output_type": "execute_result",
          "data": {
            "text/plain": [
              "  Табельный номер руководителя          id  \\\n",
              "0                          NaN  ОРГ1-00131   \n",
              "1                          NaN  ОРГ1-03220   \n",
              "2                          NaN  ОРГ1-03008   \n",
              "\n",
              "                        Вид образования  Специальность  \n",
              "0      Высшее образование - бакалавриат  Юриспруденция  \n",
              "1  Среднее профессиональное образование        Финансы  \n",
              "2                    Высшее образование  Юриспруденция  "
            ],
            "text/html": [
              "\n",
              "  <div id=\"df-5c90a7d3-c0cb-4337-8892-1e55dfd13cea\">\n",
              "    <div class=\"colab-df-container\">\n",
              "      <div>\n",
              "<style scoped>\n",
              "    .dataframe tbody tr th:only-of-type {\n",
              "        vertical-align: middle;\n",
              "    }\n",
              "\n",
              "    .dataframe tbody tr th {\n",
              "        vertical-align: top;\n",
              "    }\n",
              "\n",
              "    .dataframe thead th {\n",
              "        text-align: right;\n",
              "    }\n",
              "</style>\n",
              "<table border=\"1\" class=\"dataframe\">\n",
              "  <thead>\n",
              "    <tr style=\"text-align: right;\">\n",
              "      <th></th>\n",
              "      <th>Табельный номер руководителя</th>\n",
              "      <th>id</th>\n",
              "      <th>Вид образования</th>\n",
              "      <th>Специальность</th>\n",
              "    </tr>\n",
              "  </thead>\n",
              "  <tbody>\n",
              "    <tr>\n",
              "      <th>0</th>\n",
              "      <td>NaN</td>\n",
              "      <td>ОРГ1-00131</td>\n",
              "      <td>Высшее образование - бакалавриат</td>\n",
              "      <td>Юриспруденция</td>\n",
              "    </tr>\n",
              "    <tr>\n",
              "      <th>1</th>\n",
              "      <td>NaN</td>\n",
              "      <td>ОРГ1-03220</td>\n",
              "      <td>Среднее профессиональное образование</td>\n",
              "      <td>Финансы</td>\n",
              "    </tr>\n",
              "    <tr>\n",
              "      <th>2</th>\n",
              "      <td>NaN</td>\n",
              "      <td>ОРГ1-03008</td>\n",
              "      <td>Высшее образование</td>\n",
              "      <td>Юриспруденция</td>\n",
              "    </tr>\n",
              "  </tbody>\n",
              "</table>\n",
              "</div>\n",
              "      <button class=\"colab-df-convert\" onclick=\"convertToInteractive('df-5c90a7d3-c0cb-4337-8892-1e55dfd13cea')\"\n",
              "              title=\"Convert this dataframe to an interactive table.\"\n",
              "              style=\"display:none;\">\n",
              "        \n",
              "  <svg xmlns=\"http://www.w3.org/2000/svg\" height=\"24px\"viewBox=\"0 0 24 24\"\n",
              "       width=\"24px\">\n",
              "    <path d=\"M0 0h24v24H0V0z\" fill=\"none\"/>\n",
              "    <path d=\"M18.56 5.44l.94 2.06.94-2.06 2.06-.94-2.06-.94-.94-2.06-.94 2.06-2.06.94zm-11 1L8.5 8.5l.94-2.06 2.06-.94-2.06-.94L8.5 2.5l-.94 2.06-2.06.94zm10 10l.94 2.06.94-2.06 2.06-.94-2.06-.94-.94-2.06-.94 2.06-2.06.94z\"/><path d=\"M17.41 7.96l-1.37-1.37c-.4-.4-.92-.59-1.43-.59-.52 0-1.04.2-1.43.59L10.3 9.45l-7.72 7.72c-.78.78-.78 2.05 0 2.83L4 21.41c.39.39.9.59 1.41.59.51 0 1.02-.2 1.41-.59l7.78-7.78 2.81-2.81c.8-.78.8-2.07 0-2.86zM5.41 20L4 18.59l7.72-7.72 1.47 1.35L5.41 20z\"/>\n",
              "  </svg>\n",
              "      </button>\n",
              "      \n",
              "  <style>\n",
              "    .colab-df-container {\n",
              "      display:flex;\n",
              "      flex-wrap:wrap;\n",
              "      gap: 12px;\n",
              "    }\n",
              "\n",
              "    .colab-df-convert {\n",
              "      background-color: #E8F0FE;\n",
              "      border: none;\n",
              "      border-radius: 50%;\n",
              "      cursor: pointer;\n",
              "      display: none;\n",
              "      fill: #1967D2;\n",
              "      height: 32px;\n",
              "      padding: 0 0 0 0;\n",
              "      width: 32px;\n",
              "    }\n",
              "\n",
              "    .colab-df-convert:hover {\n",
              "      background-color: #E2EBFA;\n",
              "      box-shadow: 0px 1px 2px rgba(60, 64, 67, 0.3), 0px 1px 3px 1px rgba(60, 64, 67, 0.15);\n",
              "      fill: #174EA6;\n",
              "    }\n",
              "\n",
              "    [theme=dark] .colab-df-convert {\n",
              "      background-color: #3B4455;\n",
              "      fill: #D2E3FC;\n",
              "    }\n",
              "\n",
              "    [theme=dark] .colab-df-convert:hover {\n",
              "      background-color: #434B5C;\n",
              "      box-shadow: 0px 1px 3px 1px rgba(0, 0, 0, 0.15);\n",
              "      filter: drop-shadow(0px 1px 2px rgba(0, 0, 0, 0.3));\n",
              "      fill: #FFFFFF;\n",
              "    }\n",
              "  </style>\n",
              "\n",
              "      <script>\n",
              "        const buttonEl =\n",
              "          document.querySelector('#df-5c90a7d3-c0cb-4337-8892-1e55dfd13cea button.colab-df-convert');\n",
              "        buttonEl.style.display =\n",
              "          google.colab.kernel.accessAllowed ? 'block' : 'none';\n",
              "\n",
              "        async function convertToInteractive(key) {\n",
              "          const element = document.querySelector('#df-5c90a7d3-c0cb-4337-8892-1e55dfd13cea');\n",
              "          const dataTable =\n",
              "            await google.colab.kernel.invokeFunction('convertToInteractive',\n",
              "                                                     [key], {});\n",
              "          if (!dataTable) return;\n",
              "\n",
              "          const docLinkHtml = 'Like what you see? Visit the ' +\n",
              "            '<a target=\"_blank\" href=https://colab.research.google.com/notebooks/data_table.ipynb>data table notebook</a>'\n",
              "            + ' to learn more about interactive tables.';\n",
              "          element.innerHTML = '';\n",
              "          dataTable['output_type'] = 'display_data';\n",
              "          await google.colab.output.renderOutput(dataTable, element);\n",
              "          const docLink = document.createElement('div');\n",
              "          docLink.innerHTML = docLinkHtml;\n",
              "          element.appendChild(docLink);\n",
              "        }\n",
              "      </script>\n",
              "    </div>\n",
              "  </div>\n",
              "  "
            ]
          },
          "metadata": {},
          "execution_count": 91
        }
      ],
      "source": [
        "data_ed.head(3)"
      ]
    },
    {
      "cell_type": "code",
      "execution_count": null,
      "metadata": {
        "id": "pjQWNxm9RQiS",
        "outputId": "eb0e9119-fb01-4482-a588-3fddbfa02aaf",
        "colab": {
          "base_uri": "https://localhost:8080/"
        }
      },
      "outputs": [
        {
          "output_type": "execute_result",
          "data": {
            "text/plain": [
              "100"
            ]
          },
          "metadata": {},
          "execution_count": 92
        }
      ],
      "source": [
        "sum(data_ed.duplicated())"
      ]
    },
    {
      "cell_type": "code",
      "execution_count": null,
      "metadata": {
        "id": "envEznHeRQiT",
        "outputId": "19d754e2-5c90-454f-8ae7-408fd3c3a4c7",
        "colab": {
          "base_uri": "https://localhost:8080/"
        }
      },
      "outputs": [
        {
          "output_type": "execute_result",
          "data": {
            "text/plain": [
              "array(['Высшее образование - бакалавриат',\n",
              "       'Среднее профессиональное образование', 'Высшее образование',\n",
              "       'Повышение квалификации', nan, 'Переподготовка',\n",
              "       'Высшее образование - специалитет, магистратура',\n",
              "       'Начальное профессиональное образование', 'Аспирантура',\n",
              "       'Среднее общее образование', 'Среднее (полное) общее образование',\n",
              "       'Начальное общее образование', 'Неполное высшее образование',\n",
              "       'Основное общее образование', 'Профессиональное обучение',\n",
              "       'Послевузовское образование',\n",
              "       'Дополнительное профессиональное образование'], dtype=object)"
            ]
          },
          "metadata": {},
          "execution_count": 93
        }
      ],
      "source": [
        "data_ed['Вид образования'].unique()"
      ]
    },
    {
      "cell_type": "code",
      "execution_count": null,
      "metadata": {
        "id": "2zp5pqeVRQiT",
        "outputId": "a76b4323-9552-486c-b6cf-199d5cc22f3b",
        "colab": {
          "base_uri": "https://localhost:8080/"
        }
      },
      "outputs": [
        {
          "output_type": "execute_result",
          "data": {
            "text/plain": [
              "array(['Юриспруденция', 'Финансы', 'Бакалавр технических наук', ...,\n",
              "       'Дефектоскопист по радиационному контролю',\n",
              "       'Машинист передвижного электросварочного агрегата с двигателем внутненнего сгорания',\n",
              "       'Бомпьютерная графика'], dtype=object)"
            ]
          },
          "metadata": {},
          "execution_count": 94
        }
      ],
      "source": [
        "data_ed['Специальность'].unique()"
      ]
    },
    {
      "cell_type": "markdown",
      "metadata": {
        "id": "yMlvpy5eRQiT"
      },
      "source": [
        "Необходимо объединить общие типы образования, удалить дубликаты.\n",
        "С учётом того что типов образования много, при этом некоторые люди имеют несколько образований, конкретику можно откинуть. Для упрощения сгруппирую по пользователям и просто посчитаю количество типов образований для каждого."
      ]
    },
    {
      "cell_type": "code",
      "execution_count": null,
      "metadata": {
        "id": "63VUyVBVRQiT"
      },
      "outputs": [],
      "source": [
        "data_ed = data_ed.drop_duplicates() "
      ]
    },
    {
      "cell_type": "code",
      "execution_count": null,
      "metadata": {
        "id": "uYoPRaQLRQiU",
        "outputId": "8cce2dc8-8e92-4950-967f-57f0bfa40251",
        "colab": {
          "base_uri": "https://localhost:8080/"
        }
      },
      "outputs": [
        {
          "output_type": "execute_result",
          "data": {
            "text/plain": [
              "Высшее образование                                1437\n",
              "Среднее профессиональное образование              1009\n",
              "Среднее общее образование                          620\n",
              "Начальное профессиональное образование             572\n",
              "Профессиональное обучение                          497\n",
              "Высшее образование - бакалавриат                   365\n",
              "Высшее образование - специалитет, магистратура     327\n",
              "Повышение квалификации                             297\n",
              "Среднее (полное) общее образование                 111\n",
              "Основное общее образование                          66\n",
              "Переподготовка                                      52\n",
              "Дополнительное профессиональное образование         23\n",
              "Неполное высшее образование                         21\n",
              "Аспирантура                                          6\n",
              "Начальное общее образование                          6\n",
              "Послевузовское образование                           2\n",
              "Name: Вид образования, dtype: int64"
            ]
          },
          "metadata": {},
          "execution_count": 96
        }
      ],
      "source": [
        "data_ed['Вид образования'].value_counts()"
      ]
    },
    {
      "cell_type": "code",
      "execution_count": null,
      "metadata": {
        "id": "iXpmSunzRQiU"
      },
      "outputs": [],
      "source": [
        "data_ed.loc[data_ed['Вид образования'] == 'Среднее профессиональное образование', 'Вид образования'] = 'Начальное профессиональное образование'\n",
        "data_ed.loc[data_ed['Вид образования'] == 'Среднее (полное) общее образование', 'Вид образования'] = 'Среднее общее образование'\n",
        "data_ed.loc[data_ed['Вид образования'] == 'Основное общее образование', 'Вид образования'] = 'Среднее общее образование'"
      ]
    },
    {
      "cell_type": "code",
      "execution_count": null,
      "metadata": {
        "id": "ig6Pkv6FRQiU"
      },
      "outputs": [],
      "source": [
        "#data_ed['Вид образования'] = data_ed['Вид образования'].astype('category')\n",
        "#data_ed_rez = pd.DataFrame([data_ed['Вид образования'].cat.codes.values], index=[data_ed['id'].values], columns='education')"
      ]
    },
    {
      "cell_type": "code",
      "execution_count": null,
      "metadata": {
        "id": "D24Ed-79RQiV"
      },
      "outputs": [],
      "source": [
        "#data_ed_rez = data_ed['Вид образования'].cat.codes"
      ]
    },
    {
      "cell_type": "code",
      "execution_count": null,
      "metadata": {
        "id": "rV5qqm2sRQiV"
      },
      "outputs": [],
      "source": [
        "#data_ed_rez.index = data_ed['id'].values\n",
        "#data_ed_rez.columns = 'education'"
      ]
    },
    {
      "cell_type": "code",
      "execution_count": null,
      "metadata": {
        "id": "Ne81OxnHRQiV"
      },
      "outputs": [],
      "source": [
        "#data_ed_rez"
      ]
    },
    {
      "cell_type": "code",
      "execution_count": null,
      "metadata": {
        "id": "PeLBV1x5RQiW"
      },
      "outputs": [],
      "source": [
        "data_ed_rez = pd.DataFrame()\n",
        "data_ed_rez['num_ed'] = data_ed.groupby('id')['Вид образования'].count()\n",
        "data_ed_rez['su_ed'] = data_ed.groupby('id')['Вид образования'].sum()"
      ]
    },
    {
      "cell_type": "code",
      "source": [
        "data_ed_rez.info()"
      ],
      "metadata": {
        "colab": {
          "base_uri": "https://localhost:8080/"
        },
        "id": "P1XF-tiSuWG2",
        "outputId": "b6b50331-730f-4ab5-a05f-cc07d67bcb54"
      },
      "execution_count": null,
      "outputs": [
        {
          "output_type": "stream",
          "name": "stdout",
          "text": [
            "<class 'pandas.core.frame.DataFrame'>\n",
            "Index: 4788 entries, ОРГ1-00001 to ОРГ2-09286\n",
            "Data columns (total 3 columns):\n",
            " #   Column   Non-Null Count  Dtype \n",
            "---  ------   --------------  ----- \n",
            " 0   num_ed   4788 non-null   int64 \n",
            " 1   su_ed    4788 non-null   object\n",
            " 2   su_ed_r  4788 non-null   int64 \n",
            "dtypes: int64(2), object(1)\n",
            "memory usage: 278.7+ KB\n"
          ]
        }
      ]
    },
    {
      "cell_type": "code",
      "source": [
        "data_ed_rez.loc[data_ed_rez['num_ed'] == 0, 'su_ed'] = \"Не указано\""
      ],
      "metadata": {
        "id": "8jhfPFVOw9SC"
      },
      "execution_count": null,
      "outputs": []
    },
    {
      "cell_type": "code",
      "execution_count": null,
      "metadata": {
        "id": "LOFQmhvtRQiW"
      },
      "outputs": [],
      "source": [
        "data_ed_rez.loc[data_ed_rez['su_ed'].str.contains('ысшее'), 'su_ed_r'] = 1"
      ]
    },
    {
      "cell_type": "code",
      "source": [
        "data_ed_rez.loc[data_ed_rez['su_ed'].str.contains('спирантур'), 'su_ed_r'] = 2\n",
        "data_ed_rez.loc[data_ed_rez['su_ed'].str.contains('ослевуз'), 'su_ed_r'] = 2\n",
        "data_ed_rez.loc[data_ed_rez['su_ed'].str.contains('овышени'), 'su_ed_r'] = 2"
      ],
      "metadata": {
        "id": "azqy_8Rwz257"
      },
      "execution_count": null,
      "outputs": []
    },
    {
      "cell_type": "code",
      "execution_count": null,
      "metadata": {
        "id": "G2xsuInXRQiW"
      },
      "outputs": [],
      "source": [
        "data_ed_rez.drop(columns = 'su_ed', inplace=True)"
      ]
    },
    {
      "cell_type": "markdown",
      "metadata": {
        "id": "N2sYE4_jRQiX"
      },
      "source": [
        "## Появление на рабочем месте"
      ]
    },
    {
      "cell_type": "markdown",
      "metadata": {
        "id": "k_BEACBURQiX"
      },
      "source": [
        "\n",
        "- Дата: дата входа/выхода в офис;\n",
        "\n",
        "- Приход.1: первый вход;\n",
        "\n",
        "- Уход.1: последний выход:\n",
        "\n",
        "- Длительность общая: длительность пребывания в офисе;\n",
        "\n",
        "- Длительность раб.дня без обеда: длительность пребывания в офисе без обеда;\n",
        "\n",
        "- Вых/Будни: выходной или будний день:\n",
        "\n",
        "- ID: уникальный номер сотрудника."
      ]
    },
    {
      "cell_type": "code",
      "execution_count": null,
      "metadata": {
        "id": "PY2SIOgJRQiY"
      },
      "outputs": [],
      "source": [
        "data_sk = pd.read_csv('SKUD.csv')"
      ]
    },
    {
      "cell_type": "code",
      "execution_count": null,
      "metadata": {
        "id": "6SaLo2LdRQiY",
        "outputId": "74bb70dd-2173-4105-8d4b-671a52635d86",
        "colab": {
          "base_uri": "https://localhost:8080/"
        }
      },
      "outputs": [
        {
          "output_type": "stream",
          "name": "stdout",
          "text": [
            "<class 'pandas.core.frame.DataFrame'>\n",
            "RangeIndex: 22580 entries, 0 to 22579\n",
            "Data columns (total 7 columns):\n",
            " #   Column                          Non-Null Count  Dtype \n",
            "---  ------                          --------------  ----- \n",
            " 0   Дата                            22580 non-null  object\n",
            " 1   Приход.1                        22580 non-null  object\n",
            " 2   Уход.1                          22580 non-null  object\n",
            " 3   Длительность общая              22580 non-null  object\n",
            " 4   Длительность раб.дня без обеда  22580 non-null  object\n",
            " 5   Вых/Будни                       22580 non-null  object\n",
            " 6   id                              22580 non-null  object\n",
            "dtypes: object(7)\n",
            "memory usage: 1.2+ MB\n"
          ]
        }
      ],
      "source": [
        "data_sk.info()"
      ]
    },
    {
      "cell_type": "code",
      "execution_count": null,
      "metadata": {
        "id": "y7SC2w2SRQiZ",
        "outputId": "fe37e421-0589-458f-ae72-8c50e24dcd48",
        "colab": {
          "base_uri": "https://localhost:8080/",
          "height": 208
        }
      },
      "outputs": [
        {
          "output_type": "execute_result",
          "data": {
            "text/plain": [
              "                      Дата                 Приход.1                   Уход.1  \\\n",
              "0  2021-03-01 00:00:00,000  1899-12-30 08:11:00,000  1899-12-30 17:32:00,000   \n",
              "1  2021-03-01 00:00:00,000  1899-12-30 08:25:00,000  1899-12-30 17:32:00,000   \n",
              "\n",
              "   Длительность общая Длительность раб.дня без обеда Вых/Будни          id  \n",
              "0                9,35                           8,35     Будни  ОРГ1-00791  \n",
              "1  9,1166666666666671             8,1166666666666671     Будни  ОРГ1-01826  "
            ],
            "text/html": [
              "\n",
              "  <div id=\"df-4bf35c31-3ca3-4b36-9b01-9754eb254a63\">\n",
              "    <div class=\"colab-df-container\">\n",
              "      <div>\n",
              "<style scoped>\n",
              "    .dataframe tbody tr th:only-of-type {\n",
              "        vertical-align: middle;\n",
              "    }\n",
              "\n",
              "    .dataframe tbody tr th {\n",
              "        vertical-align: top;\n",
              "    }\n",
              "\n",
              "    .dataframe thead th {\n",
              "        text-align: right;\n",
              "    }\n",
              "</style>\n",
              "<table border=\"1\" class=\"dataframe\">\n",
              "  <thead>\n",
              "    <tr style=\"text-align: right;\">\n",
              "      <th></th>\n",
              "      <th>Дата</th>\n",
              "      <th>Приход.1</th>\n",
              "      <th>Уход.1</th>\n",
              "      <th>Длительность общая</th>\n",
              "      <th>Длительность раб.дня без обеда</th>\n",
              "      <th>Вых/Будни</th>\n",
              "      <th>id</th>\n",
              "    </tr>\n",
              "  </thead>\n",
              "  <tbody>\n",
              "    <tr>\n",
              "      <th>0</th>\n",
              "      <td>2021-03-01 00:00:00,000</td>\n",
              "      <td>1899-12-30 08:11:00,000</td>\n",
              "      <td>1899-12-30 17:32:00,000</td>\n",
              "      <td>9,35</td>\n",
              "      <td>8,35</td>\n",
              "      <td>Будни</td>\n",
              "      <td>ОРГ1-00791</td>\n",
              "    </tr>\n",
              "    <tr>\n",
              "      <th>1</th>\n",
              "      <td>2021-03-01 00:00:00,000</td>\n",
              "      <td>1899-12-30 08:25:00,000</td>\n",
              "      <td>1899-12-30 17:32:00,000</td>\n",
              "      <td>9,1166666666666671</td>\n",
              "      <td>8,1166666666666671</td>\n",
              "      <td>Будни</td>\n",
              "      <td>ОРГ1-01826</td>\n",
              "    </tr>\n",
              "  </tbody>\n",
              "</table>\n",
              "</div>\n",
              "      <button class=\"colab-df-convert\" onclick=\"convertToInteractive('df-4bf35c31-3ca3-4b36-9b01-9754eb254a63')\"\n",
              "              title=\"Convert this dataframe to an interactive table.\"\n",
              "              style=\"display:none;\">\n",
              "        \n",
              "  <svg xmlns=\"http://www.w3.org/2000/svg\" height=\"24px\"viewBox=\"0 0 24 24\"\n",
              "       width=\"24px\">\n",
              "    <path d=\"M0 0h24v24H0V0z\" fill=\"none\"/>\n",
              "    <path d=\"M18.56 5.44l.94 2.06.94-2.06 2.06-.94-2.06-.94-.94-2.06-.94 2.06-2.06.94zm-11 1L8.5 8.5l.94-2.06 2.06-.94-2.06-.94L8.5 2.5l-.94 2.06-2.06.94zm10 10l.94 2.06.94-2.06 2.06-.94-2.06-.94-.94-2.06-.94 2.06-2.06.94z\"/><path d=\"M17.41 7.96l-1.37-1.37c-.4-.4-.92-.59-1.43-.59-.52 0-1.04.2-1.43.59L10.3 9.45l-7.72 7.72c-.78.78-.78 2.05 0 2.83L4 21.41c.39.39.9.59 1.41.59.51 0 1.02-.2 1.41-.59l7.78-7.78 2.81-2.81c.8-.78.8-2.07 0-2.86zM5.41 20L4 18.59l7.72-7.72 1.47 1.35L5.41 20z\"/>\n",
              "  </svg>\n",
              "      </button>\n",
              "      \n",
              "  <style>\n",
              "    .colab-df-container {\n",
              "      display:flex;\n",
              "      flex-wrap:wrap;\n",
              "      gap: 12px;\n",
              "    }\n",
              "\n",
              "    .colab-df-convert {\n",
              "      background-color: #E8F0FE;\n",
              "      border: none;\n",
              "      border-radius: 50%;\n",
              "      cursor: pointer;\n",
              "      display: none;\n",
              "      fill: #1967D2;\n",
              "      height: 32px;\n",
              "      padding: 0 0 0 0;\n",
              "      width: 32px;\n",
              "    }\n",
              "\n",
              "    .colab-df-convert:hover {\n",
              "      background-color: #E2EBFA;\n",
              "      box-shadow: 0px 1px 2px rgba(60, 64, 67, 0.3), 0px 1px 3px 1px rgba(60, 64, 67, 0.15);\n",
              "      fill: #174EA6;\n",
              "    }\n",
              "\n",
              "    [theme=dark] .colab-df-convert {\n",
              "      background-color: #3B4455;\n",
              "      fill: #D2E3FC;\n",
              "    }\n",
              "\n",
              "    [theme=dark] .colab-df-convert:hover {\n",
              "      background-color: #434B5C;\n",
              "      box-shadow: 0px 1px 3px 1px rgba(0, 0, 0, 0.15);\n",
              "      filter: drop-shadow(0px 1px 2px rgba(0, 0, 0, 0.3));\n",
              "      fill: #FFFFFF;\n",
              "    }\n",
              "  </style>\n",
              "\n",
              "      <script>\n",
              "        const buttonEl =\n",
              "          document.querySelector('#df-4bf35c31-3ca3-4b36-9b01-9754eb254a63 button.colab-df-convert');\n",
              "        buttonEl.style.display =\n",
              "          google.colab.kernel.accessAllowed ? 'block' : 'none';\n",
              "\n",
              "        async function convertToInteractive(key) {\n",
              "          const element = document.querySelector('#df-4bf35c31-3ca3-4b36-9b01-9754eb254a63');\n",
              "          const dataTable =\n",
              "            await google.colab.kernel.invokeFunction('convertToInteractive',\n",
              "                                                     [key], {});\n",
              "          if (!dataTable) return;\n",
              "\n",
              "          const docLinkHtml = 'Like what you see? Visit the ' +\n",
              "            '<a target=\"_blank\" href=https://colab.research.google.com/notebooks/data_table.ipynb>data table notebook</a>'\n",
              "            + ' to learn more about interactive tables.';\n",
              "          element.innerHTML = '';\n",
              "          dataTable['output_type'] = 'display_data';\n",
              "          await google.colab.output.renderOutput(dataTable, element);\n",
              "          const docLink = document.createElement('div');\n",
              "          docLink.innerHTML = docLinkHtml;\n",
              "          element.appendChild(docLink);\n",
              "        }\n",
              "      </script>\n",
              "    </div>\n",
              "  </div>\n",
              "  "
            ]
          },
          "metadata": {},
          "execution_count": 157
        }
      ],
      "source": [
        "data_sk.head(2)"
      ]
    },
    {
      "cell_type": "code",
      "execution_count": null,
      "metadata": {
        "id": "cmtqf8p6RQiZ",
        "outputId": "b94719ce-d91f-4a9e-8575-f147f0b3cb02",
        "colab": {
          "base_uri": "https://localhost:8080/"
        }
      },
      "outputs": [
        {
          "output_type": "execute_result",
          "data": {
            "text/plain": [
              "0"
            ]
          },
          "metadata": {},
          "execution_count": 158
        }
      ],
      "source": [
        "sum(data_sk.duplicated())                "
      ]
    },
    {
      "cell_type": "markdown",
      "metadata": {
        "id": "_rFXhx6YRQiZ"
      },
      "source": [
        "Изменю форматы. Сгруппирую по пользователям и найду средюю продолжительность рабочего времени для будней и выходных."
      ]
    },
    {
      "cell_type": "code",
      "execution_count": null,
      "metadata": {
        "id": "DnG34NSkRQia"
      },
      "outputs": [],
      "source": [
        "data_sk['Длительность раб.дня без обеда'] = data_sk['Длительность раб.дня без обеда'].astype(str)\n",
        "data_sk['Длительность раб.дня без обеда'] = data_sk['Длительность раб.дня без обеда'].apply(lambda x: x.replace(',','.'))\n",
        "data_sk['Длительность раб.дня без обеда'] = data_sk['Длительность раб.дня без обеда'].astype(float)"
      ]
    },
    {
      "cell_type": "code",
      "execution_count": null,
      "metadata": {
        "id": "1UlmmQK4RQic"
      },
      "outputs": [],
      "source": [
        "#data_sk[data_sk['Вых/Будни'] == 'Выходные дни'].groupby('id')['Длительность раб.дня без обеда'].mean()\n",
        "#data_sk[data_sk['Вых/Будни'] == 'Будни'].groupby('id')['Длительность раб.дня без обеда'].mean()"
      ]
    },
    {
      "cell_type": "code",
      "execution_count": null,
      "metadata": {
        "id": "Wd3d84UeRQic"
      },
      "outputs": [],
      "source": [
        "data_sk_rez = pd.concat([data_sk[data_sk['Вых/Будни'] == 'Будни'].groupby('id')['Длительность раб.дня без обеда'].mean(),\n",
        "                           data_sk[data_sk['Вых/Будни'] == 'Выходные дни'].groupby('id')['Длительность раб.дня без обеда'].mean()],\n",
        "                        axis=1, keys=['work_weekdays', 'weekend work'])"
      ]
    },
    {
      "cell_type": "code",
      "execution_count": null,
      "metadata": {
        "id": "AXORo7Y8RQic",
        "outputId": "50e3ed4b-a218-49e3-e2a8-856e3691d473",
        "colab": {
          "base_uri": "https://localhost:8080/",
          "height": 237
        }
      },
      "outputs": [
        {
          "output_type": "execute_result",
          "data": {
            "text/plain": [
              "            work_weekdays  weekend work\n",
              "id                                     \n",
              "ОРГ1-00002       9.462169           NaN\n",
              "ОРГ1-00004       8.416146           NaN\n",
              "ОРГ1-00005       8.819444         5.610\n",
              "ОРГ1-00008       5.000000           NaN\n",
              "ОРГ1-00010       7.859896         0.425"
            ],
            "text/html": [
              "\n",
              "  <div id=\"df-d9b56234-f978-4b10-92c2-587e0181aa12\">\n",
              "    <div class=\"colab-df-container\">\n",
              "      <div>\n",
              "<style scoped>\n",
              "    .dataframe tbody tr th:only-of-type {\n",
              "        vertical-align: middle;\n",
              "    }\n",
              "\n",
              "    .dataframe tbody tr th {\n",
              "        vertical-align: top;\n",
              "    }\n",
              "\n",
              "    .dataframe thead th {\n",
              "        text-align: right;\n",
              "    }\n",
              "</style>\n",
              "<table border=\"1\" class=\"dataframe\">\n",
              "  <thead>\n",
              "    <tr style=\"text-align: right;\">\n",
              "      <th></th>\n",
              "      <th>work_weekdays</th>\n",
              "      <th>weekend work</th>\n",
              "    </tr>\n",
              "    <tr>\n",
              "      <th>id</th>\n",
              "      <th></th>\n",
              "      <th></th>\n",
              "    </tr>\n",
              "  </thead>\n",
              "  <tbody>\n",
              "    <tr>\n",
              "      <th>ОРГ1-00002</th>\n",
              "      <td>9.462169</td>\n",
              "      <td>NaN</td>\n",
              "    </tr>\n",
              "    <tr>\n",
              "      <th>ОРГ1-00004</th>\n",
              "      <td>8.416146</td>\n",
              "      <td>NaN</td>\n",
              "    </tr>\n",
              "    <tr>\n",
              "      <th>ОРГ1-00005</th>\n",
              "      <td>8.819444</td>\n",
              "      <td>5.610</td>\n",
              "    </tr>\n",
              "    <tr>\n",
              "      <th>ОРГ1-00008</th>\n",
              "      <td>5.000000</td>\n",
              "      <td>NaN</td>\n",
              "    </tr>\n",
              "    <tr>\n",
              "      <th>ОРГ1-00010</th>\n",
              "      <td>7.859896</td>\n",
              "      <td>0.425</td>\n",
              "    </tr>\n",
              "  </tbody>\n",
              "</table>\n",
              "</div>\n",
              "      <button class=\"colab-df-convert\" onclick=\"convertToInteractive('df-d9b56234-f978-4b10-92c2-587e0181aa12')\"\n",
              "              title=\"Convert this dataframe to an interactive table.\"\n",
              "              style=\"display:none;\">\n",
              "        \n",
              "  <svg xmlns=\"http://www.w3.org/2000/svg\" height=\"24px\"viewBox=\"0 0 24 24\"\n",
              "       width=\"24px\">\n",
              "    <path d=\"M0 0h24v24H0V0z\" fill=\"none\"/>\n",
              "    <path d=\"M18.56 5.44l.94 2.06.94-2.06 2.06-.94-2.06-.94-.94-2.06-.94 2.06-2.06.94zm-11 1L8.5 8.5l.94-2.06 2.06-.94-2.06-.94L8.5 2.5l-.94 2.06-2.06.94zm10 10l.94 2.06.94-2.06 2.06-.94-2.06-.94-.94-2.06-.94 2.06-2.06.94z\"/><path d=\"M17.41 7.96l-1.37-1.37c-.4-.4-.92-.59-1.43-.59-.52 0-1.04.2-1.43.59L10.3 9.45l-7.72 7.72c-.78.78-.78 2.05 0 2.83L4 21.41c.39.39.9.59 1.41.59.51 0 1.02-.2 1.41-.59l7.78-7.78 2.81-2.81c.8-.78.8-2.07 0-2.86zM5.41 20L4 18.59l7.72-7.72 1.47 1.35L5.41 20z\"/>\n",
              "  </svg>\n",
              "      </button>\n",
              "      \n",
              "  <style>\n",
              "    .colab-df-container {\n",
              "      display:flex;\n",
              "      flex-wrap:wrap;\n",
              "      gap: 12px;\n",
              "    }\n",
              "\n",
              "    .colab-df-convert {\n",
              "      background-color: #E8F0FE;\n",
              "      border: none;\n",
              "      border-radius: 50%;\n",
              "      cursor: pointer;\n",
              "      display: none;\n",
              "      fill: #1967D2;\n",
              "      height: 32px;\n",
              "      padding: 0 0 0 0;\n",
              "      width: 32px;\n",
              "    }\n",
              "\n",
              "    .colab-df-convert:hover {\n",
              "      background-color: #E2EBFA;\n",
              "      box-shadow: 0px 1px 2px rgba(60, 64, 67, 0.3), 0px 1px 3px 1px rgba(60, 64, 67, 0.15);\n",
              "      fill: #174EA6;\n",
              "    }\n",
              "\n",
              "    [theme=dark] .colab-df-convert {\n",
              "      background-color: #3B4455;\n",
              "      fill: #D2E3FC;\n",
              "    }\n",
              "\n",
              "    [theme=dark] .colab-df-convert:hover {\n",
              "      background-color: #434B5C;\n",
              "      box-shadow: 0px 1px 3px 1px rgba(0, 0, 0, 0.15);\n",
              "      filter: drop-shadow(0px 1px 2px rgba(0, 0, 0, 0.3));\n",
              "      fill: #FFFFFF;\n",
              "    }\n",
              "  </style>\n",
              "\n",
              "      <script>\n",
              "        const buttonEl =\n",
              "          document.querySelector('#df-d9b56234-f978-4b10-92c2-587e0181aa12 button.colab-df-convert');\n",
              "        buttonEl.style.display =\n",
              "          google.colab.kernel.accessAllowed ? 'block' : 'none';\n",
              "\n",
              "        async function convertToInteractive(key) {\n",
              "          const element = document.querySelector('#df-d9b56234-f978-4b10-92c2-587e0181aa12');\n",
              "          const dataTable =\n",
              "            await google.colab.kernel.invokeFunction('convertToInteractive',\n",
              "                                                     [key], {});\n",
              "          if (!dataTable) return;\n",
              "\n",
              "          const docLinkHtml = 'Like what you see? Visit the ' +\n",
              "            '<a target=\"_blank\" href=https://colab.research.google.com/notebooks/data_table.ipynb>data table notebook</a>'\n",
              "            + ' to learn more about interactive tables.';\n",
              "          element.innerHTML = '';\n",
              "          dataTable['output_type'] = 'display_data';\n",
              "          await google.colab.output.renderOutput(dataTable, element);\n",
              "          const docLink = document.createElement('div');\n",
              "          docLink.innerHTML = docLinkHtml;\n",
              "          element.appendChild(docLink);\n",
              "        }\n",
              "      </script>\n",
              "    </div>\n",
              "  </div>\n",
              "  "
            ]
          },
          "metadata": {},
          "execution_count": 161
        }
      ],
      "source": [
        "data_sk_rez.head()"
      ]
    },
    {
      "cell_type": "code",
      "execution_count": null,
      "metadata": {
        "id": "o7MfCjGURQid"
      },
      "outputs": [],
      "source": []
    },
    {
      "cell_type": "markdown",
      "metadata": {
        "id": "FV87Cye0RQid"
      },
      "source": [
        "## Время в системе учёта раб времени 1\n",
        "\n",
        "интервалы времени в сети в системе учета рабочего времени сотрудника за компьютером"
      ]
    },
    {
      "cell_type": "markdown",
      "metadata": {
        "id": "aPYI9NUZRQid"
      },
      "source": [
        "- Вых/Будни: выходной или будний день;\n",
        "- monitorTime: общее время активности пользователя в сети;\n",
        "- startTime: дата старта активности;\n",
        "- ID: уникальный номер сотрудника."
      ]
    },
    {
      "cell_type": "code",
      "execution_count": null,
      "metadata": {
        "id": "aRVY6nu2RQie"
      },
      "outputs": [],
      "source": [
        "data_tim = pd.read_csv('TimenNetwork.csv')"
      ]
    },
    {
      "cell_type": "code",
      "execution_count": null,
      "metadata": {
        "id": "y4YbAchbRQie",
        "outputId": "e88f3f82-7267-4ac5-c76c-413d7ab64695",
        "colab": {
          "base_uri": "https://localhost:8080/"
        }
      },
      "outputs": [
        {
          "output_type": "stream",
          "name": "stdout",
          "text": [
            "<class 'pandas.core.frame.DataFrame'>\n",
            "RangeIndex: 216110 entries, 0 to 216109\n",
            "Data columns (total 4 columns):\n",
            " #   Column        Non-Null Count   Dtype \n",
            "---  ------        --------------   ----- \n",
            " 0   Вых/Будни     216110 non-null  object\n",
            " 1   monitor_Time  216110 non-null  int64 \n",
            " 2   startTime     216110 non-null  object\n",
            " 3   id            216110 non-null  object\n",
            "dtypes: int64(1), object(3)\n",
            "memory usage: 6.6+ MB\n"
          ]
        }
      ],
      "source": [
        "data_tim.info()"
      ]
    },
    {
      "cell_type": "code",
      "execution_count": null,
      "metadata": {
        "id": "IO0oUFoGRQie",
        "outputId": "1c404cf0-9105-4a8d-e680-e78ab4629d5a",
        "colab": {
          "base_uri": "https://localhost:8080/"
        }
      },
      "outputs": [
        {
          "output_type": "execute_result",
          "data": {
            "text/plain": [
              "1069"
            ]
          },
          "metadata": {},
          "execution_count": 164
        }
      ],
      "source": [
        "sum(data_tim.duplicated())  "
      ]
    },
    {
      "cell_type": "code",
      "execution_count": null,
      "metadata": {
        "id": "IXAw7XRaRQif",
        "outputId": "947938aa-f580-4062-abad-0e6d1d8a78d5",
        "colab": {
          "base_uri": "https://localhost:8080/"
        }
      },
      "outputs": [
        {
          "output_type": "execute_result",
          "data": {
            "text/plain": [
              "array([  300,   600,   900, ..., 10831, 86122, 57610])"
            ]
          },
          "metadata": {},
          "execution_count": 165
        }
      ],
      "source": [
        "data_tim['monitor_Time'].unique()"
      ]
    },
    {
      "cell_type": "code",
      "source": [
        "data_tim['monitor_Time'].hist(bins = 30)"
      ],
      "metadata": {
        "colab": {
          "base_uri": "https://localhost:8080/",
          "height": 283
        },
        "id": "dELqLFPB4ZCP",
        "outputId": "167ca11c-a989-4db4-e702-876a09c64e93"
      },
      "execution_count": null,
      "outputs": [
        {
          "output_type": "execute_result",
          "data": {
            "text/plain": [
              "<matplotlib.axes._subplots.AxesSubplot at 0x7fb7a057fb50>"
            ]
          },
          "metadata": {},
          "execution_count": 169
        },
        {
          "output_type": "display_data",
          "data": {
            "text/plain": [
              "<Figure size 432x288 with 1 Axes>"
            ],
            "image/png": "[encoded data removed]"
          },
          "metadata": {
            "needs_background": "light"
          }
        }
      ]
    },
    {
      "cell_type": "markdown",
      "metadata": {
        "id": "WdRe_jeeRQif"
      },
      "source": [
        "Удалю дубликаты. Сгруппирую по пользователям и найду среднее время работы в выходные и будни."
      ]
    },
    {
      "cell_type": "code",
      "execution_count": null,
      "metadata": {
        "id": "bEexliqrRQif"
      },
      "outputs": [],
      "source": [
        "data_tim = data_tim.drop_duplicates()"
      ]
    },
    {
      "cell_type": "code",
      "source": [
        "data_tim.loc[data_tim['monitor_Time']>50000, 'monitor_Time'] = data_tim['monitor_Time'].median()"
      ],
      "metadata": {
        "id": "hRPuCmb242Uy"
      },
      "execution_count": null,
      "outputs": []
    },
    {
      "cell_type": "code",
      "execution_count": null,
      "metadata": {
        "id": "kPA9KirKRQig"
      },
      "outputs": [],
      "source": [
        "data_tim_rez = pd.concat([data_tim[data_tim['Вых/Будни'] == 'Будни'].groupby('id')['monitor_Time'].mean(),\n",
        "                           data_tim[data_tim['Вых/Будни'] == 'Выходные дни'].groupby('id')['monitor_Time'].mean()],\n",
        "                        axis=1, keys=['work_weekdays_1', 'weekend work_1'])"
      ]
    },
    {
      "cell_type": "code",
      "execution_count": null,
      "metadata": {
        "id": "xxUjywCcRQig"
      },
      "outputs": [],
      "source": []
    },
    {
      "cell_type": "markdown",
      "metadata": {
        "id": "Fc6lDkugRQig"
      },
      "source": [
        "## Время в системе учёта раб времени 2"
      ]
    },
    {
      "cell_type": "markdown",
      "metadata": {
        "id": "WUFDBsf7RQih"
      },
      "source": [
        "- startTime: дата старта активности;\n",
        "- activeTime: активное время (пользователь активно пользуется мышью и клавиатурой);\n",
        "- Вых/Будни: выходной или будний день;\n",
        "- monitorTime: общее время активности пользователя;\n",
        "- ID: уникальный номер сотрудника."
      ]
    },
    {
      "cell_type": "code",
      "execution_count": null,
      "metadata": {
        "id": "vmch9mr_RQii"
      },
      "outputs": [],
      "source": [
        "data_wd = pd.read_csv('WorkingDay.csv')"
      ]
    },
    {
      "cell_type": "code",
      "execution_count": null,
      "metadata": {
        "id": "3gVXakfWRQij",
        "outputId": "ac6cfc54-4d39-4f7e-b05a-12eadd998ba0",
        "colab": {
          "base_uri": "https://localhost:8080/"
        }
      },
      "outputs": [
        {
          "output_type": "stream",
          "name": "stdout",
          "text": [
            "<class 'pandas.core.frame.DataFrame'>\n",
            "RangeIndex: 1971927 entries, 0 to 1971926\n",
            "Data columns (total 5 columns):\n",
            " #   Column       Dtype \n",
            "---  ------       ----- \n",
            " 0   startTime    object\n",
            " 1   activeTime   int64 \n",
            " 2   Вых/Будни    object\n",
            " 3   monitorTime  int64 \n",
            " 4   id           object\n",
            "dtypes: int64(2), object(3)\n",
            "memory usage: 75.2+ MB\n"
          ]
        }
      ],
      "source": [
        "data_wd.info()"
      ]
    },
    {
      "cell_type": "code",
      "execution_count": null,
      "metadata": {
        "id": "oxrztxfPRQij",
        "outputId": "0677653c-fc5f-4fb2-a5bf-64be61d4405c",
        "colab": {
          "base_uri": "https://localhost:8080/",
          "height": 143
        }
      },
      "outputs": [
        {
          "output_type": "execute_result",
          "data": {
            "text/plain": [
              "                 startTime  activeTime Вых/Будни  monitorTime          id\n",
              "0  2021-11-30 00:00:00,000           2     Будни            2  ОРГ1-01553\n",
              "1  2021-11-30 00:00:00,000           2     Будни            2  ОРГ1-02112\n",
              "2  2021-11-30 00:00:00,000           2     Будни            2  ОРГ1-02112"
            ],
            "text/html": [
              "\n",
              "  <div id=\"df-a79cbf57-1461-44b4-bc04-8e1764ab94c1\">\n",
              "    <div class=\"colab-df-container\">\n",
              "      <div>\n",
              "<style scoped>\n",
              "    .dataframe tbody tr th:only-of-type {\n",
              "        vertical-align: middle;\n",
              "    }\n",
              "\n",
              "    .dataframe tbody tr th {\n",
              "        vertical-align: top;\n",
              "    }\n",
              "\n",
              "    .dataframe thead th {\n",
              "        text-align: right;\n",
              "    }\n",
              "</style>\n",
              "<table border=\"1\" class=\"dataframe\">\n",
              "  <thead>\n",
              "    <tr style=\"text-align: right;\">\n",
              "      <th></th>\n",
              "      <th>startTime</th>\n",
              "      <th>activeTime</th>\n",
              "      <th>Вых/Будни</th>\n",
              "      <th>monitorTime</th>\n",
              "      <th>id</th>\n",
              "    </tr>\n",
              "  </thead>\n",
              "  <tbody>\n",
              "    <tr>\n",
              "      <th>0</th>\n",
              "      <td>2021-11-30 00:00:00,000</td>\n",
              "      <td>2</td>\n",
              "      <td>Будни</td>\n",
              "      <td>2</td>\n",
              "      <td>ОРГ1-01553</td>\n",
              "    </tr>\n",
              "    <tr>\n",
              "      <th>1</th>\n",
              "      <td>2021-11-30 00:00:00,000</td>\n",
              "      <td>2</td>\n",
              "      <td>Будни</td>\n",
              "      <td>2</td>\n",
              "      <td>ОРГ1-02112</td>\n",
              "    </tr>\n",
              "    <tr>\n",
              "      <th>2</th>\n",
              "      <td>2021-11-30 00:00:00,000</td>\n",
              "      <td>2</td>\n",
              "      <td>Будни</td>\n",
              "      <td>2</td>\n",
              "      <td>ОРГ1-02112</td>\n",
              "    </tr>\n",
              "  </tbody>\n",
              "</table>\n",
              "</div>\n",
              "      <button class=\"colab-df-convert\" onclick=\"convertToInteractive('df-a79cbf57-1461-44b4-bc04-8e1764ab94c1')\"\n",
              "              title=\"Convert this dataframe to an interactive table.\"\n",
              "              style=\"display:none;\">\n",
              "        \n",
              "  <svg xmlns=\"http://www.w3.org/2000/svg\" height=\"24px\"viewBox=\"0 0 24 24\"\n",
              "       width=\"24px\">\n",
              "    <path d=\"M0 0h24v24H0V0z\" fill=\"none\"/>\n",
              "    <path d=\"M18.56 5.44l.94 2.06.94-2.06 2.06-.94-2.06-.94-.94-2.06-.94 2.06-2.06.94zm-11 1L8.5 8.5l.94-2.06 2.06-.94-2.06-.94L8.5 2.5l-.94 2.06-2.06.94zm10 10l.94 2.06.94-2.06 2.06-.94-2.06-.94-.94-2.06-.94 2.06-2.06.94z\"/><path d=\"M17.41 7.96l-1.37-1.37c-.4-.4-.92-.59-1.43-.59-.52 0-1.04.2-1.43.59L10.3 9.45l-7.72 7.72c-.78.78-.78 2.05 0 2.83L4 21.41c.39.39.9.59 1.41.59.51 0 1.02-.2 1.41-.59l7.78-7.78 2.81-2.81c.8-.78.8-2.07 0-2.86zM5.41 20L4 18.59l7.72-7.72 1.47 1.35L5.41 20z\"/>\n",
              "  </svg>\n",
              "      </button>\n",
              "      \n",
              "  <style>\n",
              "    .colab-df-container {\n",
              "      display:flex;\n",
              "      flex-wrap:wrap;\n",
              "      gap: 12px;\n",
              "    }\n",
              "\n",
              "    .colab-df-convert {\n",
              "      background-color: #E8F0FE;\n",
              "      border: none;\n",
              "      border-radius: 50%;\n",
              "      cursor: pointer;\n",
              "      display: none;\n",
              "      fill: #1967D2;\n",
              "      height: 32px;\n",
              "      padding: 0 0 0 0;\n",
              "      width: 32px;\n",
              "    }\n",
              "\n",
              "    .colab-df-convert:hover {\n",
              "      background-color: #E2EBFA;\n",
              "      box-shadow: 0px 1px 2px rgba(60, 64, 67, 0.3), 0px 1px 3px 1px rgba(60, 64, 67, 0.15);\n",
              "      fill: #174EA6;\n",
              "    }\n",
              "\n",
              "    [theme=dark] .colab-df-convert {\n",
              "      background-color: #3B4455;\n",
              "      fill: #D2E3FC;\n",
              "    }\n",
              "\n",
              "    [theme=dark] .colab-df-convert:hover {\n",
              "      background-color: #434B5C;\n",
              "      box-shadow: 0px 1px 3px 1px rgba(0, 0, 0, 0.15);\n",
              "      filter: drop-shadow(0px 1px 2px rgba(0, 0, 0, 0.3));\n",
              "      fill: #FFFFFF;\n",
              "    }\n",
              "  </style>\n",
              "\n",
              "      <script>\n",
              "        const buttonEl =\n",
              "          document.querySelector('#df-a79cbf57-1461-44b4-bc04-8e1764ab94c1 button.colab-df-convert');\n",
              "        buttonEl.style.display =\n",
              "          google.colab.kernel.accessAllowed ? 'block' : 'none';\n",
              "\n",
              "        async function convertToInteractive(key) {\n",
              "          const element = document.querySelector('#df-a79cbf57-1461-44b4-bc04-8e1764ab94c1');\n",
              "          const dataTable =\n",
              "            await google.colab.kernel.invokeFunction('convertToInteractive',\n",
              "                                                     [key], {});\n",
              "          if (!dataTable) return;\n",
              "\n",
              "          const docLinkHtml = 'Like what you see? Visit the ' +\n",
              "            '<a target=\"_blank\" href=https://colab.research.google.com/notebooks/data_table.ipynb>data table notebook</a>'\n",
              "            + ' to learn more about interactive tables.';\n",
              "          element.innerHTML = '';\n",
              "          dataTable['output_type'] = 'display_data';\n",
              "          await google.colab.output.renderOutput(dataTable, element);\n",
              "          const docLink = document.createElement('div');\n",
              "          docLink.innerHTML = docLinkHtml;\n",
              "          element.appendChild(docLink);\n",
              "        }\n",
              "      </script>\n",
              "    </div>\n",
              "  </div>\n",
              "  "
            ]
          },
          "metadata": {},
          "execution_count": 175
        }
      ],
      "source": [
        "data_wd.head(3)"
      ]
    },
    {
      "cell_type": "code",
      "execution_count": null,
      "metadata": {
        "id": "0YFfgo3RRQij",
        "outputId": "45849720-47e8-4606-deb5-537922c252a0",
        "colab": {
          "base_uri": "https://localhost:8080/"
        }
      },
      "outputs": [
        {
          "output_type": "execute_result",
          "data": {
            "text/plain": [
              "20133"
            ]
          },
          "metadata": {},
          "execution_count": 176
        }
      ],
      "source": [
        "sum(data_wd.duplicated())  "
      ]
    },
    {
      "cell_type": "code",
      "execution_count": null,
      "metadata": {
        "id": "kWDzN3W-RQik",
        "outputId": "69a84746-7fed-48db-adf3-f54b9223979e",
        "colab": {
          "base_uri": "https://localhost:8080/"
        }
      },
      "outputs": [
        {
          "output_type": "execute_result",
          "data": {
            "text/plain": [
              "array([    2,     4,     3, ..., 69648, 50311, 49726])"
            ]
          },
          "metadata": {},
          "execution_count": 177
        }
      ],
      "source": [
        "data_wd['monitorTime'].unique()"
      ]
    },
    {
      "cell_type": "markdown",
      "metadata": {
        "id": "mSWpILboRQik"
      },
      "source": [
        "Необходимо удалить дубликаты. После этого сгруппирую по сотрудникам и найду среднее общее время и среднее врямя активности. Потом нужно разделить одно на другое чтобы найти какую часть общего времени занимала активность."
      ]
    },
    {
      "cell_type": "code",
      "source": [
        "data_wd = data_wd.drop_duplicates()"
      ],
      "metadata": {
        "id": "KIZ9uyHO_FAv"
      },
      "execution_count": null,
      "outputs": []
    },
    {
      "cell_type": "code",
      "execution_count": null,
      "metadata": {
        "id": "VLYKHBQoRQik"
      },
      "outputs": [],
      "source": [
        "data_wd_rez = pd.concat((data_wd[data_wd['Вых/Будни'] == 'Будни'].groupby('id')['activeTime'].mean() / data_wd[data_wd['Вых/Будни'] == 'Будни'].groupby('id')['monitorTime'].mean(),\n",
        "                         data_wd[data_wd['Вых/Будни'] == 'Выходные дни'].groupby('id')['activeTime'].mean() / data_wd[data_wd['Вых/Будни'] == 'Выходные дни'].groupby('id')['monitorTime'].mean(),\n",
        "                         data_wd[data_wd['Вых/Будни'] == 'Будни'].groupby('id')['activeTime'].mean(),\n",
        "                         data_wd[data_wd['Вых/Будни'] == 'Выходные дни'].groupby('id')['activeTime'].mean()),\n",
        "                         axis=1, keys=['work_weekdays_av_2', 'weekend work_av_2', 'work_weekdays_all', 'weekend work_all'])"
      ]
    },
    {
      "cell_type": "markdown",
      "source": [],
      "metadata": {
        "id": "G4Szicw19jQh"
      }
    },
    {
      "cell_type": "code",
      "execution_count": null,
      "metadata": {
        "id": "JqGjJM_fRQil",
        "colab": {
          "base_uri": "https://localhost:8080/"
        },
        "outputId": "028ccbee-5208-4817-92bb-699076990e30"
      },
      "outputs": [
        {
          "output_type": "stream",
          "name": "stdout",
          "text": [
            "<class 'pandas.core.frame.DataFrame'>\n",
            "Index: 1495 entries, ОРГ1-00004 to ОРГ2-05087\n",
            "Data columns (total 4 columns):\n",
            " #   Column              Non-Null Count  Dtype  \n",
            "---  ------              --------------  -----  \n",
            " 0   work_weekdays_av_2  1493 non-null   float64\n",
            " 1   weekend work_av_2   1300 non-null   float64\n",
            " 2   work_weekdays_all   1493 non-null   float64\n",
            " 3   weekend work_all    1300 non-null   float64\n",
            "dtypes: float64(4)\n",
            "memory usage: 58.4+ KB\n"
          ]
        }
      ],
      "source": [
        "data_wd_rez.info()"
      ]
    },
    {
      "cell_type": "code",
      "execution_count": null,
      "metadata": {
        "id": "M7x7QlCURQil"
      },
      "outputs": [],
      "source": [
        "for i in list(data_wd_rez.columns):\n",
        "    data_wd_rez.loc[data_wd_rez[i].isna(), i] = 0"
      ]
    },
    {
      "cell_type": "code",
      "execution_count": null,
      "metadata": {
        "id": "n9elCF7oRQil",
        "colab": {
          "base_uri": "https://localhost:8080/",
          "height": 237
        },
        "outputId": "7183b9a9-0696-4ac2-b0d8-f50b5432ce1d"
      },
      "outputs": [
        {
          "output_type": "execute_result",
          "data": {
            "text/plain": [
              "            work_weekdays_av_2  weekend work_av_2  work_weekdays_all  \\\n",
              "id                                                                     \n",
              "ОРГ1-00004            0.310694           0.073083        1394.714661   \n",
              "ОРГ1-00028            0.358944           0.006092        2779.378723   \n",
              "ОРГ1-00030            0.825879           0.966462        1785.659450   \n",
              "ОРГ1-00044            0.688572           0.325753        1717.826300   \n",
              "ОРГ1-00046            0.485188           0.308451        1221.491686   \n",
              "\n",
              "            weekend work_all  \n",
              "id                            \n",
              "ОРГ1-00004        741.244444  \n",
              "ОРГ1-00028        412.803279  \n",
              "ОРГ1-00030        341.000000  \n",
              "ОРГ1-00044        649.075472  \n",
              "ОРГ1-00046        833.317025  "
            ],
            "text/html": [
              "\n",
              "  <div id=\"df-7a4452e0-395a-4485-85e8-8e32fecef671\">\n",
              "    <div class=\"colab-df-container\">\n",
              "      <div>\n",
              "<style scoped>\n",
              "    .dataframe tbody tr th:only-of-type {\n",
              "        vertical-align: middle;\n",
              "    }\n",
              "\n",
              "    .dataframe tbody tr th {\n",
              "        vertical-align: top;\n",
              "    }\n",
              "\n",
              "    .dataframe thead th {\n",
              "        text-align: right;\n",
              "    }\n",
              "</style>\n",
              "<table border=\"1\" class=\"dataframe\">\n",
              "  <thead>\n",
              "    <tr style=\"text-align: right;\">\n",
              "      <th></th>\n",
              "      <th>work_weekdays_av_2</th>\n",
              "      <th>weekend work_av_2</th>\n",
              "      <th>work_weekdays_all</th>\n",
              "      <th>weekend work_all</th>\n",
              "    </tr>\n",
              "    <tr>\n",
              "      <th>id</th>\n",
              "      <th></th>\n",
              "      <th></th>\n",
              "      <th></th>\n",
              "      <th></th>\n",
              "    </tr>\n",
              "  </thead>\n",
              "  <tbody>\n",
              "    <tr>\n",
              "      <th>ОРГ1-00004</th>\n",
              "      <td>0.310694</td>\n",
              "      <td>0.073083</td>\n",
              "      <td>1394.714661</td>\n",
              "      <td>741.244444</td>\n",
              "    </tr>\n",
              "    <tr>\n",
              "      <th>ОРГ1-00028</th>\n",
              "      <td>0.358944</td>\n",
              "      <td>0.006092</td>\n",
              "      <td>2779.378723</td>\n",
              "      <td>412.803279</td>\n",
              "    </tr>\n",
              "    <tr>\n",
              "      <th>ОРГ1-00030</th>\n",
              "      <td>0.825879</td>\n",
              "      <td>0.966462</td>\n",
              "      <td>1785.659450</td>\n",
              "      <td>341.000000</td>\n",
              "    </tr>\n",
              "    <tr>\n",
              "      <th>ОРГ1-00044</th>\n",
              "      <td>0.688572</td>\n",
              "      <td>0.325753</td>\n",
              "      <td>1717.826300</td>\n",
              "      <td>649.075472</td>\n",
              "    </tr>\n",
              "    <tr>\n",
              "      <th>ОРГ1-00046</th>\n",
              "      <td>0.485188</td>\n",
              "      <td>0.308451</td>\n",
              "      <td>1221.491686</td>\n",
              "      <td>833.317025</td>\n",
              "    </tr>\n",
              "  </tbody>\n",
              "</table>\n",
              "</div>\n",
              "      <button class=\"colab-df-convert\" onclick=\"convertToInteractive('df-7a4452e0-395a-4485-85e8-8e32fecef671')\"\n",
              "              title=\"Convert this dataframe to an interactive table.\"\n",
              "              style=\"display:none;\">\n",
              "        \n",
              "  <svg xmlns=\"http://www.w3.org/2000/svg\" height=\"24px\"viewBox=\"0 0 24 24\"\n",
              "       width=\"24px\">\n",
              "    <path d=\"M0 0h24v24H0V0z\" fill=\"none\"/>\n",
              "    <path d=\"M18.56 5.44l.94 2.06.94-2.06 2.06-.94-2.06-.94-.94-2.06-.94 2.06-2.06.94zm-11 1L8.5 8.5l.94-2.06 2.06-.94-2.06-.94L8.5 2.5l-.94 2.06-2.06.94zm10 10l.94 2.06.94-2.06 2.06-.94-2.06-.94-.94-2.06-.94 2.06-2.06.94z\"/><path d=\"M17.41 7.96l-1.37-1.37c-.4-.4-.92-.59-1.43-.59-.52 0-1.04.2-1.43.59L10.3 9.45l-7.72 7.72c-.78.78-.78 2.05 0 2.83L4 21.41c.39.39.9.59 1.41.59.51 0 1.02-.2 1.41-.59l7.78-7.78 2.81-2.81c.8-.78.8-2.07 0-2.86zM5.41 20L4 18.59l7.72-7.72 1.47 1.35L5.41 20z\"/>\n",
              "  </svg>\n",
              "      </button>\n",
              "      \n",
              "  <style>\n",
              "    .colab-df-container {\n",
              "      display:flex;\n",
              "      flex-wrap:wrap;\n",
              "      gap: 12px;\n",
              "    }\n",
              "\n",
              "    .colab-df-convert {\n",
              "      background-color: #E8F0FE;\n",
              "      border: none;\n",
              "      border-radius: 50%;\n",
              "      cursor: pointer;\n",
              "      display: none;\n",
              "      fill: #1967D2;\n",
              "      height: 32px;\n",
              "      padding: 0 0 0 0;\n",
              "      width: 32px;\n",
              "    }\n",
              "\n",
              "    .colab-df-convert:hover {\n",
              "      background-color: #E2EBFA;\n",
              "      box-shadow: 0px 1px 2px rgba(60, 64, 67, 0.3), 0px 1px 3px 1px rgba(60, 64, 67, 0.15);\n",
              "      fill: #174EA6;\n",
              "    }\n",
              "\n",
              "    [theme=dark] .colab-df-convert {\n",
              "      background-color: #3B4455;\n",
              "      fill: #D2E3FC;\n",
              "    }\n",
              "\n",
              "    [theme=dark] .colab-df-convert:hover {\n",
              "      background-color: #434B5C;\n",
              "      box-shadow: 0px 1px 3px 1px rgba(0, 0, 0, 0.15);\n",
              "      filter: drop-shadow(0px 1px 2px rgba(0, 0, 0, 0.3));\n",
              "      fill: #FFFFFF;\n",
              "    }\n",
              "  </style>\n",
              "\n",
              "      <script>\n",
              "        const buttonEl =\n",
              "          document.querySelector('#df-7a4452e0-395a-4485-85e8-8e32fecef671 button.colab-df-convert');\n",
              "        buttonEl.style.display =\n",
              "          google.colab.kernel.accessAllowed ? 'block' : 'none';\n",
              "\n",
              "        async function convertToInteractive(key) {\n",
              "          const element = document.querySelector('#df-7a4452e0-395a-4485-85e8-8e32fecef671');\n",
              "          const dataTable =\n",
              "            await google.colab.kernel.invokeFunction('convertToInteractive',\n",
              "                                                     [key], {});\n",
              "          if (!dataTable) return;\n",
              "\n",
              "          const docLinkHtml = 'Like what you see? Visit the ' +\n",
              "            '<a target=\"_blank\" href=https://colab.research.google.com/notebooks/data_table.ipynb>data table notebook</a>'\n",
              "            + ' to learn more about interactive tables.';\n",
              "          element.innerHTML = '';\n",
              "          dataTable['output_type'] = 'display_data';\n",
              "          await google.colab.output.renderOutput(dataTable, element);\n",
              "          const docLink = document.createElement('div');\n",
              "          docLink.innerHTML = docLinkHtml;\n",
              "          element.appendChild(docLink);\n",
              "        }\n",
              "      </script>\n",
              "    </div>\n",
              "  </div>\n",
              "  "
            ]
          },
          "metadata": {},
          "execution_count": 196
        }
      ],
      "source": [
        "data_wd_rez.head()"
      ]
    },
    {
      "cell_type": "markdown",
      "metadata": {
        "id": "_DN8QJCyRQil"
      },
      "source": [
        "##  Объединение всех подтаблиц по id сотрудников"
      ]
    },
    {
      "cell_type": "code",
      "execution_count": null,
      "metadata": {
        "id": "U3RJbagwRQil"
      },
      "outputs": [],
      "source": [
        "data_rez = pd.concat([data_call_rez,\n",
        "                           data_con_rez,\n",
        "                           data_tasks_rez,\n",
        "                           data_ed_rez,\n",
        "                           data_sk_rez,\n",
        "                           data_tim_rez,\n",
        "                           data_wd_rez], axis=1)"
      ]
    },
    {
      "cell_type": "code",
      "source": [
        "data_rez.info()"
      ],
      "metadata": {
        "colab": {
          "base_uri": "https://localhost:8080/"
        },
        "id": "L0v6cEasBH4k",
        "outputId": "2c7ae538-9304-4726-a8a4-6ef47e011d4c"
      },
      "execution_count": null,
      "outputs": [
        {
          "output_type": "stream",
          "name": "stdout",
          "text": [
            "<class 'pandas.core.frame.DataFrame'>\n",
            "Index: 5362 entries, ОРГ1-00004 to ОРГ1-03081\n",
            "Data columns (total 22 columns):\n",
            " #   Column                            Non-Null Count  Dtype  \n",
            "---  ------                            --------------  -----  \n",
            " 0   total_working_time_days           1071 non-null   float64\n",
            " 1   average_call_time                 1071 non-null   float64\n",
            " 2   average_number_calls              1071 non-null   float64\n",
            " 3   average_call_time_on_weekends     1071 non-null   float64\n",
            " 4   average_number_calls_on_weekends  1071 non-null   float64\n",
            " 5   activ_user                        1071 non-null   float64\n",
            " 6   total_working_time_days_2         1588 non-null   float64\n",
            " 7   average_time_of_lateness          1588 non-null   float64\n",
            " 8   average_number_of_delays          1588 non-null   float64\n",
            " 9   total_working_time_days_3         1272 non-null   float64\n",
            " 10  average_delay                     1272 non-null   float64\n",
            " 11  average_number_of_tasks           1272 non-null   float64\n",
            " 12  num_ed                            4788 non-null   float64\n",
            " 13  su_ed_r                           4788 non-null   float64\n",
            " 14  work_weekdays                     863 non-null    float64\n",
            " 15  weekend work                      109 non-null    float64\n",
            " 16  work_weekdays_1                   1491 non-null   float64\n",
            " 17  weekend work_1                    1166 non-null   float64\n",
            " 18  work_weekdays_av_2                1495 non-null   float64\n",
            " 19  weekend work_av_2                 1495 non-null   float64\n",
            " 20  work_weekdays_all                 1495 non-null   float64\n",
            " 21  weekend work_all                  1495 non-null   float64\n",
            "dtypes: float64(22)\n",
            "memory usage: 963.5+ KB\n"
          ]
        }
      ]
    },
    {
      "cell_type": "code",
      "execution_count": null,
      "metadata": {
        "id": "71_bs182RQim"
      },
      "outputs": [],
      "source": [
        "for i in list(data_rez.columns):\n",
        "    data_rez.loc[data_rez[i].isna(), i] = -1"
      ]
    },
    {
      "cell_type": "code",
      "execution_count": null,
      "metadata": {
        "id": "sUim_aNaRQin",
        "outputId": "df9d91d9-27da-4909-b8e2-d34771253ee1",
        "colab": {
          "base_uri": "https://localhost:8080/"
        }
      },
      "outputs": [
        {
          "output_type": "execute_result",
          "data": {
            "text/plain": [
              "average_call_time                   0.0\n",
              "weekend work_av_2_q                 0.0\n",
              "average_number_of_delays_q          0.0\n",
              "total_working_time_mean             0.0\n",
              "weekend work_all                    0.0\n",
              "weekend work_av_2                   0.0\n",
              "weekend work                        0.0\n",
              "work_weekdays                       0.0\n",
              "su_ed_r                             0.0\n",
              "num_ed                              0.0\n",
              "average_number_of_tasks             0.0\n",
              "average_delay                       0.0\n",
              "average_number_of_delays            0.0\n",
              "average_time_of_lateness            0.0\n",
              "activ_user                          0.0\n",
              "average_number_calls_on_weekends    0.0\n",
              "average_call_time_on_weekends       0.0\n",
              "average_number_calls                0.0\n",
              "average_time_of_lateness_q          0.0\n",
              "average_call_time_q                 0.0\n",
              "dtype: float64"
            ]
          },
          "metadata": {},
          "execution_count": 590
        }
      ],
      "source": [
        "data_rez.corr()[(data_rez.corr()>0.88) & (data_rez.corr() < 0.999)].sum().sort_values()"
      ]
    },
    {
      "cell_type": "code",
      "source": [
        "#data_rez = data_rez.drop(['work_weekdays_av_2', 'work_weekdays_1', 'average_number_calls', 'weekend work_1', 'weekend work_av_2'], axis=1)"
      ],
      "metadata": {
        "id": "B6jMpm3OIuFs"
      },
      "execution_count": null,
      "outputs": []
    },
    {
      "cell_type": "code",
      "source": [
        "data_rez = data_rez.drop(['work_weekdays_av_2', 'work_weekdays_1', 'work_weekdays_all', 'weekend work_1'], axis=1)"
      ],
      "metadata": {
        "id": "LiuCgKLnVg1t"
      },
      "execution_count": null,
      "outputs": []
    },
    {
      "cell_type": "code",
      "execution_count": null,
      "metadata": {
        "id": "jk0pX2pPRQin"
      },
      "outputs": [],
      "source": [
        "data_rez['total_working_time_mean'] = (data_rez['total_working_time_days'] +\n",
        "                                       data_rez['total_working_time_days_2'] +\n",
        "                                       data_rez['total_working_time_days_3']) / 3"
      ]
    },
    {
      "cell_type": "code",
      "execution_count": null,
      "metadata": {
        "id": "R_D_YXn_RQin"
      },
      "outputs": [],
      "source": [
        "data_rez = data_rez.drop(columns = ['total_working_time_days', 'total_working_time_days_2',\n",
        "                                    'total_working_time_days_3'])"
      ]
    },
    {
      "cell_type": "code",
      "execution_count": null,
      "metadata": {
        "id": "ogLuO4GNRQio"
      },
      "outputs": [],
      "source": [
        "#sorted(ou_2)"
      ]
    },
    {
      "cell_type": "code",
      "source": [
        "#sorted(ou_3)"
      ],
      "metadata": {
        "id": "TnLrGTOdy3p5"
      },
      "execution_count": null,
      "outputs": []
    },
    {
      "cell_type": "code",
      "source": [
        "#data_rez['weekend work_av_2_c'] = data_rez['weekend work_av_2']**3 \n",
        "data_rez['total_working_time_mean_c'] = data_rez['total_working_time_mean']**3 \n",
        "data_rez['average_call_time_on_weekends_c'] = data_rez['average_call_time_on_weekends']**3 \n",
        "data_rez['weekend work_av_2_s'] = data_rez['weekend work_av_2']**2 \n",
        "data_rez['num_ed_s'] = data_rez['num_ed']**2"
      ],
      "metadata": {
        "id": "6D-kFFT_y3wQ"
      },
      "execution_count": null,
      "outputs": []
    },
    {
      "cell_type": "code",
      "source": [],
      "metadata": {
        "id": "Jd_HVIV4y30f"
      },
      "execution_count": null,
      "outputs": []
    },
    {
      "cell_type": "code",
      "source": [],
      "metadata": {
        "id": "2QKpmrz1aTUF"
      },
      "execution_count": null,
      "outputs": []
    },
    {
      "cell_type": "code",
      "execution_count": null,
      "metadata": {
        "id": "nFem9MheRQio"
      },
      "outputs": [],
      "source": [
        "#pred_rf = r_f_c_1.predict(var)\n",
        "#out_rf = pd.DataFrame(pred_rf, columns=['type'])\n",
        "#out_rf['id'] = data_test['id']\n",
        "#out_rf = out_rf.reindex(columns=['id', 'type'])\n",
        "data_rez.to_csv('data_rez_max')"
      ]
    },
    {
      "cell_type": "code",
      "execution_count": null,
      "metadata": {
        "id": "S7VKODn3RQio"
      },
      "outputs": [],
      "source": [
        "#data_rez = pd.read_csv('data_rez_1.csv')\n",
        "#data_rez = data_rez.set_index('id')"
      ]
    },
    {
      "cell_type": "code",
      "source": [
        "#for i in list(data_rez.columns):\n",
        "#    data_rez.loc[data_rez[i] == -1, i] = 0"
      ],
      "metadata": {
        "id": "MpMGJrEd3CDp"
      },
      "execution_count": null,
      "outputs": []
    },
    {
      "cell_type": "code",
      "source": [
        "data_rez['average_number_of_delays_q'] = data_rez['average_number_of_delays']**2\n",
        "data_rez['weekend work_av_2_q'] = data_rez['weekend work_av_2']**2\n",
        "data_rez['average_time_of_lateness_q'] = data_rez['average_time_of_lateness']**2\n",
        "data_rez['average_call_time_q'] = data_rez['average_call_time']**2"
      ],
      "metadata": {
        "id": "tQK1BBxk4AEJ"
      },
      "execution_count": null,
      "outputs": []
    },
    {
      "cell_type": "code",
      "source": [
        "#data_rez['work_weekdays_1_sq'] = data_rez['work_weekdays_1']**2\n",
        "#data_rez['average_call_time_on_weekends_sq'] = data_rez['average_call_time_on_weekends']**2\n",
        "#data_rez['average_time_of_lateness_q'] = data_rez['average_time_of_lateness']**3\n",
        "#data_rez['work_weekdays_sq'] = data_rez['work_weekdays']**3 "
      ],
      "metadata": {
        "id": "B48WSDe7lXu3"
      },
      "execution_count": null,
      "outputs": []
    },
    {
      "cell_type": "markdown",
      "metadata": {
        "id": "I_4Tzm9gZKCL"
      },
      "source": [
        "# Подготовка данных для обучения и обучение моделей и борьба с дисбалансом"
      ]
    },
    {
      "cell_type": "markdown",
      "source": [],
      "metadata": {
        "id": "pg6cDQ3jCuMa"
      }
    },
    {
      "cell_type": "code",
      "source": [
        "data_test = pd.read_csv('test_dataset_test.csv')\n",
        "data_targ = pd.read_csv('train_dataset_train.csv')\n",
        "\n",
        "target = data_targ.set_index('id')\n",
        "features = data_rez.loc[target.index, :]\n",
        "features_train, features_test, target_train, target_test = train_test_split(features, \n",
        "                                                                              target, test_size=0.02, random_state=123)\n",
        "var = data_rez.loc[data_test['id'], :]"
      ],
      "metadata": {
        "id": "Q3hgZQtTCupo"
      },
      "execution_count": null,
      "outputs": []
    },
    {
      "cell_type": "code",
      "source": [],
      "metadata": {
        "id": "8nFkvzyPCuyN"
      },
      "execution_count": null,
      "outputs": []
    },
    {
      "cell_type": "code",
      "source": [
        "def upsample(features, target, repeat):\n",
        "    features_0 = features[target['type'] == 0]\n",
        "    features_1 = features[target['type'] == 1]\n",
        "    target_0 = target[target['type'] == 0]\n",
        "    target_1 = target[target['type'] == 1]\n",
        "    features_2 = features[target['type'] == 2]\n",
        "    features_3 = features[target['type'] == 3]\n",
        "    target_2 = target[target['type'] == 2]\n",
        "    target_3 = target[target['type'] == 3]\n",
        "\n",
        "    features_upsampled = pd.concat([features_0] * repeat[0] + [features_1] * repeat[1]\n",
        "                                   + [features_2] * repeat[2] + [features_3] * repeat[3])\n",
        "    target_upsampled = pd.concat([target_0] * repeat[0] + [target_1] * repeat[1] \n",
        "                                 + [target_2] * repeat[2] + [target_3] * repeat[3])\n",
        "    features_upsampled, target_upsampled = shuffle(features_upsampled,\n",
        "                                                   target_upsampled, random_state=12345)\n",
        "    \n",
        "    return features_upsampled, target_upsampled['type']"
      ],
      "metadata": {
        "id": "c2aBYlnBCu6d"
      },
      "execution_count": null,
      "outputs": []
    },
    {
      "cell_type": "code",
      "source": [
        "rep = [2, 4, 1, 12]"
      ],
      "metadata": {
        "id": "3mcoySPaDMYA"
      },
      "execution_count": null,
      "outputs": []
    },
    {
      "cell_type": "code",
      "source": [
        "features_upsampled, target_upsampled = upsample(features_train, target_train, rep)"
      ],
      "metadata": {
        "id": "9d7k9vv5DMeL"
      },
      "execution_count": null,
      "outputs": []
    },
    {
      "cell_type": "code",
      "source": [],
      "metadata": {
        "id": "F_--otbxDMia"
      },
      "execution_count": null,
      "outputs": []
    },
    {
      "cell_type": "markdown",
      "metadata": {
        "id": "Ni9O3JJ6RQiz"
      },
      "source": [
        "## Обучение случайного леса"
      ]
    },
    {
      "cell_type": "code",
      "execution_count": null,
      "metadata": {
        "colab": {
          "base_uri": "https://localhost:8080/"
        },
        "id": "0zSGoLgORQiz",
        "outputId": "f0abbade-09dd-4594-b39d-716998a25db5"
      },
      "outputs": [
        {
          "output_type": "execute_result",
          "data": {
            "text/plain": [
              "RandomForestClassifier(random_state=123)"
            ]
          },
          "metadata": {},
          "execution_count": 410
        }
      ],
      "source": [
        "r_f_c_1 = RandomForestClassifier(random_state = 123) #, class_weight='balanced')\n",
        "r_f_c_1.fit(features_upsampled, target_upsampled)"
      ]
    },
    {
      "cell_type": "code",
      "execution_count": null,
      "metadata": {
        "id": "G7czAJiMRQi0",
        "colab": {
          "base_uri": "https://localhost:8080/"
        },
        "outputId": "0450d2fe-29b6-45b5-c748-70030e2a3b8d"
      },
      "outputs": [
        {
          "output_type": "stream",
          "name": "stdout",
          "text": [
            "recall_1 0.32518869285130525 f1_1 0.31222222222222223\n"
          ]
        }
      ],
      "source": [
        "print('recall_1', \n",
        "      recall_score(target_test, r_f_c_1.predict(features_test), average='macro'), \n",
        "      'f1_1', \n",
        "      f1_score(target_test, r_f_c_1.predict(features_test), average='macro'))"
      ]
    },
    {
      "cell_type": "code",
      "execution_count": null,
      "metadata": {
        "id": "yCNAT7cPRQi0"
      },
      "outputs": [],
      "source": [
        "#features_upsampled, target_upsampled"
      ]
    },
    {
      "cell_type": "code",
      "execution_count": null,
      "metadata": {
        "id": "kwujlL6IRQi0"
      },
      "outputs": [],
      "source": [
        "#features_train, target_train"
      ]
    },
    {
      "cell_type": "code",
      "execution_count": null,
      "metadata": {
        "colab": {
          "base_uri": "https://localhost:8080/"
        },
        "id": "q0y5PrbLRQi0",
        "outputId": "3d7af699-db35-4d7d-92e8-01b451e54bd2"
      },
      "outputs": [
        {
          "output_type": "execute_result",
          "data": {
            "text/plain": [
              "BayesSearchCV(cv=5, estimator=RandomForestClassifier(random_state=123),\n",
              "              n_iter=52, random_state=123, scoring='recall_macro',\n",
              "              search_spaces={'criterion': ['gini', 'entropy'],\n",
              "                             'max_depth': [3, 4, 5, 6, 7, 8, 9, 10, 11, 12],\n",
              "                             'min_samples_leaf': [2, 3, 4, 5, 6, 7],\n",
              "                             'min_samples_split': [2, 3, 4, 5, 6, 7],\n",
              "                             'n_estimators': [40, 60, 100, 150]})"
            ]
          },
          "metadata": {},
          "execution_count": 638
        }
      ],
      "source": [
        "r_f_c = RandomForestClassifier(random_state = 123) #, class_weight='balanced')\n",
        "parametrs = { 'max_depth': [3, 4, 5, 6, 7, 8, 9, 10, 11, 12],\n",
        "              'criterion' : ['gini', 'entropy'],\n",
        "              'n_estimators': [40, 60, 100, 150],\n",
        "              'min_samples_leaf': [2, 3, 4, 5, 6, 7],\n",
        "              'min_samples_split': [2, 3, 4, 5, 6, 7],\n",
        "            }\n",
        "grid_r_f_c = BayesSearchCV(r_f_c, parametrs, cv=5, n_iter = 52, scoring = 'recall_macro',  random_state = 123)\n",
        "grid_r_f_c.fit(features_upsampled, target_upsampled)"
      ]
    },
    {
      "cell_type": "code",
      "execution_count": null,
      "metadata": {
        "colab": {
          "base_uri": "https://localhost:8080/"
        },
        "id": "4jUdAoRRRQi1",
        "outputId": "f21cf9f0-e984-43ab-c04c-2bcd355a2e1b"
      },
      "outputs": [
        {
          "output_type": "stream",
          "name": "stdout",
          "text": [
            "recall_grid 0.3561445147679325 f1_grid 0.34862012987012986\n"
          ]
        }
      ],
      "source": [
        "print('recall_grid', \n",
        "      recall_score(target_test, grid_r_f_c.predict(features_test), average='macro'), \n",
        "      'f1_grid', \n",
        "      f1_score(target_test, grid_r_f_c.predict(features_test), average='macro'))"
      ]
    },
    {
      "cell_type": "code",
      "source": [
        "pred_pr_rf = grid_r_f_c.predict_proba(var)"
      ],
      "metadata": {
        "id": "fgY7xWApl8Xx"
      },
      "execution_count": null,
      "outputs": []
    },
    {
      "cell_type": "code",
      "execution_count": null,
      "metadata": {
        "id": "shfkimJbRQi6"
      },
      "outputs": [],
      "source": [
        "pred_rf = grid_r_f_c.predict(var)\n",
        "out_rf = pd.DataFrame(pred_rf, columns=['type'])\n",
        "out_rf['id'] = data_test['id']\n",
        "out_rf = out_rf.reindex(columns=['id', 'type'])\n",
        "out_rf.to_csv('30_out_rf_nf.csv', index=False)"
      ]
    },
    {
      "cell_type": "code",
      "source": [
        "features_test.columns"
      ],
      "metadata": {
        "colab": {
          "base_uri": "https://localhost:8080/"
        },
        "id": "J4ZV-UrLgWPL",
        "outputId": "8452b3e6-eade-47b5-dfc3-7d04c5d0e202"
      },
      "execution_count": null,
      "outputs": [
        {
          "output_type": "execute_result",
          "data": {
            "text/plain": [
              "Index(['total_working_time_days', 'average_call_time', 'average_number_calls',\n",
              "       'average_call_time_on_weekends', 'average_number_calls_on_weekends',\n",
              "       'activ_user', 'total_working_time_days_2', 'average_time_of_lateness',\n",
              "       'average_number_of_delays', 'total_working_time_days_3',\n",
              "       'average_delay', 'average_number_of_tasks', 'num_ed', 'su_ed_r',\n",
              "       'work_weekdays', 'weekend work', 'work_weekdays_1', 'weekend work_1',\n",
              "       'work_weekdays_av_2', 'weekend work_av_2', 'work_weekdays_all',\n",
              "       'weekend work_all', 'average_number_of_delays_sq',\n",
              "       'weekend work_av_2_sq'],\n",
              "      dtype='object')"
            ]
          },
          "metadata": {},
          "execution_count": 403
        }
      ]
    },
    {
      "cell_type": "markdown",
      "metadata": {
        "id": "FTU46EOgRQi8"
      },
      "source": [
        "### Проверка метрик\n",
        "\n",
        "-  Случайный лес без перебора параметров с выделением 30% на тест:\n",
        "- f1_score (на тесте) - 0.509  (после вылизывания данных - дубликаты, корреляции получил 0,515)\n",
        "- recall_score (на тесте) - 0.569\n",
        "- recall на валидации -  0.33"
      ]
    },
    {
      "cell_type": "code",
      "execution_count": null,
      "metadata": {
        "id": "lsZkInP7RQi8"
      },
      "outputs": [],
      "source": []
    },
    {
      "cell_type": "code",
      "execution_count": null,
      "metadata": {
        "id": "5v5zjSbPRQi8"
      },
      "outputs": [],
      "source": [
        "pred_pr_rf = grid_r_f_c.predict_proba(var)\n",
        "#out_rf = pd.DataFrame(pred_rf, columns=['type'])\n",
        "#out_rf['id'] = data_test['id']\n",
        "#out_rf = out_rf.reindex(columns=['id', 'type'])\n",
        "#out_rf.to_csv('40_out_rf_gr.csv', index=False)"
      ]
    },
    {
      "cell_type": "code",
      "execution_count": null,
      "metadata": {
        "id": "DGL7vk2LkaJH"
      },
      "outputs": [],
      "source": [
        "#data.loc[:, 'weight'].hist(bins=60, figsize = (10, 6))"
      ]
    },
    {
      "cell_type": "markdown",
      "metadata": {
        "id": "v7nmapec74w6"
      },
      "source": [
        "## Катбуст"
      ]
    },
    {
      "cell_type": "code",
      "source": [
        "y_train = np.array(data_targ['type'])\n",
        "classes = np.unique(y_train)\n",
        "weights = compute_class_weight(class_weight='balanced', classes=classes, y=y_train)\n",
        "class_weights = dict(zip(classes, weights))"
      ],
      "metadata": {
        "id": "00sihjwgGLIf"
      },
      "execution_count": null,
      "outputs": []
    },
    {
      "cell_type": "code",
      "source": [
        "params = {'depth': [3, 4, 6, 7, 8],\n",
        "          'learning_rate' : [0.01, 0.02, 0.03],\n",
        "         'l2_leaf_reg': [2, 3, 4, 5, 6, 7, 8, 9],\n",
        "         'iterations': [800, 900, 1000, 1200],\n",
        "         'bootstrap_type':['No']}\n",
        "cb_c = cb.CatBoostClassifier(loss_function = 'MultiClass', verbose=False, thread_count = -1, \n",
        "                             random_state = 123, class_weights = class_weights)\n",
        "cb_bayes = BayesSearchCV(cb_c, params, scoring=\"recall_macro\", cv = 3, n_iter = 10,  random_state = 123)\n",
        "cb_bayes.fit(features_train, target_train)"
      ],
      "metadata": {
        "colab": {
          "base_uri": "https://localhost:8080/"
        },
        "id": "EnFasFUUtaJT",
        "outputId": "244a894b-5f2a-4b5f-db72-28e173e56580"
      },
      "execution_count": null,
      "outputs": [
        {
          "output_type": "execute_result",
          "data": {
            "text/plain": [
              "BayesSearchCV(cv=3,\n",
              "              estimator=<catboost.core.CatBoostClassifier object at 0x7fb79b62e9d0>,\n",
              "              n_iter=10, random_state=123, scoring='recall_macro',\n",
              "              search_spaces={'bootstrap_type': ['No'], 'depth': [3, 4, 6, 7, 8],\n",
              "                             'iterations': [800, 900, 1000, 1200],\n",
              "                             'l2_leaf_reg': [2, 3, 4, 5, 6, 7, 8, 9],\n",
              "                             'learning_rate': [0.01, 0.02, 0.03]})"
            ]
          },
          "metadata": {},
          "execution_count": 600
        }
      ]
    },
    {
      "cell_type": "code",
      "execution_count": null,
      "metadata": {
        "colab": {
          "base_uri": "https://localhost:8080/"
        },
        "id": "KXqSfxq2ZKCu",
        "outputId": "2f90b59c-d401-47dc-d163-6f060589dc31"
      },
      "outputs": [
        {
          "output_type": "execute_result",
          "data": {
            "text/plain": [
              "OrderedDict([('bootstrap_type', 'No'),\n",
              "             ('depth', 4),\n",
              "             ('iterations', 900),\n",
              "             ('l2_leaf_reg', 6),\n",
              "             ('learning_rate', 0.02)])"
            ]
          },
          "metadata": {},
          "execution_count": 611
        }
      ],
      "source": [
        "cb_bayes.best_params_"
      ]
    },
    {
      "cell_type": "code",
      "source": [
        "cb_c_x = cb.CatBoostClassifier(loss_function = 'MultiClass', verbose=False, thread_count = -1, \n",
        "                             random_state = 123, class_weights = class_weights, bootstrap_type = 'No',\n",
        "                             depth = 4, iterations = 900, l2_leaf_reg = 6, learning_rate = 0.02)\n",
        "#cb_bayes = BayesSearchCV(cb_c, params, scoring=\"recall_macro\", cv = 3, n_iter = 10,  random_state = 123)\n",
        "cb_c_x.fit(features_train, target_train)\n",
        "print('recall_bayes', \n",
        "      recall_score(target_test, cb_c_x.predict(features_test), average='macro'), \n",
        "      'f1_bayes', \n",
        "      f1_score(target_test, cb_c_x.predict(features_test), average='macro'))"
      ],
      "metadata": {
        "colab": {
          "base_uri": "https://localhost:8080/"
        },
        "id": "AwELK4p3FtWt",
        "outputId": "afd58493-591f-4f16-c6da-0c84fbe5d96b"
      },
      "execution_count": null,
      "outputs": [
        {
          "output_type": "stream",
          "name": "stdout",
          "text": [
            "recall_bayes 0.19999999999999998 f1_bayes 0.22222222222222218\n"
          ]
        }
      ]
    },
    {
      "cell_type": "code",
      "source": [
        "pred_c_x = cb_c_x.predict(var)\n",
        "out_c_x = pd.DataFrame(pred_c_x, columns=['type'])\n",
        "out_c_x['id'] = data_test['id']\n",
        "out_c_x = out_c_x.reindex(columns=['id', 'type'])\n",
        "out_c_x.to_csv('30_out_c_x.csv', index=False)"
      ],
      "metadata": {
        "id": "aocJvCpNGkA_"
      },
      "execution_count": null,
      "outputs": []
    },
    {
      "cell_type": "code",
      "execution_count": null,
      "metadata": {
        "id": "ezxsJk8C_F7u"
      },
      "outputs": [],
      "source": [
        "pred_pr_cb = cb_c_x.predict_proba(var)"
      ]
    },
    {
      "cell_type": "code",
      "execution_count": null,
      "metadata": {
        "colab": {
          "base_uri": "https://localhost:8080/"
        },
        "id": "_s5QzAVXd9JF",
        "outputId": "a0425e1d-7dcf-4940-cecb-1a6ecfc1fa60"
      },
      "outputs": [
        {
          "output_type": "stream",
          "name": "stdout",
          "text": [
            "recall_bayes 0.3620499014470458 f1_bayes 0.33879192702722116\n"
          ]
        }
      ],
      "source": [
        "print('recall_bayes', \n",
        "      recall_score(target_test, cb_bayes.predict(features_test), average='macro'), \n",
        "      'f1_bayes', \n",
        "      f1_score(target_test, cb_bayes.predict(features_test), average='macro'))"
      ]
    },
    {
      "cell_type": "code",
      "source": [],
      "metadata": {
        "id": "E9-UmShubAvq"
      },
      "execution_count": null,
      "outputs": []
    },
    {
      "cell_type": "code",
      "execution_count": null,
      "metadata": {
        "colab": {
          "base_uri": "https://localhost:8080/"
        },
        "id": "5ah-mzAJjwcQ",
        "outputId": "20161b3b-2325-403f-ec9a-1a9edf0ef63c"
      },
      "outputs": [
        {
          "output_type": "execute_result",
          "data": {
            "text/plain": [
              "<catboost.core.CatBoostClassifier at 0x7fb79b381210>"
            ]
          },
          "metadata": {},
          "execution_count": 613
        }
      ],
      "source": [
        "cb_mod = cb.CatBoostClassifier(loss_function = 'MultiClass',\n",
        "                               verbose=False, thread_count = -1, iterations = 1000,\n",
        "                               random_state = 123, l2_leaf_reg = 2, learning_rate = 0.03,\n",
        "                               class_weights = class_weights)\n",
        "cb_mod.fit(features_train, target_train)"
      ]
    },
    {
      "cell_type": "code",
      "execution_count": null,
      "metadata": {
        "colab": {
          "base_uri": "https://localhost:8080/"
        },
        "id": "CWvLxQihj2lB",
        "outputId": "37166cf4-9fad-4169-806a-972f37961eea"
      },
      "outputs": [
        {
          "output_type": "stream",
          "name": "stdout",
          "text": [
            "recall_mod 0.3930098684210526 f1_mod 0.4028332514863158\n"
          ]
        }
      ],
      "source": [
        "print('recall_mod', \n",
        "      recall_score(target_test, cb_mod.predict(features_test), average='macro'), \n",
        "      'f1_mod', \n",
        "      f1_score(target_test, cb_mod.predict(features_test), average='macro'))"
      ]
    },
    {
      "cell_type": "code",
      "execution_count": null,
      "metadata": {
        "colab": {
          "base_uri": "https://localhost:8080/",
          "height": 283
        },
        "id": "JH-f9M6mZKCw",
        "outputId": "9ca4a35d-3124-42eb-db72-27e926380fa8"
      },
      "outputs": [
        {
          "output_type": "execute_result",
          "data": {
            "text/plain": [
              "<matplotlib.axes._subplots.AxesSubplot at 0x7fb79b77cdd0>"
            ]
          },
          "metadata": {},
          "execution_count": 519
        },
        {
          "output_type": "display_data",
          "data": {
            "text/plain": [
              "<Figure size 432x288 with 1 Axes>"
            ],
            "image/png": "[encoded data removed]"
          },
          "metadata": {
            "needs_background": "light"
          }
        }
      ],
      "source": [
        "data = pd.DataFrame({'feature_importance': cb_mod.get_feature_importance(), \n",
        "              'feature_names': features_train.columns}).sort_values(by=['feature_importance'], \n",
        "                                                       ascending=False)\n",
        "data[:20].sort_values(by=['feature_importance'], ascending=True).plot.barh(x='feature_names', y='feature_importance')"
      ]
    },
    {
      "cell_type": "markdown",
      "metadata": {
        "id": "VpxoIP44V0pX"
      },
      "source": [
        "## LGBMClassifier"
      ]
    },
    {
      "cell_type": "code",
      "source": [
        "lgb_1 = LGBMClassifier(random_state = 123, verbose_eval = False, class_weight='balanced')\n",
        "lgb_1.fit(features_train, target_train)"
      ],
      "metadata": {
        "colab": {
          "base_uri": "https://localhost:8080/"
        },
        "id": "dgsuzejznfFP",
        "outputId": "f54dc9ef-51b6-439b-f321-1dc6c1348d33"
      },
      "execution_count": null,
      "outputs": [
        {
          "output_type": "execute_result",
          "data": {
            "text/plain": [
              "LGBMClassifier(class_weight='balanced', random_state=123, verbose_eval=False)"
            ]
          },
          "metadata": {},
          "execution_count": 607
        }
      ]
    },
    {
      "cell_type": "code",
      "source": [
        "print('recall_bayes', \n",
        "      recall_score(target_test, lgb_1.predict(features_test), average='macro'), \n",
        "      'f1_bayes', \n",
        "      f1_score(target_test, lgb_1.predict(features_test), average='macro'))"
      ],
      "metadata": {
        "colab": {
          "base_uri": "https://localhost:8080/"
        },
        "id": "yqjumvn8nkMz",
        "outputId": "ee2d1014-40ab-4e4e-b960-c67981442f10"
      },
      "execution_count": null,
      "outputs": [
        {
          "output_type": "stream",
          "name": "stdout",
          "text": [
            "recall_bayes 0.3630482456140351 f1_bayes 0.37889717093397296\n"
          ]
        }
      ]
    },
    {
      "cell_type": "code",
      "execution_count": null,
      "metadata": {
        "colab": {
          "base_uri": "https://localhost:8080/"
        },
        "id": "Vc2zts5LVhAN",
        "outputId": "88b2f140-882c-4106-ac18-1959f0b121f0"
      },
      "outputs": [
        {
          "output_type": "execute_result",
          "data": {
            "text/plain": [
              "BayesSearchCV(cv=5,\n",
              "              estimator=LGBMClassifier(class_weight='balanced',\n",
              "                                       random_state=123, verbose_eval=False),\n",
              "              n_iter=32, random_state=123, scoring='recall_macro',\n",
              "              search_spaces={'bagging_fraction': [0.6, 0.7, 0.8, 0.9, 0.96],\n",
              "                             'cat_smooth': [3, 5, 8, 10, 13, 15, 20, 35],\n",
              "                             'feature_fraction': [0.6, 0.7, 0.8, 0.9, 0.97],\n",
              "                             'lambda_l2': [1, 7, 10, 12, 15, 20, 30, 35],\n",
              "                             'learning_rate': [0.01, 0.05, 0.1, 0.15],\n",
              "                             'max_depth': [3, 4, 5, 6, 7, 8, 10, 12, 15, 18, 20,\n",
              "                                           25, 30, 35],\n",
              "                             'n_estimators': [80, 100, 120, 150, 300, 350]})"
            ]
          },
          "metadata": {},
          "execution_count": 623
        }
      ],
      "source": [
        "params = {'max_depth': [3, 4, 5, 6, 7, 8, 10, 12, 15, 18, 20, 25, 30, 35],\n",
        "          'learning_rate' : [0.01, 0.05, 0.1, 0.15],\n",
        "         'lambda_l2': [1, 7, 10, 12, 15, 20, 30, 35],\n",
        "         'feature_fraction': [0.6, 0.7, 0.8, 0.9, 0.97],\n",
        "          'n_estimators' : [80, 100, 120, 150, 300, 350],\n",
        "          'bagging_fraction': [0.6, 0.7, 0.8, 0.9, 0.96],\n",
        "         'cat_smooth': [3, 5, 8, 10, 13, 15, 20, 35]}\n",
        "\n",
        "lgb = LGBMClassifier(random_state = 123, verbose_eval = False, class_weight='balanced')\n",
        "lgb_bayes = BayesSearchCV(lgb, params, scoring=\"recall_macro\", cv = 5, n_iter = 42, random_state = 123)\n",
        "lgb_bayes.fit(features_train, target_train)\n"
      ]
    },
    {
      "cell_type": "code",
      "source": [
        "pred_pr_lgb = lgb_bayes.predict_proba(var)"
      ],
      "metadata": {
        "id": "gdLAHDB8IeKI"
      },
      "execution_count": null,
      "outputs": []
    },
    {
      "cell_type": "code",
      "source": [
        "print('recall_bayes', \n",
        "      recall_score(target_test, lgb_bayes.predict(features_test), average='macro'), \n",
        "      'f1_bayes', \n",
        "      f1_score(target_test, lgb_bayes.predict(features_test), average='macro'))"
      ],
      "metadata": {
        "colab": {
          "base_uri": "https://localhost:8080/"
        },
        "id": "9Xrw4Y0ZN0VU",
        "outputId": "263bc422-bfae-45af-8408-46834a344b3a"
      },
      "execution_count": null,
      "outputs": [
        {
          "output_type": "stream",
          "name": "stdout",
          "text": [
            "recall_bayes 0.40019188596491223 f1_bayes 0.3706299625711257\n"
          ]
        }
      ]
    },
    {
      "cell_type": "code",
      "execution_count": null,
      "metadata": {
        "colab": {
          "base_uri": "https://localhost:8080/"
        },
        "id": "VNKpRSkeVhGV",
        "outputId": "bb6634c4-08c5-448a-f4a5-dd3536175555"
      },
      "outputs": [
        {
          "output_type": "execute_result",
          "data": {
            "text/plain": [
              "OrderedDict([('bagging_fraction', 0.8),\n",
              "             ('cat_smooth', 10),\n",
              "             ('feature_fraction', 0.7),\n",
              "             ('lambda_l2', 20),\n",
              "             ('learning_rate', 0.05),\n",
              "             ('max_depth', 3),\n",
              "             ('n_estimators', 80)])"
            ]
          },
          "metadata": {},
          "execution_count": 612
        }
      ],
      "source": [
        "lgb_bayes.best_params_"
      ]
    },
    {
      "cell_type": "code",
      "execution_count": null,
      "metadata": {
        "colab": {
          "base_uri": "https://localhost:8080/"
        },
        "id": "LrpOpv68VhNS",
        "outputId": "1cea6229-9057-43a7-dffb-99835d50a0c9"
      },
      "outputs": [
        {
          "output_type": "execute_result",
          "data": {
            "text/plain": [
              "0.46600504637206763"
            ]
          },
          "metadata": {},
          "execution_count": 247
        }
      ],
      "source": [
        "lgb_bayes.best_score_"
      ]
    },
    {
      "cell_type": "code",
      "source": [
        " "
      ],
      "metadata": {
        "id": "joSJRGZh32gJ"
      },
      "execution_count": null,
      "outputs": []
    },
    {
      "cell_type": "code",
      "source": [
        "#pred_pr_lgb = lgb_bayes.predict_proba(var)"
      ],
      "metadata": {
        "id": "GQuuBtmX32rV"
      },
      "execution_count": null,
      "outputs": []
    },
    {
      "cell_type": "code",
      "source": [
        "proba = pred_pr_lgb + pred_pr_rf + pred_pr_cb"
      ],
      "metadata": {
        "id": "FVkW_t8gn2wF"
      },
      "execution_count": null,
      "outputs": []
    },
    {
      "cell_type": "code",
      "source": [
        "def pred_func(data):\n",
        "  rez = []\n",
        "  for i in data:\n",
        "    rez.append(list(i).index(max(i)))\n",
        "  return rez"
      ],
      "metadata": {
        "id": "lQJCqfCQI5B4"
      },
      "execution_count": null,
      "outputs": []
    },
    {
      "cell_type": "code",
      "source": [
        "pred_lgb = pred_func(proba)\n",
        "out_lgb = pd.DataFrame(pred_lgb, columns=['type'])\n",
        "out_lgb['id'] = data_test['id']\n",
        "out_lgb = out_lgb.reindex(columns=['id', 'type'])\n",
        "out_lgb.to_csv('10_out_al.csv', index=False)"
      ],
      "metadata": {
        "id": "FEWu1raT4NWg"
      },
      "execution_count": null,
      "outputs": []
    },
    {
      "cell_type": "code",
      "source": [],
      "metadata": {
        "id": "UKSSmomApwXv"
      },
      "execution_count": null,
      "outputs": []
    },
    {
      "cell_type": "code",
      "source": [
        "print('recall_bayes', \n",
        "      recall_score(target_test, lgb_bayes.predict(features_test), average='macro'), \n",
        "      'f1_bayes', \n",
        "      f1_score(target_test, lgb_bayes.predict(features_test), average='macro'))"
      ],
      "metadata": {
        "colab": {
          "base_uri": "https://localhost:8080/"
        },
        "id": "BVfCv4gmbcVr",
        "outputId": "d7de2e92-2650-4372-9b74-8cff8389fb78"
      },
      "execution_count": null,
      "outputs": [
        {
          "output_type": "stream",
          "name": "stdout",
          "text": [
            "recall_bayes 0.2815678504467505 f1_bayes 0.25461760461760463\n"
          ]
        }
      ]
    },
    {
      "cell_type": "code",
      "source": [
        "print('recall_bayes', \n",
        "      recall_score(target_test, pred_func(grid_r_f_c.predict_proba(features_test) + lgb_bayes.predict_proba(features_test)), average='macro'), \n",
        "      'f1_bayes', \n",
        "      f1_score(target_test, pred_func(grid_r_f_c.predict_proba(features_test) + lgb_bayes.predict_proba(features_test)), average='macro'))"
      ],
      "metadata": {
        "colab": {
          "base_uri": "https://localhost:8080/"
        },
        "id": "VrH9UWRn6D7A",
        "outputId": "9487520a-50d4-45f3-a9a3-3c8b0d187831"
      },
      "execution_count": null,
      "outputs": [
        {
          "output_type": "stream",
          "name": "stdout",
          "text": [
            "recall_bayes 0.3165953559925003 f1_bayes 0.3106909430438842\n"
          ]
        }
      ]
    },
    {
      "cell_type": "code",
      "source": [
        "pred_lgb = lgb_bayes.predict(var)\n",
        "out_lgb = pd.DataFrame(pred_lgb, columns=['type'])\n",
        "out_lgb['id'] = data_test['id']\n",
        "out_lgb = out_lgb.reindex(columns=['id', 'type'])\n",
        "out_lgb.to_csv('30_out_lgb_nf.csv', index=False)"
      ],
      "metadata": {
        "id": "nnk4syIG6qRc"
      },
      "execution_count": null,
      "outputs": []
    },
    {
      "cell_type": "code",
      "source": [],
      "metadata": {
        "id": "Ib7Z86W26qWA"
      },
      "execution_count": null,
      "outputs": []
    },
    {
      "cell_type": "markdown",
      "metadata": {
        "id": "rUNg1b59ZKC0"
      },
      "source": [
        "##  LogisticRegression"
      ]
    },
    {
      "cell_type": "code",
      "execution_count": null,
      "metadata": {
        "id": "EWZxDRXa-jaw"
      },
      "outputs": [],
      "source": [
        "from sklearn.preprocessing import StandardScaler  \n",
        "\n",
        "ss = StandardScaler()\n",
        "X_train_scaled = ss.fit_transform(features_upsampled)\n",
        "X_test_scaled = ss.transform(features_test)\n"
      ]
    },
    {
      "cell_type": "code",
      "execution_count": null,
      "metadata": {
        "id": "mTlyR1zbRQjE"
      },
      "outputs": [],
      "source": []
    },
    {
      "cell_type": "code",
      "execution_count": null,
      "metadata": {
        "colab": {
          "base_uri": "https://localhost:8080/"
        },
        "id": "HpfYa2XqZKC0",
        "outputId": "462dca70-7f34-4435-be6b-0d1cc7970e1a"
      },
      "outputs": [
        {
          "output_type": "execute_result",
          "data": {
            "text/plain": [
              "GridSearchCV(cv=3, estimator=LogisticRegression(random_state=25072022),\n",
              "             param_grid={'C': [1, 2, 3, 4, 5], 'penalty': ['l2', 'none'],\n",
              "                         'solver': ['lbfgs', 'sag']},\n",
              "             scoring='recall_macro')"
            ]
          },
          "metadata": {},
          "execution_count": 441
        }
      ],
      "source": [
        "model_l_r = LogisticRegression(random_state = 25072022) #, class_weight = 'balanced')\n",
        "parametrs = { 'C': [1, 2, 3, 4, 5],\n",
        "              'penalty': ['l2', 'none'],\n",
        "              'solver': ['lbfgs', 'sag'],\n",
        "            }\n",
        "grid_l_r = GridSearchCV(model_l_r, parametrs, scoring = 'recall_macro', cv=3)\n",
        "grid_l_r.fit(X_train_scaled, target_upsampled)"
      ]
    },
    {
      "cell_type": "code",
      "source": [
        "print('recall_bayes', \n",
        "      recall_score(target_test, grid_l_r.predict(features_test), average='macro'), \n",
        "      'f1_bayes', \n",
        "      f1_score(target_test, grid_l_r.predict(features_test), average='macro'))"
      ],
      "metadata": {
        "colab": {
          "base_uri": "https://localhost:8080/"
        },
        "id": "M4c-cxFB50Hl",
        "outputId": "b88bc649-c965-47b7-a1bc-b8dbc1eaa9ad"
      },
      "execution_count": null,
      "outputs": [
        {
          "output_type": "stream",
          "name": "stdout",
          "text": [
            "recall_bayes 0.26639344262295084 f1_bayes 0.06395687645687646\n"
          ]
        }
      ]
    },
    {
      "cell_type": "code",
      "source": [],
      "metadata": {
        "id": "fYubFe1950Mg"
      },
      "execution_count": null,
      "outputs": []
    },
    {
      "cell_type": "code",
      "source": [],
      "metadata": {
        "id": "OF7XoWi150Qr"
      },
      "execution_count": null,
      "outputs": []
    },
    {
      "cell_type": "code",
      "source": [],
      "metadata": {
        "id": "iI1w9IXx50WC"
      },
      "execution_count": null,
      "outputs": []
    },
    {
      "cell_type": "code",
      "execution_count": null,
      "metadata": {
        "id": "8G1phZM1RQjF"
      },
      "outputs": [],
      "source": [
        "'roc_auc_ovr', 'f1_macro'"
      ]
    },
    {
      "cell_type": "code",
      "execution_count": null,
      "metadata": {
        "id": "BCN5MM0KRQjH"
      },
      "outputs": [],
      "source": []
    },
    {
      "cell_type": "markdown",
      "source": [
        "# Создание новых фичей перебором"
      ],
      "metadata": {
        "id": "2gz8-F9OJmzw"
      }
    },
    {
      "cell_type": "code",
      "execution_count": null,
      "metadata": {
        "id": "6yh7-GytRQjI"
      },
      "outputs": [],
      "source": [
        "data_rez = pd.read_csv('data_rez_1.csv')\n",
        "data_rez = data_rez.set_index('id')"
      ]
    },
    {
      "cell_type": "code",
      "source": [
        "data_test = pd.read_csv('test_dataset_test.csv')\n",
        "data_targ = pd.read_csv('train_dataset_train.csv')"
      ],
      "metadata": {
        "id": "FKSu7PFoNS-M"
      },
      "execution_count": null,
      "outputs": []
    },
    {
      "cell_type": "code",
      "source": [
        "target = data_targ.set_index('id')"
      ],
      "metadata": {
        "id": "UmZ2iNOCNXEY"
      },
      "execution_count": null,
      "outputs": []
    },
    {
      "cell_type": "code",
      "source": [
        "features = data_rez.loc[target.index, :]"
      ],
      "metadata": {
        "id": "irnvlBOKNb3I"
      },
      "execution_count": null,
      "outputs": []
    },
    {
      "cell_type": "code",
      "source": [
        "features_train_1, features_test_1, target_train, target_test = train_test_split(features, \n",
        "                                                                              target, test_size=0.2, random_state=123)"
      ],
      "metadata": {
        "id": "pIjR7AqrJry9"
      },
      "execution_count": null,
      "outputs": []
    },
    {
      "cell_type": "code",
      "source": [],
      "metadata": {
        "id": "mBZR8KAELHqP"
      },
      "execution_count": null,
      "outputs": []
    },
    {
      "cell_type": "code",
      "source": [
        "param = {'max_depth': [3, 5, 7, 10, 15, 20],\n",
        "          'learning_rate' : [0.01, 0.1, 0.15],\n",
        "         'lambda_l2': [0, 10, 20],\n",
        "         'feature_fraction': [0.6, 0.8, 0.95],\n",
        "          'n_estimators' : [80, 120, 200],\n",
        "          'bagging_fraction': [0.6, 0.8, 0.95],\n",
        "         'cat_smooth': [1, 8, 15]}\n",
        "\n",
        "#lgb = LGBMClassifier(random_state = 123, verbose_eval = False, class_weight='balanced')\n",
        "#lgb_bayes = BayesSearchCV(lgb, params, scoring=\"recall_macro\", cv = 5, n_iter = 46)\n",
        "#lgb_bayes.fit(features_train, target_train)"
      ],
      "metadata": {
        "id": "-tSVFoweLH0n"
      },
      "execution_count": null,
      "outputs": []
    },
    {
      "cell_type": "code",
      "source": [
        "lgb_x = LGBMClassifier(random_state = 123, verbose_eval = False, class_weight='balanced')\n",
        "lgb_b_x = BayesSearchCV(lgb_x, param, scoring=\"recall_macro\", cv = 4, n_iter = 20, random_state=123)\n",
        "lgb_b_x.fit(features_train, target_train)\n",
        "recall_score(target_test, lgb_b_x.predict(features_test), average='macro')"
      ],
      "metadata": {
        "colab": {
          "base_uri": "https://localhost:8080/"
        },
        "id": "W59Cywvmq9hH",
        "outputId": "83ea2b4a-44f6-41c9-e5da-85e8c9cff9b2"
      },
      "execution_count": null,
      "outputs": [
        {
          "output_type": "execute_result",
          "data": {
            "text/plain": [
              "0.3368227489063026"
            ]
          },
          "metadata": {},
          "execution_count": 575
        }
      ]
    },
    {
      "cell_type": "code",
      "source": [
        "pred_x = lgb_b_x.predict(var)\n",
        "out_x = pd.DataFrame(pred_x, columns=['type'])\n",
        "out_x['id'] = data_test['id']\n",
        "out_x = out_x.reindex(columns=['id', 'type'])\n",
        "out_x.to_csv('10_out_x.csv', index=False)"
      ],
      "metadata": {
        "id": "VQ5N8O1--x3z"
      },
      "execution_count": null,
      "outputs": []
    },
    {
      "cell_type": "code",
      "source": [
        "0.3056291936514041"
      ],
      "metadata": {
        "id": "h6TKmDOr0Ub5"
      },
      "execution_count": null,
      "outputs": []
    },
    {
      "cell_type": "code",
      "source": [
        "ou_3 = []\n",
        "nu = 0\n",
        "for i in data_rez.columns:\n",
        "  features_train = features_train_1.copy()\n",
        "  features_test = features_test_1.copy()\n",
        "  features_train['sq'] = features_train[i]**3\n",
        "  features_test['sq'] = features_test[i]**3\n",
        "  lgb_sel = LGBMClassifier(random_state = 123, verbose_eval = False, class_weight='balanced')\n",
        "  lgb_bayes_sel = BayesSearchCV(lgb_sel, param, scoring=\"recall_macro\", cv = 5, n_iter = 20, random_state=123)\n",
        "  lgb_bayes_sel.fit(features_train, target_train)\n",
        "  ou_3.append([recall_score(target_test, lgb_bayes_sel.predict(features_test), average='macro'), i])\n",
        "  print(ou_3[nu])\n",
        "  nu +=1"
      ],
      "metadata": {
        "colab": {
          "base_uri": "https://localhost:8080/"
        },
        "id": "RRjt2SgtJr4t",
        "outputId": "bb480996-8533-40fc-caa4-86f4879e6e17"
      },
      "execution_count": null,
      "outputs": [
        {
          "output_type": "stream",
          "name": "stdout",
          "text": [
            "[0.3016630381781096, 'average_call_time']\n",
            "[0.2935985220490773, 'average_number_calls']\n",
            "[0.309859759489585, 'average_call_time_on_weekends']\n",
            "[0.3016630381781096, 'average_number_calls_on_weekends']\n",
            "[0.2741454737752993, 'activ_user']\n",
            "[0.2741454737752993, 'average_time_of_lateness']\n",
            "[0.27574395461756646, 'average_number_of_delays']\n",
            "[0.3083986346810249, 'average_delay']\n",
            "[0.2902745060333638, 'average_number_of_tasks']\n",
            "[0.2943728666891015, 'num_ed']\n",
            "[0.2741454737752993, 'su_ed_r']\n",
            "[0.2855340059200451, 'work_weekdays']\n",
            "[0.3056291936514041, 'weekend work']\n",
            "[0.31382591496287954, 'weekend work_av_2']\n",
            "[0.2902745060333638, 'weekend work_all']\n",
            "[0.3123647901543195, 'total_working_time_mean']\n"
          ]
        }
      ]
    },
    {
      "cell_type": "code",
      "source": [
        "sorted(ou_3)"
      ],
      "metadata": {
        "colab": {
          "base_uri": "https://localhost:8080/"
        },
        "id": "lYWqyZwgJsC5",
        "outputId": "cb3279a0-8e15-4063-8c3b-3cea598cb8d7"
      },
      "execution_count": null,
      "outputs": [
        {
          "output_type": "execute_result",
          "data": {
            "text/plain": [
              "[[0.2741454737752993, 'activ_user'],\n",
              " [0.2741454737752993, 'average_time_of_lateness'],\n",
              " [0.2741454737752993, 'su_ed_r'],\n",
              " [0.27574395461756646, 'average_number_of_delays'],\n",
              " [0.2855340059200451, 'work_weekdays'],\n",
              " [0.2902745060333638, 'average_number_of_tasks'],\n",
              " [0.2902745060333638, 'weekend work_all'],\n",
              " [0.2935985220490773, 'average_number_calls'],\n",
              " [0.2943728666891015, 'num_ed'],\n",
              " [0.3016630381781096, 'average_call_time'],\n",
              " [0.3016630381781096, 'average_number_calls_on_weekends'],\n",
              " [0.3056291936514041, 'weekend work'],\n",
              " [0.3083986346810249, 'average_delay'],\n",
              " [0.309859759489585, 'average_call_time_on_weekends'],\n",
              " [0.3123647901543195, 'total_working_time_mean'],\n",
              " [0.31382591496287954, 'weekend work_av_2']]"
            ]
          },
          "metadata": {},
          "execution_count": 502
        }
      ]
    },
    {
      "cell_type": "code",
      "source": [
        "ou_2 = []\n",
        "nu = 0\n",
        "for i in data_rez.columns:\n",
        "  features_train = features_train_1.copy()\n",
        "  features_test = features_test_1.copy()\n",
        "  features_train['sq'] = features_train[i]**2\n",
        "  features_test['sq'] = features_test[i]**2\n",
        "  lgb_sel = LGBMClassifier(random_state = 123, verbose_eval = False, class_weight='balanced')\n",
        "  lgb_bayes_sel = BayesSearchCV(lgb_sel, param, scoring=\"recall_macro\", cv = 5, n_iter = 20, random_state=123)\n",
        "  lgb_bayes_sel.fit(features_train, target_train)\n",
        "  ou_2.append([recall_score(target_test, lgb_bayes_sel.predict(features_test), average='macro'), i])\n",
        "#  print(ou_3[nu])\n",
        "  nu +=1"
      ],
      "metadata": {
        "id": "y1Y6iPt5szyz"
      },
      "execution_count": null,
      "outputs": []
    },
    {
      "cell_type": "code",
      "source": [
        "sorted(ou_2)"
      ],
      "metadata": {
        "colab": {
          "base_uri": "https://localhost:8080/"
        },
        "id": "MvgmOn-xsz7W",
        "outputId": "df1c3091-8b1d-43f5-d190-baafab1f0988"
      },
      "execution_count": null,
      "outputs": [
        {
          "output_type": "execute_result",
          "data": {
            "text/plain": [
              "[[0.2854018007376019, 'average_number_calls'],\n",
              " [0.2855340059200451, 'average_call_time'],\n",
              " [0.28886317278702256, 'average_delay'],\n",
              " [0.2935985220490773, 'average_number_of_tasks'],\n",
              " [0.2935985220490773, 'su_ed_r'],\n",
              " [0.2935985220490773, 'work_weekdays'],\n",
              " [0.29756467752237187, 'average_number_of_delays'],\n",
              " [0.29756467752237187, 'weekend work_all'],\n",
              " [0.3016630381781096, 'average_number_calls_on_weekends'],\n",
              " [0.3016630381781096, 'total_working_time_mean'],\n",
              " [0.30193259939425987, 'average_time_of_lateness'],\n",
              " [0.3056291936514041, 'weekend work'],\n",
              " [0.3057613988338473, 'average_call_time_on_weekends'],\n",
              " [0.30972755430714183, 'activ_user'],\n",
              " [0.30972755430714183, 'num_ed'],\n",
              " [0.30972755430714183, 'weekend work_av_2']]"
            ]
          },
          "metadata": {},
          "execution_count": 504
        }
      ]
    },
    {
      "cell_type": "code",
      "source": [],
      "metadata": {
        "id": "dIFRbuUhs0DN"
      },
      "execution_count": null,
      "outputs": []
    },
    {
      "cell_type": "markdown",
      "metadata": {
        "id": "zmiOQdH7ZKC4"
      },
      "source": [
        "# Предсказания на валидации и выгрузка результатов"
      ]
    },
    {
      "cell_type": "code",
      "execution_count": null,
      "metadata": {
        "colab": {
          "base_uri": "https://localhost:8080/"
        },
        "id": "Xuo1cdAWMyv9",
        "outputId": "abf7ad77-a3a7-4d26-af64-2eea02a8675b"
      },
      "outputs": [
        {
          "name": "stdout",
          "output_type": "stream",
          "text": [
            "641\n"
          ]
        }
      ],
      "source": [
        "z = discarding(test_x)"
      ]
    },
    {
      "cell_type": "code",
      "execution_count": null,
      "metadata": {
        "id": "R1B28Tbhm3OH"
      },
      "outputs": [],
      "source": [
        "features_cb_out = replacement(test_x)\n",
        "features_cb_out = new_fit(features_cb_out)\n",
        "features_cb_out = features_cb_out.drop(columns =  'id')\n",
        "#Замена  по функции\n"
      ]
    },
    {
      "cell_type": "code",
      "execution_count": null,
      "metadata": {
        "id": "kxfjA-s8HA5b"
      },
      "outputs": [],
      "source": [
        "features_lg_out = test_x.drop(columns =  'id')\n",
        "#Вообще без замены"
      ]
    },
    {
      "cell_type": "code",
      "execution_count": null,
      "metadata": {
        "id": "vT2X29525KZi"
      },
      "outputs": [],
      "source": [
        "pred_cb = cb_bayes.predict_proba(features_cb_out)[:,1]\n",
        "out_cb = pd.DataFrame(pred_cb, columns=['cardio'])\n",
        "out_cb['id'] = test_x['id']\n",
        "out_cb = out_cb.reindex(columns=['id', 'cardio'])\n",
        "out_cb.to_csv('10_out_cb.csv', index=False)\n",
        "# Предсказания и выгрузка результатов КАТБУСТ"
      ]
    },
    {
      "cell_type": "code",
      "execution_count": null,
      "metadata": {
        "id": "FNyGMzcOHQ8i"
      },
      "outputs": [],
      "source": [
        "pred_lg = lgb_bayes.predict_proba(features_lg_out)[:,1]\n",
        "out_lg = pd.DataFrame(pred_lg, columns=['cardio'])\n",
        "out_lg['id'] = test_x['id']\n",
        "out_lg = out_lg.reindex(columns=['id', 'cardio'])\n",
        "out_lg.to_csv('10_out_lg.csv', index=False)\n",
        "# Предсказания и выгрузка результатов ЛГБТ"
      ]
    },
    {
      "cell_type": "code",
      "execution_count": null,
      "metadata": {
        "id": "C69SKsMsOkSN"
      },
      "outputs": [],
      "source": [
        "pred_rf = grid_r_f_c.predict_proba(features_lg_out)[:,1]\n",
        "out_rf = pd.DataFrame(pred_rf, columns=['cardio'])\n",
        "out_rf['id'] = test_x['id']\n",
        "out_rf = out_rf.reindex(columns=['id', 'cardio'])\n",
        "out_rf.to_csv('10_out_rf.csv', index=False)\n",
        "# Предсказания и выгрузка результатов случайного леса"
      ]
    },
    {
      "cell_type": "code",
      "execution_count": null,
      "metadata": {
        "id": "Xd1EvM3Y-xBc"
      },
      "outputs": [],
      "source": [
        "pred = (pred_cb + pred_lg + pred_rf) / 3\n",
        "out = pd.DataFrame(pred, columns=['cardio'])\n",
        "out['id'] = test_x['id']\n",
        "out = out.reindex(columns=['id', 'cardio'])\n",
        "out.to_csv('20_out_st.csv', index=False)\n",
        "# Стекинг двух моделей и выгрузка результатов"
      ]
    },
    {
      "cell_type": "code",
      "execution_count": null,
      "metadata": {
        "id": "6Yh797rhRf2_"
      },
      "outputs": [],
      "source": []
    }
  ],
  "metadata": {
    "ExecuteTimeLog": [
      {
        "duration": 55,
        "start_time": "2022-07-28T13:34:31.831Z"
      },
      {
        "duration": 447,
        "start_time": "2022-07-28T13:35:04.338Z"
      },
      {
        "duration": 390,
        "start_time": "2022-07-28T13:35:05.558Z"
      },
      {
        "duration": 25,
        "start_time": "2022-07-28T13:35:06.496Z"
      },
      {
        "duration": 4,
        "start_time": "2022-07-28T13:51:37.563Z"
      },
      {
        "duration": 31,
        "start_time": "2022-07-28T13:51:42.717Z"
      },
      {
        "duration": 4,
        "start_time": "2022-07-28T13:51:47.028Z"
      },
      {
        "duration": 21,
        "start_time": "2022-07-28T13:53:20.797Z"
      },
      {
        "duration": 105,
        "start_time": "2022-07-28T13:55:46.963Z"
      },
      {
        "duration": 15,
        "start_time": "2022-07-28T13:55:47.787Z"
      },
      {
        "duration": 14,
        "start_time": "2022-07-28T13:55:48.479Z"
      },
      {
        "duration": 15,
        "start_time": "2022-07-28T13:55:49.392Z"
      },
      {
        "duration": 13,
        "start_time": "2022-07-28T13:57:23.023Z"
      },
      {
        "duration": 105,
        "start_time": "2022-07-28T14:04:38.132Z"
      },
      {
        "duration": 15,
        "start_time": "2022-07-28T14:04:39.464Z"
      },
      {
        "duration": 18,
        "start_time": "2022-07-28T14:04:43.972Z"
      },
      {
        "duration": 13,
        "start_time": "2022-07-28T14:06:28.619Z"
      },
      {
        "duration": 13,
        "start_time": "2022-07-28T14:06:29.720Z"
      },
      {
        "duration": 14,
        "start_time": "2022-07-28T14:06:30.359Z"
      },
      {
        "duration": 13,
        "start_time": "2022-07-28T14:06:49.009Z"
      },
      {
        "duration": 13,
        "start_time": "2022-07-28T14:06:50.468Z"
      },
      {
        "duration": 16,
        "start_time": "2022-07-28T14:06:56.232Z"
      },
      {
        "duration": 115,
        "start_time": "2022-07-28T14:54:06.170Z"
      },
      {
        "duration": 18,
        "start_time": "2022-07-28T14:54:07.590Z"
      },
      {
        "duration": 16,
        "start_time": "2022-07-28T14:54:08.990Z"
      },
      {
        "duration": 19,
        "start_time": "2022-07-28T14:54:12.293Z"
      },
      {
        "duration": 14,
        "start_time": "2022-07-28T14:54:13.745Z"
      },
      {
        "duration": 14,
        "start_time": "2022-07-28T14:54:22.610Z"
      },
      {
        "duration": 12,
        "start_time": "2022-07-28T14:56:12.460Z"
      },
      {
        "duration": 8,
        "start_time": "2022-07-28T14:58:06.626Z"
      },
      {
        "duration": 34,
        "start_time": "2022-07-28T14:58:12.002Z"
      },
      {
        "duration": 14,
        "start_time": "2022-07-28T14:58:46.192Z"
      },
      {
        "duration": 13,
        "start_time": "2022-07-28T14:59:01.487Z"
      },
      {
        "duration": 15,
        "start_time": "2022-07-28T14:59:03.095Z"
      },
      {
        "duration": 7,
        "start_time": "2022-07-28T14:59:04.198Z"
      },
      {
        "duration": 15,
        "start_time": "2022-07-28T14:59:22.160Z"
      },
      {
        "duration": 14,
        "start_time": "2022-07-28T14:59:39.237Z"
      },
      {
        "duration": 9,
        "start_time": "2022-07-28T15:00:11.071Z"
      },
      {
        "duration": 14,
        "start_time": "2022-07-28T15:00:16.886Z"
      },
      {
        "duration": 13,
        "start_time": "2022-07-28T15:00:25.921Z"
      },
      {
        "duration": 26,
        "start_time": "2022-07-28T15:00:26.691Z"
      },
      {
        "duration": 20,
        "start_time": "2022-07-28T15:04:20.325Z"
      },
      {
        "duration": 113,
        "start_time": "2022-07-28T16:27:25.477Z"
      },
      {
        "duration": 16,
        "start_time": "2022-07-28T16:27:26.044Z"
      },
      {
        "duration": 8,
        "start_time": "2022-07-28T16:28:12.373Z"
      },
      {
        "duration": 6,
        "start_time": "2022-07-28T16:28:31.257Z"
      },
      {
        "duration": 13,
        "start_time": "2022-07-28T16:28:43.559Z"
      },
      {
        "duration": 14,
        "start_time": "2022-07-28T16:30:50.577Z"
      },
      {
        "duration": 13,
        "start_time": "2022-07-28T16:31:17.745Z"
      },
      {
        "duration": 6,
        "start_time": "2022-07-28T16:33:58.583Z"
      },
      {
        "duration": 5,
        "start_time": "2022-07-28T16:34:11.791Z"
      },
      {
        "duration": 5,
        "start_time": "2022-07-28T16:34:52.021Z"
      },
      {
        "duration": 22,
        "start_time": "2022-07-28T16:34:57.638Z"
      },
      {
        "duration": 8,
        "start_time": "2022-07-28T16:35:31.886Z"
      },
      {
        "duration": 12,
        "start_time": "2022-07-28T16:35:49.448Z"
      },
      {
        "duration": 16,
        "start_time": "2022-07-28T16:36:01.493Z"
      },
      {
        "duration": 7,
        "start_time": "2022-07-28T17:36:30.407Z"
      },
      {
        "duration": 537,
        "start_time": "2022-07-28T17:37:56.876Z"
      },
      {
        "duration": 10,
        "start_time": "2022-07-28T17:40:33.796Z"
      },
      {
        "duration": 4,
        "start_time": "2022-07-28T17:41:48.401Z"
      },
      {
        "duration": 6,
        "start_time": "2022-07-28T17:41:54.234Z"
      },
      {
        "duration": 18,
        "start_time": "2022-07-28T17:42:23.643Z"
      },
      {
        "duration": 13,
        "start_time": "2022-07-28T17:42:38.920Z"
      },
      {
        "duration": 6,
        "start_time": "2022-07-28T17:43:48.586Z"
      },
      {
        "duration": 6,
        "start_time": "2022-07-28T17:44:04.368Z"
      },
      {
        "duration": 9,
        "start_time": "2022-07-28T17:44:25.157Z"
      },
      {
        "duration": 7,
        "start_time": "2022-07-28T17:44:36.226Z"
      },
      {
        "duration": 6,
        "start_time": "2022-07-28T17:45:00.372Z"
      },
      {
        "duration": 9,
        "start_time": "2022-07-28T17:45:50.373Z"
      },
      {
        "duration": 12,
        "start_time": "2022-07-28T17:49:20.880Z"
      },
      {
        "duration": 9,
        "start_time": "2022-07-28T17:49:28.699Z"
      },
      {
        "duration": 9,
        "start_time": "2022-07-28T17:49:46.766Z"
      },
      {
        "duration": 6,
        "start_time": "2022-07-28T17:50:01.288Z"
      },
      {
        "duration": 6,
        "start_time": "2022-07-28T17:54:56.717Z"
      },
      {
        "duration": 7,
        "start_time": "2022-07-28T17:55:56.282Z"
      },
      {
        "duration": 7,
        "start_time": "2022-07-28T17:56:24.914Z"
      },
      {
        "duration": 114,
        "start_time": "2022-07-28T17:56:46.995Z"
      },
      {
        "duration": 216,
        "start_time": "2022-07-28T17:57:31.493Z"
      },
      {
        "duration": 208,
        "start_time": "2022-07-28T17:57:46.648Z"
      },
      {
        "duration": 197,
        "start_time": "2022-07-28T18:00:29.272Z"
      },
      {
        "duration": 201,
        "start_time": "2022-07-28T18:00:47.949Z"
      },
      {
        "duration": 184,
        "start_time": "2022-07-28T18:02:36.683Z"
      },
      {
        "duration": 167,
        "start_time": "2022-07-28T18:02:46.075Z"
      },
      {
        "duration": 176,
        "start_time": "2022-07-28T18:04:23.186Z"
      },
      {
        "duration": 3,
        "start_time": "2022-07-28T18:11:46.508Z"
      },
      {
        "duration": 242,
        "start_time": "2022-07-28T18:11:48.208Z"
      },
      {
        "duration": 8,
        "start_time": "2022-07-28T18:12:39.779Z"
      },
      {
        "duration": 9,
        "start_time": "2022-07-28T18:17:01.841Z"
      },
      {
        "duration": 2099,
        "start_time": "2022-07-28T18:17:34.967Z"
      },
      {
        "duration": 1072,
        "start_time": "2022-07-28T18:17:51.935Z"
      },
      {
        "duration": 174,
        "start_time": "2022-07-28T18:18:16.582Z"
      },
      {
        "duration": 1115,
        "start_time": "2022-07-28T18:18:58.663Z"
      },
      {
        "duration": 9,
        "start_time": "2022-07-28T18:20:58.410Z"
      },
      {
        "duration": 2,
        "start_time": "2022-07-28T18:23:29.906Z"
      },
      {
        "duration": 124,
        "start_time": "2022-07-28T18:27:05.194Z"
      },
      {
        "duration": 13,
        "start_time": "2022-07-28T18:29:37.340Z"
      },
      {
        "duration": 12,
        "start_time": "2022-07-28T18:30:07.081Z"
      },
      {
        "duration": 194,
        "start_time": "2022-07-28T18:32:56.821Z"
      },
      {
        "duration": 12,
        "start_time": "2022-07-28T18:33:45.790Z"
      },
      {
        "duration": 11,
        "start_time": "2022-07-28T18:34:24.393Z"
      },
      {
        "duration": 4,
        "start_time": "2022-07-28T18:37:07.973Z"
      },
      {
        "duration": 11,
        "start_time": "2022-07-28T18:37:31.394Z"
      },
      {
        "duration": 101,
        "start_time": "2022-07-28T18:45:30.790Z"
      },
      {
        "duration": 52,
        "start_time": "2022-07-28T18:45:40.403Z"
      },
      {
        "duration": 8,
        "start_time": "2022-07-28T18:45:55.411Z"
      },
      {
        "duration": 11,
        "start_time": "2022-07-28T18:46:06.321Z"
      },
      {
        "duration": 12,
        "start_time": "2022-07-28T18:46:14.375Z"
      },
      {
        "duration": 9,
        "start_time": "2022-07-28T18:46:37.354Z"
      },
      {
        "duration": 7,
        "start_time": "2022-07-28T18:46:48.375Z"
      },
      {
        "duration": 3,
        "start_time": "2022-07-28T18:47:40.605Z"
      },
      {
        "duration": 12,
        "start_time": "2022-07-28T18:47:51.856Z"
      },
      {
        "duration": 12,
        "start_time": "2022-07-28T18:48:10.502Z"
      },
      {
        "duration": 3,
        "start_time": "2022-07-28T18:52:54.638Z"
      },
      {
        "duration": 8,
        "start_time": "2022-07-28T18:57:33.402Z"
      },
      {
        "duration": 7,
        "start_time": "2022-07-28T18:58:45.272Z"
      },
      {
        "duration": 9,
        "start_time": "2022-07-28T18:59:42.589Z"
      },
      {
        "duration": 17,
        "start_time": "2022-07-28T19:00:01.856Z"
      },
      {
        "duration": 11,
        "start_time": "2022-07-28T19:02:36.621Z"
      },
      {
        "duration": 12,
        "start_time": "2022-07-28T19:02:56.496Z"
      },
      {
        "duration": 12,
        "start_time": "2022-07-28T19:14:45.874Z"
      },
      {
        "duration": 12,
        "start_time": "2022-07-28T19:14:58.733Z"
      },
      {
        "duration": 7,
        "start_time": "2022-07-28T19:28:19.444Z"
      },
      {
        "duration": 3,
        "start_time": "2022-07-28T19:31:10.920Z"
      },
      {
        "duration": 104,
        "start_time": "2022-07-28T19:31:11.681Z"
      },
      {
        "duration": 11,
        "start_time": "2022-07-28T19:31:12.507Z"
      },
      {
        "duration": 13,
        "start_time": "2022-07-28T19:31:12.937Z"
      },
      {
        "duration": 7,
        "start_time": "2022-07-28T19:31:13.851Z"
      },
      {
        "duration": 15,
        "start_time": "2022-07-28T19:31:14.324Z"
      },
      {
        "duration": 6,
        "start_time": "2022-07-28T19:31:14.821Z"
      },
      {
        "duration": 5,
        "start_time": "2022-07-28T19:31:16.198Z"
      },
      {
        "duration": 6,
        "start_time": "2022-07-28T19:31:16.758Z"
      },
      {
        "duration": 9,
        "start_time": "2022-07-28T19:31:17.223Z"
      },
      {
        "duration": 4,
        "start_time": "2022-07-28T19:31:17.693Z"
      },
      {
        "duration": 4,
        "start_time": "2022-07-28T19:31:18.138Z"
      },
      {
        "duration": 268,
        "start_time": "2022-07-28T19:31:18.617Z"
      },
      {
        "duration": 103,
        "start_time": "2022-07-28T19:31:19.789Z"
      },
      {
        "duration": 95,
        "start_time": "2022-07-28T19:31:20.614Z"
      },
      {
        "duration": 16,
        "start_time": "2022-07-28T19:31:25.007Z"
      },
      {
        "duration": 5,
        "start_time": "2022-07-28T19:36:30.470Z"
      },
      {
        "duration": 4,
        "start_time": "2022-07-28T19:36:52.337Z"
      },
      {
        "duration": 24,
        "start_time": "2022-07-28T19:36:57.630Z"
      },
      {
        "duration": 14,
        "start_time": "2022-07-28T19:37:49.986Z"
      },
      {
        "duration": 13,
        "start_time": "2022-07-28T19:40:31.875Z"
      },
      {
        "duration": 8,
        "start_time": "2022-07-28T19:40:46.643Z"
      },
      {
        "duration": 11,
        "start_time": "2022-07-28T19:41:16.189Z"
      },
      {
        "duration": 12,
        "start_time": "2022-07-28T19:42:37.552Z"
      },
      {
        "duration": 9,
        "start_time": "2022-07-28T19:42:44.829Z"
      },
      {
        "duration": 7,
        "start_time": "2022-07-28T19:43:14.628Z"
      },
      {
        "duration": 9,
        "start_time": "2022-07-28T19:43:29.605Z"
      },
      {
        "duration": 12,
        "start_time": "2022-07-28T19:43:30.984Z"
      },
      {
        "duration": 29,
        "start_time": "2022-07-28T19:45:20.022Z"
      },
      {
        "duration": 18,
        "start_time": "2022-07-28T19:46:22.486Z"
      },
      {
        "duration": 13,
        "start_time": "2022-07-28T19:49:03.579Z"
      },
      {
        "duration": 11,
        "start_time": "2022-07-28T19:49:22.340Z"
      },
      {
        "duration": 9,
        "start_time": "2022-07-28T19:51:20.347Z"
      },
      {
        "duration": 26,
        "start_time": "2022-07-28T19:51:27.966Z"
      },
      {
        "duration": 5,
        "start_time": "2022-07-28T19:54:07.503Z"
      },
      {
        "duration": 7,
        "start_time": "2022-07-28T19:55:48.810Z"
      },
      {
        "duration": 4,
        "start_time": "2022-07-28T19:55:54.985Z"
      },
      {
        "duration": 46,
        "start_time": "2022-07-28T19:56:33.971Z"
      },
      {
        "duration": 16,
        "start_time": "2022-07-28T19:56:34.831Z"
      },
      {
        "duration": 3086,
        "start_time": "2022-07-28T19:59:36.475Z"
      },
      {
        "duration": 996,
        "start_time": "2022-07-28T20:02:28.553Z"
      },
      {
        "duration": 10,
        "start_time": "2022-07-28T20:08:05.637Z"
      },
      {
        "duration": 92,
        "start_time": "2022-07-28T20:08:40.038Z"
      },
      {
        "duration": 3,
        "start_time": "2022-07-28T20:09:22.525Z"
      },
      {
        "duration": 8,
        "start_time": "2022-07-28T20:09:46.698Z"
      },
      {
        "duration": 20,
        "start_time": "2022-07-28T20:11:36.246Z"
      },
      {
        "duration": 12,
        "start_time": "2022-07-28T20:13:40.142Z"
      },
      {
        "duration": 2750,
        "start_time": "2022-07-29T17:58:10.632Z"
      },
      {
        "duration": 1169,
        "start_time": "2022-07-29T17:58:13.384Z"
      },
      {
        "duration": 292,
        "start_time": "2022-07-29T17:58:14.555Z"
      },
      {
        "duration": 21,
        "start_time": "2022-07-29T17:58:14.849Z"
      },
      {
        "duration": 16,
        "start_time": "2022-07-29T17:58:14.873Z"
      },
      {
        "duration": 9,
        "start_time": "2022-07-29T17:58:14.931Z"
      },
      {
        "duration": 14,
        "start_time": "2022-07-29T17:58:15.364Z"
      },
      {
        "duration": 5,
        "start_time": "2022-07-29T17:58:15.643Z"
      },
      {
        "duration": 5,
        "start_time": "2022-07-29T17:58:16.459Z"
      },
      {
        "duration": 5,
        "start_time": "2022-07-29T17:58:16.725Z"
      },
      {
        "duration": 7,
        "start_time": "2022-07-29T17:58:17.027Z"
      },
      {
        "duration": 3,
        "start_time": "2022-07-29T17:58:17.354Z"
      },
      {
        "duration": 4,
        "start_time": "2022-07-29T17:58:17.631Z"
      },
      {
        "duration": 476,
        "start_time": "2022-07-29T17:58:17.888Z"
      },
      {
        "duration": 99,
        "start_time": "2022-07-29T17:58:18.366Z"
      },
      {
        "duration": 177,
        "start_time": "2022-07-29T17:58:18.467Z"
      },
      {
        "duration": 14,
        "start_time": "2022-07-29T17:58:18.653Z"
      },
      {
        "duration": 5,
        "start_time": "2022-07-29T17:58:18.902Z"
      },
      {
        "duration": 8,
        "start_time": "2022-07-29T17:58:19.140Z"
      },
      {
        "duration": 11,
        "start_time": "2022-07-29T17:58:21.405Z"
      },
      {
        "duration": 10,
        "start_time": "2022-07-29T17:58:22.799Z"
      },
      {
        "duration": 6,
        "start_time": "2022-07-29T17:58:23.587Z"
      },
      {
        "duration": 7,
        "start_time": "2022-07-29T17:58:24.490Z"
      },
      {
        "duration": 12,
        "start_time": "2022-07-29T17:58:25.110Z"
      },
      {
        "duration": 14,
        "start_time": "2022-07-29T17:58:26.547Z"
      },
      {
        "duration": 14,
        "start_time": "2022-07-29T17:58:40.532Z"
      },
      {
        "duration": 12,
        "start_time": "2022-07-29T18:08:18.068Z"
      },
      {
        "duration": 18,
        "start_time": "2022-07-29T18:08:18.530Z"
      },
      {
        "duration": 17,
        "start_time": "2022-07-29T18:08:29.286Z"
      },
      {
        "duration": 6,
        "start_time": "2022-07-30T06:25:17.821Z"
      },
      {
        "duration": 5,
        "start_time": "2022-07-30T06:25:19.165Z"
      },
      {
        "duration": 25,
        "start_time": "2022-07-30T06:25:27.828Z"
      },
      {
        "duration": 12,
        "start_time": "2022-07-30T06:26:04.358Z"
      },
      {
        "duration": 43,
        "start_time": "2022-07-30T06:26:18.177Z"
      },
      {
        "duration": 14,
        "start_time": "2022-07-30T06:26:18.951Z"
      },
      {
        "duration": 19,
        "start_time": "2022-07-30T06:26:50.661Z"
      },
      {
        "duration": 1903,
        "start_time": "2022-07-30T06:27:59.175Z"
      },
      {
        "duration": 1182,
        "start_time": "2022-07-30T06:28:01.081Z"
      },
      {
        "duration": 100,
        "start_time": "2022-07-30T06:28:02.264Z"
      },
      {
        "duration": 20,
        "start_time": "2022-07-30T06:28:02.365Z"
      },
      {
        "duration": 14,
        "start_time": "2022-07-30T06:28:02.387Z"
      },
      {
        "duration": 10,
        "start_time": "2022-07-30T06:28:02.402Z"
      },
      {
        "duration": 15,
        "start_time": "2022-07-30T06:28:02.413Z"
      },
      {
        "duration": 20,
        "start_time": "2022-07-30T06:28:02.429Z"
      },
      {
        "duration": 8,
        "start_time": "2022-07-30T06:28:02.450Z"
      },
      {
        "duration": 6,
        "start_time": "2022-07-30T06:28:02.459Z"
      },
      {
        "duration": 10,
        "start_time": "2022-07-30T06:28:02.466Z"
      },
      {
        "duration": 5,
        "start_time": "2022-07-30T06:28:02.478Z"
      },
      {
        "duration": 4,
        "start_time": "2022-07-30T06:28:02.485Z"
      },
      {
        "duration": 306,
        "start_time": "2022-07-30T06:28:02.492Z"
      },
      {
        "duration": 99,
        "start_time": "2022-07-30T06:28:02.800Z"
      },
      {
        "duration": 105,
        "start_time": "2022-07-30T06:28:02.901Z"
      },
      {
        "duration": 30,
        "start_time": "2022-07-30T06:28:03.008Z"
      },
      {
        "duration": 4,
        "start_time": "2022-07-30T06:28:03.040Z"
      },
      {
        "duration": 7,
        "start_time": "2022-07-30T06:28:03.048Z"
      },
      {
        "duration": 13,
        "start_time": "2022-07-30T06:28:03.057Z"
      },
      {
        "duration": 11,
        "start_time": "2022-07-30T06:28:03.071Z"
      },
      {
        "duration": 8,
        "start_time": "2022-07-30T06:28:03.084Z"
      },
      {
        "duration": 9,
        "start_time": "2022-07-30T06:28:03.093Z"
      },
      {
        "duration": 96,
        "start_time": "2022-07-30T06:28:03.104Z"
      },
      {
        "duration": 15,
        "start_time": "2022-07-30T06:28:03.202Z"
      },
      {
        "duration": 34,
        "start_time": "2022-07-30T06:28:03.219Z"
      },
      {
        "duration": 18,
        "start_time": "2022-07-30T06:28:03.254Z"
      },
      {
        "duration": 6,
        "start_time": "2022-07-30T06:28:03.274Z"
      },
      {
        "duration": 5,
        "start_time": "2022-07-30T06:28:03.282Z"
      },
      {
        "duration": 14,
        "start_time": "2022-07-30T06:28:03.289Z"
      },
      {
        "duration": 2,
        "start_time": "2022-07-30T06:28:03.304Z"
      },
      {
        "duration": 33,
        "start_time": "2022-07-30T06:28:03.308Z"
      },
      {
        "duration": 25,
        "start_time": "2022-07-30T06:28:03.342Z"
      },
      {
        "duration": 4,
        "start_time": "2022-07-30T06:28:03.369Z"
      },
      {
        "duration": 13,
        "start_time": "2022-07-30T06:28:03.374Z"
      },
      {
        "duration": 6,
        "start_time": "2022-07-30T06:28:03.389Z"
      },
      {
        "duration": 15,
        "start_time": "2022-07-30T06:33:55.123Z"
      },
      {
        "duration": 5,
        "start_time": "2022-07-30T06:34:22.545Z"
      },
      {
        "duration": 3,
        "start_time": "2022-07-30T06:47:12.945Z"
      },
      {
        "duration": 104,
        "start_time": "2022-07-30T06:57:43.305Z"
      },
      {
        "duration": 11,
        "start_time": "2022-07-30T06:59:21.942Z"
      },
      {
        "duration": 18,
        "start_time": "2022-07-30T07:00:13.929Z"
      },
      {
        "duration": 10,
        "start_time": "2022-07-30T07:04:14.982Z"
      },
      {
        "duration": 3,
        "start_time": "2022-07-30T07:04:49.929Z"
      },
      {
        "duration": 15,
        "start_time": "2022-07-30T07:05:06.937Z"
      },
      {
        "duration": 10367,
        "start_time": "2022-07-30T07:07:06.787Z"
      },
      {
        "duration": 3,
        "start_time": "2022-07-30T07:12:55.842Z"
      },
      {
        "duration": 79,
        "start_time": "2022-07-30T07:13:01.343Z"
      },
      {
        "duration": 84,
        "start_time": "2022-07-30T07:13:15.001Z"
      },
      {
        "duration": 37238,
        "start_time": "2022-07-30T07:13:34.894Z"
      },
      {
        "duration": 37969,
        "start_time": "2022-07-30T07:22:51.649Z"
      },
      {
        "duration": 20,
        "start_time": "2022-07-30T07:26:41.814Z"
      },
      {
        "duration": 14,
        "start_time": "2022-07-30T07:26:42.885Z"
      },
      {
        "duration": 22,
        "start_time": "2022-07-30T07:26:47.177Z"
      },
      {
        "duration": 4,
        "start_time": "2022-07-30T07:26:47.538Z"
      },
      {
        "duration": 7,
        "start_time": "2022-07-30T07:26:48.464Z"
      },
      {
        "duration": 11,
        "start_time": "2022-07-30T07:26:48.933Z"
      },
      {
        "duration": 3,
        "start_time": "2022-07-30T07:26:50.646Z"
      },
      {
        "duration": 160032,
        "start_time": "2022-07-30T07:26:52.387Z"
      },
      {
        "duration": 11,
        "start_time": "2022-07-30T07:31:10.049Z"
      },
      {
        "duration": 4,
        "start_time": "2022-07-30T07:32:05.392Z"
      },
      {
        "duration": 4,
        "start_time": "2022-07-30T07:32:57.645Z"
      },
      {
        "duration": 4,
        "start_time": "2022-07-30T07:33:10.613Z"
      },
      {
        "duration": 17,
        "start_time": "2022-07-30T07:56:42.488Z"
      },
      {
        "duration": 4,
        "start_time": "2022-07-30T08:00:39.057Z"
      },
      {
        "duration": 7,
        "start_time": "2022-07-30T08:00:40.748Z"
      },
      {
        "duration": 11,
        "start_time": "2022-07-30T08:00:41.768Z"
      },
      {
        "duration": 3,
        "start_time": "2022-07-30T08:00:44.429Z"
      },
      {
        "duration": 116484,
        "start_time": "2022-07-30T08:00:52.199Z"
      },
      {
        "duration": 4,
        "start_time": "2022-07-30T08:02:56.866Z"
      },
      {
        "duration": 10,
        "start_time": "2022-07-30T08:02:58.073Z"
      },
      {
        "duration": 5,
        "start_time": "2022-07-30T11:07:46.812Z"
      },
      {
        "duration": 5,
        "start_time": "2022-07-30T11:07:47.464Z"
      },
      {
        "duration": 12,
        "start_time": "2022-07-30T11:07:48.540Z"
      },
      {
        "duration": 12,
        "start_time": "2022-07-30T11:07:49.124Z"
      },
      {
        "duration": 3,
        "start_time": "2022-07-30T11:07:50.623Z"
      },
      {
        "duration": 126594,
        "start_time": "2022-07-30T11:07:51.635Z"
      },
      {
        "duration": 3,
        "start_time": "2022-07-30T11:09:58.231Z"
      },
      {
        "duration": 30,
        "start_time": "2022-07-30T11:09:58.236Z"
      },
      {
        "duration": 75,
        "start_time": "2022-07-30T11:12:10.031Z"
      },
      {
        "duration": 4,
        "start_time": "2022-07-30T11:12:10.405Z"
      },
      {
        "duration": 12,
        "start_time": "2022-07-30T11:12:10.784Z"
      },
      {
        "duration": 9961,
        "start_time": "2022-07-30T11:12:20.660Z"
      },
      {
        "duration": 0,
        "start_time": "2022-07-30T11:12:30.623Z"
      },
      {
        "duration": 0,
        "start_time": "2022-07-30T11:12:30.624Z"
      },
      {
        "duration": 102928,
        "start_time": "2022-07-30T11:13:05.651Z"
      },
      {
        "duration": 3,
        "start_time": "2022-07-30T11:14:58.711Z"
      },
      {
        "duration": 10,
        "start_time": "2022-07-30T11:14:59.502Z"
      },
      {
        "duration": 5,
        "start_time": "2022-07-30T11:27:27.115Z"
      },
      {
        "duration": 9,
        "start_time": "2022-07-30T11:27:34.526Z"
      },
      {
        "duration": 11,
        "start_time": "2022-07-30T11:27:55.163Z"
      },
      {
        "duration": 7,
        "start_time": "2022-07-30T11:27:56.326Z"
      },
      {
        "duration": 10,
        "start_time": "2022-07-30T11:31:51.946Z"
      },
      {
        "duration": 5,
        "start_time": "2022-07-30T17:16:09.157Z"
      },
      {
        "duration": 8,
        "start_time": "2022-07-30T17:16:21.473Z"
      },
      {
        "duration": 4,
        "start_time": "2022-07-30T17:17:32.115Z"
      },
      {
        "duration": 7,
        "start_time": "2022-07-30T17:18:52.660Z"
      },
      {
        "duration": 6,
        "start_time": "2022-07-30T17:23:23.267Z"
      },
      {
        "duration": 3,
        "start_time": "2022-07-30T17:23:24.064Z"
      },
      {
        "duration": 6,
        "start_time": "2022-07-30T17:23:51.661Z"
      },
      {
        "duration": 17,
        "start_time": "2022-07-30T17:24:31.640Z"
      },
      {
        "duration": 12,
        "start_time": "2022-07-30T17:24:32.599Z"
      },
      {
        "duration": 28,
        "start_time": "2022-07-30T17:24:45.000Z"
      },
      {
        "duration": 11,
        "start_time": "2022-07-30T17:25:57.963Z"
      },
      {
        "duration": 5,
        "start_time": "2022-07-30T17:26:00.317Z"
      },
      {
        "duration": 13,
        "start_time": "2022-07-30T17:26:01.201Z"
      },
      {
        "duration": 1391,
        "start_time": "2022-07-30T17:26:19.329Z"
      },
      {
        "duration": 11,
        "start_time": "2022-07-30T17:29:09.394Z"
      },
      {
        "duration": 22,
        "start_time": "2022-07-30T17:29:16.153Z"
      },
      {
        "duration": 4,
        "start_time": "2022-07-30T17:29:34.716Z"
      },
      {
        "duration": 39,
        "start_time": "2022-07-30T17:30:31.464Z"
      },
      {
        "duration": 16,
        "start_time": "2022-07-30T17:30:38.058Z"
      },
      {
        "duration": 26,
        "start_time": "2022-07-30T17:30:40.860Z"
      },
      {
        "duration": 6,
        "start_time": "2022-07-30T17:31:30.584Z"
      },
      {
        "duration": 5,
        "start_time": "2022-07-30T17:31:31.861Z"
      },
      {
        "duration": 15,
        "start_time": "2022-07-30T17:31:40.153Z"
      },
      {
        "duration": 10,
        "start_time": "2022-07-30T17:31:42.579Z"
      },
      {
        "duration": 11,
        "start_time": "2022-07-30T17:33:35.875Z"
      },
      {
        "duration": 13,
        "start_time": "2022-07-30T17:33:36.695Z"
      },
      {
        "duration": 40,
        "start_time": "2022-07-30T17:33:39.424Z"
      },
      {
        "duration": 5,
        "start_time": "2022-07-30T17:33:40.278Z"
      },
      {
        "duration": 7,
        "start_time": "2022-07-30T17:33:41.468Z"
      },
      {
        "duration": 14,
        "start_time": "2022-07-30T17:33:42.068Z"
      },
      {
        "duration": 15,
        "start_time": "2022-07-30T17:33:43.447Z"
      },
      {
        "duration": 17,
        "start_time": "2022-07-30T17:33:45.677Z"
      },
      {
        "duration": 11,
        "start_time": "2022-07-30T17:33:46.400Z"
      },
      {
        "duration": 9,
        "start_time": "2022-07-30T17:34:09.749Z"
      },
      {
        "duration": 5,
        "start_time": "2022-07-30T17:34:11.216Z"
      },
      {
        "duration": 9,
        "start_time": "2022-07-30T17:34:12.947Z"
      },
      {
        "duration": 11,
        "start_time": "2022-07-30T17:34:13.677Z"
      },
      {
        "duration": 3,
        "start_time": "2022-07-30T17:35:38.651Z"
      },
      {
        "duration": 156923,
        "start_time": "2022-07-30T17:35:40.483Z"
      },
      {
        "duration": 3,
        "start_time": "2022-07-30T17:38:17.407Z"
      },
      {
        "duration": 10,
        "start_time": "2022-07-30T17:38:17.412Z"
      },
      {
        "duration": 17,
        "start_time": "2022-07-30T17:52:20.351Z"
      },
      {
        "duration": 11,
        "start_time": "2022-07-30T17:52:35.882Z"
      },
      {
        "duration": 8165,
        "start_time": "2022-07-30T17:54:17.332Z"
      },
      {
        "duration": 9,
        "start_time": "2022-07-30T17:54:31.055Z"
      },
      {
        "duration": 4,
        "start_time": "2022-07-30T17:54:34.460Z"
      },
      {
        "duration": 15,
        "start_time": "2022-07-30T17:57:37.921Z"
      },
      {
        "duration": 4,
        "start_time": "2022-07-30T17:57:59.203Z"
      },
      {
        "duration": 5,
        "start_time": "2022-07-30T17:58:35.946Z"
      },
      {
        "duration": 16,
        "start_time": "2022-07-30T17:58:39.684Z"
      },
      {
        "duration": 3,
        "start_time": "2022-07-30T17:59:10.088Z"
      },
      {
        "duration": 17,
        "start_time": "2022-07-30T17:59:16.785Z"
      },
      {
        "duration": 6,
        "start_time": "2022-07-30T18:01:13.131Z"
      },
      {
        "duration": 237,
        "start_time": "2022-07-30T18:01:13.789Z"
      },
      {
        "duration": 3,
        "start_time": "2022-07-30T18:06:19.465Z"
      },
      {
        "duration": 5,
        "start_time": "2022-07-30T18:06:53.678Z"
      },
      {
        "duration": 17,
        "start_time": "2022-07-30T18:06:57.645Z"
      },
      {
        "duration": 14,
        "start_time": "2022-07-30T18:06:58.597Z"
      },
      {
        "duration": 5,
        "start_time": "2022-07-30T18:07:11.469Z"
      },
      {
        "duration": 148713,
        "start_time": "2022-07-30T18:07:12.650Z"
      },
      {
        "duration": 10,
        "start_time": "2022-07-30T18:09:41.365Z"
      },
      {
        "duration": 15,
        "start_time": "2022-07-30T18:09:41.377Z"
      },
      {
        "duration": 9384,
        "start_time": "2022-07-30T18:09:41.394Z"
      },
      {
        "duration": 7,
        "start_time": "2022-07-30T18:09:50.782Z"
      },
      {
        "duration": 4,
        "start_time": "2022-07-30T18:09:50.790Z"
      },
      {
        "duration": 6,
        "start_time": "2022-07-30T18:09:50.796Z"
      },
      {
        "duration": 306,
        "start_time": "2022-07-30T18:09:50.804Z"
      },
      {
        "duration": 24,
        "start_time": "2022-07-30T18:14:38.932Z"
      },
      {
        "duration": 4,
        "start_time": "2022-07-30T18:14:58.966Z"
      },
      {
        "duration": 10,
        "start_time": "2022-07-30T18:14:59.800Z"
      },
      {
        "duration": 4,
        "start_time": "2022-07-30T18:15:00.781Z"
      },
      {
        "duration": 10,
        "start_time": "2022-07-30T18:15:01.131Z"
      },
      {
        "duration": 12,
        "start_time": "2022-07-30T18:15:01.527Z"
      },
      {
        "duration": 11,
        "start_time": "2022-07-30T18:15:01.962Z"
      },
      {
        "duration": 6,
        "start_time": "2022-07-30T18:15:04.149Z"
      },
      {
        "duration": 238,
        "start_time": "2022-07-30T18:15:05.469Z"
      },
      {
        "duration": 3,
        "start_time": "2022-07-30T18:15:06.673Z"
      },
      {
        "duration": 14,
        "start_time": "2022-07-30T18:15:07.279Z"
      },
      {
        "duration": 21,
        "start_time": "2022-07-30T18:15:07.692Z"
      },
      {
        "duration": 3,
        "start_time": "2022-07-30T18:15:24.261Z"
      },
      {
        "duration": 116722,
        "start_time": "2022-07-30T18:15:25.460Z"
      },
      {
        "duration": 3,
        "start_time": "2022-07-30T18:17:22.184Z"
      },
      {
        "duration": 10,
        "start_time": "2022-07-30T18:17:22.189Z"
      },
      {
        "duration": 8052,
        "start_time": "2022-07-30T18:17:22.201Z"
      },
      {
        "duration": 10,
        "start_time": "2022-07-30T18:17:30.254Z"
      },
      {
        "duration": 8,
        "start_time": "2022-07-30T18:17:30.266Z"
      },
      {
        "duration": 19,
        "start_time": "2022-07-30T18:17:30.275Z"
      },
      {
        "duration": 206,
        "start_time": "2022-07-30T18:17:30.296Z"
      },
      {
        "duration": 4,
        "start_time": "2022-07-30T18:24:04.685Z"
      },
      {
        "duration": 38,
        "start_time": "2022-07-30T18:24:05.503Z"
      },
      {
        "duration": 5,
        "start_time": "2022-07-30T18:24:30.169Z"
      },
      {
        "duration": 8,
        "start_time": "2022-07-30T18:24:30.854Z"
      },
      {
        "duration": 6,
        "start_time": "2022-07-30T18:24:31.457Z"
      },
      {
        "duration": 6,
        "start_time": "2022-07-30T18:24:31.961Z"
      },
      {
        "duration": 11,
        "start_time": "2022-07-30T18:24:32.409Z"
      },
      {
        "duration": 15,
        "start_time": "2022-07-30T18:24:33.693Z"
      },
      {
        "duration": 4,
        "start_time": "2022-07-30T18:24:35.538Z"
      },
      {
        "duration": 3295049,
        "start_time": "2022-07-30T18:24:37.001Z"
      },
      {
        "duration": 6,
        "start_time": "2022-07-30T19:19:32.055Z"
      },
      {
        "duration": 31,
        "start_time": "2022-07-30T19:19:32.062Z"
      },
      {
        "duration": 8734,
        "start_time": "2022-07-30T19:19:32.095Z"
      },
      {
        "duration": 15,
        "start_time": "2022-07-30T19:19:40.830Z"
      },
      {
        "duration": 24,
        "start_time": "2022-07-30T19:19:40.851Z"
      },
      {
        "duration": 7,
        "start_time": "2022-07-30T19:19:40.877Z"
      },
      {
        "duration": 199,
        "start_time": "2022-07-30T19:19:40.886Z"
      },
      {
        "duration": 219,
        "start_time": "2022-07-30T19:33:52.274Z"
      },
      {
        "duration": 10,
        "start_time": "2022-07-30T19:35:59.174Z"
      },
      {
        "duration": 6,
        "start_time": "2022-07-30T19:37:25.154Z"
      },
      {
        "duration": 205,
        "start_time": "2022-07-30T19:37:25.969Z"
      },
      {
        "duration": 302,
        "start_time": "2022-07-30T19:37:48.905Z"
      },
      {
        "duration": 216,
        "start_time": "2022-07-30T19:38:03.356Z"
      },
      {
        "duration": 246,
        "start_time": "2022-07-30T19:38:25.308Z"
      },
      {
        "duration": 234,
        "start_time": "2022-07-30T19:39:18.526Z"
      },
      {
        "duration": 213,
        "start_time": "2022-07-30T19:39:30.660Z"
      },
      {
        "duration": 6,
        "start_time": "2022-07-30T19:41:24.461Z"
      },
      {
        "duration": 3,
        "start_time": "2022-07-30T19:41:49.680Z"
      },
      {
        "duration": 96,
        "start_time": "2022-07-30T19:45:26.611Z"
      },
      {
        "duration": 4,
        "start_time": "2022-07-30T19:46:52.059Z"
      },
      {
        "duration": 4,
        "start_time": "2022-07-30T19:47:01.162Z"
      },
      {
        "duration": 4,
        "start_time": "2022-07-30T19:47:26.380Z"
      },
      {
        "duration": 111,
        "start_time": "2022-07-30T19:48:26.088Z"
      },
      {
        "duration": 11,
        "start_time": "2022-07-30T19:48:27.299Z"
      },
      {
        "duration": 13,
        "start_time": "2022-07-30T19:48:28.058Z"
      },
      {
        "duration": 7,
        "start_time": "2022-07-30T19:48:30.557Z"
      },
      {
        "duration": 14,
        "start_time": "2022-07-30T19:48:30.970Z"
      },
      {
        "duration": 5,
        "start_time": "2022-07-30T19:48:31.492Z"
      },
      {
        "duration": 11,
        "start_time": "2022-07-30T19:48:33.835Z"
      },
      {
        "duration": 4,
        "start_time": "2022-07-30T19:48:34.224Z"
      },
      {
        "duration": 7,
        "start_time": "2022-07-30T19:48:34.660Z"
      },
      {
        "duration": 4,
        "start_time": "2022-07-30T19:48:35.348Z"
      },
      {
        "duration": 5,
        "start_time": "2022-07-30T19:48:49.066Z"
      },
      {
        "duration": 9,
        "start_time": "2022-07-30T20:01:15.757Z"
      },
      {
        "duration": 6,
        "start_time": "2022-07-30T20:01:24.927Z"
      },
      {
        "duration": 9,
        "start_time": "2022-07-30T20:01:32.030Z"
      },
      {
        "duration": 17,
        "start_time": "2022-07-30T20:02:33.062Z"
      },
      {
        "duration": 12,
        "start_time": "2022-07-30T20:02:49.309Z"
      },
      {
        "duration": 26,
        "start_time": "2022-07-30T20:03:15.462Z"
      },
      {
        "duration": 118,
        "start_time": "2022-07-30T20:03:32.180Z"
      },
      {
        "duration": 40,
        "start_time": "2022-07-30T20:03:43.709Z"
      },
      {
        "duration": 17,
        "start_time": "2022-07-30T20:04:19.927Z"
      },
      {
        "duration": 18,
        "start_time": "2022-07-30T20:04:47.811Z"
      },
      {
        "duration": 15,
        "start_time": "2022-07-30T20:05:02.249Z"
      },
      {
        "duration": 15,
        "start_time": "2022-07-30T20:05:08.006Z"
      },
      {
        "duration": 22,
        "start_time": "2022-07-30T20:05:23.932Z"
      },
      {
        "duration": 41,
        "start_time": "2022-07-30T20:08:54.408Z"
      },
      {
        "duration": 12,
        "start_time": "2022-07-30T20:09:55.448Z"
      },
      {
        "duration": 8,
        "start_time": "2022-07-30T20:11:40.948Z"
      },
      {
        "duration": 9,
        "start_time": "2022-07-30T20:11:42.610Z"
      },
      {
        "duration": 4,
        "start_time": "2022-07-30T20:12:09.057Z"
      },
      {
        "duration": 7,
        "start_time": "2022-07-30T20:12:22.229Z"
      },
      {
        "duration": 17,
        "start_time": "2022-07-30T20:13:21.928Z"
      },
      {
        "duration": 6,
        "start_time": "2022-07-30T20:14:08.764Z"
      },
      {
        "duration": 1948,
        "start_time": "2022-07-30T20:15:29.771Z"
      },
      {
        "duration": 1266,
        "start_time": "2022-07-30T20:15:31.721Z"
      },
      {
        "duration": 119,
        "start_time": "2022-07-30T20:15:32.989Z"
      },
      {
        "duration": 18,
        "start_time": "2022-07-30T20:15:33.110Z"
      },
      {
        "duration": 16,
        "start_time": "2022-07-30T20:15:33.129Z"
      },
      {
        "duration": 22,
        "start_time": "2022-07-30T20:15:33.148Z"
      },
      {
        "duration": 13,
        "start_time": "2022-07-30T20:15:33.171Z"
      },
      {
        "duration": 5,
        "start_time": "2022-07-30T20:15:33.186Z"
      },
      {
        "duration": 6,
        "start_time": "2022-07-30T20:15:33.193Z"
      },
      {
        "duration": 4,
        "start_time": "2022-07-30T20:15:33.201Z"
      },
      {
        "duration": 8,
        "start_time": "2022-07-30T20:15:33.207Z"
      },
      {
        "duration": 5,
        "start_time": "2022-07-30T20:15:33.216Z"
      },
      {
        "duration": 5,
        "start_time": "2022-07-30T20:15:33.222Z"
      },
      {
        "duration": 27,
        "start_time": "2022-07-30T20:15:33.233Z"
      },
      {
        "duration": 351,
        "start_time": "2022-07-30T20:15:33.262Z"
      },
      {
        "duration": 101,
        "start_time": "2022-07-30T20:15:33.615Z"
      },
      {
        "duration": 112,
        "start_time": "2022-07-30T20:15:33.717Z"
      },
      {
        "duration": 24,
        "start_time": "2022-07-30T20:15:33.830Z"
      },
      {
        "duration": 8,
        "start_time": "2022-07-30T20:15:33.856Z"
      },
      {
        "duration": 8,
        "start_time": "2022-07-30T20:15:33.866Z"
      },
      {
        "duration": 10,
        "start_time": "2022-07-30T20:15:33.876Z"
      },
      {
        "duration": 8,
        "start_time": "2022-07-30T20:15:33.887Z"
      },
      {
        "duration": 13,
        "start_time": "2022-07-30T20:15:33.897Z"
      },
      {
        "duration": 7,
        "start_time": "2022-07-30T20:15:33.911Z"
      },
      {
        "duration": 82,
        "start_time": "2022-07-30T20:15:33.932Z"
      },
      {
        "duration": 6,
        "start_time": "2022-07-30T20:15:34.015Z"
      },
      {
        "duration": 26,
        "start_time": "2022-07-30T20:15:34.032Z"
      },
      {
        "duration": 4,
        "start_time": "2022-07-30T20:15:34.062Z"
      },
      {
        "duration": 7,
        "start_time": "2022-07-30T20:15:34.067Z"
      },
      {
        "duration": 3,
        "start_time": "2022-07-30T20:15:34.075Z"
      },
      {
        "duration": 8,
        "start_time": "2022-07-30T20:15:34.079Z"
      },
      {
        "duration": 8,
        "start_time": "2022-07-30T20:15:34.088Z"
      },
      {
        "duration": 11,
        "start_time": "2022-07-30T20:15:34.097Z"
      },
      {
        "duration": 25,
        "start_time": "2022-07-30T20:15:34.109Z"
      },
      {
        "duration": 15,
        "start_time": "2022-07-30T20:15:34.139Z"
      },
      {
        "duration": 26,
        "start_time": "2022-07-30T20:15:34.155Z"
      },
      {
        "duration": 4,
        "start_time": "2022-07-30T20:15:34.183Z"
      },
      {
        "duration": 4,
        "start_time": "2022-07-30T20:15:34.189Z"
      },
      {
        "duration": 11,
        "start_time": "2022-07-30T20:15:34.195Z"
      },
      {
        "duration": 4,
        "start_time": "2022-07-30T20:15:34.207Z"
      },
      {
        "duration": 38,
        "start_time": "2022-07-30T20:15:34.212Z"
      },
      {
        "duration": 11,
        "start_time": "2022-07-30T20:15:34.255Z"
      },
      {
        "duration": 29,
        "start_time": "2022-07-30T20:15:34.267Z"
      },
      {
        "duration": 5,
        "start_time": "2022-07-30T20:15:34.297Z"
      },
      {
        "duration": 4,
        "start_time": "2022-07-30T20:15:34.303Z"
      },
      {
        "duration": 40,
        "start_time": "2022-07-30T20:15:34.308Z"
      },
      {
        "duration": 17,
        "start_time": "2022-07-30T20:15:34.350Z"
      },
      {
        "duration": 6,
        "start_time": "2022-07-30T20:15:34.369Z"
      },
      {
        "duration": 5,
        "start_time": "2022-07-30T20:15:34.376Z"
      },
      {
        "duration": 4,
        "start_time": "2022-07-30T20:15:34.382Z"
      },
      {
        "duration": 7,
        "start_time": "2022-07-30T20:15:34.388Z"
      },
      {
        "duration": 12,
        "start_time": "2022-07-30T20:15:34.397Z"
      },
      {
        "duration": 3,
        "start_time": "2022-07-30T20:15:34.411Z"
      },
      {
        "duration": 2922011,
        "start_time": "2022-07-30T20:15:34.415Z"
      },
      {
        "duration": 7,
        "start_time": "2022-07-30T21:04:16.428Z"
      },
      {
        "duration": 19,
        "start_time": "2022-07-30T21:04:16.436Z"
      },
      {
        "duration": 7231,
        "start_time": "2022-07-30T21:04:16.457Z"
      },
      {
        "duration": 6,
        "start_time": "2022-07-30T21:04:23.689Z"
      },
      {
        "duration": 5,
        "start_time": "2022-07-30T21:04:23.696Z"
      },
      {
        "duration": 6,
        "start_time": "2022-07-30T21:04:23.702Z"
      },
      {
        "duration": 195,
        "start_time": "2022-07-30T21:04:23.709Z"
      },
      {
        "duration": 1912,
        "start_time": "2022-07-30T21:09:11.457Z"
      },
      {
        "duration": 1217,
        "start_time": "2022-07-30T21:09:13.371Z"
      },
      {
        "duration": 117,
        "start_time": "2022-07-30T21:09:14.589Z"
      },
      {
        "duration": 17,
        "start_time": "2022-07-30T21:09:14.708Z"
      },
      {
        "duration": 14,
        "start_time": "2022-07-30T21:09:14.727Z"
      },
      {
        "duration": 28,
        "start_time": "2022-07-30T21:09:14.742Z"
      },
      {
        "duration": 15,
        "start_time": "2022-07-30T21:09:14.771Z"
      },
      {
        "duration": 7,
        "start_time": "2022-07-30T21:09:14.787Z"
      },
      {
        "duration": 7,
        "start_time": "2022-07-30T21:09:14.795Z"
      },
      {
        "duration": 5,
        "start_time": "2022-07-30T21:09:14.804Z"
      },
      {
        "duration": 9,
        "start_time": "2022-07-30T21:09:14.810Z"
      },
      {
        "duration": 5,
        "start_time": "2022-07-30T21:09:14.820Z"
      },
      {
        "duration": 4,
        "start_time": "2022-07-30T21:09:14.832Z"
      },
      {
        "duration": 18,
        "start_time": "2022-07-30T21:09:14.843Z"
      },
      {
        "duration": 355,
        "start_time": "2022-07-30T21:09:14.862Z"
      },
      {
        "duration": 98,
        "start_time": "2022-07-30T21:09:15.219Z"
      },
      {
        "duration": 91,
        "start_time": "2022-07-30T21:09:15.318Z"
      },
      {
        "duration": 41,
        "start_time": "2022-07-30T21:09:15.410Z"
      },
      {
        "duration": 6,
        "start_time": "2022-07-30T21:09:15.452Z"
      },
      {
        "duration": 11,
        "start_time": "2022-07-30T21:09:15.461Z"
      },
      {
        "duration": 11,
        "start_time": "2022-07-30T21:09:15.473Z"
      },
      {
        "duration": 8,
        "start_time": "2022-07-30T21:09:15.486Z"
      },
      {
        "duration": 12,
        "start_time": "2022-07-30T21:09:15.495Z"
      },
      {
        "duration": 6,
        "start_time": "2022-07-30T21:09:15.509Z"
      },
      {
        "duration": 101,
        "start_time": "2022-07-30T21:09:15.517Z"
      },
      {
        "duration": 4,
        "start_time": "2022-07-30T21:09:15.620Z"
      },
      {
        "duration": 30,
        "start_time": "2022-07-30T21:09:15.632Z"
      },
      {
        "duration": 6,
        "start_time": "2022-07-30T21:09:15.666Z"
      },
      {
        "duration": 9,
        "start_time": "2022-07-30T21:09:15.673Z"
      },
      {
        "duration": 5,
        "start_time": "2022-07-30T21:09:15.684Z"
      },
      {
        "duration": 9,
        "start_time": "2022-07-30T21:09:15.691Z"
      },
      {
        "duration": 9,
        "start_time": "2022-07-30T21:09:15.702Z"
      },
      {
        "duration": 10,
        "start_time": "2022-07-30T21:09:15.712Z"
      },
      {
        "duration": 18,
        "start_time": "2022-07-30T21:09:15.723Z"
      },
      {
        "duration": 19,
        "start_time": "2022-07-30T21:09:15.752Z"
      },
      {
        "duration": 21,
        "start_time": "2022-07-30T21:09:15.773Z"
      },
      {
        "duration": 5,
        "start_time": "2022-07-30T21:09:15.796Z"
      },
      {
        "duration": 5,
        "start_time": "2022-07-30T21:09:15.802Z"
      },
      {
        "duration": 13,
        "start_time": "2022-07-30T21:09:15.808Z"
      },
      {
        "duration": 14,
        "start_time": "2022-07-30T21:09:15.822Z"
      },
      {
        "duration": 21,
        "start_time": "2022-07-30T21:09:15.837Z"
      },
      {
        "duration": 15,
        "start_time": "2022-07-30T21:09:15.860Z"
      },
      {
        "duration": 27,
        "start_time": "2022-07-30T21:09:15.876Z"
      },
      {
        "duration": 5,
        "start_time": "2022-07-30T21:09:15.904Z"
      },
      {
        "duration": 3,
        "start_time": "2022-07-30T21:09:15.910Z"
      },
      {
        "duration": 48,
        "start_time": "2022-07-30T21:09:15.914Z"
      },
      {
        "duration": 4,
        "start_time": "2022-07-30T21:09:15.963Z"
      },
      {
        "duration": 5,
        "start_time": "2022-07-30T21:09:15.969Z"
      },
      {
        "duration": 4,
        "start_time": "2022-07-30T21:09:15.976Z"
      },
      {
        "duration": 4,
        "start_time": "2022-07-30T21:09:15.981Z"
      },
      {
        "duration": 7,
        "start_time": "2022-07-30T21:09:15.986Z"
      },
      {
        "duration": 10,
        "start_time": "2022-07-30T21:09:15.994Z"
      },
      {
        "duration": 2,
        "start_time": "2022-07-30T21:09:16.006Z"
      },
      {
        "duration": 968726,
        "start_time": "2022-07-30T21:09:16.009Z"
      },
      {
        "duration": 7,
        "start_time": "2022-07-30T21:25:24.740Z"
      },
      {
        "duration": 16,
        "start_time": "2022-07-30T21:25:24.751Z"
      },
      {
        "duration": 6974,
        "start_time": "2022-07-30T21:25:24.768Z"
      },
      {
        "duration": 8,
        "start_time": "2022-07-30T21:25:31.750Z"
      },
      {
        "duration": 5,
        "start_time": "2022-07-30T21:25:31.759Z"
      },
      {
        "duration": 7,
        "start_time": "2022-07-30T21:25:31.765Z"
      },
      {
        "duration": 191,
        "start_time": "2022-07-30T21:25:31.773Z"
      },
      {
        "duration": 5,
        "start_time": "2022-07-30T21:32:56.809Z"
      },
      {
        "duration": 5,
        "start_time": "2022-07-30T21:33:27.355Z"
      },
      {
        "duration": 8,
        "start_time": "2022-07-30T21:34:24.761Z"
      },
      {
        "duration": 17,
        "start_time": "2022-07-30T21:34:58.128Z"
      },
      {
        "duration": 6,
        "start_time": "2022-07-30T21:35:12.458Z"
      },
      {
        "duration": 9,
        "start_time": "2022-07-30T21:35:24.053Z"
      },
      {
        "duration": 8,
        "start_time": "2022-07-30T21:35:40.958Z"
      },
      {
        "duration": 110,
        "start_time": "2022-07-30T21:51:48.794Z"
      },
      {
        "duration": 10,
        "start_time": "2022-07-30T21:52:11.073Z"
      },
      {
        "duration": 1641736,
        "start_time": "2022-07-30T21:52:23.148Z"
      },
      {
        "duration": 9,
        "start_time": "2022-07-30T22:19:44.885Z"
      },
      {
        "duration": 4,
        "start_time": "2022-07-30T22:19:44.896Z"
      },
      {
        "duration": 191,
        "start_time": "2022-07-30T22:19:44.901Z"
      },
      {
        "duration": 1596165,
        "start_time": "2022-07-30T22:19:45.094Z"
      },
      {
        "duration": 9,
        "start_time": "2022-07-30T22:46:21.260Z"
      },
      {
        "duration": 0,
        "start_time": "2022-07-30T22:46:21.270Z"
      },
      {
        "duration": 0,
        "start_time": "2022-07-30T22:46:21.271Z"
      },
      {
        "duration": 13,
        "start_time": "2022-07-30T22:49:37.617Z"
      },
      {
        "duration": 9,
        "start_time": "2022-07-30T22:49:49.372Z"
      },
      {
        "duration": 5,
        "start_time": "2022-07-30T22:49:55.042Z"
      },
      {
        "duration": 180,
        "start_time": "2022-07-30T22:49:58.427Z"
      },
      {
        "duration": 4,
        "start_time": "2022-07-30T22:50:43.972Z"
      },
      {
        "duration": 3342,
        "start_time": "2022-07-31T06:34:32.259Z"
      },
      {
        "duration": 1405,
        "start_time": "2022-07-31T06:34:35.604Z"
      },
      {
        "duration": 435,
        "start_time": "2022-07-31T06:34:37.011Z"
      },
      {
        "duration": 19,
        "start_time": "2022-07-31T06:34:37.448Z"
      },
      {
        "duration": 19,
        "start_time": "2022-07-31T06:34:37.469Z"
      },
      {
        "duration": 8,
        "start_time": "2022-07-31T06:34:37.490Z"
      },
      {
        "duration": 39,
        "start_time": "2022-07-31T06:34:37.499Z"
      },
      {
        "duration": 9,
        "start_time": "2022-07-31T06:34:37.540Z"
      },
      {
        "duration": 15,
        "start_time": "2022-07-31T06:34:37.551Z"
      },
      {
        "duration": 17,
        "start_time": "2022-07-31T06:34:37.568Z"
      },
      {
        "duration": 24,
        "start_time": "2022-07-31T06:34:37.586Z"
      },
      {
        "duration": 30,
        "start_time": "2022-07-31T06:34:37.612Z"
      },
      {
        "duration": 12,
        "start_time": "2022-07-31T06:34:37.643Z"
      },
      {
        "duration": 15,
        "start_time": "2022-07-31T06:34:37.657Z"
      },
      {
        "duration": 610,
        "start_time": "2022-07-31T06:34:37.674Z"
      },
      {
        "duration": 167,
        "start_time": "2022-07-31T06:34:38.286Z"
      },
      {
        "duration": 235,
        "start_time": "2022-07-31T06:34:38.454Z"
      },
      {
        "duration": 30,
        "start_time": "2022-07-31T06:34:38.691Z"
      },
      {
        "duration": 4,
        "start_time": "2022-07-31T06:34:38.723Z"
      },
      {
        "duration": 12,
        "start_time": "2022-07-31T06:34:38.730Z"
      },
      {
        "duration": 12,
        "start_time": "2022-07-31T06:34:39.302Z"
      },
      {
        "duration": 11,
        "start_time": "2022-07-31T06:34:39.857Z"
      },
      {
        "duration": 15,
        "start_time": "2022-07-31T06:34:40.178Z"
      },
      {
        "duration": 10,
        "start_time": "2022-07-31T06:34:40.475Z"
      },
      {
        "duration": 13,
        "start_time": "2022-07-31T06:34:40.800Z"
      },
      {
        "duration": 6,
        "start_time": "2022-07-31T06:34:41.043Z"
      },
      {
        "duration": 7,
        "start_time": "2022-07-31T06:34:41.312Z"
      },
      {
        "duration": 6,
        "start_time": "2022-07-31T06:34:41.567Z"
      },
      {
        "duration": 7,
        "start_time": "2022-07-31T06:34:41.777Z"
      },
      {
        "duration": 4,
        "start_time": "2022-07-31T06:34:41.966Z"
      },
      {
        "duration": 7,
        "start_time": "2022-07-31T06:34:42.440Z"
      },
      {
        "duration": 9,
        "start_time": "2022-07-31T06:34:42.698Z"
      },
      {
        "duration": 13,
        "start_time": "2022-07-31T06:34:42.893Z"
      },
      {
        "duration": 17,
        "start_time": "2022-07-31T06:34:43.447Z"
      },
      {
        "duration": 15,
        "start_time": "2022-07-31T06:34:43.744Z"
      },
      {
        "duration": 26,
        "start_time": "2022-07-31T06:34:43.993Z"
      },
      {
        "duration": 6,
        "start_time": "2022-07-31T06:34:44.290Z"
      },
      {
        "duration": 5,
        "start_time": "2022-07-31T06:34:44.909Z"
      },
      {
        "duration": 16,
        "start_time": "2022-07-31T06:34:45.293Z"
      },
      {
        "duration": 4,
        "start_time": "2022-07-31T06:34:45.556Z"
      },
      {
        "duration": 20,
        "start_time": "2022-07-31T06:34:46.141Z"
      },
      {
        "duration": 15,
        "start_time": "2022-07-31T06:34:46.435Z"
      },
      {
        "duration": 34,
        "start_time": "2022-07-31T06:34:46.887Z"
      },
      {
        "duration": 6,
        "start_time": "2022-07-31T06:34:47.143Z"
      },
      {
        "duration": 5,
        "start_time": "2022-07-31T06:34:47.475Z"
      },
      {
        "duration": 46,
        "start_time": "2022-07-31T06:34:47.739Z"
      },
      {
        "duration": 6,
        "start_time": "2022-07-31T06:34:48.213Z"
      },
      {
        "duration": 6,
        "start_time": "2022-07-31T06:34:48.720Z"
      },
      {
        "duration": 3,
        "start_time": "2022-07-31T06:34:49.313Z"
      },
      {
        "duration": 2,
        "start_time": "2022-07-31T06:34:49.713Z"
      },
      {
        "duration": 3,
        "start_time": "2022-07-31T06:34:50.081Z"
      },
      {
        "duration": 7,
        "start_time": "2022-07-31T06:34:50.710Z"
      },
      {
        "duration": 13,
        "start_time": "2022-07-31T06:34:51.585Z"
      },
      {
        "duration": 3,
        "start_time": "2022-07-31T06:34:53.052Z"
      },
      {
        "duration": 6416606,
        "start_time": "2022-07-31T06:34:54.334Z"
      },
      {
        "duration": 4,
        "start_time": "2022-07-31T08:21:50.942Z"
      },
      {
        "duration": 10,
        "start_time": "2022-07-31T08:21:50.948Z"
      },
      {
        "duration": 120,
        "start_time": "2022-07-31T08:21:50.960Z"
      },
      {
        "duration": 12,
        "start_time": "2022-07-31T08:23:35.986Z"
      },
      {
        "duration": 4,
        "start_time": "2022-07-31T08:24:57.037Z"
      },
      {
        "duration": 110,
        "start_time": "2022-07-31T08:28:08.927Z"
      },
      {
        "duration": 3,
        "start_time": "2022-07-31T08:28:28.125Z"
      },
      {
        "duration": 975,
        "start_time": "2022-07-31T08:28:29.952Z"
      },
      {
        "duration": 274,
        "start_time": "2022-07-31T08:28:35.378Z"
      },
      {
        "duration": 11,
        "start_time": "2022-07-31T08:29:30.532Z"
      },
      {
        "duration": 3,
        "start_time": "2022-07-31T08:32:16.692Z"
      },
      {
        "duration": 17,
        "start_time": "2022-07-31T08:32:17.618Z"
      },
      {
        "duration": 3,
        "start_time": "2022-07-31T08:32:39.022Z"
      },
      {
        "duration": 4,
        "start_time": "2022-07-31T08:32:39.826Z"
      },
      {
        "duration": 9,
        "start_time": "2022-07-31T08:32:41.452Z"
      },
      {
        "duration": 13,
        "start_time": "2022-07-31T08:32:41.761Z"
      },
      {
        "duration": 4,
        "start_time": "2022-07-31T08:32:43.575Z"
      },
      {
        "duration": 3,
        "start_time": "2022-07-31T08:32:53.990Z"
      },
      {
        "duration": 1241,
        "start_time": "2022-07-31T08:32:54.475Z"
      },
      {
        "duration": 10,
        "start_time": "2022-07-31T08:32:56.426Z"
      },
      {
        "duration": 273,
        "start_time": "2022-07-31T08:32:59.833Z"
      },
      {
        "duration": 21,
        "start_time": "2022-07-31T08:35:02.063Z"
      },
      {
        "duration": 4,
        "start_time": "2022-07-31T08:35:25.351Z"
      },
      {
        "duration": 8,
        "start_time": "2022-07-31T08:35:29.194Z"
      },
      {
        "duration": 12,
        "start_time": "2022-07-31T08:35:29.948Z"
      },
      {
        "duration": 4,
        "start_time": "2022-07-31T08:35:31.914Z"
      },
      {
        "duration": 3,
        "start_time": "2022-07-31T08:35:43.445Z"
      },
      {
        "duration": 19,
        "start_time": "2022-07-31T08:35:43.885Z"
      },
      {
        "duration": 13,
        "start_time": "2022-07-31T08:35:45.144Z"
      },
      {
        "duration": 2,
        "start_time": "2022-07-31T08:37:16.476Z"
      },
      {
        "duration": 4,
        "start_time": "2022-07-31T08:37:17.072Z"
      },
      {
        "duration": 889,
        "start_time": "2022-07-31T08:37:18.190Z"
      },
      {
        "duration": 9,
        "start_time": "2022-07-31T08:37:19.817Z"
      },
      {
        "duration": 222,
        "start_time": "2022-07-31T08:37:20.644Z"
      },
      {
        "duration": 50447,
        "start_time": "2022-07-31T08:40:21.099Z"
      },
      {
        "duration": 10,
        "start_time": "2022-07-31T08:41:11.548Z"
      },
      {
        "duration": 12,
        "start_time": "2022-07-31T08:43:51.698Z"
      },
      {
        "duration": 8331,
        "start_time": "2022-07-31T08:44:37.171Z"
      },
      {
        "duration": 13,
        "start_time": "2022-07-31T08:48:39.159Z"
      },
      {
        "duration": 15,
        "start_time": "2022-07-31T08:48:39.581Z"
      },
      {
        "duration": 27,
        "start_time": "2022-07-31T08:48:39.905Z"
      },
      {
        "duration": 8,
        "start_time": "2022-07-31T08:48:40.182Z"
      },
      {
        "duration": 6,
        "start_time": "2022-07-31T08:48:40.883Z"
      },
      {
        "duration": 14,
        "start_time": "2022-07-31T08:48:41.187Z"
      },
      {
        "duration": 5,
        "start_time": "2022-07-31T08:48:41.503Z"
      },
      {
        "duration": 21,
        "start_time": "2022-07-31T08:48:41.791Z"
      },
      {
        "duration": 14,
        "start_time": "2022-07-31T08:48:42.151Z"
      },
      {
        "duration": 35,
        "start_time": "2022-07-31T08:48:42.510Z"
      },
      {
        "duration": 6,
        "start_time": "2022-07-31T08:48:43.261Z"
      },
      {
        "duration": 4,
        "start_time": "2022-07-31T08:48:43.756Z"
      },
      {
        "duration": 5,
        "start_time": "2022-07-31T08:48:44.135Z"
      },
      {
        "duration": 27,
        "start_time": "2022-07-31T08:48:44.596Z"
      },
      {
        "duration": 6,
        "start_time": "2022-07-31T08:48:45.552Z"
      },
      {
        "duration": 5,
        "start_time": "2022-07-31T08:48:46.441Z"
      },
      {
        "duration": 9,
        "start_time": "2022-07-31T08:48:54.673Z"
      },
      {
        "duration": 15,
        "start_time": "2022-07-31T08:48:55.042Z"
      },
      {
        "duration": 3,
        "start_time": "2022-07-31T08:48:56.879Z"
      },
      {
        "duration": 3,
        "start_time": "2022-07-31T08:49:06.838Z"
      },
      {
        "duration": 1095,
        "start_time": "2022-07-31T08:49:07.759Z"
      },
      {
        "duration": 10,
        "start_time": "2022-07-31T08:49:08.857Z"
      },
      {
        "duration": 263,
        "start_time": "2022-07-31T08:49:09.183Z"
      },
      {
        "duration": 53394,
        "start_time": "2022-07-31T08:49:42.801Z"
      },
      {
        "duration": 9,
        "start_time": "2022-07-31T08:50:36.197Z"
      },
      {
        "duration": 8980,
        "start_time": "2022-07-31T08:50:36.208Z"
      },
      {
        "duration": 46530,
        "start_time": "2022-07-31T08:53:10.418Z"
      },
      {
        "duration": 9,
        "start_time": "2022-07-31T08:53:56.951Z"
      },
      {
        "duration": 9002,
        "start_time": "2022-07-31T08:53:56.962Z"
      },
      {
        "duration": 14,
        "start_time": "2022-07-31T08:56:30.366Z"
      },
      {
        "duration": 16,
        "start_time": "2022-07-31T08:56:30.670Z"
      },
      {
        "duration": 25,
        "start_time": "2022-07-31T08:56:30.954Z"
      },
      {
        "duration": 6,
        "start_time": "2022-07-31T08:56:31.181Z"
      },
      {
        "duration": 4,
        "start_time": "2022-07-31T08:56:31.667Z"
      },
      {
        "duration": 18,
        "start_time": "2022-07-31T08:56:31.937Z"
      },
      {
        "duration": 4,
        "start_time": "2022-07-31T08:56:32.195Z"
      },
      {
        "duration": 22,
        "start_time": "2022-07-31T08:56:32.463Z"
      },
      {
        "duration": 13,
        "start_time": "2022-07-31T08:56:32.738Z"
      },
      {
        "duration": 123,
        "start_time": "2022-07-31T08:56:33.051Z"
      },
      {
        "duration": 5,
        "start_time": "2022-07-31T08:56:33.330Z"
      },
      {
        "duration": 2,
        "start_time": "2022-07-31T08:56:33.698Z"
      },
      {
        "duration": 5,
        "start_time": "2022-07-31T08:56:34.901Z"
      },
      {
        "duration": 28,
        "start_time": "2022-07-31T08:56:35.377Z"
      },
      {
        "duration": 6,
        "start_time": "2022-07-31T08:56:35.824Z"
      },
      {
        "duration": 5,
        "start_time": "2022-07-31T08:56:36.446Z"
      },
      {
        "duration": 8,
        "start_time": "2022-07-31T08:56:47.903Z"
      },
      {
        "duration": 12,
        "start_time": "2022-07-31T08:56:48.343Z"
      },
      {
        "duration": 3,
        "start_time": "2022-07-31T08:56:49.738Z"
      },
      {
        "duration": 3,
        "start_time": "2022-07-31T08:57:02.134Z"
      },
      {
        "duration": 782,
        "start_time": "2022-07-31T08:57:03.140Z"
      },
      {
        "duration": 10,
        "start_time": "2022-07-31T08:57:03.937Z"
      },
      {
        "duration": 242,
        "start_time": "2022-07-31T08:57:04.694Z"
      },
      {
        "duration": 38527,
        "start_time": "2022-07-31T08:57:46.602Z"
      },
      {
        "duration": 9,
        "start_time": "2022-07-31T08:58:25.131Z"
      },
      {
        "duration": 8713,
        "start_time": "2022-07-31T08:58:25.142Z"
      },
      {
        "duration": 3,
        "start_time": "2022-07-31T09:01:55.609Z"
      },
      {
        "duration": 7,
        "start_time": "2022-07-31T09:02:01.535Z"
      },
      {
        "duration": 6,
        "start_time": "2022-07-31T09:02:01.829Z"
      },
      {
        "duration": 8,
        "start_time": "2022-07-31T09:02:06.614Z"
      },
      {
        "duration": 13,
        "start_time": "2022-07-31T09:02:06.945Z"
      },
      {
        "duration": 3,
        "start_time": "2022-07-31T09:02:09.075Z"
      },
      {
        "duration": 3,
        "start_time": "2022-07-31T09:02:18.543Z"
      },
      {
        "duration": 1009,
        "start_time": "2022-07-31T09:02:19.021Z"
      },
      {
        "duration": 10,
        "start_time": "2022-07-31T09:02:20.032Z"
      },
      {
        "duration": 130,
        "start_time": "2022-07-31T09:17:07.707Z"
      },
      {
        "duration": 12,
        "start_time": "2022-07-31T09:17:08.605Z"
      },
      {
        "duration": 18,
        "start_time": "2022-07-31T09:17:08.982Z"
      },
      {
        "duration": 12,
        "start_time": "2022-07-31T09:17:09.690Z"
      },
      {
        "duration": 23,
        "start_time": "2022-07-31T09:17:09.977Z"
      },
      {
        "duration": 8,
        "start_time": "2022-07-31T09:17:10.321Z"
      },
      {
        "duration": 14,
        "start_time": "2022-07-31T09:17:13.006Z"
      },
      {
        "duration": 5,
        "start_time": "2022-07-31T09:17:13.470Z"
      },
      {
        "duration": 8,
        "start_time": "2022-07-31T09:17:13.827Z"
      },
      {
        "duration": 4,
        "start_time": "2022-07-31T09:17:14.211Z"
      },
      {
        "duration": 3,
        "start_time": "2022-07-31T09:17:14.674Z"
      },
      {
        "duration": 4,
        "start_time": "2022-07-31T09:17:15.023Z"
      },
      {
        "duration": 273,
        "start_time": "2022-07-31T09:17:15.626Z"
      },
      {
        "duration": 110,
        "start_time": "2022-07-31T09:17:17.142Z"
      },
      {
        "duration": 108,
        "start_time": "2022-07-31T09:17:17.650Z"
      },
      {
        "duration": 16,
        "start_time": "2022-07-31T09:17:18.340Z"
      },
      {
        "duration": 5,
        "start_time": "2022-07-31T09:17:18.775Z"
      },
      {
        "duration": 9,
        "start_time": "2022-07-31T09:17:19.285Z"
      },
      {
        "duration": 10,
        "start_time": "2022-07-31T09:17:21.026Z"
      },
      {
        "duration": 12,
        "start_time": "2022-07-31T09:17:23.030Z"
      },
      {
        "duration": 12,
        "start_time": "2022-07-31T09:17:34.596Z"
      },
      {
        "duration": 15,
        "start_time": "2022-07-31T09:17:34.930Z"
      },
      {
        "duration": 10,
        "start_time": "2022-07-31T09:17:35.229Z"
      },
      {
        "duration": 17,
        "start_time": "2022-07-31T09:17:35.509Z"
      },
      {
        "duration": 6,
        "start_time": "2022-07-31T09:17:35.773Z"
      },
      {
        "duration": 8,
        "start_time": "2022-07-31T09:17:36.087Z"
      },
      {
        "duration": 5,
        "start_time": "2022-07-31T09:17:36.354Z"
      },
      {
        "duration": 8,
        "start_time": "2022-07-31T09:17:36.624Z"
      },
      {
        "duration": 3,
        "start_time": "2022-07-31T09:17:36.889Z"
      },
      {
        "duration": 7,
        "start_time": "2022-07-31T09:17:37.166Z"
      },
      {
        "duration": 8,
        "start_time": "2022-07-31T09:17:37.446Z"
      },
      {
        "duration": 15,
        "start_time": "2022-07-31T09:17:37.717Z"
      },
      {
        "duration": 15,
        "start_time": "2022-07-31T09:17:38.287Z"
      },
      {
        "duration": 14,
        "start_time": "2022-07-31T09:17:38.601Z"
      },
      {
        "duration": 32,
        "start_time": "2022-07-31T09:17:38.897Z"
      },
      {
        "duration": 7,
        "start_time": "2022-07-31T09:17:39.934Z"
      },
      {
        "duration": 7,
        "start_time": "2022-07-31T09:17:41.983Z"
      },
      {
        "duration": 18,
        "start_time": "2022-07-31T09:17:42.609Z"
      },
      {
        "duration": 5,
        "start_time": "2022-07-31T09:17:43.273Z"
      },
      {
        "duration": 20,
        "start_time": "2022-07-31T09:17:44.343Z"
      },
      {
        "duration": 15,
        "start_time": "2022-07-31T09:17:44.946Z"
      },
      {
        "duration": 32,
        "start_time": "2022-07-31T09:17:45.943Z"
      },
      {
        "duration": 7,
        "start_time": "2022-07-31T09:17:46.364Z"
      },
      {
        "duration": 5,
        "start_time": "2022-07-31T09:17:47.945Z"
      },
      {
        "duration": 4,
        "start_time": "2022-07-31T09:17:48.589Z"
      },
      {
        "duration": 26,
        "start_time": "2022-07-31T09:17:48.955Z"
      },
      {
        "duration": 5,
        "start_time": "2022-07-31T09:17:49.317Z"
      },
      {
        "duration": 5,
        "start_time": "2022-07-31T09:17:49.794Z"
      },
      {
        "duration": 4,
        "start_time": "2022-07-31T09:17:51.815Z"
      },
      {
        "duration": 3,
        "start_time": "2022-07-31T09:17:52.225Z"
      },
      {
        "duration": 3,
        "start_time": "2022-07-31T09:17:52.587Z"
      },
      {
        "duration": 9,
        "start_time": "2022-07-31T09:17:53.899Z"
      },
      {
        "duration": 14,
        "start_time": "2022-07-31T09:17:54.256Z"
      },
      {
        "duration": 3,
        "start_time": "2022-07-31T09:18:11.356Z"
      },
      {
        "duration": 4,
        "start_time": "2022-07-31T09:18:12.152Z"
      },
      {
        "duration": 1132,
        "start_time": "2022-07-31T09:18:13.662Z"
      },
      {
        "duration": 9,
        "start_time": "2022-07-31T09:18:14.796Z"
      },
      {
        "duration": 292,
        "start_time": "2022-07-31T09:18:15.264Z"
      },
      {
        "duration": 48547,
        "start_time": "2022-07-31T09:18:36.499Z"
      },
      {
        "duration": 9,
        "start_time": "2022-07-31T09:19:25.048Z"
      },
      {
        "duration": 8750,
        "start_time": "2022-07-31T09:19:25.059Z"
      },
      {
        "duration": 5,
        "start_time": "2022-07-31T09:19:33.811Z"
      },
      {
        "duration": 5,
        "start_time": "2022-07-31T09:29:23.186Z"
      },
      {
        "duration": 43202,
        "start_time": "2022-07-31T09:30:20.278Z"
      },
      {
        "duration": 5,
        "start_time": "2022-07-31T09:31:03.483Z"
      },
      {
        "duration": 15,
        "start_time": "2022-07-31T09:31:03.490Z"
      },
      {
        "duration": 8694,
        "start_time": "2022-07-31T09:31:03.508Z"
      },
      {
        "duration": 48957,
        "start_time": "2022-07-31T09:33:58.610Z"
      },
      {
        "duration": 4,
        "start_time": "2022-07-31T09:34:47.569Z"
      },
      {
        "duration": 16,
        "start_time": "2022-07-31T09:34:47.575Z"
      },
      {
        "duration": 46663,
        "start_time": "2022-07-31T09:37:18.862Z"
      },
      {
        "duration": 4,
        "start_time": "2022-07-31T09:38:05.528Z"
      },
      {
        "duration": 12,
        "start_time": "2022-07-31T09:38:05.533Z"
      },
      {
        "duration": 9857,
        "start_time": "2022-07-31T09:38:05.547Z"
      },
      {
        "duration": 118,
        "start_time": "2022-07-31T09:44:11.147Z"
      },
      {
        "duration": 15,
        "start_time": "2022-07-31T09:44:11.787Z"
      },
      {
        "duration": 15,
        "start_time": "2022-07-31T09:44:12.161Z"
      },
      {
        "duration": 15,
        "start_time": "2022-07-31T09:44:12.711Z"
      },
      {
        "duration": 16,
        "start_time": "2022-07-31T09:44:12.966Z"
      },
      {
        "duration": 6,
        "start_time": "2022-07-31T09:44:13.185Z"
      },
      {
        "duration": 6,
        "start_time": "2022-07-31T09:44:13.929Z"
      },
      {
        "duration": 5,
        "start_time": "2022-07-31T09:44:14.155Z"
      },
      {
        "duration": 10,
        "start_time": "2022-07-31T09:44:14.395Z"
      },
      {
        "duration": 5,
        "start_time": "2022-07-31T09:44:14.642Z"
      },
      {
        "duration": 3,
        "start_time": "2022-07-31T09:44:14.872Z"
      },
      {
        "duration": 4,
        "start_time": "2022-07-31T09:44:15.138Z"
      },
      {
        "duration": 280,
        "start_time": "2022-07-31T09:44:15.382Z"
      },
      {
        "duration": 118,
        "start_time": "2022-07-31T09:44:16.554Z"
      },
      {
        "duration": 114,
        "start_time": "2022-07-31T09:44:16.968Z"
      },
      {
        "duration": 18,
        "start_time": "2022-07-31T09:44:17.323Z"
      },
      {
        "duration": 5,
        "start_time": "2022-07-31T09:44:17.934Z"
      },
      {
        "duration": 10,
        "start_time": "2022-07-31T09:44:18.311Z"
      },
      {
        "duration": 10,
        "start_time": "2022-07-31T09:44:19.945Z"
      },
      {
        "duration": 15,
        "start_time": "2022-07-31T09:44:21.987Z"
      },
      {
        "duration": 11,
        "start_time": "2022-07-31T09:44:23.170Z"
      },
      {
        "duration": 15,
        "start_time": "2022-07-31T09:44:23.642Z"
      },
      {
        "duration": 9,
        "start_time": "2022-07-31T09:44:24.054Z"
      },
      {
        "duration": 13,
        "start_time": "2022-07-31T09:44:24.435Z"
      },
      {
        "duration": 6,
        "start_time": "2022-07-31T09:44:24.861Z"
      },
      {
        "duration": 8,
        "start_time": "2022-07-31T09:44:25.247Z"
      },
      {
        "duration": 5,
        "start_time": "2022-07-31T09:44:25.739Z"
      },
      {
        "duration": 9,
        "start_time": "2022-07-31T09:44:26.170Z"
      },
      {
        "duration": 4,
        "start_time": "2022-07-31T09:44:26.546Z"
      },
      {
        "duration": 5,
        "start_time": "2022-07-31T09:44:26.897Z"
      },
      {
        "duration": 8,
        "start_time": "2022-07-31T09:44:27.324Z"
      },
      {
        "duration": 8,
        "start_time": "2022-07-31T09:44:27.922Z"
      },
      {
        "duration": 14,
        "start_time": "2022-07-31T09:44:28.429Z"
      },
      {
        "duration": 16,
        "start_time": "2022-07-31T09:44:29.493Z"
      },
      {
        "duration": 14,
        "start_time": "2022-07-31T09:44:30.084Z"
      },
      {
        "duration": 24,
        "start_time": "2022-07-31T09:44:30.644Z"
      },
      {
        "duration": 8,
        "start_time": "2022-07-31T09:44:31.343Z"
      },
      {
        "duration": 5,
        "start_time": "2022-07-31T09:44:32.639Z"
      },
      {
        "duration": 20,
        "start_time": "2022-07-31T09:44:32.900Z"
      },
      {
        "duration": 4,
        "start_time": "2022-07-31T09:44:33.249Z"
      },
      {
        "duration": 23,
        "start_time": "2022-07-31T09:44:33.616Z"
      },
      {
        "duration": 17,
        "start_time": "2022-07-31T09:44:34.207Z"
      },
      {
        "duration": 46,
        "start_time": "2022-07-31T09:44:34.994Z"
      },
      {
        "duration": 5,
        "start_time": "2022-07-31T09:44:35.590Z"
      },
      {
        "duration": 5,
        "start_time": "2022-07-31T09:44:35.970Z"
      },
      {
        "duration": 5,
        "start_time": "2022-07-31T09:44:36.393Z"
      },
      {
        "duration": 26,
        "start_time": "2022-07-31T09:44:36.645Z"
      },
      {
        "duration": 6,
        "start_time": "2022-07-31T09:44:37.143Z"
      },
      {
        "duration": 5,
        "start_time": "2022-07-31T09:44:37.525Z"
      },
      {
        "duration": 3,
        "start_time": "2022-07-31T09:44:39.264Z"
      },
      {
        "duration": 2,
        "start_time": "2022-07-31T09:44:39.686Z"
      },
      {
        "duration": 2,
        "start_time": "2022-07-31T09:44:40.482Z"
      },
      {
        "duration": 13,
        "start_time": "2022-07-31T09:44:41.818Z"
      },
      {
        "duration": 13,
        "start_time": "2022-07-31T09:44:42.748Z"
      },
      {
        "duration": 3,
        "start_time": "2022-07-31T09:44:52.843Z"
      },
      {
        "duration": 3,
        "start_time": "2022-07-31T09:44:53.397Z"
      },
      {
        "duration": 1083,
        "start_time": "2022-07-31T09:44:54.013Z"
      },
      {
        "duration": 10,
        "start_time": "2022-07-31T09:44:55.098Z"
      },
      {
        "duration": 296,
        "start_time": "2022-07-31T09:44:55.367Z"
      },
      {
        "duration": 44906,
        "start_time": "2022-07-31T09:45:20.641Z"
      },
      {
        "duration": 4,
        "start_time": "2022-07-31T09:46:05.550Z"
      },
      {
        "duration": 17,
        "start_time": "2022-07-31T09:46:05.556Z"
      },
      {
        "duration": 9484,
        "start_time": "2022-07-31T09:46:05.575Z"
      },
      {
        "duration": 109,
        "start_time": "2022-07-31T10:07:54.491Z"
      },
      {
        "duration": 13,
        "start_time": "2022-07-31T10:07:55.246Z"
      },
      {
        "duration": 14,
        "start_time": "2022-07-31T10:07:55.483Z"
      },
      {
        "duration": 8,
        "start_time": "2022-07-31T10:07:55.973Z"
      },
      {
        "duration": 16,
        "start_time": "2022-07-31T10:07:56.203Z"
      },
      {
        "duration": 5,
        "start_time": "2022-07-31T10:07:56.446Z"
      },
      {
        "duration": 6,
        "start_time": "2022-07-31T10:07:57.166Z"
      },
      {
        "duration": 5,
        "start_time": "2022-07-31T10:07:57.377Z"
      },
      {
        "duration": 9,
        "start_time": "2022-07-31T10:07:57.671Z"
      },
      {
        "duration": 4,
        "start_time": "2022-07-31T10:07:57.892Z"
      },
      {
        "duration": 3,
        "start_time": "2022-07-31T10:07:58.139Z"
      },
      {
        "duration": 4,
        "start_time": "2022-07-31T10:07:58.417Z"
      },
      {
        "duration": 258,
        "start_time": "2022-07-31T10:07:58.653Z"
      },
      {
        "duration": 112,
        "start_time": "2022-07-31T10:07:59.736Z"
      },
      {
        "duration": 102,
        "start_time": "2022-07-31T10:08:00.066Z"
      },
      {
        "duration": 20,
        "start_time": "2022-07-31T10:08:00.370Z"
      },
      {
        "duration": 5,
        "start_time": "2022-07-31T10:08:00.698Z"
      },
      {
        "duration": 11,
        "start_time": "2022-07-31T10:08:01.076Z"
      },
      {
        "duration": 2,
        "start_time": "2022-07-31T10:08:01.758Z"
      },
      {
        "duration": 12,
        "start_time": "2022-07-31T10:08:03.171Z"
      },
      {
        "duration": 10,
        "start_time": "2022-07-31T10:08:04.247Z"
      },
      {
        "duration": 16,
        "start_time": "2022-07-31T10:08:04.649Z"
      },
      {
        "duration": 9,
        "start_time": "2022-07-31T10:08:04.971Z"
      },
      {
        "duration": 12,
        "start_time": "2022-07-31T10:08:05.325Z"
      },
      {
        "duration": 5,
        "start_time": "2022-07-31T10:08:05.753Z"
      },
      {
        "duration": 9,
        "start_time": "2022-07-31T10:08:06.394Z"
      },
      {
        "duration": 6,
        "start_time": "2022-07-31T10:08:06.997Z"
      },
      {
        "duration": 3,
        "start_time": "2022-07-31T10:08:07.477Z"
      },
      {
        "duration": 2,
        "start_time": "2022-07-31T10:08:08.002Z"
      },
      {
        "duration": 3,
        "start_time": "2022-07-31T10:08:08.636Z"
      },
      {
        "duration": 8,
        "start_time": "2022-07-31T10:08:09.067Z"
      },
      {
        "duration": 9,
        "start_time": "2022-07-31T10:08:09.624Z"
      },
      {
        "duration": 14,
        "start_time": "2022-07-31T10:08:10.099Z"
      },
      {
        "duration": 16,
        "start_time": "2022-07-31T10:08:11.759Z"
      },
      {
        "duration": 10,
        "start_time": "2022-07-31T10:08:13.118Z"
      },
      {
        "duration": 15,
        "start_time": "2022-07-31T10:08:13.745Z"
      },
      {
        "duration": 25,
        "start_time": "2022-07-31T10:08:14.351Z"
      },
      {
        "duration": 9,
        "start_time": "2022-07-31T10:08:15.321Z"
      },
      {
        "duration": 6,
        "start_time": "2022-07-31T10:08:18.069Z"
      },
      {
        "duration": 14,
        "start_time": "2022-07-31T10:08:18.624Z"
      },
      {
        "duration": 5,
        "start_time": "2022-07-31T10:08:19.153Z"
      },
      {
        "duration": 22,
        "start_time": "2022-07-31T10:08:22.642Z"
      },
      {
        "duration": 14,
        "start_time": "2022-07-31T10:08:23.664Z"
      },
      {
        "duration": 40,
        "start_time": "2022-07-31T10:08:24.199Z"
      },
      {
        "duration": 7,
        "start_time": "2022-07-31T10:08:25.224Z"
      },
      {
        "duration": 4,
        "start_time": "2022-07-31T10:08:25.772Z"
      },
      {
        "duration": 5,
        "start_time": "2022-07-31T10:08:26.167Z"
      },
      {
        "duration": 31,
        "start_time": "2022-07-31T10:08:26.818Z"
      },
      {
        "duration": 6,
        "start_time": "2022-07-31T10:08:27.788Z"
      },
      {
        "duration": 5,
        "start_time": "2022-07-31T10:08:28.170Z"
      },
      {
        "duration": 4,
        "start_time": "2022-07-31T10:08:29.696Z"
      },
      {
        "duration": 3,
        "start_time": "2022-07-31T10:08:30.026Z"
      },
      {
        "duration": 3,
        "start_time": "2022-07-31T10:08:30.583Z"
      },
      {
        "duration": 10,
        "start_time": "2022-07-31T10:08:31.856Z"
      },
      {
        "duration": 17,
        "start_time": "2022-07-31T10:08:32.427Z"
      },
      {
        "duration": 4,
        "start_time": "2022-07-31T10:08:34.625Z"
      },
      {
        "duration": 3,
        "start_time": "2022-07-31T10:08:45.193Z"
      },
      {
        "duration": 1108,
        "start_time": "2022-07-31T10:08:45.522Z"
      },
      {
        "duration": 9,
        "start_time": "2022-07-31T10:08:46.633Z"
      },
      {
        "duration": 302,
        "start_time": "2022-07-31T10:08:46.644Z"
      },
      {
        "duration": 41981,
        "start_time": "2022-07-31T10:09:09.125Z"
      },
      {
        "duration": 10,
        "start_time": "2022-07-31T10:09:51.108Z"
      },
      {
        "duration": 35,
        "start_time": "2022-07-31T10:09:51.120Z"
      },
      {
        "duration": 10575,
        "start_time": "2022-07-31T10:09:51.158Z"
      },
      {
        "duration": 130,
        "start_time": "2022-07-31T10:11:08.397Z"
      },
      {
        "duration": 13,
        "start_time": "2022-07-31T10:11:08.952Z"
      },
      {
        "duration": 15,
        "start_time": "2022-07-31T10:11:09.218Z"
      },
      {
        "duration": 8,
        "start_time": "2022-07-31T10:11:09.746Z"
      },
      {
        "duration": 16,
        "start_time": "2022-07-31T10:11:10.077Z"
      },
      {
        "duration": 6,
        "start_time": "2022-07-31T10:11:10.345Z"
      },
      {
        "duration": 6,
        "start_time": "2022-07-31T10:11:11.053Z"
      },
      {
        "duration": 6,
        "start_time": "2022-07-31T10:11:11.277Z"
      },
      {
        "duration": 8,
        "start_time": "2022-07-31T10:11:11.551Z"
      },
      {
        "duration": 5,
        "start_time": "2022-07-31T10:11:11.803Z"
      },
      {
        "duration": 4,
        "start_time": "2022-07-31T10:11:12.089Z"
      },
      {
        "duration": 5,
        "start_time": "2022-07-31T10:11:12.372Z"
      },
      {
        "duration": 264,
        "start_time": "2022-07-31T10:11:12.617Z"
      },
      {
        "duration": 255,
        "start_time": "2022-07-31T10:11:13.463Z"
      },
      {
        "duration": 124,
        "start_time": "2022-07-31T10:11:13.721Z"
      },
      {
        "duration": 16,
        "start_time": "2022-07-31T10:11:13.947Z"
      },
      {
        "duration": 5,
        "start_time": "2022-07-31T10:11:14.175Z"
      },
      {
        "duration": 10,
        "start_time": "2022-07-31T10:11:14.403Z"
      },
      {
        "duration": 2,
        "start_time": "2022-07-31T10:11:14.981Z"
      },
      {
        "duration": 12,
        "start_time": "2022-07-31T10:11:16.258Z"
      },
      {
        "duration": 11,
        "start_time": "2022-07-31T10:11:16.977Z"
      },
      {
        "duration": 16,
        "start_time": "2022-07-31T10:11:17.422Z"
      },
      {
        "duration": 9,
        "start_time": "2022-07-31T10:11:17.886Z"
      },
      {
        "duration": 14,
        "start_time": "2022-07-31T10:11:18.463Z"
      },
      {
        "duration": 7,
        "start_time": "2022-07-31T10:11:18.993Z"
      },
      {
        "duration": 8,
        "start_time": "2022-07-31T10:11:19.523Z"
      },
      {
        "duration": 5,
        "start_time": "2022-07-31T10:11:19.868Z"
      },
      {
        "duration": 7,
        "start_time": "2022-07-31T10:11:20.292Z"
      },
      {
        "duration": 1438,
        "start_time": "2022-07-31T10:11:20.795Z"
      },
      {
        "duration": 0,
        "start_time": "2022-07-31T10:11:22.235Z"
      },
      {
        "duration": 0,
        "start_time": "2022-07-31T10:11:22.236Z"
      },
      {
        "duration": 0,
        "start_time": "2022-07-31T10:11:22.237Z"
      },
      {
        "duration": 0,
        "start_time": "2022-07-31T10:11:22.238Z"
      },
      {
        "duration": 6,
        "start_time": "2022-07-31T10:12:22.362Z"
      },
      {
        "duration": 2,
        "start_time": "2022-07-31T10:12:23.786Z"
      },
      {
        "duration": 8,
        "start_time": "2022-07-31T10:12:24.128Z"
      },
      {
        "duration": 8,
        "start_time": "2022-07-31T10:12:24.567Z"
      },
      {
        "duration": 13,
        "start_time": "2022-07-31T10:12:24.873Z"
      },
      {
        "duration": 15,
        "start_time": "2022-07-31T10:12:25.550Z"
      },
      {
        "duration": 1281,
        "start_time": "2022-07-31T10:12:25.831Z"
      },
      {
        "duration": 0,
        "start_time": "2022-07-31T10:12:27.114Z"
      },
      {
        "duration": 0,
        "start_time": "2022-07-31T10:12:27.121Z"
      },
      {
        "duration": 0,
        "start_time": "2022-07-31T10:12:27.123Z"
      },
      {
        "duration": 5,
        "start_time": "2022-07-31T10:12:27.330Z"
      },
      {
        "duration": 14,
        "start_time": "2022-07-31T10:12:27.556Z"
      },
      {
        "duration": 4,
        "start_time": "2022-07-31T10:12:27.891Z"
      },
      {
        "duration": 21,
        "start_time": "2022-07-31T10:12:28.328Z"
      },
      {
        "duration": 13,
        "start_time": "2022-07-31T10:12:28.654Z"
      },
      {
        "duration": 34,
        "start_time": "2022-07-31T10:12:29.059Z"
      },
      {
        "duration": 6,
        "start_time": "2022-07-31T10:12:29.463Z"
      },
      {
        "duration": 4,
        "start_time": "2022-07-31T10:12:29.752Z"
      },
      {
        "duration": 4,
        "start_time": "2022-07-31T10:12:30.094Z"
      },
      {
        "duration": 35,
        "start_time": "2022-07-31T10:12:30.401Z"
      },
      {
        "duration": 6,
        "start_time": "2022-07-31T10:12:30.749Z"
      },
      {
        "duration": 4,
        "start_time": "2022-07-31T10:12:31.204Z"
      },
      {
        "duration": 3,
        "start_time": "2022-07-31T10:12:32.699Z"
      },
      {
        "duration": 2,
        "start_time": "2022-07-31T10:12:33.000Z"
      },
      {
        "duration": 3,
        "start_time": "2022-07-31T10:12:33.368Z"
      },
      {
        "duration": 9,
        "start_time": "2022-07-31T10:12:34.447Z"
      },
      {
        "duration": 14,
        "start_time": "2022-07-31T10:12:35.047Z"
      },
      {
        "duration": 3,
        "start_time": "2022-07-31T10:12:37.387Z"
      },
      {
        "duration": 3,
        "start_time": "2022-07-31T10:12:43.047Z"
      },
      {
        "duration": 1043,
        "start_time": "2022-07-31T10:12:43.595Z"
      },
      {
        "duration": 10,
        "start_time": "2022-07-31T10:12:44.641Z"
      },
      {
        "duration": 271,
        "start_time": "2022-07-31T10:12:44.653Z"
      },
      {
        "duration": 40752,
        "start_time": "2022-07-31T10:13:18.961Z"
      },
      {
        "duration": 4,
        "start_time": "2022-07-31T10:13:59.715Z"
      },
      {
        "duration": 12,
        "start_time": "2022-07-31T10:13:59.720Z"
      },
      {
        "duration": 9023,
        "start_time": "2022-07-31T10:13:59.734Z"
      },
      {
        "duration": 4,
        "start_time": "2022-07-31T10:41:15.470Z"
      },
      {
        "duration": 114,
        "start_time": "2022-07-31T10:41:16.257Z"
      },
      {
        "duration": 13,
        "start_time": "2022-07-31T10:41:16.794Z"
      },
      {
        "duration": 13,
        "start_time": "2022-07-31T10:41:17.060Z"
      },
      {
        "duration": 8,
        "start_time": "2022-07-31T10:41:17.552Z"
      },
      {
        "duration": 23,
        "start_time": "2022-07-31T10:41:17.786Z"
      },
      {
        "duration": 6,
        "start_time": "2022-07-31T10:41:18.061Z"
      },
      {
        "duration": 5,
        "start_time": "2022-07-31T10:41:18.773Z"
      },
      {
        "duration": 8,
        "start_time": "2022-07-31T10:41:19.010Z"
      },
      {
        "duration": 11,
        "start_time": "2022-07-31T10:41:19.227Z"
      },
      {
        "duration": 4,
        "start_time": "2022-07-31T10:41:19.438Z"
      },
      {
        "duration": 3,
        "start_time": "2022-07-31T10:41:19.637Z"
      },
      {
        "duration": 5,
        "start_time": "2022-07-31T10:41:19.822Z"
      },
      {
        "duration": 245,
        "start_time": "2022-07-31T10:41:20.040Z"
      },
      {
        "duration": 119,
        "start_time": "2022-07-31T10:41:20.677Z"
      },
      {
        "duration": 114,
        "start_time": "2022-07-31T10:41:20.906Z"
      },
      {
        "duration": 18,
        "start_time": "2022-07-31T10:41:21.164Z"
      },
      {
        "duration": 6,
        "start_time": "2022-07-31T10:41:21.389Z"
      },
      {
        "duration": 10,
        "start_time": "2022-07-31T10:41:21.625Z"
      },
      {
        "duration": 2,
        "start_time": "2022-07-31T10:41:22.365Z"
      },
      {
        "duration": 14,
        "start_time": "2022-07-31T10:41:23.686Z"
      },
      {
        "duration": 12,
        "start_time": "2022-07-31T10:41:24.362Z"
      },
      {
        "duration": 15,
        "start_time": "2022-07-31T10:41:24.681Z"
      },
      {
        "duration": 17,
        "start_time": "2022-07-31T10:41:25.009Z"
      },
      {
        "duration": 16,
        "start_time": "2022-07-31T10:41:25.321Z"
      },
      {
        "duration": 7,
        "start_time": "2022-07-31T10:41:25.621Z"
      },
      {
        "duration": 7,
        "start_time": "2022-07-31T10:41:25.936Z"
      },
      {
        "duration": 6,
        "start_time": "2022-07-31T10:41:26.296Z"
      },
      {
        "duration": 7,
        "start_time": "2022-07-31T10:41:26.623Z"
      },
      {
        "duration": 6,
        "start_time": "2022-07-31T10:41:26.942Z"
      },
      {
        "duration": 3,
        "start_time": "2022-07-31T10:41:27.398Z"
      },
      {
        "duration": 8,
        "start_time": "2022-07-31T10:41:28.159Z"
      },
      {
        "duration": 9,
        "start_time": "2022-07-31T10:41:28.569Z"
      },
      {
        "duration": 14,
        "start_time": "2022-07-31T10:41:28.990Z"
      },
      {
        "duration": 16,
        "start_time": "2022-07-31T10:41:30.159Z"
      },
      {
        "duration": 20,
        "start_time": "2022-07-31T10:41:30.502Z"
      },
      {
        "duration": 30,
        "start_time": "2022-07-31T10:41:30.804Z"
      },
      {
        "duration": 7,
        "start_time": "2022-07-31T10:41:31.242Z"
      },
      {
        "duration": 6,
        "start_time": "2022-07-31T10:41:31.963Z"
      },
      {
        "duration": 15,
        "start_time": "2022-07-31T10:41:32.260Z"
      },
      {
        "duration": 4,
        "start_time": "2022-07-31T10:41:32.701Z"
      },
      {
        "duration": 24,
        "start_time": "2022-07-31T10:41:33.339Z"
      },
      {
        "duration": 15,
        "start_time": "2022-07-31T10:41:33.760Z"
      },
      {
        "duration": 34,
        "start_time": "2022-07-31T10:41:34.039Z"
      },
      {
        "duration": 7,
        "start_time": "2022-07-31T10:41:34.322Z"
      },
      {
        "duration": 4,
        "start_time": "2022-07-31T10:41:34.638Z"
      },
      {
        "duration": 4,
        "start_time": "2022-07-31T10:41:34.941Z"
      },
      {
        "duration": 36,
        "start_time": "2022-07-31T10:41:35.207Z"
      },
      {
        "duration": 6,
        "start_time": "2022-07-31T10:41:35.478Z"
      },
      {
        "duration": 6,
        "start_time": "2022-07-31T10:41:35.771Z"
      },
      {
        "duration": 3,
        "start_time": "2022-07-31T10:41:38.851Z"
      },
      {
        "duration": 2,
        "start_time": "2022-07-31T10:41:39.387Z"
      },
      {
        "duration": 2,
        "start_time": "2022-07-31T10:41:40.158Z"
      },
      {
        "duration": 5,
        "start_time": "2022-07-31T10:41:43.375Z"
      },
      {
        "duration": 8,
        "start_time": "2022-07-31T10:41:45.035Z"
      },
      {
        "duration": 14,
        "start_time": "2022-07-31T10:41:45.593Z"
      },
      {
        "duration": 3,
        "start_time": "2022-07-31T10:41:49.047Z"
      },
      {
        "duration": 4,
        "start_time": "2022-07-31T10:41:56.488Z"
      },
      {
        "duration": 793,
        "start_time": "2022-07-31T10:41:57.158Z"
      },
      {
        "duration": 9,
        "start_time": "2022-07-31T10:41:57.953Z"
      },
      {
        "duration": 235,
        "start_time": "2022-07-31T10:41:57.968Z"
      },
      {
        "duration": 36323,
        "start_time": "2022-07-31T10:42:13.540Z"
      },
      {
        "duration": 5,
        "start_time": "2022-07-31T10:42:49.865Z"
      },
      {
        "duration": 14,
        "start_time": "2022-07-31T10:42:49.871Z"
      },
      {
        "duration": 8701,
        "start_time": "2022-07-31T10:42:49.887Z"
      },
      {
        "duration": 4,
        "start_time": "2022-07-31T10:42:58.589Z"
      },
      {
        "duration": 128,
        "start_time": "2022-07-31T10:49:23.426Z"
      },
      {
        "duration": 12,
        "start_time": "2022-07-31T10:49:24.167Z"
      },
      {
        "duration": 28,
        "start_time": "2022-07-31T10:49:24.410Z"
      },
      {
        "duration": 8,
        "start_time": "2022-07-31T10:49:24.973Z"
      },
      {
        "duration": 30,
        "start_time": "2022-07-31T10:49:25.209Z"
      },
      {
        "duration": 7,
        "start_time": "2022-07-31T10:49:25.523Z"
      },
      {
        "duration": 16,
        "start_time": "2022-07-31T10:49:26.307Z"
      },
      {
        "duration": 5,
        "start_time": "2022-07-31T10:49:26.582Z"
      },
      {
        "duration": 8,
        "start_time": "2022-07-31T10:49:26.789Z"
      },
      {
        "duration": 4,
        "start_time": "2022-07-31T10:49:27.054Z"
      },
      {
        "duration": 3,
        "start_time": "2022-07-31T10:49:27.269Z"
      },
      {
        "duration": 4,
        "start_time": "2022-07-31T10:49:27.567Z"
      },
      {
        "duration": 293,
        "start_time": "2022-07-31T10:49:27.753Z"
      },
      {
        "duration": 112,
        "start_time": "2022-07-31T10:49:28.470Z"
      },
      {
        "duration": 109,
        "start_time": "2022-07-31T10:49:28.679Z"
      },
      {
        "duration": 17,
        "start_time": "2022-07-31T10:49:28.961Z"
      },
      {
        "duration": 6,
        "start_time": "2022-07-31T10:49:29.193Z"
      },
      {
        "duration": 12,
        "start_time": "2022-07-31T10:49:29.386Z"
      },
      {
        "duration": 2,
        "start_time": "2022-07-31T10:49:29.867Z"
      },
      {
        "duration": 12,
        "start_time": "2022-07-31T10:49:30.996Z"
      },
      {
        "duration": 11,
        "start_time": "2022-07-31T10:49:31.669Z"
      },
      {
        "duration": 18,
        "start_time": "2022-07-31T10:49:32.023Z"
      },
      {
        "duration": 10,
        "start_time": "2022-07-31T10:49:32.323Z"
      },
      {
        "duration": 12,
        "start_time": "2022-07-31T10:49:32.622Z"
      },
      {
        "duration": 2,
        "start_time": "2022-07-31T10:49:32.976Z"
      },
      {
        "duration": 2,
        "start_time": "2022-07-31T10:49:33.269Z"
      },
      {
        "duration": 3,
        "start_time": "2022-07-31T10:49:33.623Z"
      },
      {
        "duration": 7,
        "start_time": "2022-07-31T10:49:34.123Z"
      },
      {
        "duration": 5,
        "start_time": "2022-07-31T10:49:34.470Z"
      },
      {
        "duration": 7,
        "start_time": "2022-07-31T10:49:34.766Z"
      },
      {
        "duration": 7,
        "start_time": "2022-07-31T10:49:35.097Z"
      },
      {
        "duration": 2,
        "start_time": "2022-07-31T10:49:35.369Z"
      },
      {
        "duration": 7,
        "start_time": "2022-07-31T10:49:36.070Z"
      },
      {
        "duration": 7,
        "start_time": "2022-07-31T10:49:36.367Z"
      },
      {
        "duration": 11,
        "start_time": "2022-07-31T10:49:37.971Z"
      },
      {
        "duration": 16,
        "start_time": "2022-07-31T10:49:39.491Z"
      },
      {
        "duration": 15,
        "start_time": "2022-07-31T10:49:40.075Z"
      },
      {
        "duration": 19,
        "start_time": "2022-07-31T10:49:40.837Z"
      },
      {
        "duration": 8,
        "start_time": "2022-07-31T10:49:41.628Z"
      },
      {
        "duration": 5,
        "start_time": "2022-07-31T10:49:44.037Z"
      },
      {
        "duration": 24,
        "start_time": "2022-07-31T10:49:44.363Z"
      },
      {
        "duration": 5,
        "start_time": "2022-07-31T10:49:44.922Z"
      },
      {
        "duration": 26,
        "start_time": "2022-07-31T10:49:45.326Z"
      },
      {
        "duration": 15,
        "start_time": "2022-07-31T10:49:45.841Z"
      },
      {
        "duration": 34,
        "start_time": "2022-07-31T10:49:46.727Z"
      },
      {
        "duration": 6,
        "start_time": "2022-07-31T10:49:47.069Z"
      },
      {
        "duration": 20,
        "start_time": "2022-07-31T10:49:47.466Z"
      },
      {
        "duration": 5,
        "start_time": "2022-07-31T10:49:47.923Z"
      },
      {
        "duration": 6,
        "start_time": "2022-07-31T10:49:48.367Z"
      },
      {
        "duration": 4,
        "start_time": "2022-07-31T10:49:55.439Z"
      },
      {
        "duration": 9,
        "start_time": "2022-07-31T10:49:56.297Z"
      },
      {
        "duration": 15,
        "start_time": "2022-07-31T10:49:56.611Z"
      },
      {
        "duration": 3,
        "start_time": "2022-07-31T10:49:59.486Z"
      },
      {
        "duration": 6,
        "start_time": "2022-07-31T10:50:05.571Z"
      },
      {
        "duration": 861,
        "start_time": "2022-07-31T10:50:07.283Z"
      },
      {
        "duration": 11,
        "start_time": "2022-07-31T10:50:08.146Z"
      },
      {
        "duration": 259,
        "start_time": "2022-07-31T10:50:08.311Z"
      },
      {
        "duration": 35875,
        "start_time": "2022-07-31T10:50:11.523Z"
      },
      {
        "duration": 4,
        "start_time": "2022-07-31T10:50:47.400Z"
      },
      {
        "duration": 25,
        "start_time": "2022-07-31T10:50:47.406Z"
      },
      {
        "duration": 8694,
        "start_time": "2022-07-31T10:50:47.434Z"
      },
      {
        "duration": 117,
        "start_time": "2022-07-31T10:54:24.922Z"
      },
      {
        "duration": 13,
        "start_time": "2022-07-31T10:54:25.421Z"
      },
      {
        "duration": 13,
        "start_time": "2022-07-31T10:54:25.668Z"
      },
      {
        "duration": 9,
        "start_time": "2022-07-31T10:54:26.122Z"
      },
      {
        "duration": 17,
        "start_time": "2022-07-31T10:54:26.377Z"
      },
      {
        "duration": 7,
        "start_time": "2022-07-31T10:54:26.677Z"
      },
      {
        "duration": 11,
        "start_time": "2022-07-31T10:54:27.415Z"
      },
      {
        "duration": 4,
        "start_time": "2022-07-31T10:54:27.634Z"
      },
      {
        "duration": 9,
        "start_time": "2022-07-31T10:54:27.885Z"
      },
      {
        "duration": 4,
        "start_time": "2022-07-31T10:54:28.141Z"
      },
      {
        "duration": 5,
        "start_time": "2022-07-31T10:54:28.421Z"
      },
      {
        "duration": 3,
        "start_time": "2022-07-31T10:54:28.669Z"
      },
      {
        "duration": 262,
        "start_time": "2022-07-31T10:54:28.883Z"
      },
      {
        "duration": 280,
        "start_time": "2022-07-31T10:54:29.742Z"
      },
      {
        "duration": 111,
        "start_time": "2022-07-31T10:54:30.024Z"
      },
      {
        "duration": 23,
        "start_time": "2022-07-31T10:54:30.199Z"
      },
      {
        "duration": 6,
        "start_time": "2022-07-31T10:54:30.477Z"
      },
      {
        "duration": 13,
        "start_time": "2022-07-31T10:54:30.711Z"
      },
      {
        "duration": 5,
        "start_time": "2022-07-31T10:54:31.239Z"
      },
      {
        "duration": 14,
        "start_time": "2022-07-31T10:54:32.385Z"
      },
      {
        "duration": 11,
        "start_time": "2022-07-31T10:54:32.869Z"
      },
      {
        "duration": 2,
        "start_time": "2022-07-31T10:54:33.145Z"
      },
      {
        "duration": 11,
        "start_time": "2022-07-31T10:54:33.382Z"
      },
      {
        "duration": 13,
        "start_time": "2022-07-31T10:54:33.623Z"
      },
      {
        "duration": 2,
        "start_time": "2022-07-31T10:54:33.875Z"
      },
      {
        "duration": 2,
        "start_time": "2022-07-31T10:54:34.101Z"
      },
      {
        "duration": 3,
        "start_time": "2022-07-31T10:54:34.372Z"
      },
      {
        "duration": 9,
        "start_time": "2022-07-31T10:54:34.817Z"
      },
      {
        "duration": 5,
        "start_time": "2022-07-31T10:54:35.042Z"
      },
      {
        "duration": 7,
        "start_time": "2022-07-31T10:54:35.298Z"
      },
      {
        "duration": 6,
        "start_time": "2022-07-31T10:54:35.593Z"
      },
      {
        "duration": 3,
        "start_time": "2022-07-31T10:54:35.880Z"
      },
      {
        "duration": 8,
        "start_time": "2022-07-31T10:54:36.398Z"
      },
      {
        "duration": 8,
        "start_time": "2022-07-31T10:54:36.681Z"
      },
      {
        "duration": 18,
        "start_time": "2022-07-31T10:54:36.909Z"
      },
      {
        "duration": 15,
        "start_time": "2022-07-31T10:54:37.476Z"
      },
      {
        "duration": 18,
        "start_time": "2022-07-31T10:54:37.702Z"
      },
      {
        "duration": 20,
        "start_time": "2022-07-31T10:54:37.968Z"
      },
      {
        "duration": 6,
        "start_time": "2022-07-31T10:54:38.183Z"
      },
      {
        "duration": 10,
        "start_time": "2022-07-31T10:54:38.814Z"
      },
      {
        "duration": 16,
        "start_time": "2022-07-31T10:54:39.170Z"
      },
      {
        "duration": 15,
        "start_time": "2022-07-31T10:54:39.410Z"
      },
      {
        "duration": 25,
        "start_time": "2022-07-31T10:54:39.719Z"
      },
      {
        "duration": 17,
        "start_time": "2022-07-31T10:54:40.189Z"
      },
      {
        "duration": 28,
        "start_time": "2022-07-31T10:54:40.423Z"
      },
      {
        "duration": 5,
        "start_time": "2022-07-31T10:54:40.683Z"
      },
      {
        "duration": 19,
        "start_time": "2022-07-31T10:54:40.987Z"
      },
      {
        "duration": 6,
        "start_time": "2022-07-31T10:54:41.292Z"
      },
      {
        "duration": 6,
        "start_time": "2022-07-31T10:54:41.582Z"
      },
      {
        "duration": 3,
        "start_time": "2022-07-31T10:54:43.590Z"
      },
      {
        "duration": 5,
        "start_time": "2022-07-31T10:54:43.827Z"
      },
      {
        "duration": 2,
        "start_time": "2022-07-31T10:54:44.073Z"
      },
      {
        "duration": 5,
        "start_time": "2022-07-31T10:54:44.341Z"
      },
      {
        "duration": 8,
        "start_time": "2022-07-31T10:54:45.680Z"
      },
      {
        "duration": 13,
        "start_time": "2022-07-31T10:54:46.184Z"
      },
      {
        "duration": 3,
        "start_time": "2022-07-31T10:54:48.283Z"
      },
      {
        "duration": 4,
        "start_time": "2022-07-31T10:54:55.809Z"
      },
      {
        "duration": 4,
        "start_time": "2022-07-31T10:54:56.268Z"
      },
      {
        "duration": 2804,
        "start_time": "2022-07-31T10:54:57.085Z"
      },
      {
        "duration": 0,
        "start_time": "2022-07-31T10:54:59.891Z"
      },
      {
        "duration": 0,
        "start_time": "2022-07-31T10:54:59.892Z"
      },
      {
        "duration": 3,
        "start_time": "2022-07-31T10:55:08.722Z"
      },
      {
        "duration": 3,
        "start_time": "2022-07-31T10:55:15.091Z"
      },
      {
        "duration": 879,
        "start_time": "2022-07-31T10:55:16.122Z"
      },
      {
        "duration": 11,
        "start_time": "2022-07-31T10:55:17.379Z"
      },
      {
        "duration": 222,
        "start_time": "2022-07-31T10:55:20.781Z"
      },
      {
        "duration": 36433,
        "start_time": "2022-07-31T10:55:45.393Z"
      },
      {
        "duration": 5,
        "start_time": "2022-07-31T10:56:21.829Z"
      },
      {
        "duration": 28,
        "start_time": "2022-07-31T10:56:21.835Z"
      },
      {
        "duration": 15865,
        "start_time": "2022-07-31T10:56:21.869Z"
      },
      {
        "duration": 50003,
        "start_time": "2022-07-31T10:57:45.640Z"
      },
      {
        "duration": 4,
        "start_time": "2022-07-31T10:58:35.645Z"
      },
      {
        "duration": 13,
        "start_time": "2022-07-31T10:58:35.651Z"
      },
      {
        "duration": 16016,
        "start_time": "2022-07-31T10:58:35.666Z"
      },
      {
        "duration": 61762,
        "start_time": "2022-07-31T11:00:16.473Z"
      },
      {
        "duration": 4,
        "start_time": "2022-07-31T11:01:18.237Z"
      },
      {
        "duration": 15,
        "start_time": "2022-07-31T11:01:18.243Z"
      },
      {
        "duration": 16264,
        "start_time": "2022-07-31T11:01:18.260Z"
      },
      {
        "duration": 60584,
        "start_time": "2022-07-31T11:07:35.481Z"
      },
      {
        "duration": 4,
        "start_time": "2022-07-31T11:08:36.067Z"
      },
      {
        "duration": 18,
        "start_time": "2022-07-31T11:08:36.073Z"
      },
      {
        "duration": 15964,
        "start_time": "2022-07-31T11:08:36.093Z"
      },
      {
        "duration": 48540,
        "start_time": "2022-07-31T11:11:12.501Z"
      },
      {
        "duration": 6,
        "start_time": "2022-07-31T11:12:01.043Z"
      },
      {
        "duration": 51,
        "start_time": "2022-07-31T11:12:01.051Z"
      },
      {
        "duration": 17162,
        "start_time": "2022-07-31T11:12:01.104Z"
      },
      {
        "duration": 20154,
        "start_time": "2022-07-31T11:13:55.768Z"
      },
      {
        "duration": 11,
        "start_time": "2022-07-31T11:14:15.923Z"
      },
      {
        "duration": 30,
        "start_time": "2022-07-31T11:14:15.941Z"
      },
      {
        "duration": 16487,
        "start_time": "2022-07-31T11:14:15.973Z"
      },
      {
        "duration": 23362,
        "start_time": "2022-07-31T11:17:02.877Z"
      },
      {
        "duration": 4,
        "start_time": "2022-07-31T11:17:26.242Z"
      },
      {
        "duration": 13,
        "start_time": "2022-07-31T11:17:26.248Z"
      },
      {
        "duration": 16571,
        "start_time": "2022-07-31T11:17:26.263Z"
      },
      {
        "duration": 92064,
        "start_time": "2022-07-31T11:20:08.404Z"
      },
      {
        "duration": 5,
        "start_time": "2022-07-31T11:21:40.470Z"
      },
      {
        "duration": 17,
        "start_time": "2022-07-31T11:21:40.477Z"
      },
      {
        "duration": 17121,
        "start_time": "2022-07-31T11:21:40.496Z"
      },
      {
        "duration": 23685,
        "start_time": "2022-07-31T11:26:36.324Z"
      },
      {
        "duration": 7,
        "start_time": "2022-07-31T11:27:00.019Z"
      },
      {
        "duration": 17,
        "start_time": "2022-07-31T11:27:00.029Z"
      },
      {
        "duration": 16547,
        "start_time": "2022-07-31T11:27:00.049Z"
      },
      {
        "duration": 115,
        "start_time": "2022-07-31T11:34:35.435Z"
      },
      {
        "duration": 18,
        "start_time": "2022-07-31T11:34:35.905Z"
      },
      {
        "duration": 22,
        "start_time": "2022-07-31T11:34:36.109Z"
      },
      {
        "duration": 11,
        "start_time": "2022-07-31T11:34:36.507Z"
      },
      {
        "duration": 29,
        "start_time": "2022-07-31T11:34:36.695Z"
      },
      {
        "duration": 6,
        "start_time": "2022-07-31T11:34:36.896Z"
      },
      {
        "duration": 6,
        "start_time": "2022-07-31T11:34:37.489Z"
      },
      {
        "duration": 4,
        "start_time": "2022-07-31T11:34:37.680Z"
      },
      {
        "duration": 9,
        "start_time": "2022-07-31T11:34:37.872Z"
      },
      {
        "duration": 4,
        "start_time": "2022-07-31T11:34:38.050Z"
      },
      {
        "duration": 3,
        "start_time": "2022-07-31T11:34:38.245Z"
      },
      {
        "duration": 11,
        "start_time": "2022-07-31T11:34:38.417Z"
      },
      {
        "duration": 269,
        "start_time": "2022-07-31T11:34:38.588Z"
      },
      {
        "duration": 117,
        "start_time": "2022-07-31T11:34:39.246Z"
      },
      {
        "duration": 106,
        "start_time": "2022-07-31T11:34:39.445Z"
      },
      {
        "duration": 22,
        "start_time": "2022-07-31T11:34:39.702Z"
      },
      {
        "duration": 6,
        "start_time": "2022-07-31T11:34:40.266Z"
      },
      {
        "duration": 14,
        "start_time": "2022-07-31T11:34:40.509Z"
      },
      {
        "duration": 2,
        "start_time": "2022-07-31T11:34:41.024Z"
      },
      {
        "duration": 16,
        "start_time": "2022-07-31T11:34:42.144Z"
      },
      {
        "duration": 14,
        "start_time": "2022-07-31T11:34:42.710Z"
      },
      {
        "duration": 2,
        "start_time": "2022-07-31T11:34:42.997Z"
      },
      {
        "duration": 11,
        "start_time": "2022-07-31T11:34:43.294Z"
      },
      {
        "duration": 13,
        "start_time": "2022-07-31T11:34:43.581Z"
      },
      {
        "duration": 3,
        "start_time": "2022-07-31T11:34:43.865Z"
      },
      {
        "duration": 2,
        "start_time": "2022-07-31T11:34:44.157Z"
      },
      {
        "duration": 3,
        "start_time": "2022-07-31T11:34:44.425Z"
      },
      {
        "duration": 7,
        "start_time": "2022-07-31T11:34:44.992Z"
      },
      {
        "duration": 6,
        "start_time": "2022-07-31T11:34:45.280Z"
      },
      {
        "duration": 2,
        "start_time": "2022-07-31T11:34:45.574Z"
      },
      {
        "duration": 2,
        "start_time": "2022-07-31T11:34:45.969Z"
      },
      {
        "duration": 2,
        "start_time": "2022-07-31T11:34:46.368Z"
      },
      {
        "duration": 7,
        "start_time": "2022-07-31T11:34:47.025Z"
      },
      {
        "duration": 9,
        "start_time": "2022-07-31T11:34:47.363Z"
      },
      {
        "duration": 14,
        "start_time": "2022-07-31T11:34:47.666Z"
      },
      {
        "duration": 16,
        "start_time": "2022-07-31T11:34:48.397Z"
      },
      {
        "duration": 5,
        "start_time": "2022-07-31T11:34:48.847Z"
      },
      {
        "duration": 16,
        "start_time": "2022-07-31T11:34:49.390Z"
      },
      {
        "duration": 17,
        "start_time": "2022-07-31T11:34:49.783Z"
      },
      {
        "duration": 7,
        "start_time": "2022-07-31T11:34:50.787Z"
      },
      {
        "duration": 5,
        "start_time": "2022-07-31T11:34:53.964Z"
      },
      {
        "duration": 18,
        "start_time": "2022-07-31T11:34:54.330Z"
      },
      {
        "duration": 4,
        "start_time": "2022-07-31T11:34:57.028Z"
      },
      {
        "duration": 25,
        "start_time": "2022-07-31T11:34:57.380Z"
      },
      {
        "duration": 19,
        "start_time": "2022-07-31T11:34:57.847Z"
      },
      {
        "duration": 5,
        "start_time": "2022-07-31T11:34:58.203Z"
      },
      {
        "duration": 19,
        "start_time": "2022-07-31T11:34:58.471Z"
      },
      {
        "duration": 6,
        "start_time": "2022-07-31T11:34:58.746Z"
      },
      {
        "duration": 5,
        "start_time": "2022-07-31T11:34:58.971Z"
      },
      {
        "duration": 3,
        "start_time": "2022-07-31T11:35:00.370Z"
      },
      {
        "duration": 2,
        "start_time": "2022-07-31T11:35:00.673Z"
      },
      {
        "duration": 2,
        "start_time": "2022-07-31T11:35:00.968Z"
      },
      {
        "duration": 5,
        "start_time": "2022-07-31T11:35:01.204Z"
      },
      {
        "duration": 10,
        "start_time": "2022-07-31T11:35:02.047Z"
      },
      {
        "duration": 14,
        "start_time": "2022-07-31T11:35:02.367Z"
      },
      {
        "duration": 3,
        "start_time": "2022-07-31T11:35:03.871Z"
      },
      {
        "duration": 30253,
        "start_time": "2022-07-31T11:35:31.476Z"
      },
      {
        "duration": 4,
        "start_time": "2022-07-31T11:36:01.732Z"
      },
      {
        "duration": 14,
        "start_time": "2022-07-31T11:36:01.738Z"
      },
      {
        "duration": 17520,
        "start_time": "2022-07-31T11:36:01.755Z"
      },
      {
        "duration": 22,
        "start_time": "2022-07-31T11:37:16.371Z"
      },
      {
        "duration": 9,
        "start_time": "2022-07-31T11:37:16.954Z"
      },
      {
        "duration": 7,
        "start_time": "2022-07-31T11:37:21.607Z"
      },
      {
        "duration": 11,
        "start_time": "2022-07-31T11:37:36.395Z"
      },
      {
        "duration": 13,
        "start_time": "2022-07-31T11:37:41.268Z"
      },
      {
        "duration": 15,
        "start_time": "2022-07-31T11:37:42.691Z"
      },
      {
        "duration": 6,
        "start_time": "2022-07-31T11:37:42.995Z"
      },
      {
        "duration": 18,
        "start_time": "2022-07-31T11:37:43.263Z"
      },
      {
        "duration": 27,
        "start_time": "2022-07-31T11:37:43.567Z"
      },
      {
        "duration": 8,
        "start_time": "2022-07-31T11:37:45.983Z"
      },
      {
        "duration": 5,
        "start_time": "2022-07-31T11:37:49.967Z"
      },
      {
        "duration": 28,
        "start_time": "2022-07-31T11:37:50.498Z"
      },
      {
        "duration": 5,
        "start_time": "2022-07-31T11:37:50.902Z"
      },
      {
        "duration": 22,
        "start_time": "2022-07-31T11:37:51.637Z"
      },
      {
        "duration": 19,
        "start_time": "2022-07-31T11:37:52.387Z"
      },
      {
        "duration": 5,
        "start_time": "2022-07-31T11:37:52.746Z"
      },
      {
        "duration": 23,
        "start_time": "2022-07-31T11:37:53.507Z"
      },
      {
        "duration": 6,
        "start_time": "2022-07-31T11:37:53.823Z"
      },
      {
        "duration": 6,
        "start_time": "2022-07-31T11:37:54.204Z"
      },
      {
        "duration": 3,
        "start_time": "2022-07-31T11:37:55.863Z"
      },
      {
        "duration": 3,
        "start_time": "2022-07-31T11:37:56.068Z"
      },
      {
        "duration": 13,
        "start_time": "2022-07-31T11:37:56.412Z"
      },
      {
        "duration": 5,
        "start_time": "2022-07-31T11:37:56.887Z"
      },
      {
        "duration": 9,
        "start_time": "2022-07-31T11:37:59.136Z"
      },
      {
        "duration": 15,
        "start_time": "2022-07-31T11:37:59.767Z"
      },
      {
        "duration": 7684,
        "start_time": "2022-07-31T11:38:09.266Z"
      },
      {
        "duration": 0,
        "start_time": "2022-07-31T11:38:16.952Z"
      },
      {
        "duration": 0,
        "start_time": "2022-07-31T11:38:16.954Z"
      },
      {
        "duration": 0,
        "start_time": "2022-07-31T11:38:16.955Z"
      },
      {
        "duration": 17,
        "start_time": "2022-07-31T14:02:17.834Z"
      },
      {
        "duration": 15,
        "start_time": "2022-07-31T14:09:25.251Z"
      },
      {
        "duration": 9,
        "start_time": "2022-07-31T14:11:30.978Z"
      },
      {
        "duration": 10,
        "start_time": "2022-07-31T14:12:42.538Z"
      },
      {
        "duration": 4,
        "start_time": "2022-07-31T14:17:20.986Z"
      },
      {
        "duration": 112,
        "start_time": "2022-07-31T14:17:21.373Z"
      },
      {
        "duration": 12,
        "start_time": "2022-07-31T14:17:22.156Z"
      },
      {
        "duration": 14,
        "start_time": "2022-07-31T14:17:22.411Z"
      },
      {
        "duration": 8,
        "start_time": "2022-07-31T14:17:23.087Z"
      },
      {
        "duration": 16,
        "start_time": "2022-07-31T14:17:23.431Z"
      },
      {
        "duration": 5,
        "start_time": "2022-07-31T14:17:23.751Z"
      },
      {
        "duration": 8,
        "start_time": "2022-07-31T14:17:24.373Z"
      },
      {
        "duration": 5,
        "start_time": "2022-07-31T14:17:24.646Z"
      },
      {
        "duration": 8,
        "start_time": "2022-07-31T14:17:24.984Z"
      },
      {
        "duration": 5,
        "start_time": "2022-07-31T14:17:25.259Z"
      },
      {
        "duration": 4,
        "start_time": "2022-07-31T14:17:25.555Z"
      },
      {
        "duration": 4,
        "start_time": "2022-07-31T14:17:25.858Z"
      },
      {
        "duration": 244,
        "start_time": "2022-07-31T14:17:26.220Z"
      },
      {
        "duration": 114,
        "start_time": "2022-07-31T14:17:26.633Z"
      },
      {
        "duration": 100,
        "start_time": "2022-07-31T14:17:27.059Z"
      },
      {
        "duration": 16,
        "start_time": "2022-07-31T14:17:27.410Z"
      },
      {
        "duration": 6,
        "start_time": "2022-07-31T14:17:27.756Z"
      },
      {
        "duration": 5,
        "start_time": "2022-07-31T14:17:28.116Z"
      },
      {
        "duration": 13,
        "start_time": "2022-07-31T14:17:28.462Z"
      },
      {
        "duration": 9,
        "start_time": "2022-07-31T14:17:29.003Z"
      },
      {
        "duration": 13,
        "start_time": "2022-07-31T14:17:29.284Z"
      },
      {
        "duration": 11,
        "start_time": "2022-07-31T14:17:29.863Z"
      },
      {
        "duration": 13,
        "start_time": "2022-07-31T14:17:30.178Z"
      },
      {
        "duration": 7,
        "start_time": "2022-07-31T14:17:30.699Z"
      },
      {
        "duration": 11,
        "start_time": "2022-07-31T14:17:30.964Z"
      },
      {
        "duration": 8,
        "start_time": "2022-07-31T14:17:31.584Z"
      },
      {
        "duration": 19,
        "start_time": "2022-07-31T14:17:31.897Z"
      },
      {
        "duration": 17,
        "start_time": "2022-07-31T14:17:32.513Z"
      },
      {
        "duration": 17,
        "start_time": "2022-07-31T14:17:32.961Z"
      },
      {
        "duration": 10,
        "start_time": "2022-07-31T14:20:16.993Z"
      },
      {
        "duration": 10,
        "start_time": "2022-07-31T14:20:22.438Z"
      },
      {
        "duration": 3,
        "start_time": "2022-07-31T14:21:39.651Z"
      },
      {
        "duration": 73,
        "start_time": "2022-07-31T14:25:07.973Z"
      },
      {
        "duration": 236,
        "start_time": "2022-07-31T14:25:18.881Z"
      },
      {
        "duration": 21,
        "start_time": "2022-07-31T14:25:51.829Z"
      },
      {
        "duration": 6,
        "start_time": "2022-07-31T14:26:47.301Z"
      },
      {
        "duration": 27,
        "start_time": "2022-07-31T14:26:47.880Z"
      },
      {
        "duration": 17,
        "start_time": "2022-07-31T14:26:48.388Z"
      },
      {
        "duration": 4,
        "start_time": "2022-07-31T14:27:09.994Z"
      },
      {
        "duration": 29,
        "start_time": "2022-07-31T14:27:10.364Z"
      },
      {
        "duration": 17,
        "start_time": "2022-07-31T14:27:10.888Z"
      },
      {
        "duration": 4,
        "start_time": "2022-07-31T14:47:23.592Z"
      },
      {
        "duration": 5,
        "start_time": "2022-07-31T14:47:24.566Z"
      },
      {
        "duration": 24,
        "start_time": "2022-07-31T14:47:25.604Z"
      },
      {
        "duration": 20,
        "start_time": "2022-07-31T14:47:26.467Z"
      },
      {
        "duration": 5,
        "start_time": "2022-07-31T14:47:30.334Z"
      },
      {
        "duration": 4,
        "start_time": "2022-07-31T14:47:31.988Z"
      },
      {
        "duration": 6,
        "start_time": "2022-07-31T14:47:51.966Z"
      },
      {
        "duration": 4,
        "start_time": "2022-07-31T14:50:43.166Z"
      },
      {
        "duration": 6,
        "start_time": "2022-07-31T14:50:43.891Z"
      },
      {
        "duration": 23,
        "start_time": "2022-07-31T14:50:45.477Z"
      },
      {
        "duration": 13,
        "start_time": "2022-07-31T14:51:19.937Z"
      },
      {
        "duration": 55,
        "start_time": "2022-07-31T14:51:53.578Z"
      },
      {
        "duration": 27,
        "start_time": "2022-07-31T14:52:07.615Z"
      },
      {
        "duration": 27,
        "start_time": "2022-07-31T14:53:38.411Z"
      },
      {
        "duration": 4,
        "start_time": "2022-07-31T15:02:03.261Z"
      },
      {
        "duration": 113,
        "start_time": "2022-07-31T15:02:03.563Z"
      },
      {
        "duration": 12,
        "start_time": "2022-07-31T15:02:04.307Z"
      },
      {
        "duration": 14,
        "start_time": "2022-07-31T15:02:04.527Z"
      },
      {
        "duration": 9,
        "start_time": "2022-07-31T15:02:04.962Z"
      },
      {
        "duration": 21,
        "start_time": "2022-07-31T15:02:05.186Z"
      },
      {
        "duration": 6,
        "start_time": "2022-07-31T15:02:05.386Z"
      },
      {
        "duration": 7,
        "start_time": "2022-07-31T15:02:05.813Z"
      },
      {
        "duration": 5,
        "start_time": "2022-07-31T15:02:06.021Z"
      },
      {
        "duration": 9,
        "start_time": "2022-07-31T15:02:06.223Z"
      },
      {
        "duration": 4,
        "start_time": "2022-07-31T15:02:06.420Z"
      },
      {
        "duration": 3,
        "start_time": "2022-07-31T15:02:06.626Z"
      },
      {
        "duration": 5,
        "start_time": "2022-07-31T15:02:06.837Z"
      },
      {
        "duration": 248,
        "start_time": "2022-07-31T15:02:07.063Z"
      },
      {
        "duration": 140,
        "start_time": "2022-07-31T15:02:07.314Z"
      },
      {
        "duration": 109,
        "start_time": "2022-07-31T15:02:07.465Z"
      },
      {
        "duration": 16,
        "start_time": "2022-07-31T15:02:07.679Z"
      },
      {
        "duration": 5,
        "start_time": "2022-07-31T15:02:07.897Z"
      },
      {
        "duration": 5,
        "start_time": "2022-07-31T15:02:08.112Z"
      },
      {
        "duration": 15,
        "start_time": "2022-07-31T15:02:08.329Z"
      },
      {
        "duration": 9,
        "start_time": "2022-07-31T15:02:08.789Z"
      },
      {
        "duration": 15,
        "start_time": "2022-07-31T15:02:09.027Z"
      },
      {
        "duration": 12,
        "start_time": "2022-07-31T15:02:09.501Z"
      },
      {
        "duration": 14,
        "start_time": "2022-07-31T15:02:09.777Z"
      },
      {
        "duration": 10,
        "start_time": "2022-07-31T15:02:10.234Z"
      },
      {
        "duration": 13,
        "start_time": "2022-07-31T15:02:10.463Z"
      },
      {
        "duration": 9,
        "start_time": "2022-07-31T15:02:10.887Z"
      },
      {
        "duration": 14,
        "start_time": "2022-07-31T15:02:11.098Z"
      },
      {
        "duration": 6,
        "start_time": "2022-07-31T15:02:11.298Z"
      },
      {
        "duration": 18,
        "start_time": "2022-07-31T15:02:11.729Z"
      },
      {
        "duration": 22,
        "start_time": "2022-07-31T15:02:11.988Z"
      },
      {
        "duration": 4,
        "start_time": "2022-07-31T15:02:12.191Z"
      },
      {
        "duration": 6,
        "start_time": "2022-07-31T15:02:12.414Z"
      },
      {
        "duration": 24,
        "start_time": "2022-07-31T15:02:12.665Z"
      },
      {
        "duration": 20,
        "start_time": "2022-07-31T15:02:12.887Z"
      },
      {
        "duration": 5,
        "start_time": "2022-07-31T15:02:13.129Z"
      },
      {
        "duration": 5,
        "start_time": "2022-07-31T15:02:13.407Z"
      },
      {
        "duration": 4,
        "start_time": "2022-07-31T15:02:13.883Z"
      },
      {
        "duration": 31,
        "start_time": "2022-07-31T15:02:14.110Z"
      },
      {
        "duration": 6,
        "start_time": "2022-07-31T15:02:14.356Z"
      },
      {
        "duration": 9,
        "start_time": "2022-07-31T15:02:15.085Z"
      },
      {
        "duration": 224,
        "start_time": "2022-07-31T15:02:15.363Z"
      },
      {
        "duration": 15,
        "start_time": "2022-07-31T15:02:15.601Z"
      },
      {
        "duration": 11,
        "start_time": "2022-07-31T15:02:15.885Z"
      },
      {
        "duration": 10,
        "start_time": "2022-07-31T15:03:26.819Z"
      },
      {
        "duration": 10,
        "start_time": "2022-07-31T15:03:37.263Z"
      },
      {
        "duration": 3,
        "start_time": "2022-07-31T15:04:02.665Z"
      },
      {
        "duration": 4,
        "start_time": "2022-07-31T15:04:03.327Z"
      },
      {
        "duration": 93526,
        "start_time": "2022-07-31T15:04:09.354Z"
      },
      {
        "duration": 14,
        "start_time": "2022-07-31T15:05:42.882Z"
      },
      {
        "duration": 12,
        "start_time": "2022-07-31T15:05:42.898Z"
      },
      {
        "duration": 14,
        "start_time": "2022-07-31T15:06:37.207Z"
      },
      {
        "duration": 4,
        "start_time": "2022-07-31T15:10:41.124Z"
      },
      {
        "duration": 75,
        "start_time": "2022-07-31T15:11:50.952Z"
      },
      {
        "duration": 10,
        "start_time": "2022-07-31T15:12:09.659Z"
      },
      {
        "duration": 17565,
        "start_time": "2022-07-31T15:12:20.288Z"
      },
      {
        "duration": 26,
        "start_time": "2022-07-31T15:12:57.206Z"
      },
      {
        "duration": 260,
        "start_time": "2022-07-31T15:13:05.750Z"
      },
      {
        "duration": 5,
        "start_time": "2022-07-31T15:13:32.809Z"
      },
      {
        "duration": 12,
        "start_time": "2022-07-31T15:13:35.291Z"
      },
      {
        "duration": 4,
        "start_time": "2022-07-31T15:13:39.983Z"
      },
      {
        "duration": 88126,
        "start_time": "2022-07-31T15:13:42.004Z"
      },
      {
        "duration": 5,
        "start_time": "2022-07-31T15:15:10.132Z"
      },
      {
        "duration": 15,
        "start_time": "2022-07-31T15:15:10.138Z"
      },
      {
        "duration": 16192,
        "start_time": "2022-07-31T15:15:10.155Z"
      },
      {
        "duration": 17,
        "start_time": "2022-07-31T15:15:26.349Z"
      },
      {
        "duration": 266,
        "start_time": "2022-07-31T15:15:26.367Z"
      },
      {
        "duration": 4,
        "start_time": "2022-07-31T15:20:59.179Z"
      },
      {
        "duration": 5,
        "start_time": "2022-07-31T15:20:59.839Z"
      },
      {
        "duration": 25,
        "start_time": "2022-07-31T15:21:01.325Z"
      },
      {
        "duration": 17,
        "start_time": "2022-07-31T15:21:04.503Z"
      },
      {
        "duration": 8,
        "start_time": "2022-07-31T15:23:24.641Z"
      },
      {
        "duration": 34,
        "start_time": "2022-07-31T15:23:29.751Z"
      },
      {
        "duration": 5,
        "start_time": "2022-07-31T15:25:36.371Z"
      },
      {
        "duration": 10,
        "start_time": "2022-07-31T15:25:37.584Z"
      },
      {
        "duration": 24,
        "start_time": "2022-07-31T15:25:38.435Z"
      },
      {
        "duration": 1253,
        "start_time": "2022-07-31T15:27:08.620Z"
      },
      {
        "duration": 1300,
        "start_time": "2022-07-31T15:30:12.303Z"
      },
      {
        "duration": 22,
        "start_time": "2022-07-31T15:30:50.445Z"
      },
      {
        "duration": 1246,
        "start_time": "2022-07-31T15:31:22.770Z"
      },
      {
        "duration": 1260,
        "start_time": "2022-07-31T15:31:41.268Z"
      },
      {
        "duration": 21,
        "start_time": "2022-07-31T15:31:56.829Z"
      },
      {
        "duration": 7,
        "start_time": "2022-07-31T15:32:28.860Z"
      },
      {
        "duration": 17,
        "start_time": "2022-07-31T15:32:48.934Z"
      },
      {
        "duration": 4,
        "start_time": "2022-07-31T15:36:43.869Z"
      },
      {
        "duration": 7,
        "start_time": "2022-07-31T15:36:44.404Z"
      },
      {
        "duration": 26,
        "start_time": "2022-07-31T15:36:44.820Z"
      },
      {
        "duration": 18,
        "start_time": "2022-07-31T15:36:45.518Z"
      },
      {
        "duration": 5,
        "start_time": "2022-07-31T15:36:53.144Z"
      },
      {
        "duration": 4,
        "start_time": "2022-07-31T15:36:53.516Z"
      },
      {
        "duration": 4,
        "start_time": "2022-07-31T15:36:54.784Z"
      },
      {
        "duration": 33,
        "start_time": "2022-07-31T15:36:55.200Z"
      },
      {
        "duration": 6,
        "start_time": "2022-07-31T15:36:55.575Z"
      },
      {
        "duration": 5,
        "start_time": "2022-07-31T15:38:01.774Z"
      },
      {
        "duration": 8,
        "start_time": "2022-07-31T15:38:04.441Z"
      },
      {
        "duration": 26,
        "start_time": "2022-07-31T15:38:05.458Z"
      },
      {
        "duration": 7,
        "start_time": "2022-07-31T15:38:07.656Z"
      },
      {
        "duration": 1305,
        "start_time": "2022-07-31T15:38:08.724Z"
      },
      {
        "duration": 1309,
        "start_time": "2022-07-31T15:38:27.792Z"
      },
      {
        "duration": 1166,
        "start_time": "2022-07-31T15:39:06.024Z"
      },
      {
        "duration": 15,
        "start_time": "2022-07-31T15:39:21.594Z"
      },
      {
        "duration": 10,
        "start_time": "2022-07-31T15:39:41.348Z"
      },
      {
        "duration": 15,
        "start_time": "2022-07-31T15:40:10.810Z"
      },
      {
        "duration": 33,
        "start_time": "2022-07-31T15:40:16.917Z"
      },
      {
        "duration": 26,
        "start_time": "2022-07-31T15:40:52.786Z"
      },
      {
        "duration": 16,
        "start_time": "2022-07-31T15:41:41.153Z"
      },
      {
        "duration": 26,
        "start_time": "2022-07-31T15:41:42.119Z"
      },
      {
        "duration": 3,
        "start_time": "2022-07-31T15:42:05.281Z"
      },
      {
        "duration": 90302,
        "start_time": "2022-07-31T15:42:05.756Z"
      },
      {
        "duration": 5,
        "start_time": "2022-07-31T15:43:36.061Z"
      },
      {
        "duration": 15,
        "start_time": "2022-07-31T15:43:36.068Z"
      },
      {
        "duration": 17044,
        "start_time": "2022-07-31T15:43:36.086Z"
      },
      {
        "duration": 19,
        "start_time": "2022-07-31T15:43:53.132Z"
      },
      {
        "duration": 280,
        "start_time": "2022-07-31T15:43:53.153Z"
      },
      {
        "duration": 3,
        "start_time": "2022-07-31T15:44:54.282Z"
      },
      {
        "duration": 6,
        "start_time": "2022-07-31T15:44:54.610Z"
      },
      {
        "duration": 24,
        "start_time": "2022-07-31T15:44:54.875Z"
      },
      {
        "duration": 16,
        "start_time": "2022-07-31T15:44:55.101Z"
      },
      {
        "duration": 7,
        "start_time": "2022-07-31T15:44:55.365Z"
      },
      {
        "duration": 6,
        "start_time": "2022-07-31T15:44:55.581Z"
      },
      {
        "duration": 4,
        "start_time": "2022-07-31T15:44:56.059Z"
      },
      {
        "duration": 43,
        "start_time": "2022-07-31T15:44:56.274Z"
      },
      {
        "duration": 5,
        "start_time": "2022-07-31T15:44:56.502Z"
      },
      {
        "duration": 5,
        "start_time": "2022-07-31T15:44:57.628Z"
      },
      {
        "duration": 8,
        "start_time": "2022-07-31T15:44:57.947Z"
      },
      {
        "duration": 3,
        "start_time": "2022-07-31T15:44:58.221Z"
      },
      {
        "duration": 3,
        "start_time": "2022-07-31T15:44:58.507Z"
      },
      {
        "duration": 81925,
        "start_time": "2022-07-31T15:44:58.828Z"
      },
      {
        "duration": 5,
        "start_time": "2022-07-31T15:46:20.755Z"
      },
      {
        "duration": 17,
        "start_time": "2022-07-31T15:46:20.762Z"
      },
      {
        "duration": 15813,
        "start_time": "2022-07-31T15:46:20.782Z"
      },
      {
        "duration": 24,
        "start_time": "2022-07-31T15:46:36.598Z"
      },
      {
        "duration": 235,
        "start_time": "2022-07-31T15:46:36.625Z"
      },
      {
        "duration": 4,
        "start_time": "2022-07-31T15:49:16.674Z"
      },
      {
        "duration": 6,
        "start_time": "2022-07-31T15:49:16.960Z"
      },
      {
        "duration": 23,
        "start_time": "2022-07-31T15:49:17.191Z"
      },
      {
        "duration": 16,
        "start_time": "2022-07-31T15:49:17.506Z"
      },
      {
        "duration": 5,
        "start_time": "2022-07-31T15:49:17.680Z"
      },
      {
        "duration": 5,
        "start_time": "2022-07-31T15:49:17.916Z"
      },
      {
        "duration": 4,
        "start_time": "2022-07-31T15:49:18.387Z"
      },
      {
        "duration": 29,
        "start_time": "2022-07-31T15:49:18.638Z"
      },
      {
        "duration": 5,
        "start_time": "2022-07-31T15:49:18.858Z"
      },
      {
        "duration": 5,
        "start_time": "2022-07-31T15:49:19.899Z"
      },
      {
        "duration": 5,
        "start_time": "2022-07-31T15:49:20.252Z"
      },
      {
        "duration": 8,
        "start_time": "2022-07-31T15:49:20.608Z"
      },
      {
        "duration": 3,
        "start_time": "2022-07-31T15:49:20.974Z"
      },
      {
        "duration": 3,
        "start_time": "2022-07-31T15:49:21.362Z"
      },
      {
        "duration": 80243,
        "start_time": "2022-07-31T15:49:21.851Z"
      },
      {
        "duration": 4,
        "start_time": "2022-07-31T15:50:42.096Z"
      },
      {
        "duration": 16,
        "start_time": "2022-07-31T15:50:42.102Z"
      },
      {
        "duration": 15525,
        "start_time": "2022-07-31T15:50:42.121Z"
      },
      {
        "duration": 15,
        "start_time": "2022-07-31T15:50:57.648Z"
      },
      {
        "duration": 245,
        "start_time": "2022-07-31T15:50:57.665Z"
      },
      {
        "duration": 6,
        "start_time": "2022-07-31T15:58:25.313Z"
      },
      {
        "duration": 5,
        "start_time": "2022-07-31T15:58:26.041Z"
      },
      {
        "duration": 307,
        "start_time": "2022-07-31T15:58:27.026Z"
      },
      {
        "duration": 4,
        "start_time": "2022-07-31T15:59:53.488Z"
      },
      {
        "duration": 6,
        "start_time": "2022-07-31T15:59:53.954Z"
      },
      {
        "duration": 12,
        "start_time": "2022-07-31T15:59:56.275Z"
      },
      {
        "duration": 293,
        "start_time": "2022-07-31T15:59:57.158Z"
      },
      {
        "duration": 25,
        "start_time": "2022-07-31T16:00:20.807Z"
      },
      {
        "duration": 14,
        "start_time": "2022-07-31T16:00:40.937Z"
      },
      {
        "duration": 13,
        "start_time": "2022-07-31T16:00:51.414Z"
      },
      {
        "duration": 13,
        "start_time": "2022-07-31T16:00:52.116Z"
      },
      {
        "duration": 13,
        "start_time": "2022-07-31T16:01:30.553Z"
      },
      {
        "duration": 16,
        "start_time": "2022-07-31T16:01:30.997Z"
      },
      {
        "duration": 351,
        "start_time": "2022-07-31T16:01:32.037Z"
      },
      {
        "duration": 4,
        "start_time": "2022-07-31T16:02:38.166Z"
      },
      {
        "duration": 6,
        "start_time": "2022-07-31T16:02:38.589Z"
      },
      {
        "duration": 29,
        "start_time": "2022-07-31T16:02:39.264Z"
      },
      {
        "duration": 20,
        "start_time": "2022-07-31T16:02:39.808Z"
      },
      {
        "duration": 17,
        "start_time": "2022-07-31T16:03:03.540Z"
      },
      {
        "duration": 7,
        "start_time": "2022-07-31T16:03:48.984Z"
      },
      {
        "duration": 4,
        "start_time": "2022-07-31T16:03:55.464Z"
      },
      {
        "duration": 6,
        "start_time": "2022-07-31T16:03:56.211Z"
      },
      {
        "duration": 27,
        "start_time": "2022-07-31T16:04:08.360Z"
      },
      {
        "duration": 18,
        "start_time": "2022-07-31T16:04:09.307Z"
      },
      {
        "duration": 18,
        "start_time": "2022-07-31T16:04:39.818Z"
      },
      {
        "duration": 18,
        "start_time": "2022-07-31T16:05:16.809Z"
      },
      {
        "duration": 7,
        "start_time": "2022-07-31T16:05:17.415Z"
      },
      {
        "duration": 9,
        "start_time": "2022-07-31T16:05:17.669Z"
      },
      {
        "duration": 5,
        "start_time": "2022-07-31T16:05:18.215Z"
      },
      {
        "duration": 29,
        "start_time": "2022-07-31T16:05:18.462Z"
      },
      {
        "duration": 6,
        "start_time": "2022-07-31T16:05:18.705Z"
      },
      {
        "duration": 6,
        "start_time": "2022-07-31T16:05:19.851Z"
      },
      {
        "duration": 5,
        "start_time": "2022-07-31T16:05:20.364Z"
      },
      {
        "duration": 9,
        "start_time": "2022-07-31T16:05:20.739Z"
      },
      {
        "duration": 3,
        "start_time": "2022-07-31T16:05:21.140Z"
      },
      {
        "duration": 3,
        "start_time": "2022-07-31T16:05:21.540Z"
      },
      {
        "duration": 22055,
        "start_time": "2022-07-31T16:05:21.854Z"
      },
      {
        "duration": 0,
        "start_time": "2022-07-31T16:05:43.911Z"
      },
      {
        "duration": 0,
        "start_time": "2022-07-31T16:05:43.912Z"
      },
      {
        "duration": 0,
        "start_time": "2022-07-31T16:05:43.914Z"
      },
      {
        "duration": 0,
        "start_time": "2022-07-31T16:05:43.915Z"
      },
      {
        "duration": 0,
        "start_time": "2022-07-31T16:05:43.916Z"
      },
      {
        "duration": 4,
        "start_time": "2022-07-31T16:08:18.001Z"
      },
      {
        "duration": 16,
        "start_time": "2022-07-31T16:08:24.676Z"
      },
      {
        "duration": 35,
        "start_time": "2022-07-31T16:09:27.622Z"
      },
      {
        "duration": 3,
        "start_time": "2022-07-31T16:10:03.482Z"
      },
      {
        "duration": 5,
        "start_time": "2022-07-31T16:10:03.978Z"
      },
      {
        "duration": 30,
        "start_time": "2022-07-31T16:10:04.361Z"
      },
      {
        "duration": 19,
        "start_time": "2022-07-31T16:10:04.860Z"
      },
      {
        "duration": 6,
        "start_time": "2022-07-31T16:10:05.550Z"
      },
      {
        "duration": 2,
        "start_time": "2022-07-31T16:10:06.272Z"
      },
      {
        "duration": 6,
        "start_time": "2022-07-31T16:10:07.054Z"
      },
      {
        "duration": 7,
        "start_time": "2022-07-31T16:10:09.044Z"
      },
      {
        "duration": 26,
        "start_time": "2022-07-31T16:10:10.239Z"
      },
      {
        "duration": 17,
        "start_time": "2022-07-31T16:10:10.792Z"
      },
      {
        "duration": 8,
        "start_time": "2022-07-31T16:10:13.338Z"
      },
      {
        "duration": 4,
        "start_time": "2022-07-31T16:10:13.645Z"
      },
      {
        "duration": 4,
        "start_time": "2022-07-31T16:10:14.062Z"
      },
      {
        "duration": 28,
        "start_time": "2022-07-31T16:10:14.290Z"
      },
      {
        "duration": 5,
        "start_time": "2022-07-31T16:10:14.513Z"
      },
      {
        "duration": 5,
        "start_time": "2022-07-31T16:10:15.411Z"
      },
      {
        "duration": 4,
        "start_time": "2022-07-31T16:10:15.650Z"
      },
      {
        "duration": 9,
        "start_time": "2022-07-31T16:10:15.851Z"
      },
      {
        "duration": 3,
        "start_time": "2022-07-31T16:10:16.093Z"
      },
      {
        "duration": 3,
        "start_time": "2022-07-31T16:10:16.384Z"
      },
      {
        "duration": 22109,
        "start_time": "2022-07-31T16:10:16.671Z"
      },
      {
        "duration": 0,
        "start_time": "2022-07-31T16:10:38.783Z"
      },
      {
        "duration": 0,
        "start_time": "2022-07-31T16:10:38.785Z"
      },
      {
        "duration": 0,
        "start_time": "2022-07-31T16:10:38.786Z"
      },
      {
        "duration": 0,
        "start_time": "2022-07-31T16:10:38.787Z"
      },
      {
        "duration": 0,
        "start_time": "2022-07-31T16:10:38.789Z"
      },
      {
        "duration": 5,
        "start_time": "2022-07-31T16:12:24.590Z"
      },
      {
        "duration": 17,
        "start_time": "2022-07-31T16:12:50.790Z"
      },
      {
        "duration": 27,
        "start_time": "2022-07-31T16:13:45.208Z"
      },
      {
        "duration": 5,
        "start_time": "2022-07-31T16:42:34.405Z"
      },
      {
        "duration": 4,
        "start_time": "2022-07-31T16:44:31.120Z"
      },
      {
        "duration": 7,
        "start_time": "2022-07-31T16:44:31.722Z"
      },
      {
        "duration": 3,
        "start_time": "2022-07-31T16:44:32.628Z"
      },
      {
        "duration": 3,
        "start_time": "2022-07-31T16:44:34.388Z"
      },
      {
        "duration": 2,
        "start_time": "2022-07-31T16:44:34.708Z"
      },
      {
        "duration": 3,
        "start_time": "2022-07-31T16:44:35.328Z"
      },
      {
        "duration": 3,
        "start_time": "2022-07-31T16:44:36.024Z"
      },
      {
        "duration": 37,
        "start_time": "2022-07-31T16:44:36.522Z"
      },
      {
        "duration": 225,
        "start_time": "2022-07-31T16:44:37.043Z"
      },
      {
        "duration": 26,
        "start_time": "2022-07-31T16:44:38.633Z"
      },
      {
        "duration": 18,
        "start_time": "2022-07-31T16:44:39.417Z"
      },
      {
        "duration": 14,
        "start_time": "2022-07-31T16:44:40.916Z"
      },
      {
        "duration": 6,
        "start_time": "2022-07-31T16:44:42.925Z"
      },
      {
        "duration": 42,
        "start_time": "2022-07-31T16:44:43.404Z"
      },
      {
        "duration": 6,
        "start_time": "2022-07-31T16:44:43.677Z"
      },
      {
        "duration": 11,
        "start_time": "2022-07-31T16:44:44.619Z"
      },
      {
        "duration": 11,
        "start_time": "2022-07-31T16:44:44.991Z"
      },
      {
        "duration": 2,
        "start_time": "2022-07-31T16:44:45.368Z"
      },
      {
        "duration": 3,
        "start_time": "2022-07-31T16:44:46.256Z"
      },
      {
        "duration": 5,
        "start_time": "2022-07-31T16:44:46.753Z"
      },
      {
        "duration": 35,
        "start_time": "2022-07-31T16:44:47.566Z"
      },
      {
        "duration": 93830,
        "start_time": "2022-07-31T16:44:49.204Z"
      },
      {
        "duration": 4,
        "start_time": "2022-07-31T16:46:23.037Z"
      },
      {
        "duration": 16,
        "start_time": "2022-07-31T16:46:23.043Z"
      },
      {
        "duration": 17570,
        "start_time": "2022-07-31T16:46:23.061Z"
      },
      {
        "duration": 24,
        "start_time": "2022-07-31T16:46:40.633Z"
      },
      {
        "duration": 302,
        "start_time": "2022-07-31T16:46:40.659Z"
      },
      {
        "duration": 4,
        "start_time": "2022-07-31T16:49:21.767Z"
      },
      {
        "duration": 7,
        "start_time": "2022-07-31T16:49:22.114Z"
      },
      {
        "duration": 6,
        "start_time": "2022-07-31T16:49:22.415Z"
      },
      {
        "duration": 33,
        "start_time": "2022-07-31T16:49:22.663Z"
      },
      {
        "duration": 163,
        "start_time": "2022-07-31T16:49:22.865Z"
      },
      {
        "duration": 5,
        "start_time": "2022-07-31T16:49:23.080Z"
      },
      {
        "duration": 17,
        "start_time": "2022-07-31T16:49:23.291Z"
      },
      {
        "duration": 6,
        "start_time": "2022-07-31T16:49:23.514Z"
      },
      {
        "duration": 5,
        "start_time": "2022-07-31T16:49:23.757Z"
      },
      {
        "duration": 4,
        "start_time": "2022-07-31T16:49:24.297Z"
      },
      {
        "duration": 44,
        "start_time": "2022-07-31T16:49:24.513Z"
      },
      {
        "duration": 7,
        "start_time": "2022-07-31T16:49:24.729Z"
      },
      {
        "duration": 6,
        "start_time": "2022-07-31T16:49:25.835Z"
      },
      {
        "duration": 11,
        "start_time": "2022-07-31T16:49:26.228Z"
      },
      {
        "duration": 3,
        "start_time": "2022-07-31T16:49:27.372Z"
      },
      {
        "duration": 3,
        "start_time": "2022-07-31T16:49:30.112Z"
      },
      {
        "duration": 17434,
        "start_time": "2022-07-31T16:49:50.632Z"
      },
      {
        "duration": 26,
        "start_time": "2022-07-31T16:50:08.068Z"
      },
      {
        "duration": 275,
        "start_time": "2022-07-31T16:50:08.096Z"
      },
      {
        "duration": 5,
        "start_time": "2022-07-31T16:51:18.172Z"
      },
      {
        "duration": 6,
        "start_time": "2022-07-31T16:51:18.417Z"
      },
      {
        "duration": 4,
        "start_time": "2022-07-31T16:51:18.672Z"
      },
      {
        "duration": 25,
        "start_time": "2022-07-31T16:51:18.874Z"
      },
      {
        "duration": 161,
        "start_time": "2022-07-31T16:51:19.085Z"
      },
      {
        "duration": 6,
        "start_time": "2022-07-31T16:51:19.296Z"
      },
      {
        "duration": 18,
        "start_time": "2022-07-31T16:51:19.493Z"
      },
      {
        "duration": 7,
        "start_time": "2022-07-31T16:51:19.691Z"
      },
      {
        "duration": 6,
        "start_time": "2022-07-31T16:51:19.909Z"
      },
      {
        "duration": 5,
        "start_time": "2022-07-31T16:51:20.344Z"
      },
      {
        "duration": 42,
        "start_time": "2022-07-31T16:51:20.629Z"
      },
      {
        "duration": 5,
        "start_time": "2022-07-31T16:51:20.843Z"
      },
      {
        "duration": 6,
        "start_time": "2022-07-31T16:51:21.787Z"
      },
      {
        "duration": 12,
        "start_time": "2022-07-31T16:51:22.181Z"
      },
      {
        "duration": 2,
        "start_time": "2022-07-31T16:51:23.498Z"
      },
      {
        "duration": 3,
        "start_time": "2022-07-31T16:51:24.373Z"
      },
      {
        "duration": 5,
        "start_time": "2022-07-31T16:51:25.016Z"
      },
      {
        "duration": 33,
        "start_time": "2022-07-31T16:51:26.425Z"
      },
      {
        "duration": 16475,
        "start_time": "2022-07-31T16:51:34.063Z"
      },
      {
        "duration": 20,
        "start_time": "2022-07-31T16:51:50.540Z"
      },
      {
        "duration": 253,
        "start_time": "2022-07-31T16:51:50.562Z"
      },
      {
        "duration": 4,
        "start_time": "2022-07-31T16:53:12.531Z"
      },
      {
        "duration": 6,
        "start_time": "2022-07-31T16:53:12.842Z"
      },
      {
        "duration": 5,
        "start_time": "2022-07-31T16:53:13.054Z"
      },
      {
        "duration": 33,
        "start_time": "2022-07-31T16:53:13.303Z"
      },
      {
        "duration": 155,
        "start_time": "2022-07-31T16:53:13.523Z"
      },
      {
        "duration": 15,
        "start_time": "2022-07-31T16:53:13.775Z"
      },
      {
        "duration": 7,
        "start_time": "2022-07-31T16:53:14.013Z"
      },
      {
        "duration": 5,
        "start_time": "2022-07-31T16:53:14.135Z"
      },
      {
        "duration": 4,
        "start_time": "2022-07-31T16:53:14.475Z"
      },
      {
        "duration": 28,
        "start_time": "2022-07-31T16:53:14.695Z"
      },
      {
        "duration": 5,
        "start_time": "2022-07-31T16:53:14.901Z"
      },
      {
        "duration": 5,
        "start_time": "2022-07-31T16:53:16.191Z"
      },
      {
        "duration": 8,
        "start_time": "2022-07-31T16:53:16.456Z"
      },
      {
        "duration": 2,
        "start_time": "2022-07-31T16:53:17.378Z"
      },
      {
        "duration": 3,
        "start_time": "2022-07-31T16:53:18.161Z"
      },
      {
        "duration": 4,
        "start_time": "2022-07-31T16:53:18.526Z"
      },
      {
        "duration": 4,
        "start_time": "2022-07-31T16:53:33.587Z"
      },
      {
        "duration": 13,
        "start_time": "2022-07-31T16:53:33.979Z"
      },
      {
        "duration": 16330,
        "start_time": "2022-07-31T16:53:34.526Z"
      },
      {
        "duration": 18,
        "start_time": "2022-07-31T16:53:50.858Z"
      },
      {
        "duration": 270,
        "start_time": "2022-07-31T16:53:50.878Z"
      },
      {
        "duration": 3,
        "start_time": "2022-07-31T16:56:11.634Z"
      },
      {
        "duration": 19,
        "start_time": "2022-07-31T16:56:11.902Z"
      },
      {
        "duration": 6,
        "start_time": "2022-07-31T16:56:12.140Z"
      },
      {
        "duration": 4,
        "start_time": "2022-07-31T16:56:12.360Z"
      },
      {
        "duration": 25,
        "start_time": "2022-07-31T16:56:12.586Z"
      },
      {
        "duration": 5,
        "start_time": "2022-07-31T16:56:58.102Z"
      },
      {
        "duration": 19,
        "start_time": "2022-07-31T16:56:58.542Z"
      },
      {
        "duration": 6,
        "start_time": "2022-07-31T16:56:58.789Z"
      },
      {
        "duration": 5,
        "start_time": "2022-07-31T16:56:59.026Z"
      },
      {
        "duration": 3,
        "start_time": "2022-07-31T16:57:21.006Z"
      },
      {
        "duration": 5,
        "start_time": "2022-07-31T16:57:21.749Z"
      },
      {
        "duration": 5,
        "start_time": "2022-07-31T16:57:22.502Z"
      },
      {
        "duration": 4,
        "start_time": "2022-07-31T16:57:22.817Z"
      },
      {
        "duration": 22,
        "start_time": "2022-07-31T16:57:23.041Z"
      },
      {
        "duration": 157,
        "start_time": "2022-07-31T16:57:23.255Z"
      },
      {
        "duration": 16,
        "start_time": "2022-07-31T16:57:23.463Z"
      },
      {
        "duration": 6,
        "start_time": "2022-07-31T16:57:23.677Z"
      },
      {
        "duration": 4,
        "start_time": "2022-07-31T16:57:23.887Z"
      },
      {
        "duration": 4,
        "start_time": "2022-07-31T16:57:24.309Z"
      },
      {
        "duration": 29,
        "start_time": "2022-07-31T16:57:24.517Z"
      },
      {
        "duration": 5,
        "start_time": "2022-07-31T16:57:24.724Z"
      },
      {
        "duration": 5,
        "start_time": "2022-07-31T16:57:25.636Z"
      },
      {
        "duration": 8,
        "start_time": "2022-07-31T16:57:25.852Z"
      },
      {
        "duration": 3,
        "start_time": "2022-07-31T16:57:26.144Z"
      },
      {
        "duration": 4,
        "start_time": "2022-07-31T16:57:26.453Z"
      },
      {
        "duration": 5,
        "start_time": "2022-07-31T16:57:27.624Z"
      },
      {
        "duration": 31,
        "start_time": "2022-07-31T16:57:28.670Z"
      },
      {
        "duration": 16089,
        "start_time": "2022-07-31T16:57:43.447Z"
      },
      {
        "duration": 16,
        "start_time": "2022-07-31T16:57:59.538Z"
      },
      {
        "duration": 249,
        "start_time": "2022-07-31T16:57:59.555Z"
      },
      {
        "duration": 5,
        "start_time": "2022-07-31T17:03:31.168Z"
      },
      {
        "duration": 6,
        "start_time": "2022-07-31T17:03:31.424Z"
      },
      {
        "duration": 4,
        "start_time": "2022-07-31T17:03:31.665Z"
      },
      {
        "duration": 36,
        "start_time": "2022-07-31T17:03:31.889Z"
      },
      {
        "duration": 162,
        "start_time": "2022-07-31T17:03:32.097Z"
      },
      {
        "duration": 17,
        "start_time": "2022-07-31T17:03:32.307Z"
      },
      {
        "duration": 6,
        "start_time": "2022-07-31T17:03:32.514Z"
      },
      {
        "duration": 4,
        "start_time": "2022-07-31T17:03:32.732Z"
      },
      {
        "duration": 3,
        "start_time": "2022-07-31T17:03:33.129Z"
      },
      {
        "duration": 28,
        "start_time": "2022-07-31T17:03:33.367Z"
      },
      {
        "duration": 5,
        "start_time": "2022-07-31T17:03:33.591Z"
      },
      {
        "duration": 5,
        "start_time": "2022-07-31T17:03:34.500Z"
      },
      {
        "duration": 8,
        "start_time": "2022-07-31T17:03:34.779Z"
      },
      {
        "duration": 3,
        "start_time": "2022-07-31T17:03:34.989Z"
      },
      {
        "duration": 2,
        "start_time": "2022-07-31T17:03:35.234Z"
      },
      {
        "duration": 2532906,
        "start_time": "2022-07-31T17:03:35.541Z"
      },
      {
        "duration": 4,
        "start_time": "2022-07-31T17:45:48.449Z"
      },
      {
        "duration": 52,
        "start_time": "2022-07-31T17:45:48.455Z"
      },
      {
        "duration": 16231,
        "start_time": "2022-07-31T17:45:48.509Z"
      },
      {
        "duration": 17,
        "start_time": "2022-07-31T17:46:04.742Z"
      },
      {
        "duration": 232,
        "start_time": "2022-07-31T17:46:04.761Z"
      },
      {
        "duration": 4,
        "start_time": "2022-07-31T17:46:04.995Z"
      },
      {
        "duration": 11,
        "start_time": "2022-07-31T17:49:13.910Z"
      },
      {
        "duration": 8,
        "start_time": "2022-07-31T17:50:11.760Z"
      },
      {
        "duration": 160,
        "start_time": "2022-07-31T17:50:12.526Z"
      },
      {
        "duration": 20,
        "start_time": "2022-07-31T17:51:30.032Z"
      },
      {
        "duration": 13,
        "start_time": "2022-07-31T17:51:43.466Z"
      },
      {
        "duration": 18,
        "start_time": "2022-07-31T17:53:19.472Z"
      },
      {
        "duration": 4,
        "start_time": "2022-07-31T17:53:54.625Z"
      },
      {
        "duration": 8,
        "start_time": "2022-07-31T17:53:55.927Z"
      },
      {
        "duration": 11,
        "start_time": "2022-07-31T17:53:56.767Z"
      },
      {
        "duration": 6341,
        "start_time": "2022-07-31T17:54:00.088Z"
      },
      {
        "duration": 3,
        "start_time": "2022-07-31T17:54:06.431Z"
      },
      {
        "duration": 7,
        "start_time": "2022-07-31T17:54:06.436Z"
      },
      {
        "duration": 35,
        "start_time": "2022-07-31T17:54:06.445Z"
      },
      {
        "duration": 4,
        "start_time": "2022-07-31T17:55:59.620Z"
      },
      {
        "duration": 5,
        "start_time": "2022-07-31T17:56:08.258Z"
      },
      {
        "duration": 10,
        "start_time": "2022-07-31T17:56:25.461Z"
      },
      {
        "duration": 75,
        "start_time": "2022-07-31T17:56:42.010Z"
      },
      {
        "duration": 4,
        "start_time": "2022-07-31T17:56:48.031Z"
      },
      {
        "duration": 67030,
        "start_time": "2022-07-31T17:57:48.177Z"
      },
      {
        "duration": 5,
        "start_time": "2022-07-31T17:58:55.210Z"
      },
      {
        "duration": 49,
        "start_time": "2022-07-31T17:58:55.217Z"
      },
      {
        "duration": 35,
        "start_time": "2022-07-31T17:58:55.269Z"
      },
      {
        "duration": 63,
        "start_time": "2022-07-31T17:58:55.306Z"
      },
      {
        "duration": 79219,
        "start_time": "2022-07-31T18:03:42.675Z"
      },
      {
        "duration": 14,
        "start_time": "2022-07-31T18:05:01.896Z"
      },
      {
        "duration": 23,
        "start_time": "2022-07-31T18:05:01.912Z"
      },
      {
        "duration": 15,
        "start_time": "2022-07-31T18:05:01.938Z"
      },
      {
        "duration": 71,
        "start_time": "2022-07-31T18:05:01.955Z"
      },
      {
        "duration": 3,
        "start_time": "2022-07-31T18:08:27.729Z"
      },
      {
        "duration": 169,
        "start_time": "2022-07-31T18:08:28.207Z"
      },
      {
        "duration": 28,
        "start_time": "2022-07-31T18:08:29.217Z"
      },
      {
        "duration": 6,
        "start_time": "2022-07-31T18:08:30.361Z"
      },
      {
        "duration": 5,
        "start_time": "2022-07-31T18:08:31.359Z"
      },
      {
        "duration": 4,
        "start_time": "2022-07-31T18:08:50.214Z"
      },
      {
        "duration": 9,
        "start_time": "2022-07-31T18:08:50.913Z"
      },
      {
        "duration": 4,
        "start_time": "2022-07-31T18:08:52.018Z"
      },
      {
        "duration": 12,
        "start_time": "2022-07-31T18:08:53.725Z"
      },
      {
        "duration": 41517,
        "start_time": "2022-07-31T18:08:54.478Z"
      },
      {
        "duration": 4,
        "start_time": "2022-07-31T18:09:35.997Z"
      },
      {
        "duration": 11,
        "start_time": "2022-07-31T18:09:36.011Z"
      },
      {
        "duration": 27,
        "start_time": "2022-07-31T18:09:36.024Z"
      },
      {
        "duration": 4,
        "start_time": "2022-07-31T18:10:42.723Z"
      },
      {
        "duration": 61168,
        "start_time": "2022-07-31T18:11:24.679Z"
      },
      {
        "duration": 4,
        "start_time": "2022-07-31T18:12:25.848Z"
      },
      {
        "duration": 8,
        "start_time": "2022-07-31T18:12:25.853Z"
      },
      {
        "duration": 7,
        "start_time": "2022-07-31T18:12:25.863Z"
      },
      {
        "duration": 24,
        "start_time": "2022-07-31T18:12:25.872Z"
      },
      {
        "duration": 4,
        "start_time": "2022-07-31T18:12:57.666Z"
      },
      {
        "duration": 396,
        "start_time": "2022-07-31T18:12:58.389Z"
      },
      {
        "duration": 28,
        "start_time": "2022-07-31T18:12:58.961Z"
      },
      {
        "duration": 5,
        "start_time": "2022-07-31T18:13:00.592Z"
      },
      {
        "duration": 5,
        "start_time": "2022-07-31T18:13:11.408Z"
      },
      {
        "duration": 9,
        "start_time": "2022-07-31T18:13:12.097Z"
      },
      {
        "duration": 3,
        "start_time": "2022-07-31T18:13:13.202Z"
      },
      {
        "duration": 13,
        "start_time": "2022-07-31T18:13:14.157Z"
      },
      {
        "duration": 62540,
        "start_time": "2022-07-31T18:13:14.762Z"
      },
      {
        "duration": 12,
        "start_time": "2022-07-31T18:14:17.304Z"
      },
      {
        "duration": 20,
        "start_time": "2022-07-31T18:14:17.325Z"
      },
      {
        "duration": 10,
        "start_time": "2022-07-31T18:14:17.348Z"
      },
      {
        "duration": 40,
        "start_time": "2022-07-31T18:14:17.361Z"
      },
      {
        "duration": 3,
        "start_time": "2022-07-31T18:19:32.181Z"
      },
      {
        "duration": 166,
        "start_time": "2022-07-31T18:19:32.673Z"
      },
      {
        "duration": 29,
        "start_time": "2022-07-31T18:19:33.133Z"
      },
      {
        "duration": 5,
        "start_time": "2022-07-31T18:19:33.629Z"
      },
      {
        "duration": 5,
        "start_time": "2022-07-31T18:19:34.177Z"
      },
      {
        "duration": 4,
        "start_time": "2022-07-31T18:19:52.370Z"
      },
      {
        "duration": 8,
        "start_time": "2022-07-31T18:19:53.025Z"
      },
      {
        "duration": 3,
        "start_time": "2022-07-31T18:19:53.685Z"
      },
      {
        "duration": 12,
        "start_time": "2022-07-31T18:19:54.261Z"
      },
      {
        "duration": 79,
        "start_time": "2022-07-31T18:19:54.998Z"
      },
      {
        "duration": 4,
        "start_time": "2022-07-31T18:19:55.658Z"
      },
      {
        "duration": 111455,
        "start_time": "2022-07-31T18:20:14.061Z"
      },
      {
        "duration": 4,
        "start_time": "2022-07-31T18:22:05.518Z"
      },
      {
        "duration": 9,
        "start_time": "2022-07-31T18:22:05.524Z"
      },
      {
        "duration": 9,
        "start_time": "2022-07-31T18:22:05.535Z"
      },
      {
        "duration": 27,
        "start_time": "2022-07-31T18:22:05.546Z"
      },
      {
        "duration": 28,
        "start_time": "2022-07-31T18:30:06.104Z"
      },
      {
        "duration": 34,
        "start_time": "2022-07-31T18:31:00.109Z"
      },
      {
        "duration": 27,
        "start_time": "2022-07-31T18:31:05.066Z"
      },
      {
        "duration": 39,
        "start_time": "2022-07-31T18:31:15.562Z"
      },
      {
        "duration": 2604,
        "start_time": "2022-07-31T18:32:30.615Z"
      },
      {
        "duration": 5,
        "start_time": "2022-07-31T18:32:38.884Z"
      },
      {
        "duration": 4,
        "start_time": "2022-07-31T18:32:39.892Z"
      },
      {
        "duration": 24,
        "start_time": "2022-07-31T18:32:41.304Z"
      },
      {
        "duration": 4,
        "start_time": "2022-07-31T18:33:26.562Z"
      },
      {
        "duration": 5,
        "start_time": "2022-07-31T18:33:27.819Z"
      },
      {
        "duration": 13,
        "start_time": "2022-07-31T18:33:29.018Z"
      },
      {
        "duration": 1723,
        "start_time": "2022-07-31T18:34:24.289Z"
      },
      {
        "duration": 5,
        "start_time": "2022-07-31T18:34:26.970Z"
      },
      {
        "duration": 4,
        "start_time": "2022-07-31T18:34:27.768Z"
      },
      {
        "duration": 14,
        "start_time": "2022-07-31T18:34:28.775Z"
      },
      {
        "duration": 5559,
        "start_time": "2022-07-31T18:35:01.262Z"
      },
      {
        "duration": 93,
        "start_time": "2022-07-31T18:35:06.825Z"
      },
      {
        "duration": 11,
        "start_time": "2022-07-31T18:35:07.009Z"
      },
      {
        "duration": 15,
        "start_time": "2022-07-31T18:35:07.022Z"
      },
      {
        "duration": 11,
        "start_time": "2022-07-31T18:36:06.186Z"
      },
      {
        "duration": 5,
        "start_time": "2022-07-31T18:37:02.172Z"
      },
      {
        "duration": 5,
        "start_time": "2022-07-31T18:37:05.299Z"
      },
      {
        "duration": 4,
        "start_time": "2022-07-31T18:37:06.860Z"
      },
      {
        "duration": 190,
        "start_time": "2022-07-31T18:37:07.996Z"
      },
      {
        "duration": 38,
        "start_time": "2022-07-31T18:37:08.410Z"
      },
      {
        "duration": 6,
        "start_time": "2022-07-31T18:37:08.794Z"
      },
      {
        "duration": 5,
        "start_time": "2022-07-31T18:37:09.303Z"
      },
      {
        "duration": 4,
        "start_time": "2022-07-31T18:37:16.553Z"
      },
      {
        "duration": 8,
        "start_time": "2022-07-31T18:37:17.459Z"
      },
      {
        "duration": 3,
        "start_time": "2022-07-31T18:37:18.852Z"
      },
      {
        "duration": 14,
        "start_time": "2022-07-31T18:37:19.510Z"
      },
      {
        "duration": 108397,
        "start_time": "2022-07-31T18:37:20.017Z"
      },
      {
        "duration": 4,
        "start_time": "2022-07-31T18:39:08.416Z"
      },
      {
        "duration": 23,
        "start_time": "2022-07-31T18:39:08.422Z"
      },
      {
        "duration": 50,
        "start_time": "2022-07-31T18:39:08.448Z"
      },
      {
        "duration": 24,
        "start_time": "2022-07-31T18:39:08.499Z"
      },
      {
        "duration": 0,
        "start_time": "2022-07-31T18:39:08.524Z"
      },
      {
        "duration": 0,
        "start_time": "2022-07-31T18:39:08.526Z"
      },
      {
        "duration": 0,
        "start_time": "2022-07-31T18:39:08.527Z"
      },
      {
        "duration": 0,
        "start_time": "2022-07-31T18:39:08.528Z"
      },
      {
        "duration": 4952,
        "start_time": "2022-07-31T18:42:42.259Z"
      },
      {
        "duration": 4,
        "start_time": "2022-07-31T18:42:47.214Z"
      },
      {
        "duration": 97,
        "start_time": "2022-07-31T18:42:47.220Z"
      },
      {
        "duration": 16,
        "start_time": "2022-07-31T18:42:47.319Z"
      },
      {
        "duration": 15472,
        "start_time": "2022-07-31T18:43:39.350Z"
      },
      {
        "duration": 92,
        "start_time": "2022-07-31T18:43:54.825Z"
      },
      {
        "duration": 93,
        "start_time": "2022-07-31T18:43:54.919Z"
      },
      {
        "duration": 19,
        "start_time": "2022-07-31T18:43:55.015Z"
      },
      {
        "duration": 20539,
        "start_time": "2022-07-31T18:46:06.881Z"
      },
      {
        "duration": 6,
        "start_time": "2022-07-31T18:46:27.512Z"
      },
      {
        "duration": 103,
        "start_time": "2022-07-31T18:46:27.521Z"
      },
      {
        "duration": 90,
        "start_time": "2022-07-31T18:46:27.626Z"
      },
      {
        "duration": 5,
        "start_time": "2022-07-31T19:06:31.287Z"
      },
      {
        "duration": 202,
        "start_time": "2022-07-31T19:06:32.045Z"
      },
      {
        "duration": 28,
        "start_time": "2022-07-31T19:06:32.798Z"
      },
      {
        "duration": 6,
        "start_time": "2022-07-31T19:06:33.621Z"
      },
      {
        "duration": 2,
        "start_time": "2022-07-31T19:06:34.973Z"
      },
      {
        "duration": 4,
        "start_time": "2022-07-31T19:06:56.937Z"
      },
      {
        "duration": 9,
        "start_time": "2022-07-31T19:06:58.398Z"
      },
      {
        "duration": 3,
        "start_time": "2022-07-31T19:06:59.154Z"
      },
      {
        "duration": 15,
        "start_time": "2022-07-31T19:06:59.701Z"
      },
      {
        "duration": 119267,
        "start_time": "2022-07-31T19:07:00.202Z"
      },
      {
        "duration": 4,
        "start_time": "2022-07-31T19:08:59.471Z"
      },
      {
        "duration": 8,
        "start_time": "2022-07-31T19:08:59.476Z"
      },
      {
        "duration": 46,
        "start_time": "2022-07-31T19:08:59.486Z"
      },
      {
        "duration": 7,
        "start_time": "2022-07-31T19:10:31.127Z"
      },
      {
        "duration": 28,
        "start_time": "2022-07-31T19:10:41.774Z"
      },
      {
        "duration": 7,
        "start_time": "2022-07-31T19:12:51.108Z"
      },
      {
        "duration": 44749,
        "start_time": "2022-07-31T19:12:51.761Z"
      },
      {
        "duration": 7,
        "start_time": "2022-07-31T19:13:36.514Z"
      },
      {
        "duration": 8,
        "start_time": "2022-07-31T19:13:36.610Z"
      },
      {
        "duration": 12,
        "start_time": "2022-07-31T19:13:36.620Z"
      },
      {
        "duration": 10775,
        "start_time": "2022-07-31T19:14:14.266Z"
      },
      {
        "duration": 5,
        "start_time": "2022-07-31T19:14:25.043Z"
      },
      {
        "duration": 11,
        "start_time": "2022-07-31T19:14:25.050Z"
      },
      {
        "duration": 48,
        "start_time": "2022-07-31T19:14:25.064Z"
      },
      {
        "duration": 4,
        "start_time": "2022-07-31T19:15:40.377Z"
      },
      {
        "duration": 163,
        "start_time": "2022-07-31T19:15:40.703Z"
      },
      {
        "duration": 30,
        "start_time": "2022-07-31T19:15:40.990Z"
      },
      {
        "duration": 6,
        "start_time": "2022-07-31T19:15:41.251Z"
      },
      {
        "duration": 5,
        "start_time": "2022-07-31T19:15:41.650Z"
      },
      {
        "duration": 4,
        "start_time": "2022-07-31T19:15:51.678Z"
      },
      {
        "duration": 11,
        "start_time": "2022-07-31T19:15:52.017Z"
      },
      {
        "duration": 3,
        "start_time": "2022-07-31T19:15:52.318Z"
      },
      {
        "duration": 14,
        "start_time": "2022-07-31T19:15:52.875Z"
      },
      {
        "duration": 656726,
        "start_time": "2022-07-31T19:15:53.227Z"
      },
      {
        "duration": 5,
        "start_time": "2022-07-31T19:26:49.955Z"
      },
      {
        "duration": 7,
        "start_time": "2022-07-31T19:26:49.962Z"
      },
      {
        "duration": 57,
        "start_time": "2022-07-31T19:26:49.971Z"
      },
      {
        "duration": 95449,
        "start_time": "2022-07-31T19:29:44.955Z"
      },
      {
        "duration": 6,
        "start_time": "2022-07-31T19:31:20.406Z"
      },
      {
        "duration": 11,
        "start_time": "2022-07-31T19:31:20.414Z"
      },
      {
        "duration": 25,
        "start_time": "2022-07-31T19:31:20.427Z"
      },
      {
        "duration": 4,
        "start_time": "2022-07-31T19:32:52.066Z"
      },
      {
        "duration": 383,
        "start_time": "2022-07-31T19:32:52.417Z"
      },
      {
        "duration": 32,
        "start_time": "2022-07-31T19:32:52.802Z"
      },
      {
        "duration": 5,
        "start_time": "2022-07-31T19:32:53.179Z"
      },
      {
        "duration": 7,
        "start_time": "2022-07-31T19:32:55.223Z"
      },
      {
        "duration": 4,
        "start_time": "2022-07-31T19:33:03.285Z"
      },
      {
        "duration": 7,
        "start_time": "2022-07-31T19:33:03.577Z"
      },
      {
        "duration": 3,
        "start_time": "2022-07-31T19:33:03.863Z"
      },
      {
        "duration": 12,
        "start_time": "2022-07-31T19:33:04.164Z"
      },
      {
        "duration": 93935,
        "start_time": "2022-07-31T19:33:04.576Z"
      },
      {
        "duration": 4,
        "start_time": "2022-07-31T19:34:38.513Z"
      },
      {
        "duration": 11,
        "start_time": "2022-07-31T19:34:38.518Z"
      },
      {
        "duration": 31,
        "start_time": "2022-07-31T19:34:38.531Z"
      },
      {
        "duration": 4,
        "start_time": "2022-07-31T19:35:51.105Z"
      },
      {
        "duration": 156,
        "start_time": "2022-07-31T19:35:51.416Z"
      },
      {
        "duration": 28,
        "start_time": "2022-07-31T19:35:51.689Z"
      },
      {
        "duration": 6,
        "start_time": "2022-07-31T19:35:52.063Z"
      },
      {
        "duration": 2,
        "start_time": "2022-07-31T19:35:52.489Z"
      },
      {
        "duration": 3,
        "start_time": "2022-07-31T19:36:00.722Z"
      },
      {
        "duration": 7,
        "start_time": "2022-07-31T19:36:00.971Z"
      },
      {
        "duration": 3,
        "start_time": "2022-07-31T19:36:01.226Z"
      },
      {
        "duration": 12,
        "start_time": "2022-07-31T19:36:01.461Z"
      },
      {
        "duration": 99747,
        "start_time": "2022-07-31T19:36:01.810Z"
      },
      {
        "duration": 4,
        "start_time": "2022-07-31T19:37:41.559Z"
      },
      {
        "duration": 8,
        "start_time": "2022-07-31T19:37:41.565Z"
      },
      {
        "duration": 43,
        "start_time": "2022-07-31T19:37:41.575Z"
      },
      {
        "duration": 34339,
        "start_time": "2022-07-31T19:40:24.029Z"
      },
      {
        "duration": 5,
        "start_time": "2022-07-31T19:40:58.370Z"
      },
      {
        "duration": 18,
        "start_time": "2022-07-31T19:40:58.377Z"
      },
      {
        "duration": 33,
        "start_time": "2022-07-31T19:40:58.398Z"
      },
      {
        "duration": 4,
        "start_time": "2022-07-31T19:42:47.759Z"
      },
      {
        "duration": 163,
        "start_time": "2022-07-31T19:42:48.211Z"
      },
      {
        "duration": 4,
        "start_time": "2022-07-31T19:42:48.760Z"
      },
      {
        "duration": 30,
        "start_time": "2022-07-31T19:42:49.263Z"
      },
      {
        "duration": 6,
        "start_time": "2022-07-31T19:42:49.805Z"
      },
      {
        "duration": 4,
        "start_time": "2022-07-31T19:42:56.585Z"
      },
      {
        "duration": 8,
        "start_time": "2022-07-31T19:42:56.908Z"
      },
      {
        "duration": 3,
        "start_time": "2022-07-31T19:42:57.300Z"
      },
      {
        "duration": 13,
        "start_time": "2022-07-31T19:42:57.764Z"
      },
      {
        "duration": 33983,
        "start_time": "2022-07-31T19:42:58.186Z"
      },
      {
        "duration": 4,
        "start_time": "2022-07-31T19:43:32.171Z"
      },
      {
        "duration": 10,
        "start_time": "2022-07-31T19:43:32.177Z"
      },
      {
        "duration": 38,
        "start_time": "2022-07-31T19:43:32.189Z"
      },
      {
        "duration": 3,
        "start_time": "2022-07-31T19:44:02.134Z"
      },
      {
        "duration": 2,
        "start_time": "2022-07-31T19:44:02.471Z"
      },
      {
        "duration": 2,
        "start_time": "2022-07-31T19:44:02.761Z"
      },
      {
        "duration": 28,
        "start_time": "2022-07-31T19:44:03.059Z"
      },
      {
        "duration": 5,
        "start_time": "2022-07-31T19:44:03.476Z"
      },
      {
        "duration": 4,
        "start_time": "2022-07-31T19:44:12.114Z"
      },
      {
        "duration": 8,
        "start_time": "2022-07-31T19:44:12.460Z"
      },
      {
        "duration": 3,
        "start_time": "2022-07-31T19:44:12.739Z"
      },
      {
        "duration": 13,
        "start_time": "2022-07-31T19:44:13.038Z"
      },
      {
        "duration": 34093,
        "start_time": "2022-07-31T19:44:13.381Z"
      },
      {
        "duration": 4,
        "start_time": "2022-07-31T19:44:47.477Z"
      },
      {
        "duration": 18,
        "start_time": "2022-07-31T19:44:47.484Z"
      },
      {
        "duration": 22,
        "start_time": "2022-07-31T19:44:47.510Z"
      },
      {
        "duration": 4,
        "start_time": "2022-07-31T19:45:40.189Z"
      },
      {
        "duration": 171,
        "start_time": "2022-07-31T19:45:40.759Z"
      },
      {
        "duration": 29,
        "start_time": "2022-07-31T19:45:41.181Z"
      },
      {
        "duration": 5,
        "start_time": "2022-07-31T19:45:41.763Z"
      },
      {
        "duration": 4,
        "start_time": "2022-07-31T19:45:48.697Z"
      },
      {
        "duration": 7,
        "start_time": "2022-07-31T19:45:49.033Z"
      },
      {
        "duration": 3,
        "start_time": "2022-07-31T19:45:49.328Z"
      },
      {
        "duration": 14,
        "start_time": "2022-07-31T19:45:49.739Z"
      },
      {
        "duration": 34187,
        "start_time": "2022-07-31T19:45:50.122Z"
      },
      {
        "duration": 4,
        "start_time": "2022-07-31T19:46:24.312Z"
      },
      {
        "duration": 7,
        "start_time": "2022-07-31T19:46:24.318Z"
      },
      {
        "duration": 28,
        "start_time": "2022-07-31T19:46:24.327Z"
      },
      {
        "duration": 48400,
        "start_time": "2022-07-31T19:47:22.372Z"
      },
      {
        "duration": 4,
        "start_time": "2022-07-31T19:48:10.774Z"
      },
      {
        "duration": 6,
        "start_time": "2022-07-31T19:48:10.780Z"
      },
      {
        "duration": 44,
        "start_time": "2022-07-31T19:48:10.788Z"
      },
      {
        "duration": 94695,
        "start_time": "2022-07-31T19:48:46.676Z"
      },
      {
        "duration": 4,
        "start_time": "2022-07-31T19:50:21.374Z"
      },
      {
        "duration": 8,
        "start_time": "2022-07-31T19:50:21.380Z"
      },
      {
        "duration": 99,
        "start_time": "2022-07-31T19:50:21.391Z"
      },
      {
        "duration": 25224,
        "start_time": "2022-07-31T19:52:50.774Z"
      },
      {
        "duration": 9,
        "start_time": "2022-07-31T19:53:16.001Z"
      },
      {
        "duration": 10,
        "start_time": "2022-07-31T19:53:16.013Z"
      },
      {
        "duration": 95,
        "start_time": "2022-07-31T19:53:16.026Z"
      },
      {
        "duration": 94436,
        "start_time": "2022-07-31T19:54:34.672Z"
      },
      {
        "duration": 4,
        "start_time": "2022-07-31T19:56:09.111Z"
      },
      {
        "duration": 6,
        "start_time": "2022-07-31T19:56:09.117Z"
      },
      {
        "duration": 24,
        "start_time": "2022-07-31T19:56:09.126Z"
      },
      {
        "duration": 38358,
        "start_time": "2022-07-31T19:56:44.169Z"
      },
      {
        "duration": 4,
        "start_time": "2022-07-31T19:57:22.530Z"
      },
      {
        "duration": 11,
        "start_time": "2022-07-31T19:57:22.535Z"
      },
      {
        "duration": 37,
        "start_time": "2022-07-31T19:57:22.548Z"
      },
      {
        "duration": 5,
        "start_time": "2022-07-31T20:17:34.369Z"
      },
      {
        "duration": 6,
        "start_time": "2022-07-31T20:17:44.127Z"
      },
      {
        "duration": 25,
        "start_time": "2022-07-31T20:17:48.491Z"
      },
      {
        "duration": 161,
        "start_time": "2022-07-31T20:17:50.017Z"
      },
      {
        "duration": 16,
        "start_time": "2022-07-31T20:17:50.774Z"
      },
      {
        "duration": 6,
        "start_time": "2022-07-31T20:17:52.077Z"
      },
      {
        "duration": 5,
        "start_time": "2022-07-31T20:17:53.841Z"
      },
      {
        "duration": 8,
        "start_time": "2022-07-31T20:18:04.484Z"
      },
      {
        "duration": 3,
        "start_time": "2022-07-31T20:18:06.779Z"
      },
      {
        "duration": 16566,
        "start_time": "2022-07-31T20:18:18.786Z"
      },
      {
        "duration": 17,
        "start_time": "2022-07-31T20:18:35.354Z"
      },
      {
        "duration": 230,
        "start_time": "2022-07-31T20:18:35.372Z"
      },
      {
        "duration": 4,
        "start_time": "2022-07-31T20:19:16.769Z"
      },
      {
        "duration": 6,
        "start_time": "2022-07-31T20:19:17.230Z"
      },
      {
        "duration": 4,
        "start_time": "2022-07-31T20:19:17.531Z"
      },
      {
        "duration": 27,
        "start_time": "2022-07-31T20:19:17.830Z"
      },
      {
        "duration": 153,
        "start_time": "2022-07-31T20:19:18.177Z"
      },
      {
        "duration": 16,
        "start_time": "2022-07-31T20:19:18.533Z"
      },
      {
        "duration": 6,
        "start_time": "2022-07-31T20:19:19.104Z"
      },
      {
        "duration": 5,
        "start_time": "2022-07-31T20:19:20.030Z"
      },
      {
        "duration": 8,
        "start_time": "2022-07-31T20:19:27.366Z"
      },
      {
        "duration": 2,
        "start_time": "2022-07-31T20:19:27.930Z"
      },
      {
        "duration": 15033,
        "start_time": "2022-07-31T20:19:43.277Z"
      },
      {
        "duration": 16,
        "start_time": "2022-07-31T20:19:58.312Z"
      },
      {
        "duration": 5,
        "start_time": "2022-07-31T20:20:31.731Z"
      },
      {
        "duration": 8,
        "start_time": "2022-07-31T20:20:32.129Z"
      },
      {
        "duration": 4,
        "start_time": "2022-07-31T20:20:32.428Z"
      },
      {
        "duration": 23,
        "start_time": "2022-07-31T20:20:32.702Z"
      },
      {
        "duration": 161,
        "start_time": "2022-07-31T20:20:32.977Z"
      },
      {
        "duration": 16,
        "start_time": "2022-07-31T20:20:33.281Z"
      },
      {
        "duration": 6,
        "start_time": "2022-07-31T20:20:33.729Z"
      },
      {
        "duration": 3,
        "start_time": "2022-07-31T20:20:34.387Z"
      },
      {
        "duration": 10,
        "start_time": "2022-07-31T20:20:40.269Z"
      },
      {
        "duration": 3,
        "start_time": "2022-07-31T20:20:40.673Z"
      },
      {
        "duration": 16248,
        "start_time": "2022-07-31T20:20:54.474Z"
      },
      {
        "duration": 16,
        "start_time": "2022-07-31T20:21:10.724Z"
      },
      {
        "duration": 4,
        "start_time": "2022-07-31T20:21:39.184Z"
      },
      {
        "duration": 5,
        "start_time": "2022-07-31T20:21:39.435Z"
      },
      {
        "duration": 4,
        "start_time": "2022-07-31T20:21:39.679Z"
      },
      {
        "duration": 23,
        "start_time": "2022-07-31T20:21:39.931Z"
      },
      {
        "duration": 177,
        "start_time": "2022-07-31T20:21:40.281Z"
      },
      {
        "duration": 16,
        "start_time": "2022-07-31T20:21:40.570Z"
      },
      {
        "duration": 7,
        "start_time": "2022-07-31T20:21:40.865Z"
      },
      {
        "duration": 5,
        "start_time": "2022-07-31T20:21:41.169Z"
      },
      {
        "duration": 3,
        "start_time": "2022-07-31T20:21:41.677Z"
      },
      {
        "duration": 13,
        "start_time": "2022-07-31T20:21:45.830Z"
      },
      {
        "duration": 3,
        "start_time": "2022-07-31T20:21:46.173Z"
      },
      {
        "duration": 16395,
        "start_time": "2022-07-31T20:21:52.885Z"
      },
      {
        "duration": 16,
        "start_time": "2022-07-31T20:22:09.282Z"
      },
      {
        "duration": 4,
        "start_time": "2022-07-31T20:22:55.681Z"
      },
      {
        "duration": 5,
        "start_time": "2022-07-31T20:22:56.018Z"
      },
      {
        "duration": 5,
        "start_time": "2022-07-31T20:22:56.369Z"
      },
      {
        "duration": 26,
        "start_time": "2022-07-31T20:22:56.717Z"
      },
      {
        "duration": 163,
        "start_time": "2022-07-31T20:22:57.137Z"
      },
      {
        "duration": 4,
        "start_time": "2022-07-31T20:22:57.518Z"
      },
      {
        "duration": 17,
        "start_time": "2022-07-31T20:22:58.121Z"
      },
      {
        "duration": 8,
        "start_time": "2022-07-31T20:22:58.535Z"
      },
      {
        "duration": 5,
        "start_time": "2022-07-31T20:22:59.273Z"
      },
      {
        "duration": 3,
        "start_time": "2022-07-31T20:22:59.969Z"
      },
      {
        "duration": 9,
        "start_time": "2022-07-31T20:23:04.424Z"
      },
      {
        "duration": 3,
        "start_time": "2022-07-31T20:23:04.705Z"
      },
      {
        "duration": 14,
        "start_time": "2022-07-31T20:23:12.581Z"
      },
      {
        "duration": 16763,
        "start_time": "2022-07-31T20:23:13.169Z"
      },
      {
        "duration": 16,
        "start_time": "2022-07-31T20:23:29.934Z"
      },
      {
        "duration": 5,
        "start_time": "2022-07-31T20:23:51.885Z"
      },
      {
        "duration": 5,
        "start_time": "2022-07-31T20:23:52.178Z"
      },
      {
        "duration": 6,
        "start_time": "2022-07-31T20:23:52.377Z"
      },
      {
        "duration": 26,
        "start_time": "2022-07-31T20:23:52.636Z"
      },
      {
        "duration": 157,
        "start_time": "2022-07-31T20:23:52.901Z"
      },
      {
        "duration": 15,
        "start_time": "2022-07-31T20:23:53.170Z"
      },
      {
        "duration": 6,
        "start_time": "2022-07-31T20:23:53.437Z"
      },
      {
        "duration": 5,
        "start_time": "2022-07-31T20:23:53.728Z"
      },
      {
        "duration": 2,
        "start_time": "2022-07-31T20:23:54.213Z"
      },
      {
        "duration": 8,
        "start_time": "2022-07-31T20:23:59.581Z"
      },
      {
        "duration": 3,
        "start_time": "2022-07-31T20:23:59.799Z"
      },
      {
        "duration": 26572,
        "start_time": "2022-07-31T20:24:00.094Z"
      },
      {
        "duration": 0,
        "start_time": "2022-07-31T20:24:26.669Z"
      },
      {
        "duration": 0,
        "start_time": "2022-07-31T20:24:26.671Z"
      },
      {
        "duration": 0,
        "start_time": "2022-07-31T20:24:26.672Z"
      },
      {
        "duration": 0,
        "start_time": "2022-07-31T20:24:26.673Z"
      },
      {
        "duration": 0,
        "start_time": "2022-07-31T20:24:26.675Z"
      },
      {
        "duration": 9,
        "start_time": "2022-07-31T20:24:31.291Z"
      },
      {
        "duration": 16101,
        "start_time": "2022-07-31T20:24:37.002Z"
      },
      {
        "duration": 18,
        "start_time": "2022-07-31T20:24:53.106Z"
      },
      {
        "duration": 1239175,
        "start_time": "2022-07-31T20:26:40.813Z"
      },
      {
        "duration": 4,
        "start_time": "2022-07-31T20:47:19.990Z"
      },
      {
        "duration": 10,
        "start_time": "2022-07-31T20:47:19.996Z"
      },
      {
        "duration": 32,
        "start_time": "2022-07-31T20:47:20.008Z"
      },
      {
        "duration": 215940,
        "start_time": "2022-07-31T20:51:13.066Z"
      },
      {
        "duration": 12,
        "start_time": "2022-07-31T20:54:49.008Z"
      },
      {
        "duration": 17,
        "start_time": "2022-07-31T20:54:49.023Z"
      },
      {
        "duration": 27,
        "start_time": "2022-07-31T20:54:49.042Z"
      },
      {
        "duration": 296949,
        "start_time": "2022-07-31T21:05:05.188Z"
      },
      {
        "duration": 4,
        "start_time": "2022-07-31T21:10:02.139Z"
      },
      {
        "duration": 15,
        "start_time": "2022-07-31T21:10:02.145Z"
      },
      {
        "duration": 19,
        "start_time": "2022-07-31T21:10:02.163Z"
      },
      {
        "duration": 1125,
        "start_time": "2022-08-01T11:13:16.174Z"
      },
      {
        "duration": 319,
        "start_time": "2022-08-01T11:13:17.300Z"
      },
      {
        "duration": 105,
        "start_time": "2022-08-01T11:13:17.621Z"
      },
      {
        "duration": 14,
        "start_time": "2022-08-01T11:13:17.732Z"
      },
      {
        "duration": 22,
        "start_time": "2022-08-01T11:13:17.749Z"
      },
      {
        "duration": 22,
        "start_time": "2022-08-01T11:13:17.773Z"
      },
      {
        "duration": 11,
        "start_time": "2022-08-01T11:13:17.797Z"
      },
      {
        "duration": 21,
        "start_time": "2022-08-01T11:13:17.810Z"
      },
      {
        "duration": 11,
        "start_time": "2022-08-01T11:13:17.834Z"
      },
      {
        "duration": 17,
        "start_time": "2022-08-01T11:13:17.847Z"
      },
      {
        "duration": 15,
        "start_time": "2022-08-01T11:13:17.868Z"
      },
      {
        "duration": 12,
        "start_time": "2022-08-01T11:13:17.885Z"
      },
      {
        "duration": 8,
        "start_time": "2022-08-01T11:13:17.899Z"
      },
      {
        "duration": 505,
        "start_time": "2022-08-01T11:13:17.910Z"
      },
      {
        "duration": 103,
        "start_time": "2022-08-01T11:13:18.417Z"
      },
      {
        "duration": 92,
        "start_time": "2022-08-01T11:13:18.522Z"
      },
      {
        "duration": 26,
        "start_time": "2022-08-01T11:13:18.616Z"
      },
      {
        "duration": 4,
        "start_time": "2022-08-01T11:13:18.644Z"
      },
      {
        "duration": 12,
        "start_time": "2022-08-01T11:13:18.649Z"
      },
      {
        "duration": 8,
        "start_time": "2022-08-01T11:13:18.662Z"
      },
      {
        "duration": 10,
        "start_time": "2022-08-01T11:13:18.672Z"
      },
      {
        "duration": 9,
        "start_time": "2022-08-01T11:13:18.684Z"
      },
      {
        "duration": 111,
        "start_time": "2022-08-01T11:13:18.694Z"
      },
      {
        "duration": 9,
        "start_time": "2022-08-01T11:13:18.806Z"
      },
      {
        "duration": 20,
        "start_time": "2022-08-01T11:13:18.816Z"
      },
      {
        "duration": 7,
        "start_time": "2022-08-01T11:13:18.838Z"
      },
      {
        "duration": 14,
        "start_time": "2022-08-01T11:13:18.846Z"
      },
      {
        "duration": 4,
        "start_time": "2022-08-01T11:13:18.861Z"
      },
      {
        "duration": 4,
        "start_time": "2022-08-01T11:13:18.867Z"
      },
      {
        "duration": 17,
        "start_time": "2022-08-01T11:13:18.873Z"
      },
      {
        "duration": 45,
        "start_time": "2022-08-01T11:13:18.891Z"
      },
      {
        "duration": 4,
        "start_time": "2022-08-01T11:13:18.938Z"
      },
      {
        "duration": 5,
        "start_time": "2022-08-01T11:13:18.943Z"
      },
      {
        "duration": 5,
        "start_time": "2022-08-01T11:13:18.950Z"
      },
      {
        "duration": 22,
        "start_time": "2022-08-01T11:13:18.956Z"
      },
      {
        "duration": 186,
        "start_time": "2022-08-01T11:13:18.980Z"
      },
      {
        "duration": 13,
        "start_time": "2022-08-01T11:13:19.167Z"
      },
      {
        "duration": 4,
        "start_time": "2022-08-01T11:13:19.181Z"
      },
      {
        "duration": 6,
        "start_time": "2022-08-01T11:13:19.186Z"
      },
      {
        "duration": 5,
        "start_time": "2022-08-01T11:13:19.193Z"
      },
      {
        "duration": 160,
        "start_time": "2022-08-01T11:13:19.201Z"
      },
      {
        "duration": 23,
        "start_time": "2022-08-01T11:13:19.363Z"
      },
      {
        "duration": 4,
        "start_time": "2022-08-01T11:13:19.388Z"
      },
      {
        "duration": 8,
        "start_time": "2022-08-01T11:13:19.393Z"
      },
      {
        "duration": 2,
        "start_time": "2022-08-01T11:13:19.403Z"
      },
      {
        "duration": 25,
        "start_time": "2022-08-01T11:13:19.406Z"
      },
      {
        "duration": 2,
        "start_time": "2022-08-01T11:13:19.433Z"
      },
      {
        "duration": 13085,
        "start_time": "2022-08-01T11:13:19.436Z"
      },
      {
        "duration": 19,
        "start_time": "2022-08-01T11:13:32.523Z"
      },
      {
        "duration": 196,
        "start_time": "2022-08-01T11:13:32.544Z"
      },
      {
        "duration": 4,
        "start_time": "2022-08-01T11:13:32.741Z"
      },
      {
        "duration": 10,
        "start_time": "2022-08-01T11:13:32.746Z"
      },
      {
        "duration": 2,
        "start_time": "2022-08-01T11:13:32.758Z"
      },
      {
        "duration": 15,
        "start_time": "2022-08-01T11:13:32.761Z"
      },
      {
        "duration": 31726,
        "start_time": "2022-08-01T11:13:32.778Z"
      },
      {
        "duration": 3,
        "start_time": "2022-08-01T11:14:04.506Z"
      },
      {
        "duration": 5,
        "start_time": "2022-08-01T11:14:04.511Z"
      },
      {
        "duration": 36,
        "start_time": "2022-08-01T11:14:04.518Z"
      },
      {
        "duration": 5,
        "start_time": "2022-08-01T11:14:04.555Z"
      },
      {
        "duration": 7581,
        "start_time": "2022-08-01T11:14:04.562Z"
      },
      {
        "duration": 3,
        "start_time": "2022-08-01T11:14:12.144Z"
      },
      {
        "duration": 5,
        "start_time": "2022-08-01T11:14:12.149Z"
      },
      {
        "duration": 9,
        "start_time": "2022-08-01T11:14:12.156Z"
      },
      {
        "duration": 3,
        "start_time": "2022-08-01T11:20:54.862Z"
      },
      {
        "duration": 144,
        "start_time": "2022-08-01T11:20:55.221Z"
      },
      {
        "duration": 28,
        "start_time": "2022-08-01T11:20:55.576Z"
      },
      {
        "duration": 4,
        "start_time": "2022-08-01T11:20:56.003Z"
      },
      {
        "duration": 3,
        "start_time": "2022-08-01T11:21:02.094Z"
      },
      {
        "duration": 9,
        "start_time": "2022-08-01T11:21:02.460Z"
      },
      {
        "duration": 2,
        "start_time": "2022-08-01T11:21:03.123Z"
      },
      {
        "duration": 10,
        "start_time": "2022-08-01T11:21:03.424Z"
      },
      {
        "duration": 32016,
        "start_time": "2022-08-01T11:21:03.678Z"
      },
      {
        "duration": 4,
        "start_time": "2022-08-01T11:21:35.696Z"
      },
      {
        "duration": 11,
        "start_time": "2022-08-01T11:21:35.701Z"
      },
      {
        "duration": 29,
        "start_time": "2022-08-01T11:21:35.714Z"
      },
      {
        "duration": 4,
        "start_time": "2022-08-01T11:21:35.745Z"
      },
      {
        "duration": 7982,
        "start_time": "2022-08-01T11:21:35.750Z"
      },
      {
        "duration": 4,
        "start_time": "2022-08-01T11:21:43.734Z"
      },
      {
        "duration": 99,
        "start_time": "2022-08-01T11:21:43.740Z"
      },
      {
        "duration": 13,
        "start_time": "2022-08-01T11:21:43.840Z"
      },
      {
        "duration": 7,
        "start_time": "2022-08-01T11:22:23.021Z"
      },
      {
        "duration": 2,
        "start_time": "2022-08-01T11:22:23.422Z"
      },
      {
        "duration": 10,
        "start_time": "2022-08-01T11:22:23.719Z"
      },
      {
        "duration": 31737,
        "start_time": "2022-08-01T11:22:24.002Z"
      },
      {
        "duration": 4,
        "start_time": "2022-08-01T11:22:55.741Z"
      },
      {
        "duration": 7,
        "start_time": "2022-08-01T11:22:55.746Z"
      },
      {
        "duration": 27,
        "start_time": "2022-08-01T11:22:55.754Z"
      },
      {
        "duration": 4,
        "start_time": "2022-08-01T11:22:55.782Z"
      },
      {
        "duration": 7560,
        "start_time": "2022-08-01T11:22:55.787Z"
      },
      {
        "duration": 3,
        "start_time": "2022-08-01T11:23:03.349Z"
      },
      {
        "duration": 6,
        "start_time": "2022-08-01T11:23:03.353Z"
      },
      {
        "duration": 9,
        "start_time": "2022-08-01T11:23:03.360Z"
      },
      {
        "duration": 75,
        "start_time": "2022-08-01T11:23:23.803Z"
      },
      {
        "duration": 2,
        "start_time": "2022-08-01T11:23:24.093Z"
      },
      {
        "duration": 3,
        "start_time": "2022-08-01T11:23:24.358Z"
      },
      {
        "duration": 11,
        "start_time": "2022-08-01T11:23:34.103Z"
      },
      {
        "duration": 2,
        "start_time": "2022-08-01T11:23:34.392Z"
      },
      {
        "duration": 2,
        "start_time": "2022-08-01T11:23:34.685Z"
      },
      {
        "duration": 2,
        "start_time": "2022-08-01T11:23:34.903Z"
      },
      {
        "duration": 13271,
        "start_time": "2022-08-01T11:23:35.117Z"
      },
      {
        "duration": 13,
        "start_time": "2022-08-01T11:23:48.390Z"
      },
      {
        "duration": 190,
        "start_time": "2022-08-01T11:23:48.404Z"
      },
      {
        "duration": 7,
        "start_time": "2022-08-01T11:26:11.311Z"
      },
      {
        "duration": 3,
        "start_time": "2022-08-01T11:26:11.660Z"
      },
      {
        "duration": 10,
        "start_time": "2022-08-01T11:26:12.013Z"
      },
      {
        "duration": 32019,
        "start_time": "2022-08-01T11:26:12.303Z"
      },
      {
        "duration": 8,
        "start_time": "2022-08-01T11:26:44.323Z"
      },
      {
        "duration": 4,
        "start_time": "2022-08-01T11:26:44.333Z"
      },
      {
        "duration": 27,
        "start_time": "2022-08-01T11:26:44.339Z"
      },
      {
        "duration": 7,
        "start_time": "2022-08-01T11:26:44.367Z"
      },
      {
        "duration": 3,
        "start_time": "2022-08-01T11:26:44.376Z"
      },
      {
        "duration": 5,
        "start_time": "2022-08-01T11:26:44.380Z"
      },
      {
        "duration": 5,
        "start_time": "2022-08-01T11:26:44.386Z"
      },
      {
        "duration": 13292,
        "start_time": "2022-08-01T11:26:44.392Z"
      },
      {
        "duration": 18,
        "start_time": "2022-08-01T11:26:57.687Z"
      },
      {
        "duration": 231,
        "start_time": "2022-08-01T11:26:57.707Z"
      },
      {
        "duration": 1131,
        "start_time": "2022-08-01T11:28:45.748Z"
      },
      {
        "duration": 108,
        "start_time": "2022-08-01T11:28:46.882Z"
      },
      {
        "duration": 86,
        "start_time": "2022-08-01T11:28:46.991Z"
      },
      {
        "duration": 14,
        "start_time": "2022-08-01T11:28:47.079Z"
      },
      {
        "duration": 8,
        "start_time": "2022-08-01T11:28:47.096Z"
      },
      {
        "duration": 27,
        "start_time": "2022-08-01T11:28:47.105Z"
      },
      {
        "duration": 5,
        "start_time": "2022-08-01T11:28:47.133Z"
      },
      {
        "duration": 12,
        "start_time": "2022-08-01T11:28:47.140Z"
      },
      {
        "duration": 7,
        "start_time": "2022-08-01T11:28:47.154Z"
      },
      {
        "duration": 13,
        "start_time": "2022-08-01T11:28:47.163Z"
      },
      {
        "duration": 8,
        "start_time": "2022-08-01T11:28:47.178Z"
      },
      {
        "duration": 8,
        "start_time": "2022-08-01T11:28:47.188Z"
      },
      {
        "duration": 12,
        "start_time": "2022-08-01T11:28:47.198Z"
      },
      {
        "duration": 362,
        "start_time": "2022-08-01T11:28:47.213Z"
      },
      {
        "duration": 132,
        "start_time": "2022-08-01T11:28:47.577Z"
      },
      {
        "duration": 141,
        "start_time": "2022-08-01T11:28:47.711Z"
      },
      {
        "duration": 19,
        "start_time": "2022-08-01T11:28:47.854Z"
      },
      {
        "duration": 5,
        "start_time": "2022-08-01T11:28:47.875Z"
      },
      {
        "duration": 38,
        "start_time": "2022-08-01T11:28:47.882Z"
      },
      {
        "duration": 12,
        "start_time": "2022-08-01T11:28:47.921Z"
      },
      {
        "duration": 17,
        "start_time": "2022-08-01T11:28:47.935Z"
      },
      {
        "duration": 12,
        "start_time": "2022-08-01T11:28:47.954Z"
      },
      {
        "duration": 94,
        "start_time": "2022-08-01T11:28:47.968Z"
      },
      {
        "duration": 7,
        "start_time": "2022-08-01T11:28:48.064Z"
      },
      {
        "duration": 23,
        "start_time": "2022-08-01T11:28:48.072Z"
      },
      {
        "duration": 10,
        "start_time": "2022-08-01T11:28:48.097Z"
      },
      {
        "duration": 27,
        "start_time": "2022-08-01T11:28:48.108Z"
      },
      {
        "duration": 5,
        "start_time": "2022-08-01T11:28:48.137Z"
      },
      {
        "duration": 70,
        "start_time": "2022-08-01T11:28:48.143Z"
      },
      {
        "duration": 17,
        "start_time": "2022-08-01T11:28:48.214Z"
      },
      {
        "duration": 18,
        "start_time": "2022-08-01T11:28:48.233Z"
      },
      {
        "duration": 6,
        "start_time": "2022-08-01T11:28:48.253Z"
      },
      {
        "duration": 20,
        "start_time": "2022-08-01T11:28:48.261Z"
      },
      {
        "duration": 19,
        "start_time": "2022-08-01T11:28:48.283Z"
      },
      {
        "duration": 41,
        "start_time": "2022-08-01T11:28:48.304Z"
      },
      {
        "duration": 171,
        "start_time": "2022-08-01T11:28:48.346Z"
      },
      {
        "duration": 21,
        "start_time": "2022-08-01T11:28:48.518Z"
      },
      {
        "duration": 7,
        "start_time": "2022-08-01T11:28:48.540Z"
      },
      {
        "duration": 6,
        "start_time": "2022-08-01T11:28:48.549Z"
      },
      {
        "duration": 8,
        "start_time": "2022-08-01T11:28:48.556Z"
      },
      {
        "duration": 142,
        "start_time": "2022-08-01T11:28:48.568Z"
      },
      {
        "duration": 29,
        "start_time": "2022-08-01T11:28:48.712Z"
      },
      {
        "duration": 4,
        "start_time": "2022-08-01T11:28:48.743Z"
      },
      {
        "duration": 9,
        "start_time": "2022-08-01T11:28:48.748Z"
      },
      {
        "duration": 5,
        "start_time": "2022-08-01T11:28:48.758Z"
      },
      {
        "duration": 5,
        "start_time": "2022-08-01T11:28:48.764Z"
      },
      {
        "duration": 5,
        "start_time": "2022-08-01T11:28:48.770Z"
      },
      {
        "duration": 13785,
        "start_time": "2022-08-01T11:28:48.776Z"
      },
      {
        "duration": 12,
        "start_time": "2022-08-01T11:29:02.563Z"
      },
      {
        "duration": 199,
        "start_time": "2022-08-01T11:29:02.577Z"
      },
      {
        "duration": 4,
        "start_time": "2022-08-01T11:29:02.777Z"
      },
      {
        "duration": 10,
        "start_time": "2022-08-01T11:29:02.782Z"
      },
      {
        "duration": 8,
        "start_time": "2022-08-01T11:29:02.793Z"
      },
      {
        "duration": 22,
        "start_time": "2022-08-01T11:29:02.803Z"
      },
      {
        "duration": 34537,
        "start_time": "2022-08-01T11:29:02.827Z"
      },
      {
        "duration": 4,
        "start_time": "2022-08-01T11:29:37.366Z"
      },
      {
        "duration": 11,
        "start_time": "2022-08-01T11:29:37.372Z"
      },
      {
        "duration": 30,
        "start_time": "2022-08-01T11:29:37.384Z"
      },
      {
        "duration": 15,
        "start_time": "2022-08-01T11:29:37.416Z"
      },
      {
        "duration": 17399,
        "start_time": "2022-08-01T11:29:37.433Z"
      },
      {
        "duration": 4,
        "start_time": "2022-08-01T11:29:54.833Z"
      },
      {
        "duration": 104,
        "start_time": "2022-08-01T11:29:54.839Z"
      },
      {
        "duration": 32,
        "start_time": "2022-08-01T11:29:54.945Z"
      },
      {
        "duration": 128,
        "start_time": "2022-08-01T11:35:11.760Z"
      },
      {
        "duration": 5,
        "start_time": "2022-08-01T11:36:09.449Z"
      },
      {
        "duration": 1173,
        "start_time": "2022-08-01T11:37:07.449Z"
      },
      {
        "duration": 104,
        "start_time": "2022-08-01T11:37:08.624Z"
      },
      {
        "duration": 79,
        "start_time": "2022-08-01T11:37:08.730Z"
      },
      {
        "duration": 29,
        "start_time": "2022-08-01T11:37:08.812Z"
      },
      {
        "duration": 26,
        "start_time": "2022-08-01T11:37:08.843Z"
      },
      {
        "duration": 19,
        "start_time": "2022-08-01T11:37:08.870Z"
      },
      {
        "duration": 8,
        "start_time": "2022-08-01T11:37:08.891Z"
      },
      {
        "duration": 7,
        "start_time": "2022-08-01T11:37:08.901Z"
      },
      {
        "duration": 7,
        "start_time": "2022-08-01T11:37:08.910Z"
      },
      {
        "duration": 18,
        "start_time": "2022-08-01T11:37:08.919Z"
      },
      {
        "duration": 13,
        "start_time": "2022-08-01T11:37:08.938Z"
      },
      {
        "duration": 15,
        "start_time": "2022-08-01T11:37:08.952Z"
      },
      {
        "duration": 10,
        "start_time": "2022-08-01T11:37:08.969Z"
      },
      {
        "duration": 379,
        "start_time": "2022-08-01T11:37:08.982Z"
      },
      {
        "duration": 101,
        "start_time": "2022-08-01T11:37:09.363Z"
      },
      {
        "duration": 101,
        "start_time": "2022-08-01T11:37:09.466Z"
      },
      {
        "duration": 14,
        "start_time": "2022-08-01T11:37:09.569Z"
      },
      {
        "duration": 4,
        "start_time": "2022-08-01T11:37:09.584Z"
      },
      {
        "duration": 12,
        "start_time": "2022-08-01T11:37:09.589Z"
      },
      {
        "duration": 30,
        "start_time": "2022-08-01T11:37:09.602Z"
      },
      {
        "duration": 11,
        "start_time": "2022-08-01T11:37:09.633Z"
      },
      {
        "duration": 11,
        "start_time": "2022-08-01T11:37:09.646Z"
      },
      {
        "duration": 95,
        "start_time": "2022-08-01T11:37:09.658Z"
      },
      {
        "duration": 7,
        "start_time": "2022-08-01T11:37:09.754Z"
      },
      {
        "duration": 12,
        "start_time": "2022-08-01T11:37:09.763Z"
      },
      {
        "duration": 7,
        "start_time": "2022-08-01T11:37:09.776Z"
      },
      {
        "duration": 13,
        "start_time": "2022-08-01T11:37:09.785Z"
      },
      {
        "duration": 8,
        "start_time": "2022-08-01T11:37:09.800Z"
      },
      {
        "duration": 6,
        "start_time": "2022-08-01T11:37:09.831Z"
      },
      {
        "duration": 4,
        "start_time": "2022-08-01T11:37:09.839Z"
      },
      {
        "duration": 16,
        "start_time": "2022-08-01T11:37:09.845Z"
      },
      {
        "duration": 20,
        "start_time": "2022-08-01T11:37:09.863Z"
      },
      {
        "duration": 9,
        "start_time": "2022-08-01T11:37:09.885Z"
      },
      {
        "duration": 36,
        "start_time": "2022-08-01T11:37:09.896Z"
      },
      {
        "duration": 10,
        "start_time": "2022-08-01T11:37:09.934Z"
      },
      {
        "duration": 26,
        "start_time": "2022-08-01T11:37:09.945Z"
      },
      {
        "duration": 164,
        "start_time": "2022-08-01T11:37:09.972Z"
      },
      {
        "duration": 13,
        "start_time": "2022-08-01T11:37:10.137Z"
      },
      {
        "duration": 4,
        "start_time": "2022-08-01T11:37:10.152Z"
      },
      {
        "duration": 7,
        "start_time": "2022-08-01T11:37:10.157Z"
      },
      {
        "duration": 8,
        "start_time": "2022-08-01T11:37:10.168Z"
      },
      {
        "duration": 176,
        "start_time": "2022-08-01T11:37:10.177Z"
      },
      {
        "duration": 22,
        "start_time": "2022-08-01T11:37:10.355Z"
      },
      {
        "duration": 5,
        "start_time": "2022-08-01T11:37:10.378Z"
      },
      {
        "duration": 10,
        "start_time": "2022-08-01T11:37:10.384Z"
      },
      {
        "duration": 2,
        "start_time": "2022-08-01T11:37:10.396Z"
      },
      {
        "duration": 5,
        "start_time": "2022-08-01T11:37:10.399Z"
      },
      {
        "duration": 5,
        "start_time": "2022-08-01T11:37:10.405Z"
      },
      {
        "duration": 14142,
        "start_time": "2022-08-01T11:37:10.411Z"
      },
      {
        "duration": 14,
        "start_time": "2022-08-01T11:37:24.555Z"
      },
      {
        "duration": 205,
        "start_time": "2022-08-01T11:37:24.570Z"
      },
      {
        "duration": 3,
        "start_time": "2022-08-01T11:37:24.777Z"
      },
      {
        "duration": 11,
        "start_time": "2022-08-01T11:37:24.781Z"
      },
      {
        "duration": 2,
        "start_time": "2022-08-01T11:37:24.793Z"
      },
      {
        "duration": 11,
        "start_time": "2022-08-01T11:37:24.797Z"
      },
      {
        "duration": 36386,
        "start_time": "2022-08-01T11:37:24.809Z"
      },
      {
        "duration": 3,
        "start_time": "2022-08-01T11:38:01.197Z"
      },
      {
        "duration": 8,
        "start_time": "2022-08-01T11:38:01.202Z"
      },
      {
        "duration": 37,
        "start_time": "2022-08-01T11:38:01.211Z"
      },
      {
        "duration": 5,
        "start_time": "2022-08-01T11:38:01.249Z"
      },
      {
        "duration": 7577,
        "start_time": "2022-08-01T11:38:01.255Z"
      },
      {
        "duration": 8,
        "start_time": "2022-08-01T11:38:08.839Z"
      },
      {
        "duration": 101,
        "start_time": "2022-08-01T11:38:08.853Z"
      },
      {
        "duration": 20,
        "start_time": "2022-08-01T11:38:08.956Z"
      },
      {
        "duration": 1211,
        "start_time": "2022-08-01T11:40:24.482Z"
      },
      {
        "duration": 111,
        "start_time": "2022-08-01T11:40:25.694Z"
      },
      {
        "duration": 78,
        "start_time": "2022-08-01T11:40:25.806Z"
      },
      {
        "duration": 12,
        "start_time": "2022-08-01T11:40:25.885Z"
      },
      {
        "duration": 6,
        "start_time": "2022-08-01T11:40:25.900Z"
      },
      {
        "duration": 33,
        "start_time": "2022-08-01T11:40:25.907Z"
      },
      {
        "duration": 18,
        "start_time": "2022-08-01T11:40:25.941Z"
      },
      {
        "duration": 8,
        "start_time": "2022-08-01T11:40:25.960Z"
      },
      {
        "duration": 6,
        "start_time": "2022-08-01T11:40:25.969Z"
      },
      {
        "duration": 8,
        "start_time": "2022-08-01T11:40:25.977Z"
      },
      {
        "duration": 7,
        "start_time": "2022-08-01T11:40:25.987Z"
      },
      {
        "duration": 9,
        "start_time": "2022-08-01T11:40:25.995Z"
      },
      {
        "duration": 11,
        "start_time": "2022-08-01T11:40:26.006Z"
      },
      {
        "duration": 364,
        "start_time": "2022-08-01T11:40:26.020Z"
      },
      {
        "duration": 114,
        "start_time": "2022-08-01T11:40:26.385Z"
      },
      {
        "duration": 104,
        "start_time": "2022-08-01T11:40:26.501Z"
      },
      {
        "duration": 26,
        "start_time": "2022-08-01T11:40:26.606Z"
      },
      {
        "duration": 6,
        "start_time": "2022-08-01T11:40:26.635Z"
      },
      {
        "duration": 29,
        "start_time": "2022-08-01T11:40:26.643Z"
      },
      {
        "duration": 22,
        "start_time": "2022-08-01T11:40:26.673Z"
      },
      {
        "duration": 16,
        "start_time": "2022-08-01T11:40:26.697Z"
      },
      {
        "duration": 11,
        "start_time": "2022-08-01T11:40:26.715Z"
      },
      {
        "duration": 88,
        "start_time": "2022-08-01T11:40:26.727Z"
      },
      {
        "duration": 6,
        "start_time": "2022-08-01T11:40:26.817Z"
      },
      {
        "duration": 16,
        "start_time": "2022-08-01T11:40:26.824Z"
      },
      {
        "duration": 15,
        "start_time": "2022-08-01T11:40:26.842Z"
      },
      {
        "duration": 15,
        "start_time": "2022-08-01T11:40:26.858Z"
      },
      {
        "duration": 3,
        "start_time": "2022-08-01T11:40:26.874Z"
      },
      {
        "duration": 9,
        "start_time": "2022-08-01T11:40:26.878Z"
      },
      {
        "duration": 1789,
        "start_time": "2022-08-01T11:40:26.889Z"
      },
      {
        "duration": 0,
        "start_time": "2022-08-01T11:40:28.680Z"
      },
      {
        "duration": 0,
        "start_time": "2022-08-01T11:40:28.682Z"
      },
      {
        "duration": 0,
        "start_time": "2022-08-01T11:40:28.683Z"
      },
      {
        "duration": 0,
        "start_time": "2022-08-01T11:40:28.684Z"
      },
      {
        "duration": 0,
        "start_time": "2022-08-01T11:40:28.685Z"
      },
      {
        "duration": 0,
        "start_time": "2022-08-01T11:40:28.686Z"
      },
      {
        "duration": 0,
        "start_time": "2022-08-01T11:40:28.687Z"
      },
      {
        "duration": 0,
        "start_time": "2022-08-01T11:40:28.687Z"
      },
      {
        "duration": 0,
        "start_time": "2022-08-01T11:40:28.690Z"
      },
      {
        "duration": 0,
        "start_time": "2022-08-01T11:40:28.690Z"
      },
      {
        "duration": 0,
        "start_time": "2022-08-01T11:40:28.691Z"
      },
      {
        "duration": 0,
        "start_time": "2022-08-01T11:40:28.692Z"
      },
      {
        "duration": 0,
        "start_time": "2022-08-01T11:40:28.694Z"
      },
      {
        "duration": 0,
        "start_time": "2022-08-01T11:40:28.695Z"
      },
      {
        "duration": 0,
        "start_time": "2022-08-01T11:40:28.696Z"
      },
      {
        "duration": 0,
        "start_time": "2022-08-01T11:40:28.697Z"
      },
      {
        "duration": 0,
        "start_time": "2022-08-01T11:40:28.698Z"
      },
      {
        "duration": 0,
        "start_time": "2022-08-01T11:40:28.699Z"
      },
      {
        "duration": 0,
        "start_time": "2022-08-01T11:40:28.700Z"
      },
      {
        "duration": 0,
        "start_time": "2022-08-01T11:40:28.701Z"
      },
      {
        "duration": 0,
        "start_time": "2022-08-01T11:40:28.701Z"
      },
      {
        "duration": 0,
        "start_time": "2022-08-01T11:40:28.702Z"
      },
      {
        "duration": 0,
        "start_time": "2022-08-01T11:40:28.703Z"
      },
      {
        "duration": 0,
        "start_time": "2022-08-01T11:40:28.704Z"
      },
      {
        "duration": 0,
        "start_time": "2022-08-01T11:40:28.705Z"
      },
      {
        "duration": 0,
        "start_time": "2022-08-01T11:40:28.706Z"
      },
      {
        "duration": 0,
        "start_time": "2022-08-01T11:40:28.707Z"
      },
      {
        "duration": 0,
        "start_time": "2022-08-01T11:40:28.707Z"
      },
      {
        "duration": 0,
        "start_time": "2022-08-01T11:40:28.708Z"
      },
      {
        "duration": 0,
        "start_time": "2022-08-01T11:40:28.709Z"
      },
      {
        "duration": 0,
        "start_time": "2022-08-01T11:40:28.710Z"
      },
      {
        "duration": 0,
        "start_time": "2022-08-01T11:40:28.711Z"
      },
      {
        "duration": 0,
        "start_time": "2022-08-01T11:40:28.712Z"
      },
      {
        "duration": 1143,
        "start_time": "2022-08-01T11:42:28.867Z"
      },
      {
        "duration": 103,
        "start_time": "2022-08-01T11:42:30.012Z"
      },
      {
        "duration": 77,
        "start_time": "2022-08-01T11:42:30.117Z"
      },
      {
        "duration": 14,
        "start_time": "2022-08-01T11:42:30.196Z"
      },
      {
        "duration": 7,
        "start_time": "2022-08-01T11:42:30.212Z"
      },
      {
        "duration": 15,
        "start_time": "2022-08-01T11:42:30.232Z"
      },
      {
        "duration": 21,
        "start_time": "2022-08-01T11:42:30.248Z"
      },
      {
        "duration": 19,
        "start_time": "2022-08-01T11:42:30.270Z"
      },
      {
        "duration": 11,
        "start_time": "2022-08-01T11:42:30.291Z"
      },
      {
        "duration": 13,
        "start_time": "2022-08-01T11:42:30.304Z"
      },
      {
        "duration": 6,
        "start_time": "2022-08-01T11:42:30.318Z"
      },
      {
        "duration": 16,
        "start_time": "2022-08-01T11:42:30.325Z"
      },
      {
        "duration": 9,
        "start_time": "2022-08-01T11:42:30.343Z"
      },
      {
        "duration": 364,
        "start_time": "2022-08-01T11:42:30.357Z"
      },
      {
        "duration": 99,
        "start_time": "2022-08-01T11:42:30.723Z"
      },
      {
        "duration": 103,
        "start_time": "2022-08-01T11:42:30.832Z"
      },
      {
        "duration": 16,
        "start_time": "2022-08-01T11:42:30.937Z"
      },
      {
        "duration": 5,
        "start_time": "2022-08-01T11:42:30.955Z"
      },
      {
        "duration": 23,
        "start_time": "2022-08-01T11:42:30.962Z"
      },
      {
        "duration": 17,
        "start_time": "2022-08-01T11:42:30.987Z"
      },
      {
        "duration": 28,
        "start_time": "2022-08-01T11:42:31.005Z"
      },
      {
        "duration": 23,
        "start_time": "2022-08-01T11:42:31.035Z"
      },
      {
        "duration": 88,
        "start_time": "2022-08-01T11:42:31.059Z"
      },
      {
        "duration": 14,
        "start_time": "2022-08-01T11:42:31.149Z"
      },
      {
        "duration": 16,
        "start_time": "2022-08-01T11:42:31.164Z"
      },
      {
        "duration": 12,
        "start_time": "2022-08-01T11:42:31.182Z"
      },
      {
        "duration": 14,
        "start_time": "2022-08-01T11:42:31.196Z"
      },
      {
        "duration": 13,
        "start_time": "2022-08-01T11:42:31.211Z"
      },
      {
        "duration": 10,
        "start_time": "2022-08-01T11:42:31.225Z"
      },
      {
        "duration": 13,
        "start_time": "2022-08-01T11:42:31.236Z"
      },
      {
        "duration": 1323,
        "start_time": "2022-08-01T11:42:31.251Z"
      },
      {
        "duration": 0,
        "start_time": "2022-08-01T11:42:32.576Z"
      },
      {
        "duration": 0,
        "start_time": "2022-08-01T11:42:32.578Z"
      },
      {
        "duration": 0,
        "start_time": "2022-08-01T11:42:32.579Z"
      },
      {
        "duration": 0,
        "start_time": "2022-08-01T11:42:32.580Z"
      },
      {
        "duration": 0,
        "start_time": "2022-08-01T11:42:32.581Z"
      },
      {
        "duration": 0,
        "start_time": "2022-08-01T11:42:32.582Z"
      },
      {
        "duration": 0,
        "start_time": "2022-08-01T11:42:32.583Z"
      },
      {
        "duration": 0,
        "start_time": "2022-08-01T11:42:32.584Z"
      },
      {
        "duration": 0,
        "start_time": "2022-08-01T11:42:32.585Z"
      },
      {
        "duration": 0,
        "start_time": "2022-08-01T11:42:32.586Z"
      },
      {
        "duration": 0,
        "start_time": "2022-08-01T11:42:32.587Z"
      },
      {
        "duration": 0,
        "start_time": "2022-08-01T11:42:32.588Z"
      },
      {
        "duration": 0,
        "start_time": "2022-08-01T11:42:32.589Z"
      },
      {
        "duration": 0,
        "start_time": "2022-08-01T11:42:32.590Z"
      },
      {
        "duration": 0,
        "start_time": "2022-08-01T11:42:32.591Z"
      },
      {
        "duration": 0,
        "start_time": "2022-08-01T11:42:32.592Z"
      },
      {
        "duration": 0,
        "start_time": "2022-08-01T11:42:32.593Z"
      },
      {
        "duration": 0,
        "start_time": "2022-08-01T11:42:32.593Z"
      },
      {
        "duration": 0,
        "start_time": "2022-08-01T11:42:32.594Z"
      },
      {
        "duration": 0,
        "start_time": "2022-08-01T11:42:32.595Z"
      },
      {
        "duration": 0,
        "start_time": "2022-08-01T11:42:32.596Z"
      },
      {
        "duration": 0,
        "start_time": "2022-08-01T11:42:32.597Z"
      },
      {
        "duration": 0,
        "start_time": "2022-08-01T11:42:32.598Z"
      },
      {
        "duration": 0,
        "start_time": "2022-08-01T11:42:32.599Z"
      },
      {
        "duration": 0,
        "start_time": "2022-08-01T11:42:32.600Z"
      },
      {
        "duration": 0,
        "start_time": "2022-08-01T11:42:32.601Z"
      },
      {
        "duration": 0,
        "start_time": "2022-08-01T11:42:32.601Z"
      },
      {
        "duration": 0,
        "start_time": "2022-08-01T11:42:32.602Z"
      },
      {
        "duration": 0,
        "start_time": "2022-08-01T11:42:32.603Z"
      },
      {
        "duration": 0,
        "start_time": "2022-08-01T11:42:32.604Z"
      },
      {
        "duration": 0,
        "start_time": "2022-08-01T11:42:32.605Z"
      },
      {
        "duration": 0,
        "start_time": "2022-08-01T11:42:32.606Z"
      },
      {
        "duration": 0,
        "start_time": "2022-08-01T11:42:32.607Z"
      },
      {
        "duration": 1083,
        "start_time": "2022-08-01T11:44:13.089Z"
      },
      {
        "duration": 105,
        "start_time": "2022-08-01T11:44:14.173Z"
      },
      {
        "duration": 79,
        "start_time": "2022-08-01T11:44:14.279Z"
      },
      {
        "duration": 13,
        "start_time": "2022-08-01T11:44:14.360Z"
      },
      {
        "duration": 7,
        "start_time": "2022-08-01T11:44:14.376Z"
      },
      {
        "duration": 17,
        "start_time": "2022-08-01T11:44:14.384Z"
      },
      {
        "duration": 28,
        "start_time": "2022-08-01T11:44:14.403Z"
      },
      {
        "duration": 6,
        "start_time": "2022-08-01T11:44:14.433Z"
      },
      {
        "duration": 7,
        "start_time": "2022-08-01T11:44:14.441Z"
      },
      {
        "duration": 10,
        "start_time": "2022-08-01T11:44:14.450Z"
      },
      {
        "duration": 5,
        "start_time": "2022-08-01T11:44:14.461Z"
      },
      {
        "duration": 4,
        "start_time": "2022-08-01T11:44:14.468Z"
      },
      {
        "duration": 6,
        "start_time": "2022-08-01T11:44:14.473Z"
      },
      {
        "duration": 387,
        "start_time": "2022-08-01T11:44:14.482Z"
      },
      {
        "duration": 104,
        "start_time": "2022-08-01T11:44:14.871Z"
      },
      {
        "duration": 106,
        "start_time": "2022-08-01T11:44:14.976Z"
      },
      {
        "duration": 15,
        "start_time": "2022-08-01T11:44:15.084Z"
      },
      {
        "duration": 16,
        "start_time": "2022-08-01T11:44:15.100Z"
      },
      {
        "duration": 19,
        "start_time": "2022-08-01T11:44:15.117Z"
      },
      {
        "duration": 27,
        "start_time": "2022-08-01T11:44:15.138Z"
      },
      {
        "duration": 27,
        "start_time": "2022-08-01T11:44:15.167Z"
      },
      {
        "duration": 22,
        "start_time": "2022-08-01T11:44:15.195Z"
      },
      {
        "duration": 102,
        "start_time": "2022-08-01T11:44:15.219Z"
      },
      {
        "duration": 14,
        "start_time": "2022-08-01T11:44:15.323Z"
      },
      {
        "duration": 14,
        "start_time": "2022-08-01T11:44:15.339Z"
      },
      {
        "duration": 16,
        "start_time": "2022-08-01T11:44:15.354Z"
      },
      {
        "duration": 18,
        "start_time": "2022-08-01T11:44:15.372Z"
      },
      {
        "duration": 3,
        "start_time": "2022-08-01T11:44:15.391Z"
      },
      {
        "duration": 13,
        "start_time": "2022-08-01T11:44:15.395Z"
      },
      {
        "duration": 5,
        "start_time": "2022-08-01T11:44:15.410Z"
      },
      {
        "duration": 16,
        "start_time": "2022-08-01T11:44:15.417Z"
      },
      {
        "duration": 21,
        "start_time": "2022-08-01T11:44:15.435Z"
      },
      {
        "duration": 18,
        "start_time": "2022-08-01T11:44:15.458Z"
      },
      {
        "duration": 15,
        "start_time": "2022-08-01T11:44:15.478Z"
      },
      {
        "duration": 6,
        "start_time": "2022-08-01T11:44:15.495Z"
      },
      {
        "duration": 10,
        "start_time": "2022-08-01T11:44:15.503Z"
      },
      {
        "duration": 27,
        "start_time": "2022-08-01T11:44:15.515Z"
      },
      {
        "duration": 187,
        "start_time": "2022-08-01T11:44:15.544Z"
      },
      {
        "duration": 15,
        "start_time": "2022-08-01T11:44:15.733Z"
      },
      {
        "duration": 6,
        "start_time": "2022-08-01T11:44:15.750Z"
      },
      {
        "duration": 10,
        "start_time": "2022-08-01T11:44:15.760Z"
      },
      {
        "duration": 9,
        "start_time": "2022-08-01T11:44:15.771Z"
      },
      {
        "duration": 206,
        "start_time": "2022-08-01T11:44:15.782Z"
      },
      {
        "duration": 27,
        "start_time": "2022-08-01T11:44:15.990Z"
      },
      {
        "duration": 12,
        "start_time": "2022-08-01T11:44:16.019Z"
      },
      {
        "duration": 12,
        "start_time": "2022-08-01T11:44:16.034Z"
      },
      {
        "duration": 16,
        "start_time": "2022-08-01T11:44:16.048Z"
      },
      {
        "duration": 18,
        "start_time": "2022-08-01T11:44:16.066Z"
      },
      {
        "duration": 21,
        "start_time": "2022-08-01T11:44:16.086Z"
      },
      {
        "duration": 13694,
        "start_time": "2022-08-01T11:44:16.109Z"
      },
      {
        "duration": 16,
        "start_time": "2022-08-01T11:44:29.805Z"
      },
      {
        "duration": 239,
        "start_time": "2022-08-01T11:44:29.822Z"
      },
      {
        "duration": 5,
        "start_time": "2022-08-01T11:44:30.062Z"
      },
      {
        "duration": 13,
        "start_time": "2022-08-01T11:44:30.068Z"
      },
      {
        "duration": 10,
        "start_time": "2022-08-01T11:44:30.083Z"
      },
      {
        "duration": 33225,
        "start_time": "2022-08-01T11:44:30.094Z"
      },
      {
        "duration": 4,
        "start_time": "2022-08-01T11:45:03.320Z"
      },
      {
        "duration": 17,
        "start_time": "2022-08-01T11:45:03.331Z"
      },
      {
        "duration": 33,
        "start_time": "2022-08-01T11:45:03.350Z"
      },
      {
        "duration": 4,
        "start_time": "2022-08-01T11:45:03.385Z"
      },
      {
        "duration": 9042,
        "start_time": "2022-08-01T11:45:03.390Z"
      },
      {
        "duration": 3,
        "start_time": "2022-08-01T11:45:12.434Z"
      },
      {
        "duration": 5,
        "start_time": "2022-08-01T11:45:12.439Z"
      },
      {
        "duration": 101,
        "start_time": "2022-08-01T11:45:12.445Z"
      },
      {
        "duration": 1258,
        "start_time": "2022-08-01T11:47:38.798Z"
      },
      {
        "duration": 107,
        "start_time": "2022-08-01T11:47:40.058Z"
      },
      {
        "duration": 80,
        "start_time": "2022-08-01T11:47:40.167Z"
      },
      {
        "duration": 12,
        "start_time": "2022-08-01T11:47:40.249Z"
      },
      {
        "duration": 8,
        "start_time": "2022-08-01T11:47:40.263Z"
      },
      {
        "duration": 17,
        "start_time": "2022-08-01T11:47:40.272Z"
      },
      {
        "duration": 8,
        "start_time": "2022-08-01T11:47:40.291Z"
      },
      {
        "duration": 11,
        "start_time": "2022-08-01T11:47:40.300Z"
      },
      {
        "duration": 16,
        "start_time": "2022-08-01T11:47:40.331Z"
      },
      {
        "duration": 8,
        "start_time": "2022-08-01T11:47:40.349Z"
      },
      {
        "duration": 6,
        "start_time": "2022-08-01T11:47:40.358Z"
      },
      {
        "duration": 5,
        "start_time": "2022-08-01T11:47:40.365Z"
      },
      {
        "duration": 5,
        "start_time": "2022-08-01T11:47:40.371Z"
      },
      {
        "duration": 358,
        "start_time": "2022-08-01T11:47:40.378Z"
      },
      {
        "duration": 97,
        "start_time": "2022-08-01T11:47:40.738Z"
      },
      {
        "duration": 96,
        "start_time": "2022-08-01T11:47:40.837Z"
      },
      {
        "duration": 18,
        "start_time": "2022-08-01T11:47:40.934Z"
      },
      {
        "duration": 4,
        "start_time": "2022-08-01T11:47:40.954Z"
      },
      {
        "duration": 12,
        "start_time": "2022-08-01T11:47:40.960Z"
      },
      {
        "duration": 22,
        "start_time": "2022-08-01T11:47:40.974Z"
      },
      {
        "duration": 21,
        "start_time": "2022-08-01T11:47:40.998Z"
      },
      {
        "duration": 18,
        "start_time": "2022-08-01T11:47:41.020Z"
      },
      {
        "duration": 92,
        "start_time": "2022-08-01T11:47:41.040Z"
      },
      {
        "duration": 19,
        "start_time": "2022-08-01T11:47:41.134Z"
      },
      {
        "duration": 28,
        "start_time": "2022-08-01T11:47:41.154Z"
      },
      {
        "duration": 21,
        "start_time": "2022-08-01T11:47:41.184Z"
      },
      {
        "duration": 48,
        "start_time": "2022-08-01T11:47:41.207Z"
      },
      {
        "duration": 24,
        "start_time": "2022-08-01T11:47:41.256Z"
      },
      {
        "duration": 30,
        "start_time": "2022-08-01T11:47:41.281Z"
      },
      {
        "duration": 35,
        "start_time": "2022-08-01T11:47:41.312Z"
      },
      {
        "duration": 21,
        "start_time": "2022-08-01T11:47:41.348Z"
      },
      {
        "duration": 34,
        "start_time": "2022-08-01T11:47:41.370Z"
      },
      {
        "duration": 31,
        "start_time": "2022-08-01T11:47:41.407Z"
      },
      {
        "duration": 31,
        "start_time": "2022-08-01T11:47:41.440Z"
      },
      {
        "duration": 24,
        "start_time": "2022-08-01T11:47:41.473Z"
      },
      {
        "duration": 13,
        "start_time": "2022-08-01T11:47:41.498Z"
      },
      {
        "duration": 50,
        "start_time": "2022-08-01T11:47:41.513Z"
      },
      {
        "duration": 157,
        "start_time": "2022-08-01T11:47:41.564Z"
      },
      {
        "duration": 16,
        "start_time": "2022-08-01T11:47:41.723Z"
      },
      {
        "duration": 16,
        "start_time": "2022-08-01T11:47:41.740Z"
      },
      {
        "duration": 11,
        "start_time": "2022-08-01T11:47:41.759Z"
      },
      {
        "duration": 31,
        "start_time": "2022-08-01T11:47:41.771Z"
      },
      {
        "duration": 177,
        "start_time": "2022-08-01T11:47:41.804Z"
      },
      {
        "duration": 24,
        "start_time": "2022-08-01T11:47:41.982Z"
      },
      {
        "duration": 6,
        "start_time": "2022-08-01T11:47:42.008Z"
      },
      {
        "duration": 24,
        "start_time": "2022-08-01T11:47:42.015Z"
      },
      {
        "duration": 14,
        "start_time": "2022-08-01T11:47:42.041Z"
      },
      {
        "duration": 12,
        "start_time": "2022-08-01T11:47:42.057Z"
      },
      {
        "duration": 15,
        "start_time": "2022-08-01T11:47:42.071Z"
      },
      {
        "duration": 14210,
        "start_time": "2022-08-01T11:47:42.087Z"
      },
      {
        "duration": 15,
        "start_time": "2022-08-01T11:47:56.299Z"
      },
      {
        "duration": 198,
        "start_time": "2022-08-01T11:47:56.317Z"
      },
      {
        "duration": 4,
        "start_time": "2022-08-01T11:47:56.517Z"
      },
      {
        "duration": 14,
        "start_time": "2022-08-01T11:47:56.523Z"
      },
      {
        "duration": 21,
        "start_time": "2022-08-01T11:47:56.538Z"
      },
      {
        "duration": 33671,
        "start_time": "2022-08-01T11:47:56.560Z"
      },
      {
        "duration": 4,
        "start_time": "2022-08-01T11:48:30.233Z"
      },
      {
        "duration": 16,
        "start_time": "2022-08-01T11:48:30.239Z"
      },
      {
        "duration": 35,
        "start_time": "2022-08-01T11:48:30.257Z"
      },
      {
        "duration": 5,
        "start_time": "2022-08-01T11:48:30.293Z"
      },
      {
        "duration": 7370,
        "start_time": "2022-08-01T11:48:30.299Z"
      },
      {
        "duration": 4,
        "start_time": "2022-08-01T11:48:37.671Z"
      },
      {
        "duration": 17,
        "start_time": "2022-08-01T11:48:37.677Z"
      },
      {
        "duration": 43,
        "start_time": "2022-08-01T11:48:37.696Z"
      },
      {
        "duration": 1363,
        "start_time": "2022-08-01T11:51:21.653Z"
      },
      {
        "duration": 119,
        "start_time": "2022-08-01T11:51:23.018Z"
      },
      {
        "duration": 80,
        "start_time": "2022-08-01T11:51:23.140Z"
      },
      {
        "duration": 16,
        "start_time": "2022-08-01T11:51:23.232Z"
      },
      {
        "duration": 13,
        "start_time": "2022-08-01T11:51:23.250Z"
      },
      {
        "duration": 16,
        "start_time": "2022-08-01T11:51:23.265Z"
      },
      {
        "duration": 8,
        "start_time": "2022-08-01T11:51:23.283Z"
      },
      {
        "duration": 6,
        "start_time": "2022-08-01T11:51:23.293Z"
      },
      {
        "duration": 5,
        "start_time": "2022-08-01T11:51:23.301Z"
      },
      {
        "duration": 31,
        "start_time": "2022-08-01T11:51:23.309Z"
      },
      {
        "duration": 11,
        "start_time": "2022-08-01T11:51:23.342Z"
      },
      {
        "duration": 5,
        "start_time": "2022-08-01T11:51:23.354Z"
      },
      {
        "duration": 7,
        "start_time": "2022-08-01T11:51:23.361Z"
      },
      {
        "duration": 378,
        "start_time": "2022-08-01T11:51:23.370Z"
      },
      {
        "duration": 108,
        "start_time": "2022-08-01T11:51:23.750Z"
      },
      {
        "duration": 104,
        "start_time": "2022-08-01T11:51:23.859Z"
      },
      {
        "duration": 16,
        "start_time": "2022-08-01T11:51:23.964Z"
      },
      {
        "duration": 5,
        "start_time": "2022-08-01T11:51:23.982Z"
      },
      {
        "duration": 12,
        "start_time": "2022-08-01T11:51:23.989Z"
      },
      {
        "duration": 30,
        "start_time": "2022-08-01T11:51:24.003Z"
      },
      {
        "duration": 24,
        "start_time": "2022-08-01T11:51:24.034Z"
      },
      {
        "duration": 12,
        "start_time": "2022-08-01T11:51:24.059Z"
      },
      {
        "duration": 80,
        "start_time": "2022-08-01T11:51:24.072Z"
      },
      {
        "duration": 6,
        "start_time": "2022-08-01T11:51:24.154Z"
      },
      {
        "duration": 11,
        "start_time": "2022-08-01T11:51:24.161Z"
      },
      {
        "duration": 8,
        "start_time": "2022-08-01T11:51:24.173Z"
      },
      {
        "duration": 14,
        "start_time": "2022-08-01T11:51:24.182Z"
      },
      {
        "duration": 3,
        "start_time": "2022-08-01T11:51:24.200Z"
      },
      {
        "duration": 45,
        "start_time": "2022-08-01T11:51:24.205Z"
      },
      {
        "duration": 7,
        "start_time": "2022-08-01T11:51:24.252Z"
      },
      {
        "duration": 13,
        "start_time": "2022-08-01T11:51:24.260Z"
      },
      {
        "duration": 15,
        "start_time": "2022-08-01T11:51:24.275Z"
      },
      {
        "duration": 4,
        "start_time": "2022-08-01T11:51:24.291Z"
      },
      {
        "duration": 7,
        "start_time": "2022-08-01T11:51:24.296Z"
      },
      {
        "duration": 5,
        "start_time": "2022-08-01T11:51:24.305Z"
      },
      {
        "duration": 29,
        "start_time": "2022-08-01T11:51:24.312Z"
      },
      {
        "duration": 156,
        "start_time": "2022-08-01T11:51:24.343Z"
      },
      {
        "duration": 13,
        "start_time": "2022-08-01T11:51:24.500Z"
      },
      {
        "duration": 4,
        "start_time": "2022-08-01T11:51:24.515Z"
      },
      {
        "duration": 26,
        "start_time": "2022-08-01T11:51:24.520Z"
      },
      {
        "duration": 9,
        "start_time": "2022-08-01T11:51:24.548Z"
      },
      {
        "duration": 154,
        "start_time": "2022-08-01T11:51:24.558Z"
      },
      {
        "duration": 31,
        "start_time": "2022-08-01T11:51:24.713Z"
      },
      {
        "duration": 5,
        "start_time": "2022-08-01T11:51:24.745Z"
      },
      {
        "duration": 9,
        "start_time": "2022-08-01T11:51:24.751Z"
      },
      {
        "duration": 4,
        "start_time": "2022-08-01T11:51:24.761Z"
      },
      {
        "duration": 5,
        "start_time": "2022-08-01T11:51:24.766Z"
      },
      {
        "duration": 7,
        "start_time": "2022-08-01T11:51:24.772Z"
      },
      {
        "duration": 14618,
        "start_time": "2022-08-01T11:51:24.780Z"
      },
      {
        "duration": 14,
        "start_time": "2022-08-01T11:51:39.400Z"
      },
      {
        "duration": 224,
        "start_time": "2022-08-01T11:51:39.415Z"
      },
      {
        "duration": 4,
        "start_time": "2022-08-01T11:51:39.640Z"
      },
      {
        "duration": 9,
        "start_time": "2022-08-01T11:51:39.646Z"
      },
      {
        "duration": 9,
        "start_time": "2022-08-01T11:51:39.656Z"
      },
      {
        "duration": 509961,
        "start_time": "2022-08-01T11:51:39.667Z"
      },
      {
        "duration": 2,
        "start_time": "2022-08-01T12:00:09.631Z"
      },
      {
        "duration": 10,
        "start_time": "2022-08-01T12:00:09.635Z"
      },
      {
        "duration": 8,
        "start_time": "2022-08-01T12:00:09.646Z"
      },
      {
        "duration": 37,
        "start_time": "2022-08-01T12:00:09.655Z"
      },
      {
        "duration": 4,
        "start_time": "2022-08-01T12:00:09.693Z"
      },
      {
        "duration": 16239,
        "start_time": "2022-08-01T12:00:09.699Z"
      },
      {
        "duration": 96,
        "start_time": "2022-08-01T12:00:25.941Z"
      },
      {
        "duration": 99,
        "start_time": "2022-08-01T12:00:26.041Z"
      },
      {
        "duration": 13,
        "start_time": "2022-08-01T12:00:26.141Z"
      },
      {
        "duration": 1150,
        "start_time": "2022-08-01T12:02:53.672Z"
      },
      {
        "duration": 103,
        "start_time": "2022-08-01T12:02:54.824Z"
      },
      {
        "duration": 66,
        "start_time": "2022-08-01T12:02:54.928Z"
      },
      {
        "duration": 13,
        "start_time": "2022-08-01T12:02:54.995Z"
      },
      {
        "duration": 23,
        "start_time": "2022-08-01T12:02:55.010Z"
      },
      {
        "duration": 22,
        "start_time": "2022-08-01T12:02:55.035Z"
      },
      {
        "duration": 8,
        "start_time": "2022-08-01T12:02:55.058Z"
      },
      {
        "duration": 8,
        "start_time": "2022-08-01T12:02:55.067Z"
      },
      {
        "duration": 9,
        "start_time": "2022-08-01T12:02:55.077Z"
      },
      {
        "duration": 15,
        "start_time": "2022-08-01T12:02:55.087Z"
      },
      {
        "duration": 7,
        "start_time": "2022-08-01T12:02:55.104Z"
      },
      {
        "duration": 6,
        "start_time": "2022-08-01T12:02:55.113Z"
      },
      {
        "duration": 11,
        "start_time": "2022-08-01T12:02:55.121Z"
      },
      {
        "duration": 361,
        "start_time": "2022-08-01T12:02:55.135Z"
      },
      {
        "duration": 96,
        "start_time": "2022-08-01T12:02:55.497Z"
      },
      {
        "duration": 104,
        "start_time": "2022-08-01T12:02:55.594Z"
      },
      {
        "duration": 15,
        "start_time": "2022-08-01T12:02:55.700Z"
      },
      {
        "duration": 16,
        "start_time": "2022-08-01T12:02:55.717Z"
      },
      {
        "duration": 20,
        "start_time": "2022-08-01T12:02:55.735Z"
      },
      {
        "duration": 10,
        "start_time": "2022-08-01T12:02:55.757Z"
      },
      {
        "duration": 13,
        "start_time": "2022-08-01T12:02:55.769Z"
      },
      {
        "duration": 15,
        "start_time": "2022-08-01T12:02:55.784Z"
      },
      {
        "duration": 108,
        "start_time": "2022-08-01T12:02:55.801Z"
      },
      {
        "duration": 18,
        "start_time": "2022-08-01T12:02:55.911Z"
      },
      {
        "duration": 23,
        "start_time": "2022-08-01T12:02:55.931Z"
      },
      {
        "duration": 10,
        "start_time": "2022-08-01T12:02:55.955Z"
      },
      {
        "duration": 15,
        "start_time": "2022-08-01T12:02:55.966Z"
      },
      {
        "duration": 8,
        "start_time": "2022-08-01T12:02:55.982Z"
      },
      {
        "duration": 5,
        "start_time": "2022-08-01T12:02:55.991Z"
      },
      {
        "duration": 6,
        "start_time": "2022-08-01T12:02:55.997Z"
      },
      {
        "duration": 13,
        "start_time": "2022-08-01T12:02:56.004Z"
      },
      {
        "duration": 16,
        "start_time": "2022-08-01T12:02:56.031Z"
      },
      {
        "duration": 6,
        "start_time": "2022-08-01T12:02:56.048Z"
      },
      {
        "duration": 7,
        "start_time": "2022-08-01T12:02:56.055Z"
      },
      {
        "duration": 5,
        "start_time": "2022-08-01T12:02:56.064Z"
      },
      {
        "duration": 24,
        "start_time": "2022-08-01T12:02:56.071Z"
      },
      {
        "duration": 181,
        "start_time": "2022-08-01T12:02:56.096Z"
      },
      {
        "duration": 13,
        "start_time": "2022-08-01T12:02:56.279Z"
      },
      {
        "duration": 4,
        "start_time": "2022-08-01T12:02:56.293Z"
      },
      {
        "duration": 7,
        "start_time": "2022-08-01T12:02:56.299Z"
      },
      {
        "duration": 4,
        "start_time": "2022-08-01T12:02:56.309Z"
      },
      {
        "duration": 171,
        "start_time": "2022-08-01T12:02:56.331Z"
      },
      {
        "duration": 34,
        "start_time": "2022-08-01T12:02:56.503Z"
      },
      {
        "duration": 5,
        "start_time": "2022-08-01T12:02:56.539Z"
      },
      {
        "duration": 9,
        "start_time": "2022-08-01T12:02:56.545Z"
      },
      {
        "duration": 3,
        "start_time": "2022-08-01T12:02:56.555Z"
      },
      {
        "duration": 7,
        "start_time": "2022-08-01T12:02:56.559Z"
      },
      {
        "duration": 7,
        "start_time": "2022-08-01T12:02:56.567Z"
      },
      {
        "duration": 13998,
        "start_time": "2022-08-01T12:02:56.576Z"
      },
      {
        "duration": 13,
        "start_time": "2022-08-01T12:03:10.575Z"
      },
      {
        "duration": 196,
        "start_time": "2022-08-01T12:03:10.589Z"
      },
      {
        "duration": 4,
        "start_time": "2022-08-01T12:03:10.786Z"
      },
      {
        "duration": 11,
        "start_time": "2022-08-01T12:03:10.791Z"
      },
      {
        "duration": 9,
        "start_time": "2022-08-01T12:03:10.803Z"
      },
      {
        "duration": 17,
        "start_time": "2022-08-01T12:03:10.814Z"
      },
      {
        "duration": 35437,
        "start_time": "2022-08-01T12:03:10.832Z"
      },
      {
        "duration": 3,
        "start_time": "2022-08-01T12:03:46.270Z"
      },
      {
        "duration": 6,
        "start_time": "2022-08-01T12:03:46.275Z"
      },
      {
        "duration": 25,
        "start_time": "2022-08-01T12:03:46.282Z"
      },
      {
        "duration": 4,
        "start_time": "2022-08-01T12:03:46.309Z"
      },
      {
        "duration": 7824,
        "start_time": "2022-08-01T12:03:46.314Z"
      },
      {
        "duration": 95,
        "start_time": "2022-08-01T12:03:54.140Z"
      },
      {
        "duration": 94,
        "start_time": "2022-08-01T12:03:54.239Z"
      },
      {
        "duration": 17,
        "start_time": "2022-08-01T12:03:54.335Z"
      },
      {
        "duration": 1157,
        "start_time": "2022-08-01T12:07:20.807Z"
      },
      {
        "duration": 105,
        "start_time": "2022-08-01T12:07:21.965Z"
      },
      {
        "duration": 74,
        "start_time": "2022-08-01T12:07:22.071Z"
      },
      {
        "duration": 12,
        "start_time": "2022-08-01T12:07:22.147Z"
      },
      {
        "duration": 12,
        "start_time": "2022-08-01T12:07:22.161Z"
      },
      {
        "duration": 17,
        "start_time": "2022-08-01T12:07:22.174Z"
      },
      {
        "duration": 10,
        "start_time": "2022-08-01T12:07:22.193Z"
      },
      {
        "duration": 8,
        "start_time": "2022-08-01T12:07:22.204Z"
      },
      {
        "duration": 7,
        "start_time": "2022-08-01T12:07:22.213Z"
      },
      {
        "duration": 7,
        "start_time": "2022-08-01T12:07:22.231Z"
      },
      {
        "duration": 6,
        "start_time": "2022-08-01T12:07:22.239Z"
      },
      {
        "duration": 12,
        "start_time": "2022-08-01T12:07:22.246Z"
      },
      {
        "duration": 12,
        "start_time": "2022-08-01T12:07:22.260Z"
      },
      {
        "duration": 349,
        "start_time": "2022-08-01T12:07:22.275Z"
      },
      {
        "duration": 90,
        "start_time": "2022-08-01T12:07:22.626Z"
      },
      {
        "duration": 115,
        "start_time": "2022-08-01T12:07:22.718Z"
      },
      {
        "duration": 14,
        "start_time": "2022-08-01T12:07:22.835Z"
      },
      {
        "duration": 4,
        "start_time": "2022-08-01T12:07:22.851Z"
      },
      {
        "duration": 15,
        "start_time": "2022-08-01T12:07:22.857Z"
      },
      {
        "duration": 9,
        "start_time": "2022-08-01T12:07:22.874Z"
      },
      {
        "duration": 11,
        "start_time": "2022-08-01T12:07:22.884Z"
      },
      {
        "duration": 35,
        "start_time": "2022-08-01T12:07:22.897Z"
      },
      {
        "duration": 97,
        "start_time": "2022-08-01T12:07:22.934Z"
      },
      {
        "duration": 8,
        "start_time": "2022-08-01T12:07:23.033Z"
      },
      {
        "duration": 15,
        "start_time": "2022-08-01T12:07:23.042Z"
      },
      {
        "duration": 8,
        "start_time": "2022-08-01T12:07:23.058Z"
      },
      {
        "duration": 16,
        "start_time": "2022-08-01T12:07:23.067Z"
      },
      {
        "duration": 6,
        "start_time": "2022-08-01T12:07:23.084Z"
      },
      {
        "duration": 4,
        "start_time": "2022-08-01T12:07:23.092Z"
      },
      {
        "duration": 6,
        "start_time": "2022-08-01T12:07:23.098Z"
      },
      {
        "duration": 36,
        "start_time": "2022-08-01T12:07:23.105Z"
      },
      {
        "duration": 14,
        "start_time": "2022-08-01T12:07:23.142Z"
      },
      {
        "duration": 8,
        "start_time": "2022-08-01T12:07:23.158Z"
      },
      {
        "duration": 6,
        "start_time": "2022-08-01T12:07:23.167Z"
      },
      {
        "duration": 7,
        "start_time": "2022-08-01T12:07:23.174Z"
      },
      {
        "duration": 23,
        "start_time": "2022-08-01T12:07:23.182Z"
      },
      {
        "duration": 179,
        "start_time": "2022-08-01T12:07:23.206Z"
      },
      {
        "duration": 13,
        "start_time": "2022-08-01T12:07:23.387Z"
      },
      {
        "duration": 6,
        "start_time": "2022-08-01T12:07:23.401Z"
      },
      {
        "duration": 5,
        "start_time": "2022-08-01T12:07:23.409Z"
      },
      {
        "duration": 3,
        "start_time": "2022-08-01T12:07:23.431Z"
      },
      {
        "duration": 168,
        "start_time": "2022-08-01T12:07:23.435Z"
      },
      {
        "duration": 34,
        "start_time": "2022-08-01T12:07:23.605Z"
      },
      {
        "duration": 5,
        "start_time": "2022-08-01T12:07:23.641Z"
      },
      {
        "duration": 8,
        "start_time": "2022-08-01T12:07:23.647Z"
      },
      {
        "duration": 2,
        "start_time": "2022-08-01T12:07:23.656Z"
      },
      {
        "duration": 4,
        "start_time": "2022-08-01T12:07:23.660Z"
      },
      {
        "duration": 5,
        "start_time": "2022-08-01T12:07:23.666Z"
      },
      {
        "duration": 13086,
        "start_time": "2022-08-01T12:07:23.672Z"
      },
      {
        "duration": 14,
        "start_time": "2022-08-01T12:07:36.759Z"
      },
      {
        "duration": 238,
        "start_time": "2022-08-01T12:07:36.775Z"
      },
      {
        "duration": 4,
        "start_time": "2022-08-01T12:07:37.016Z"
      },
      {
        "duration": 15,
        "start_time": "2022-08-01T12:07:37.021Z"
      },
      {
        "duration": 10,
        "start_time": "2022-08-01T12:07:37.037Z"
      },
      {
        "duration": 4,
        "start_time": "2022-08-01T12:07:37.049Z"
      },
      {
        "duration": 32520,
        "start_time": "2022-08-01T12:07:37.055Z"
      },
      {
        "duration": 3,
        "start_time": "2022-08-01T12:08:09.577Z"
      },
      {
        "duration": 10,
        "start_time": "2022-08-01T12:08:09.581Z"
      },
      {
        "duration": 20,
        "start_time": "2022-08-01T12:08:09.592Z"
      },
      {
        "duration": 4,
        "start_time": "2022-08-01T12:08:09.613Z"
      },
      {
        "duration": 7420,
        "start_time": "2022-08-01T12:08:09.619Z"
      },
      {
        "duration": 97,
        "start_time": "2022-08-01T12:08:17.041Z"
      },
      {
        "duration": 98,
        "start_time": "2022-08-01T12:08:17.141Z"
      },
      {
        "duration": 9,
        "start_time": "2022-08-01T12:08:17.240Z"
      },
      {
        "duration": 1147,
        "start_time": "2022-08-01T12:22:16.043Z"
      },
      {
        "duration": 109,
        "start_time": "2022-08-01T12:22:17.192Z"
      },
      {
        "duration": 76,
        "start_time": "2022-08-01T12:22:17.303Z"
      },
      {
        "duration": 11,
        "start_time": "2022-08-01T12:22:17.380Z"
      },
      {
        "duration": 6,
        "start_time": "2022-08-01T12:22:17.393Z"
      },
      {
        "duration": 31,
        "start_time": "2022-08-01T12:22:17.401Z"
      },
      {
        "duration": 15,
        "start_time": "2022-08-01T12:22:17.434Z"
      },
      {
        "duration": 8,
        "start_time": "2022-08-01T12:22:17.450Z"
      },
      {
        "duration": 6,
        "start_time": "2022-08-01T12:22:17.460Z"
      },
      {
        "duration": 9,
        "start_time": "2022-08-01T12:22:17.468Z"
      },
      {
        "duration": 5,
        "start_time": "2022-08-01T12:22:17.479Z"
      },
      {
        "duration": 6,
        "start_time": "2022-08-01T12:22:17.485Z"
      },
      {
        "duration": 8,
        "start_time": "2022-08-01T12:22:17.492Z"
      },
      {
        "duration": 386,
        "start_time": "2022-08-01T12:22:17.503Z"
      },
      {
        "duration": 114,
        "start_time": "2022-08-01T12:22:17.890Z"
      },
      {
        "duration": 113,
        "start_time": "2022-08-01T12:22:18.006Z"
      },
      {
        "duration": 27,
        "start_time": "2022-08-01T12:22:18.120Z"
      },
      {
        "duration": 6,
        "start_time": "2022-08-01T12:22:18.149Z"
      },
      {
        "duration": 15,
        "start_time": "2022-08-01T12:22:18.156Z"
      },
      {
        "duration": 10,
        "start_time": "2022-08-01T12:22:18.173Z"
      },
      {
        "duration": 11,
        "start_time": "2022-08-01T12:22:18.184Z"
      },
      {
        "duration": 10,
        "start_time": "2022-08-01T12:22:18.197Z"
      },
      {
        "duration": 114,
        "start_time": "2022-08-01T12:22:18.208Z"
      },
      {
        "duration": 10,
        "start_time": "2022-08-01T12:22:18.324Z"
      },
      {
        "duration": 22,
        "start_time": "2022-08-01T12:22:18.336Z"
      },
      {
        "duration": 10,
        "start_time": "2022-08-01T12:22:18.360Z"
      },
      {
        "duration": 14,
        "start_time": "2022-08-01T12:22:18.371Z"
      },
      {
        "duration": 3,
        "start_time": "2022-08-01T12:22:18.386Z"
      },
      {
        "duration": 11,
        "start_time": "2022-08-01T12:22:18.390Z"
      },
      {
        "duration": 14,
        "start_time": "2022-08-01T12:22:18.402Z"
      },
      {
        "duration": 17,
        "start_time": "2022-08-01T12:22:18.417Z"
      },
      {
        "duration": 27,
        "start_time": "2022-08-01T12:22:18.436Z"
      },
      {
        "duration": 8,
        "start_time": "2022-08-01T12:22:18.465Z"
      },
      {
        "duration": 6,
        "start_time": "2022-08-01T12:22:18.474Z"
      },
      {
        "duration": 10,
        "start_time": "2022-08-01T12:22:18.481Z"
      },
      {
        "duration": 25,
        "start_time": "2022-08-01T12:22:18.493Z"
      },
      {
        "duration": 147,
        "start_time": "2022-08-01T12:22:18.519Z"
      },
      {
        "duration": 13,
        "start_time": "2022-08-01T12:22:18.668Z"
      },
      {
        "duration": 8,
        "start_time": "2022-08-01T12:22:18.682Z"
      },
      {
        "duration": 7,
        "start_time": "2022-08-01T12:22:18.691Z"
      },
      {
        "duration": 8,
        "start_time": "2022-08-01T12:22:18.701Z"
      },
      {
        "duration": 157,
        "start_time": "2022-08-01T12:22:18.710Z"
      },
      {
        "duration": 22,
        "start_time": "2022-08-01T12:22:18.869Z"
      },
      {
        "duration": 5,
        "start_time": "2022-08-01T12:22:18.892Z"
      },
      {
        "duration": 6,
        "start_time": "2022-08-01T12:22:18.899Z"
      },
      {
        "duration": 8,
        "start_time": "2022-08-01T12:22:18.907Z"
      },
      {
        "duration": 8,
        "start_time": "2022-08-01T12:22:18.916Z"
      },
      {
        "duration": 14,
        "start_time": "2022-08-01T12:22:18.932Z"
      },
      {
        "duration": 13791,
        "start_time": "2022-08-01T12:22:18.947Z"
      },
      {
        "duration": 15,
        "start_time": "2022-08-01T12:22:32.740Z"
      },
      {
        "duration": 214,
        "start_time": "2022-08-01T12:22:32.756Z"
      },
      {
        "duration": 5,
        "start_time": "2022-08-01T12:22:32.972Z"
      },
      {
        "duration": 10,
        "start_time": "2022-08-01T12:22:32.978Z"
      },
      {
        "duration": 20,
        "start_time": "2022-08-01T12:22:32.990Z"
      },
      {
        "duration": 33238,
        "start_time": "2022-08-01T12:22:33.011Z"
      },
      {
        "duration": 3,
        "start_time": "2022-08-01T12:23:06.251Z"
      },
      {
        "duration": 7,
        "start_time": "2022-08-01T12:23:06.255Z"
      },
      {
        "duration": 26,
        "start_time": "2022-08-01T12:23:06.263Z"
      },
      {
        "duration": 4,
        "start_time": "2022-08-01T12:23:06.290Z"
      },
      {
        "duration": 7870,
        "start_time": "2022-08-01T12:23:06.295Z"
      },
      {
        "duration": 4,
        "start_time": "2022-08-01T12:23:14.167Z"
      },
      {
        "duration": 10,
        "start_time": "2022-08-01T12:23:14.173Z"
      },
      {
        "duration": 46,
        "start_time": "2022-08-01T12:23:14.185Z"
      },
      {
        "duration": 1146,
        "start_time": "2022-08-01T12:36:54.386Z"
      },
      {
        "duration": 101,
        "start_time": "2022-08-01T12:36:55.533Z"
      },
      {
        "duration": 69,
        "start_time": "2022-08-01T12:36:55.635Z"
      },
      {
        "duration": 12,
        "start_time": "2022-08-01T12:36:55.705Z"
      },
      {
        "duration": 7,
        "start_time": "2022-08-01T12:36:55.732Z"
      },
      {
        "duration": 21,
        "start_time": "2022-08-01T12:36:55.741Z"
      },
      {
        "duration": 5,
        "start_time": "2022-08-01T12:36:55.764Z"
      },
      {
        "duration": 12,
        "start_time": "2022-08-01T12:36:55.770Z"
      },
      {
        "duration": 12,
        "start_time": "2022-08-01T12:36:55.784Z"
      },
      {
        "duration": 15,
        "start_time": "2022-08-01T12:36:55.798Z"
      },
      {
        "duration": 14,
        "start_time": "2022-08-01T12:36:55.815Z"
      },
      {
        "duration": 15,
        "start_time": "2022-08-01T12:36:55.831Z"
      },
      {
        "duration": 17,
        "start_time": "2022-08-01T12:36:55.847Z"
      },
      {
        "duration": 325,
        "start_time": "2022-08-01T12:36:55.868Z"
      },
      {
        "duration": 99,
        "start_time": "2022-08-01T12:36:56.194Z"
      },
      {
        "duration": 90,
        "start_time": "2022-08-01T12:36:56.295Z"
      },
      {
        "duration": 13,
        "start_time": "2022-08-01T12:36:56.387Z"
      },
      {
        "duration": 4,
        "start_time": "2022-08-01T12:36:56.401Z"
      },
      {
        "duration": 28,
        "start_time": "2022-08-01T12:36:56.406Z"
      },
      {
        "duration": 8,
        "start_time": "2022-08-01T12:36:56.435Z"
      },
      {
        "duration": 22,
        "start_time": "2022-08-01T12:36:56.444Z"
      },
      {
        "duration": 11,
        "start_time": "2022-08-01T12:36:56.467Z"
      },
      {
        "duration": 81,
        "start_time": "2022-08-01T12:36:56.479Z"
      },
      {
        "duration": 6,
        "start_time": "2022-08-01T12:36:56.561Z"
      },
      {
        "duration": 12,
        "start_time": "2022-08-01T12:36:56.568Z"
      },
      {
        "duration": 14,
        "start_time": "2022-08-01T12:36:56.581Z"
      },
      {
        "duration": 26,
        "start_time": "2022-08-01T12:36:56.597Z"
      },
      {
        "duration": 2,
        "start_time": "2022-08-01T12:36:56.624Z"
      },
      {
        "duration": 20,
        "start_time": "2022-08-01T12:36:56.627Z"
      },
      {
        "duration": 10,
        "start_time": "2022-08-01T12:36:56.649Z"
      },
      {
        "duration": 22,
        "start_time": "2022-08-01T12:36:56.660Z"
      },
      {
        "duration": 16,
        "start_time": "2022-08-01T12:36:56.684Z"
      },
      {
        "duration": 15,
        "start_time": "2022-08-01T12:36:56.701Z"
      },
      {
        "duration": 14,
        "start_time": "2022-08-01T12:36:56.717Z"
      },
      {
        "duration": 11,
        "start_time": "2022-08-01T12:36:56.732Z"
      },
      {
        "duration": 31,
        "start_time": "2022-08-01T12:36:56.744Z"
      },
      {
        "duration": 132,
        "start_time": "2022-08-01T12:36:56.777Z"
      },
      {
        "duration": 12,
        "start_time": "2022-08-01T12:36:56.911Z"
      },
      {
        "duration": 10,
        "start_time": "2022-08-01T12:36:56.924Z"
      },
      {
        "duration": 7,
        "start_time": "2022-08-01T12:36:56.935Z"
      },
      {
        "duration": 12,
        "start_time": "2022-08-01T12:36:56.945Z"
      },
      {
        "duration": 144,
        "start_time": "2022-08-01T12:36:56.958Z"
      },
      {
        "duration": 23,
        "start_time": "2022-08-01T12:36:57.103Z"
      },
      {
        "duration": 4,
        "start_time": "2022-08-01T12:36:57.131Z"
      },
      {
        "duration": 8,
        "start_time": "2022-08-01T12:36:57.136Z"
      },
      {
        "duration": 11,
        "start_time": "2022-08-01T12:36:57.145Z"
      },
      {
        "duration": 18,
        "start_time": "2022-08-01T12:36:57.157Z"
      },
      {
        "duration": 7,
        "start_time": "2022-08-01T12:36:57.176Z"
      },
      {
        "duration": 12998,
        "start_time": "2022-08-01T12:36:57.184Z"
      },
      {
        "duration": 14,
        "start_time": "2022-08-01T12:37:10.183Z"
      },
      {
        "duration": 184,
        "start_time": "2022-08-01T12:37:10.198Z"
      },
      {
        "duration": 4,
        "start_time": "2022-08-01T12:37:10.383Z"
      },
      {
        "duration": 9,
        "start_time": "2022-08-01T12:37:10.388Z"
      },
      {
        "duration": 9,
        "start_time": "2022-08-01T12:37:10.399Z"
      },
      {
        "duration": 31498,
        "start_time": "2022-08-01T12:37:10.409Z"
      },
      {
        "duration": 3,
        "start_time": "2022-08-01T12:37:41.909Z"
      },
      {
        "duration": 6,
        "start_time": "2022-08-01T12:37:41.914Z"
      },
      {
        "duration": 25,
        "start_time": "2022-08-01T12:37:41.931Z"
      },
      {
        "duration": 4,
        "start_time": "2022-08-01T12:37:41.957Z"
      },
      {
        "duration": 7385,
        "start_time": "2022-08-01T12:37:41.963Z"
      },
      {
        "duration": 3,
        "start_time": "2022-08-01T12:37:49.350Z"
      },
      {
        "duration": 6,
        "start_time": "2022-08-01T12:37:49.354Z"
      },
      {
        "duration": 8,
        "start_time": "2022-08-01T12:37:49.362Z"
      },
      {
        "duration": 260,
        "start_time": "2022-08-01T12:37:49.372Z"
      },
      {
        "duration": 0,
        "start_time": "2022-08-01T12:37:49.633Z"
      },
      {
        "duration": 20,
        "start_time": "2022-08-01T12:39:35.560Z"
      },
      {
        "duration": 21,
        "start_time": "2022-08-01T12:40:07.873Z"
      },
      {
        "duration": 13,
        "start_time": "2022-08-01T12:41:31.982Z"
      },
      {
        "duration": 115,
        "start_time": "2022-08-01T12:42:15.272Z"
      },
      {
        "duration": 19,
        "start_time": "2022-08-01T12:42:27.392Z"
      },
      {
        "duration": 11,
        "start_time": "2022-08-01T12:44:41.591Z"
      },
      {
        "duration": 8,
        "start_time": "2022-08-01T12:44:44.152Z"
      },
      {
        "duration": 5,
        "start_time": "2022-08-01T12:46:23.087Z"
      },
      {
        "duration": 7,
        "start_time": "2022-08-01T12:46:25.106Z"
      },
      {
        "duration": 4,
        "start_time": "2022-08-01T12:47:13.982Z"
      },
      {
        "duration": 7,
        "start_time": "2022-08-01T12:47:15.260Z"
      },
      {
        "duration": 1141,
        "start_time": "2022-08-01T12:48:01.742Z"
      },
      {
        "duration": 101,
        "start_time": "2022-08-01T12:48:02.885Z"
      },
      {
        "duration": 81,
        "start_time": "2022-08-01T12:48:02.987Z"
      },
      {
        "duration": 17,
        "start_time": "2022-08-01T12:48:03.069Z"
      },
      {
        "duration": 8,
        "start_time": "2022-08-01T12:48:03.089Z"
      },
      {
        "duration": 39,
        "start_time": "2022-08-01T12:48:03.098Z"
      },
      {
        "duration": 7,
        "start_time": "2022-08-01T12:48:03.138Z"
      },
      {
        "duration": 7,
        "start_time": "2022-08-01T12:48:03.147Z"
      },
      {
        "duration": 5,
        "start_time": "2022-08-01T12:48:03.156Z"
      },
      {
        "duration": 8,
        "start_time": "2022-08-01T12:48:03.163Z"
      },
      {
        "duration": 5,
        "start_time": "2022-08-01T12:48:03.173Z"
      },
      {
        "duration": 4,
        "start_time": "2022-08-01T12:48:03.180Z"
      },
      {
        "duration": 6,
        "start_time": "2022-08-01T12:48:03.186Z"
      },
      {
        "duration": 368,
        "start_time": "2022-08-01T12:48:03.195Z"
      },
      {
        "duration": 103,
        "start_time": "2022-08-01T12:48:03.565Z"
      },
      {
        "duration": 101,
        "start_time": "2022-08-01T12:48:03.670Z"
      },
      {
        "duration": 15,
        "start_time": "2022-08-01T12:48:03.773Z"
      },
      {
        "duration": 4,
        "start_time": "2022-08-01T12:48:03.790Z"
      },
      {
        "duration": 14,
        "start_time": "2022-08-01T12:48:03.796Z"
      },
      {
        "duration": 28,
        "start_time": "2022-08-01T12:48:03.812Z"
      },
      {
        "duration": 17,
        "start_time": "2022-08-01T12:48:03.841Z"
      },
      {
        "duration": 16,
        "start_time": "2022-08-01T12:48:03.860Z"
      },
      {
        "duration": 87,
        "start_time": "2022-08-01T12:48:03.878Z"
      },
      {
        "duration": 8,
        "start_time": "2022-08-01T12:48:03.967Z"
      },
      {
        "duration": 10,
        "start_time": "2022-08-01T12:48:03.977Z"
      },
      {
        "duration": 9,
        "start_time": "2022-08-01T12:48:03.989Z"
      },
      {
        "duration": 34,
        "start_time": "2022-08-01T12:48:04.000Z"
      },
      {
        "duration": 2,
        "start_time": "2022-08-01T12:48:04.036Z"
      },
      {
        "duration": 6,
        "start_time": "2022-08-01T12:48:04.040Z"
      },
      {
        "duration": 6,
        "start_time": "2022-08-01T12:48:04.047Z"
      },
      {
        "duration": 15,
        "start_time": "2022-08-01T12:48:04.055Z"
      },
      {
        "duration": 15,
        "start_time": "2022-08-01T12:48:04.072Z"
      },
      {
        "duration": 3,
        "start_time": "2022-08-01T12:48:04.089Z"
      },
      {
        "duration": 6,
        "start_time": "2022-08-01T12:48:04.094Z"
      },
      {
        "duration": 30,
        "start_time": "2022-08-01T12:48:04.102Z"
      },
      {
        "duration": 22,
        "start_time": "2022-08-01T12:48:04.134Z"
      },
      {
        "duration": 153,
        "start_time": "2022-08-01T12:48:04.157Z"
      },
      {
        "duration": 13,
        "start_time": "2022-08-01T12:48:04.312Z"
      },
      {
        "duration": 5,
        "start_time": "2022-08-01T12:48:04.331Z"
      },
      {
        "duration": 6,
        "start_time": "2022-08-01T12:48:04.337Z"
      },
      {
        "duration": 6,
        "start_time": "2022-08-01T12:48:04.346Z"
      },
      {
        "duration": 153,
        "start_time": "2022-08-01T12:48:04.353Z"
      },
      {
        "duration": 25,
        "start_time": "2022-08-01T12:48:04.508Z"
      },
      {
        "duration": 4,
        "start_time": "2022-08-01T12:48:04.535Z"
      },
      {
        "duration": 8,
        "start_time": "2022-08-01T12:48:04.540Z"
      },
      {
        "duration": 6,
        "start_time": "2022-08-01T12:48:04.549Z"
      },
      {
        "duration": 7,
        "start_time": "2022-08-01T12:48:04.557Z"
      },
      {
        "duration": 7,
        "start_time": "2022-08-01T12:48:04.566Z"
      },
      {
        "duration": 13009,
        "start_time": "2022-08-01T12:48:04.575Z"
      },
      {
        "duration": 14,
        "start_time": "2022-08-01T12:48:17.586Z"
      },
      {
        "duration": 240,
        "start_time": "2022-08-01T12:48:17.602Z"
      },
      {
        "duration": 4,
        "start_time": "2022-08-01T12:48:17.844Z"
      },
      {
        "duration": 18,
        "start_time": "2022-08-01T12:48:17.850Z"
      },
      {
        "duration": 22,
        "start_time": "2022-08-01T12:48:17.870Z"
      },
      {
        "duration": 31738,
        "start_time": "2022-08-01T12:48:17.894Z"
      },
      {
        "duration": 4,
        "start_time": "2022-08-01T12:48:49.633Z"
      },
      {
        "duration": 7,
        "start_time": "2022-08-01T12:48:49.639Z"
      },
      {
        "duration": 26,
        "start_time": "2022-08-01T12:48:49.647Z"
      },
      {
        "duration": 4,
        "start_time": "2022-08-01T12:48:49.675Z"
      },
      {
        "duration": 7871,
        "start_time": "2022-08-01T12:48:49.681Z"
      },
      {
        "duration": 4,
        "start_time": "2022-08-01T12:48:57.553Z"
      },
      {
        "duration": 9,
        "start_time": "2022-08-01T12:48:57.558Z"
      },
      {
        "duration": 14,
        "start_time": "2022-08-01T12:48:57.569Z"
      },
      {
        "duration": 102,
        "start_time": "2022-08-01T12:48:57.631Z"
      },
      {
        "duration": 18,
        "start_time": "2022-08-01T12:48:57.735Z"
      },
      {
        "duration": 1306,
        "start_time": "2022-08-01T19:59:27.813Z"
      },
      {
        "duration": 289,
        "start_time": "2022-08-01T19:59:29.122Z"
      },
      {
        "duration": 77,
        "start_time": "2022-08-01T19:59:29.413Z"
      },
      {
        "duration": 13,
        "start_time": "2022-08-01T19:59:29.492Z"
      },
      {
        "duration": 6,
        "start_time": "2022-08-01T19:59:29.508Z"
      },
      {
        "duration": 34,
        "start_time": "2022-08-01T19:59:29.516Z"
      },
      {
        "duration": 8,
        "start_time": "2022-08-01T19:59:29.552Z"
      },
      {
        "duration": 8,
        "start_time": "2022-08-01T19:59:29.561Z"
      },
      {
        "duration": 4,
        "start_time": "2022-08-01T19:59:29.571Z"
      },
      {
        "duration": 9,
        "start_time": "2022-08-01T19:59:29.577Z"
      },
      {
        "duration": 5,
        "start_time": "2022-08-01T19:59:29.588Z"
      },
      {
        "duration": 4,
        "start_time": "2022-08-01T19:59:29.595Z"
      },
      {
        "duration": 6,
        "start_time": "2022-08-01T19:59:29.600Z"
      },
      {
        "duration": 549,
        "start_time": "2022-08-01T19:59:29.637Z"
      },
      {
        "duration": 106,
        "start_time": "2022-08-01T19:59:30.187Z"
      },
      {
        "duration": 133,
        "start_time": "2022-08-01T19:59:30.295Z"
      },
      {
        "duration": 17,
        "start_time": "2022-08-01T19:59:30.436Z"
      },
      {
        "duration": 21,
        "start_time": "2022-08-01T19:59:30.455Z"
      },
      {
        "duration": 35,
        "start_time": "2022-08-01T19:59:30.478Z"
      },
      {
        "duration": 23,
        "start_time": "2022-08-01T19:59:30.515Z"
      },
      {
        "duration": 48,
        "start_time": "2022-08-01T19:59:30.540Z"
      },
      {
        "duration": 45,
        "start_time": "2022-08-01T19:59:30.590Z"
      },
      {
        "duration": 110,
        "start_time": "2022-08-01T19:59:30.637Z"
      },
      {
        "duration": 16,
        "start_time": "2022-08-01T19:59:30.749Z"
      },
      {
        "duration": 21,
        "start_time": "2022-08-01T19:59:30.767Z"
      },
      {
        "duration": 31,
        "start_time": "2022-08-01T19:59:30.790Z"
      },
      {
        "duration": 17,
        "start_time": "2022-08-01T19:59:30.822Z"
      },
      {
        "duration": 9,
        "start_time": "2022-08-01T19:59:30.841Z"
      },
      {
        "duration": 14,
        "start_time": "2022-08-01T19:59:30.851Z"
      },
      {
        "duration": 8,
        "start_time": "2022-08-01T19:59:30.867Z"
      },
      {
        "duration": 17,
        "start_time": "2022-08-01T19:59:30.876Z"
      },
      {
        "duration": 15,
        "start_time": "2022-08-01T19:59:30.895Z"
      },
      {
        "duration": 12,
        "start_time": "2022-08-01T19:59:30.912Z"
      },
      {
        "duration": 19,
        "start_time": "2022-08-01T19:59:30.926Z"
      },
      {
        "duration": 14,
        "start_time": "2022-08-01T19:59:30.946Z"
      },
      {
        "duration": 33,
        "start_time": "2022-08-01T19:59:30.961Z"
      },
      {
        "duration": 151,
        "start_time": "2022-08-01T19:59:30.996Z"
      },
      {
        "duration": 15,
        "start_time": "2022-08-01T19:59:31.149Z"
      },
      {
        "duration": 12,
        "start_time": "2022-08-01T19:59:31.165Z"
      },
      {
        "duration": 22,
        "start_time": "2022-08-01T19:59:31.179Z"
      },
      {
        "duration": 9,
        "start_time": "2022-08-01T19:59:31.205Z"
      },
      {
        "duration": 159,
        "start_time": "2022-08-01T19:59:31.215Z"
      },
      {
        "duration": 26,
        "start_time": "2022-08-01T19:59:31.375Z"
      },
      {
        "duration": 4,
        "start_time": "2022-08-01T19:59:31.403Z"
      },
      {
        "duration": 16,
        "start_time": "2022-08-01T19:59:31.409Z"
      },
      {
        "duration": 2,
        "start_time": "2022-08-01T19:59:31.436Z"
      },
      {
        "duration": 9,
        "start_time": "2022-08-01T19:59:31.440Z"
      },
      {
        "duration": 13,
        "start_time": "2022-08-01T19:59:31.450Z"
      },
      {
        "duration": 13935,
        "start_time": "2022-08-01T19:59:31.464Z"
      },
      {
        "duration": 14,
        "start_time": "2022-08-01T19:59:45.400Z"
      },
      {
        "duration": 208,
        "start_time": "2022-08-01T19:59:45.416Z"
      },
      {
        "duration": 13,
        "start_time": "2022-08-01T19:59:45.626Z"
      },
      {
        "duration": 11,
        "start_time": "2022-08-01T19:59:45.641Z"
      },
      {
        "duration": 16,
        "start_time": "2022-08-01T19:59:45.654Z"
      },
      {
        "duration": 34554,
        "start_time": "2022-08-01T19:59:45.672Z"
      },
      {
        "duration": 9,
        "start_time": "2022-08-01T20:00:20.228Z"
      },
      {
        "duration": 7,
        "start_time": "2022-08-01T20:00:20.239Z"
      },
      {
        "duration": 40,
        "start_time": "2022-08-01T20:00:20.248Z"
      },
      {
        "duration": 5,
        "start_time": "2022-08-01T20:00:20.290Z"
      },
      {
        "duration": 9664,
        "start_time": "2022-08-01T20:00:20.297Z"
      },
      {
        "duration": 4,
        "start_time": "2022-08-01T20:00:29.962Z"
      },
      {
        "duration": 8,
        "start_time": "2022-08-01T20:00:29.967Z"
      },
      {
        "duration": 10,
        "start_time": "2022-08-01T20:00:29.977Z"
      },
      {
        "duration": 103,
        "start_time": "2022-08-01T20:00:30.039Z"
      },
      {
        "duration": 29,
        "start_time": "2022-08-01T20:00:30.144Z"
      },
      {
        "duration": 1382,
        "start_time": "2022-08-01T20:05:58.053Z"
      },
      {
        "duration": 98,
        "start_time": "2022-08-01T20:05:59.437Z"
      },
      {
        "duration": 81,
        "start_time": "2022-08-01T20:05:59.537Z"
      },
      {
        "duration": 24,
        "start_time": "2022-08-01T20:05:59.620Z"
      },
      {
        "duration": 23,
        "start_time": "2022-08-01T20:05:59.646Z"
      },
      {
        "duration": 29,
        "start_time": "2022-08-01T20:05:59.671Z"
      },
      {
        "duration": 16,
        "start_time": "2022-08-01T20:05:59.701Z"
      },
      {
        "duration": 20,
        "start_time": "2022-08-01T20:05:59.719Z"
      },
      {
        "duration": 40,
        "start_time": "2022-08-01T20:05:59.740Z"
      },
      {
        "duration": 31,
        "start_time": "2022-08-01T20:05:59.782Z"
      },
      {
        "duration": 30,
        "start_time": "2022-08-01T20:05:59.814Z"
      },
      {
        "duration": 25,
        "start_time": "2022-08-01T20:05:59.846Z"
      },
      {
        "duration": 22,
        "start_time": "2022-08-01T20:05:59.873Z"
      },
      {
        "duration": 396,
        "start_time": "2022-08-01T20:05:59.897Z"
      },
      {
        "duration": 116,
        "start_time": "2022-08-01T20:06:00.295Z"
      },
      {
        "duration": 105,
        "start_time": "2022-08-01T20:06:00.413Z"
      },
      {
        "duration": 29,
        "start_time": "2022-08-01T20:06:00.520Z"
      },
      {
        "duration": 4,
        "start_time": "2022-08-01T20:06:00.551Z"
      },
      {
        "duration": 25,
        "start_time": "2022-08-01T20:06:00.557Z"
      },
      {
        "duration": 19,
        "start_time": "2022-08-01T20:06:00.583Z"
      },
      {
        "duration": 34,
        "start_time": "2022-08-01T20:06:00.603Z"
      },
      {
        "duration": 9,
        "start_time": "2022-08-01T20:06:00.639Z"
      },
      {
        "duration": 96,
        "start_time": "2022-08-01T20:06:00.650Z"
      },
      {
        "duration": 15,
        "start_time": "2022-08-01T20:06:00.747Z"
      },
      {
        "duration": 16,
        "start_time": "2022-08-01T20:06:00.763Z"
      },
      {
        "duration": 16,
        "start_time": "2022-08-01T20:06:00.781Z"
      },
      {
        "duration": 18,
        "start_time": "2022-08-01T20:06:00.799Z"
      },
      {
        "duration": 18,
        "start_time": "2022-08-01T20:06:00.819Z"
      },
      {
        "duration": 11,
        "start_time": "2022-08-01T20:06:00.839Z"
      },
      {
        "duration": 20,
        "start_time": "2022-08-01T20:06:00.851Z"
      },
      {
        "duration": 15,
        "start_time": "2022-08-01T20:06:00.873Z"
      },
      {
        "duration": 16,
        "start_time": "2022-08-01T20:06:00.890Z"
      },
      {
        "duration": 16,
        "start_time": "2022-08-01T20:06:00.908Z"
      },
      {
        "duration": 21,
        "start_time": "2022-08-01T20:06:00.925Z"
      },
      {
        "duration": 35,
        "start_time": "2022-08-01T20:06:00.948Z"
      },
      {
        "duration": 155,
        "start_time": "2022-08-01T20:06:00.985Z"
      },
      {
        "duration": 16,
        "start_time": "2022-08-01T20:06:01.142Z"
      },
      {
        "duration": 36,
        "start_time": "2022-08-01T20:06:01.160Z"
      },
      {
        "duration": 27,
        "start_time": "2022-08-01T20:06:01.198Z"
      },
      {
        "duration": 28,
        "start_time": "2022-08-01T20:06:01.227Z"
      },
      {
        "duration": 154,
        "start_time": "2022-08-01T20:06:01.259Z"
      },
      {
        "duration": 26,
        "start_time": "2022-08-01T20:06:01.415Z"
      },
      {
        "duration": 54,
        "start_time": "2022-08-01T20:06:01.442Z"
      },
      {
        "duration": 34,
        "start_time": "2022-08-01T20:06:01.499Z"
      },
      {
        "duration": 62,
        "start_time": "2022-08-01T20:06:01.535Z"
      },
      {
        "duration": 41,
        "start_time": "2022-08-01T20:06:01.599Z"
      },
      {
        "duration": 64933,
        "start_time": "2022-08-01T20:06:01.641Z"
      },
      {
        "duration": 11,
        "start_time": "2022-08-01T20:07:06.576Z"
      },
      {
        "duration": 14763,
        "start_time": "2022-08-01T20:07:06.589Z"
      },
      {
        "duration": 14,
        "start_time": "2022-08-01T20:07:21.354Z"
      },
      {
        "duration": 212,
        "start_time": "2022-08-01T20:07:21.369Z"
      },
      {
        "duration": 4,
        "start_time": "2022-08-01T20:07:21.582Z"
      },
      {
        "duration": 31,
        "start_time": "2022-08-01T20:07:21.587Z"
      },
      {
        "duration": 18,
        "start_time": "2022-08-01T20:07:21.620Z"
      },
      {
        "duration": 35282,
        "start_time": "2022-08-01T20:07:21.640Z"
      },
      {
        "duration": 12,
        "start_time": "2022-08-01T20:07:56.925Z"
      },
      {
        "duration": 10,
        "start_time": "2022-08-01T20:07:56.939Z"
      },
      {
        "duration": 29,
        "start_time": "2022-08-01T20:07:56.951Z"
      },
      {
        "duration": 4,
        "start_time": "2022-08-01T20:07:56.982Z"
      },
      {
        "duration": 13186,
        "start_time": "2022-08-01T20:07:56.989Z"
      },
      {
        "duration": 3,
        "start_time": "2022-08-01T20:08:10.177Z"
      },
      {
        "duration": 6,
        "start_time": "2022-08-01T20:08:10.182Z"
      },
      {
        "duration": 54,
        "start_time": "2022-08-01T20:08:10.189Z"
      },
      {
        "duration": 5,
        "start_time": "2022-08-01T20:08:10.245Z"
      },
      {
        "duration": 17,
        "start_time": "2022-08-01T20:08:10.336Z"
      },
      {
        "duration": 130,
        "start_time": "2022-08-01T20:08:17.451Z"
      },
      {
        "duration": 8,
        "start_time": "2022-08-01T20:08:23.375Z"
      },
      {
        "duration": 5,
        "start_time": "2022-08-01T20:09:08.711Z"
      },
      {
        "duration": 117265,
        "start_time": "2022-08-01T20:10:14.273Z"
      },
      {
        "duration": 4,
        "start_time": "2022-08-01T20:12:28.672Z"
      },
      {
        "duration": 14,
        "start_time": "2022-08-01T20:12:34.677Z"
      },
      {
        "duration": 4,
        "start_time": "2022-08-01T20:12:54.457Z"
      },
      {
        "duration": 180502,
        "start_time": "2022-08-01T20:13:53.111Z"
      },
      {
        "duration": 4,
        "start_time": "2022-08-01T20:17:49.576Z"
      },
      {
        "duration": 11,
        "start_time": "2022-08-01T20:17:55.166Z"
      },
      {
        "duration": 5,
        "start_time": "2022-08-01T20:18:22.758Z"
      },
      {
        "duration": 127538,
        "start_time": "2022-08-01T20:20:52.958Z"
      },
      {
        "duration": 4,
        "start_time": "2022-08-01T20:23:00.497Z"
      },
      {
        "duration": 8,
        "start_time": "2022-08-01T20:23:00.503Z"
      },
      {
        "duration": 17,
        "start_time": "2022-08-01T20:23:00.513Z"
      },
      {
        "duration": 138701,
        "start_time": "2022-08-01T20:24:30.669Z"
      },
      {
        "duration": 4,
        "start_time": "2022-08-01T20:26:49.372Z"
      },
      {
        "duration": 6,
        "start_time": "2022-08-01T20:26:49.378Z"
      },
      {
        "duration": 15,
        "start_time": "2022-08-01T20:26:49.386Z"
      },
      {
        "duration": 91712,
        "start_time": "2022-08-01T20:27:50.777Z"
      },
      {
        "duration": 3,
        "start_time": "2022-08-01T20:29:22.491Z"
      },
      {
        "duration": 7,
        "start_time": "2022-08-01T20:29:22.496Z"
      },
      {
        "duration": 16,
        "start_time": "2022-08-01T20:29:22.504Z"
      },
      {
        "duration": 1101,
        "start_time": "2022-08-01T20:31:16.488Z"
      },
      {
        "duration": 95,
        "start_time": "2022-08-01T20:31:17.591Z"
      },
      {
        "duration": 70,
        "start_time": "2022-08-01T20:31:17.688Z"
      },
      {
        "duration": 13,
        "start_time": "2022-08-01T20:31:17.760Z"
      },
      {
        "duration": 9,
        "start_time": "2022-08-01T20:31:17.774Z"
      },
      {
        "duration": 14,
        "start_time": "2022-08-01T20:31:17.785Z"
      },
      {
        "duration": 6,
        "start_time": "2022-08-01T20:31:17.800Z"
      },
      {
        "duration": 8,
        "start_time": "2022-08-01T20:31:17.807Z"
      },
      {
        "duration": 22,
        "start_time": "2022-08-01T20:31:17.816Z"
      },
      {
        "duration": 7,
        "start_time": "2022-08-01T20:31:17.841Z"
      },
      {
        "duration": 5,
        "start_time": "2022-08-01T20:31:17.850Z"
      },
      {
        "duration": 5,
        "start_time": "2022-08-01T20:31:17.856Z"
      },
      {
        "duration": 8,
        "start_time": "2022-08-01T20:31:17.862Z"
      },
      {
        "duration": 379,
        "start_time": "2022-08-01T20:31:17.871Z"
      },
      {
        "duration": 109,
        "start_time": "2022-08-01T20:31:18.251Z"
      },
      {
        "duration": 106,
        "start_time": "2022-08-01T20:31:18.362Z"
      },
      {
        "duration": 15,
        "start_time": "2022-08-01T20:31:18.469Z"
      },
      {
        "duration": 4,
        "start_time": "2022-08-01T20:31:18.485Z"
      },
      {
        "duration": 14,
        "start_time": "2022-08-01T20:31:18.491Z"
      },
      {
        "duration": 9,
        "start_time": "2022-08-01T20:31:18.507Z"
      },
      {
        "duration": 28,
        "start_time": "2022-08-01T20:31:18.517Z"
      },
      {
        "duration": 11,
        "start_time": "2022-08-01T20:31:18.547Z"
      },
      {
        "duration": 94,
        "start_time": "2022-08-01T20:31:18.560Z"
      },
      {
        "duration": 25,
        "start_time": "2022-08-01T20:31:18.655Z"
      },
      {
        "duration": 15,
        "start_time": "2022-08-01T20:31:18.681Z"
      },
      {
        "duration": 10,
        "start_time": "2022-08-01T20:31:18.697Z"
      },
      {
        "duration": 17,
        "start_time": "2022-08-01T20:31:18.709Z"
      },
      {
        "duration": 5,
        "start_time": "2022-08-01T20:31:18.729Z"
      },
      {
        "duration": 5,
        "start_time": "2022-08-01T20:31:18.736Z"
      },
      {
        "duration": 14,
        "start_time": "2022-08-01T20:31:18.743Z"
      },
      {
        "duration": 14,
        "start_time": "2022-08-01T20:31:18.759Z"
      },
      {
        "duration": 6,
        "start_time": "2022-08-01T20:31:18.774Z"
      },
      {
        "duration": 6,
        "start_time": "2022-08-01T20:31:18.782Z"
      },
      {
        "duration": 4,
        "start_time": "2022-08-01T20:31:18.790Z"
      },
      {
        "duration": 42,
        "start_time": "2022-08-01T20:31:18.795Z"
      },
      {
        "duration": 197,
        "start_time": "2022-08-01T20:31:18.838Z"
      },
      {
        "duration": 18,
        "start_time": "2022-08-01T20:31:19.037Z"
      },
      {
        "duration": 5,
        "start_time": "2022-08-01T20:31:19.058Z"
      },
      {
        "duration": 21,
        "start_time": "2022-08-01T20:31:19.065Z"
      },
      {
        "duration": 11,
        "start_time": "2022-08-01T20:31:19.088Z"
      },
      {
        "duration": 148,
        "start_time": "2022-08-01T20:31:19.101Z"
      },
      {
        "duration": 28,
        "start_time": "2022-08-01T20:31:19.251Z"
      },
      {
        "duration": 7,
        "start_time": "2022-08-01T20:31:19.280Z"
      },
      {
        "duration": 21,
        "start_time": "2022-08-01T20:31:19.288Z"
      },
      {
        "duration": 8,
        "start_time": "2022-08-01T20:31:19.310Z"
      },
      {
        "duration": 6,
        "start_time": "2022-08-01T20:31:19.320Z"
      },
      {
        "duration": 138719,
        "start_time": "2022-08-01T20:31:19.327Z"
      },
      {
        "duration": 3,
        "start_time": "2022-08-01T20:33:38.048Z"
      },
      {
        "duration": 7,
        "start_time": "2022-08-01T20:33:38.053Z"
      },
      {
        "duration": 7,
        "start_time": "2022-08-01T20:33:38.061Z"
      },
      {
        "duration": 14,
        "start_time": "2022-08-01T20:33:38.069Z"
      },
      {
        "duration": 14034,
        "start_time": "2022-08-01T20:33:38.085Z"
      },
      {
        "duration": 12,
        "start_time": "2022-08-01T20:33:52.121Z"
      },
      {
        "duration": 211,
        "start_time": "2022-08-01T20:33:52.135Z"
      },
      {
        "duration": 4,
        "start_time": "2022-08-01T20:33:52.347Z"
      },
      {
        "duration": 11,
        "start_time": "2022-08-01T20:33:52.352Z"
      },
      {
        "duration": 10,
        "start_time": "2022-08-01T20:33:52.365Z"
      },
      {
        "duration": 33573,
        "start_time": "2022-08-01T20:33:52.376Z"
      },
      {
        "duration": 4,
        "start_time": "2022-08-01T20:34:25.951Z"
      },
      {
        "duration": 7,
        "start_time": "2022-08-01T20:34:25.956Z"
      },
      {
        "duration": 26,
        "start_time": "2022-08-01T20:34:25.964Z"
      },
      {
        "duration": 4,
        "start_time": "2022-08-01T20:34:25.991Z"
      },
      {
        "duration": 8963,
        "start_time": "2022-08-01T20:34:25.997Z"
      },
      {
        "duration": 4,
        "start_time": "2022-08-01T20:34:34.961Z"
      },
      {
        "duration": 10,
        "start_time": "2022-08-01T20:34:34.966Z"
      },
      {
        "duration": 60,
        "start_time": "2022-08-01T20:34:34.978Z"
      },
      {
        "duration": 102,
        "start_time": "2022-08-01T20:34:35.040Z"
      },
      {
        "duration": 10,
        "start_time": "2022-08-01T20:34:35.143Z"
      },
      {
        "duration": 1815,
        "start_time": "2022-08-02T07:25:15.703Z"
      },
      {
        "duration": 101,
        "start_time": "2022-08-02T07:25:17.519Z"
      },
      {
        "duration": 16,
        "start_time": "2022-08-02T07:26:33.680Z"
      },
      {
        "duration": 67,
        "start_time": "2022-08-02T07:26:34.359Z"
      },
      {
        "duration": 6,
        "start_time": "2022-08-02T07:26:43.958Z"
      },
      {
        "duration": 13,
        "start_time": "2022-08-02T07:26:44.656Z"
      },
      {
        "duration": 8,
        "start_time": "2022-08-02T07:26:47.545Z"
      },
      {
        "duration": 7,
        "start_time": "2022-08-02T07:27:07.947Z"
      },
      {
        "duration": 4,
        "start_time": "2022-08-02T07:27:08.506Z"
      },
      {
        "duration": 7,
        "start_time": "2022-08-02T07:27:08.679Z"
      },
      {
        "duration": 3,
        "start_time": "2022-08-02T07:27:08.855Z"
      },
      {
        "duration": 3,
        "start_time": "2022-08-02T07:27:09.048Z"
      },
      {
        "duration": 4,
        "start_time": "2022-08-02T07:27:09.542Z"
      },
      {
        "duration": 349,
        "start_time": "2022-08-02T07:27:09.742Z"
      },
      {
        "duration": 111,
        "start_time": "2022-08-02T07:27:11.537Z"
      },
      {
        "duration": 116,
        "start_time": "2022-08-02T07:27:11.664Z"
      },
      {
        "duration": 14,
        "start_time": "2022-08-02T07:27:12.384Z"
      },
      {
        "duration": 4,
        "start_time": "2022-08-02T07:27:13.376Z"
      },
      {
        "duration": 12,
        "start_time": "2022-08-02T07:27:14.843Z"
      },
      {
        "duration": 8,
        "start_time": "2022-08-02T07:27:39.200Z"
      },
      {
        "duration": 11,
        "start_time": "2022-08-02T07:27:40.073Z"
      },
      {
        "duration": 9,
        "start_time": "2022-08-02T07:27:41.358Z"
      },
      {
        "duration": 10,
        "start_time": "2022-08-02T07:27:42.891Z"
      },
      {
        "duration": 6,
        "start_time": "2022-08-02T07:27:43.558Z"
      },
      {
        "duration": 9,
        "start_time": "2022-08-02T07:27:45.778Z"
      },
      {
        "duration": 8,
        "start_time": "2022-08-02T07:27:46.281Z"
      },
      {
        "duration": 15,
        "start_time": "2022-08-02T07:27:46.875Z"
      },
      {
        "duration": 4,
        "start_time": "2022-08-02T07:27:47.142Z"
      },
      {
        "duration": 6,
        "start_time": "2022-08-02T07:27:47.695Z"
      },
      {
        "duration": 76,
        "start_time": "2022-08-02T07:28:33.450Z"
      },
      {
        "duration": 15,
        "start_time": "2022-08-02T07:28:58.805Z"
      },
      {
        "duration": 4,
        "start_time": "2022-08-02T07:28:59.742Z"
      },
      {
        "duration": 4,
        "start_time": "2022-08-02T07:29:00.395Z"
      },
      {
        "duration": 3,
        "start_time": "2022-08-02T07:29:01.080Z"
      },
      {
        "duration": 21,
        "start_time": "2022-08-02T07:29:02.572Z"
      },
      {
        "duration": 142,
        "start_time": "2022-08-02T07:29:03.166Z"
      },
      {
        "duration": 14,
        "start_time": "2022-08-02T07:29:04.149Z"
      },
      {
        "duration": 5,
        "start_time": "2022-08-02T07:29:04.876Z"
      },
      {
        "duration": 6,
        "start_time": "2022-08-02T07:29:06.042Z"
      },
      {
        "duration": 2,
        "start_time": "2022-08-02T07:29:06.445Z"
      },
      {
        "duration": 150,
        "start_time": "2022-08-02T07:29:06.595Z"
      },
      {
        "duration": 22,
        "start_time": "2022-08-02T07:29:06.782Z"
      },
      {
        "duration": 5,
        "start_time": "2022-08-02T07:29:07.281Z"
      },
      {
        "duration": 19,
        "start_time": "2022-08-02T07:36:30.656Z"
      },
      {
        "duration": 49,
        "start_time": "2022-08-02T08:58:13.424Z"
      },
      {
        "duration": 1153,
        "start_time": "2022-08-02T10:14:30.033Z"
      },
      {
        "duration": 2,
        "start_time": "2022-08-02T10:14:31.188Z"
      },
      {
        "duration": 324,
        "start_time": "2022-08-02T10:14:31.191Z"
      },
      {
        "duration": 68,
        "start_time": "2022-08-02T10:14:31.516Z"
      },
      {
        "duration": 11,
        "start_time": "2022-08-02T10:14:31.586Z"
      },
      {
        "duration": 6,
        "start_time": "2022-08-02T10:14:31.601Z"
      },
      {
        "duration": 16,
        "start_time": "2022-08-02T10:14:31.609Z"
      },
      {
        "duration": 7,
        "start_time": "2022-08-02T10:14:31.627Z"
      },
      {
        "duration": 6,
        "start_time": "2022-08-02T10:14:31.636Z"
      },
      {
        "duration": 5,
        "start_time": "2022-08-02T10:14:31.644Z"
      },
      {
        "duration": 7,
        "start_time": "2022-08-02T10:14:31.651Z"
      },
      {
        "duration": 4,
        "start_time": "2022-08-02T10:14:31.660Z"
      },
      {
        "duration": 8,
        "start_time": "2022-08-02T10:14:31.665Z"
      },
      {
        "duration": 7,
        "start_time": "2022-08-02T10:14:31.675Z"
      },
      {
        "duration": 477,
        "start_time": "2022-08-02T10:14:31.703Z"
      },
      {
        "duration": 96,
        "start_time": "2022-08-02T10:14:32.182Z"
      },
      {
        "duration": 93,
        "start_time": "2022-08-02T10:14:32.280Z"
      },
      {
        "duration": 30,
        "start_time": "2022-08-02T10:14:32.375Z"
      },
      {
        "duration": 4,
        "start_time": "2022-08-02T10:14:32.407Z"
      },
      {
        "duration": 11,
        "start_time": "2022-08-02T10:14:32.413Z"
      },
      {
        "duration": 8,
        "start_time": "2022-08-02T10:14:32.426Z"
      },
      {
        "duration": 11,
        "start_time": "2022-08-02T10:14:32.436Z"
      },
      {
        "duration": 10,
        "start_time": "2022-08-02T10:14:32.449Z"
      },
      {
        "duration": 118,
        "start_time": "2022-08-02T10:14:32.460Z"
      },
      {
        "duration": 11,
        "start_time": "2022-08-02T10:14:32.580Z"
      },
      {
        "duration": 16,
        "start_time": "2022-08-02T10:14:32.593Z"
      },
      {
        "duration": 10,
        "start_time": "2022-08-02T10:14:32.610Z"
      },
      {
        "duration": 14,
        "start_time": "2022-08-02T10:14:32.622Z"
      },
      {
        "duration": 4,
        "start_time": "2022-08-02T10:14:32.637Z"
      },
      {
        "duration": 1561,
        "start_time": "2022-08-02T10:14:32.642Z"
      },
      {
        "duration": 0,
        "start_time": "2022-08-02T10:14:34.206Z"
      },
      {
        "duration": 0,
        "start_time": "2022-08-02T10:14:34.208Z"
      },
      {
        "duration": 0,
        "start_time": "2022-08-02T10:14:34.209Z"
      },
      {
        "duration": 0,
        "start_time": "2022-08-02T10:14:34.210Z"
      },
      {
        "duration": 0,
        "start_time": "2022-08-02T10:14:34.211Z"
      },
      {
        "duration": 0,
        "start_time": "2022-08-02T10:14:34.212Z"
      },
      {
        "duration": 0,
        "start_time": "2022-08-02T10:14:34.213Z"
      },
      {
        "duration": 0,
        "start_time": "2022-08-02T10:14:34.214Z"
      },
      {
        "duration": 0,
        "start_time": "2022-08-02T10:14:34.215Z"
      },
      {
        "duration": 0,
        "start_time": "2022-08-02T10:14:34.216Z"
      },
      {
        "duration": 0,
        "start_time": "2022-08-02T10:14:34.217Z"
      },
      {
        "duration": 0,
        "start_time": "2022-08-02T10:14:34.217Z"
      },
      {
        "duration": 0,
        "start_time": "2022-08-02T10:14:34.218Z"
      },
      {
        "duration": 0,
        "start_time": "2022-08-02T10:14:34.219Z"
      },
      {
        "duration": 0,
        "start_time": "2022-08-02T10:14:34.220Z"
      },
      {
        "duration": 0,
        "start_time": "2022-08-02T10:14:34.222Z"
      },
      {
        "duration": 0,
        "start_time": "2022-08-02T10:14:34.222Z"
      },
      {
        "duration": 0,
        "start_time": "2022-08-02T10:14:34.224Z"
      },
      {
        "duration": 0,
        "start_time": "2022-08-02T10:14:34.225Z"
      },
      {
        "duration": 0,
        "start_time": "2022-08-02T10:14:34.226Z"
      },
      {
        "duration": 0,
        "start_time": "2022-08-02T10:14:34.227Z"
      },
      {
        "duration": 0,
        "start_time": "2022-08-02T10:14:34.227Z"
      },
      {
        "duration": 0,
        "start_time": "2022-08-02T10:14:34.228Z"
      },
      {
        "duration": 0,
        "start_time": "2022-08-02T10:14:34.229Z"
      },
      {
        "duration": 0,
        "start_time": "2022-08-02T10:14:34.230Z"
      },
      {
        "duration": 0,
        "start_time": "2022-08-02T10:14:34.231Z"
      },
      {
        "duration": 0,
        "start_time": "2022-08-02T10:14:34.232Z"
      },
      {
        "duration": 0,
        "start_time": "2022-08-02T10:14:34.233Z"
      },
      {
        "duration": 0,
        "start_time": "2022-08-02T10:14:34.234Z"
      },
      {
        "duration": 0,
        "start_time": "2022-08-02T10:14:34.235Z"
      },
      {
        "duration": 0,
        "start_time": "2022-08-02T10:14:34.236Z"
      },
      {
        "duration": 0,
        "start_time": "2022-08-02T10:14:34.238Z"
      },
      {
        "duration": 0,
        "start_time": "2022-08-02T10:14:34.239Z"
      },
      {
        "duration": 0,
        "start_time": "2022-08-02T10:14:34.240Z"
      },
      {
        "duration": 0,
        "start_time": "2022-08-02T10:14:34.240Z"
      },
      {
        "duration": 0,
        "start_time": "2022-08-02T10:14:34.241Z"
      },
      {
        "duration": 0,
        "start_time": "2022-08-02T10:14:34.242Z"
      },
      {
        "duration": 0,
        "start_time": "2022-08-02T10:14:34.243Z"
      },
      {
        "duration": 0,
        "start_time": "2022-08-02T10:14:34.302Z"
      },
      {
        "duration": 0,
        "start_time": "2022-08-02T10:14:34.303Z"
      },
      {
        "duration": 0,
        "start_time": "2022-08-02T10:14:34.304Z"
      },
      {
        "duration": 1137,
        "start_time": "2022-08-02T10:15:21.506Z"
      },
      {
        "duration": 2,
        "start_time": "2022-08-02T10:15:22.645Z"
      },
      {
        "duration": 103,
        "start_time": "2022-08-02T10:15:22.648Z"
      },
      {
        "duration": 70,
        "start_time": "2022-08-02T10:15:22.752Z"
      },
      {
        "duration": 11,
        "start_time": "2022-08-02T10:15:22.824Z"
      },
      {
        "duration": 6,
        "start_time": "2022-08-02T10:15:22.836Z"
      },
      {
        "duration": 16,
        "start_time": "2022-08-02T10:15:22.844Z"
      },
      {
        "duration": 6,
        "start_time": "2022-08-02T10:15:22.862Z"
      },
      {
        "duration": 8,
        "start_time": "2022-08-02T10:15:22.869Z"
      },
      {
        "duration": 25,
        "start_time": "2022-08-02T10:15:22.878Z"
      },
      {
        "duration": 8,
        "start_time": "2022-08-02T10:15:22.904Z"
      },
      {
        "duration": 6,
        "start_time": "2022-08-02T10:15:22.914Z"
      },
      {
        "duration": 5,
        "start_time": "2022-08-02T10:15:22.921Z"
      },
      {
        "duration": 5,
        "start_time": "2022-08-02T10:15:22.928Z"
      },
      {
        "duration": 342,
        "start_time": "2022-08-02T10:15:22.934Z"
      },
      {
        "duration": 98,
        "start_time": "2022-08-02T10:15:23.278Z"
      },
      {
        "duration": 105,
        "start_time": "2022-08-02T10:15:23.378Z"
      },
      {
        "duration": 25,
        "start_time": "2022-08-02T10:15:23.485Z"
      },
      {
        "duration": 4,
        "start_time": "2022-08-02T10:15:23.511Z"
      },
      {
        "duration": 12,
        "start_time": "2022-08-02T10:15:23.517Z"
      },
      {
        "duration": 9,
        "start_time": "2022-08-02T10:15:23.530Z"
      },
      {
        "duration": 12,
        "start_time": "2022-08-02T10:15:23.540Z"
      },
      {
        "duration": 12,
        "start_time": "2022-08-02T10:15:23.553Z"
      },
      {
        "duration": 102,
        "start_time": "2022-08-02T10:15:23.567Z"
      },
      {
        "duration": 9,
        "start_time": "2022-08-02T10:15:23.670Z"
      },
      {
        "duration": 14,
        "start_time": "2022-08-02T10:15:23.680Z"
      },
      {
        "duration": 9,
        "start_time": "2022-08-02T10:15:23.701Z"
      },
      {
        "duration": 16,
        "start_time": "2022-08-02T10:15:23.711Z"
      },
      {
        "duration": 757,
        "start_time": "2022-08-02T10:15:23.728Z"
      },
      {
        "duration": 0,
        "start_time": "2022-08-02T10:15:24.488Z"
      },
      {
        "duration": 0,
        "start_time": "2022-08-02T10:15:24.489Z"
      },
      {
        "duration": 0,
        "start_time": "2022-08-02T10:15:24.490Z"
      },
      {
        "duration": 0,
        "start_time": "2022-08-02T10:15:24.491Z"
      },
      {
        "duration": 0,
        "start_time": "2022-08-02T10:15:24.492Z"
      },
      {
        "duration": 0,
        "start_time": "2022-08-02T10:15:24.492Z"
      },
      {
        "duration": 0,
        "start_time": "2022-08-02T10:15:24.493Z"
      },
      {
        "duration": 0,
        "start_time": "2022-08-02T10:15:24.494Z"
      },
      {
        "duration": 0,
        "start_time": "2022-08-02T10:15:24.495Z"
      },
      {
        "duration": 0,
        "start_time": "2022-08-02T10:15:24.496Z"
      },
      {
        "duration": 0,
        "start_time": "2022-08-02T10:15:24.497Z"
      },
      {
        "duration": 0,
        "start_time": "2022-08-02T10:15:24.498Z"
      },
      {
        "duration": 0,
        "start_time": "2022-08-02T10:15:24.499Z"
      },
      {
        "duration": 0,
        "start_time": "2022-08-02T10:15:24.500Z"
      },
      {
        "duration": 0,
        "start_time": "2022-08-02T10:15:24.501Z"
      },
      {
        "duration": 0,
        "start_time": "2022-08-02T10:15:24.501Z"
      },
      {
        "duration": 0,
        "start_time": "2022-08-02T10:15:24.502Z"
      },
      {
        "duration": 0,
        "start_time": "2022-08-02T10:15:24.503Z"
      },
      {
        "duration": 0,
        "start_time": "2022-08-02T10:15:24.504Z"
      },
      {
        "duration": 0,
        "start_time": "2022-08-02T10:15:24.505Z"
      },
      {
        "duration": 0,
        "start_time": "2022-08-02T10:15:24.506Z"
      },
      {
        "duration": 0,
        "start_time": "2022-08-02T10:15:24.507Z"
      },
      {
        "duration": 0,
        "start_time": "2022-08-02T10:15:24.508Z"
      },
      {
        "duration": 0,
        "start_time": "2022-08-02T10:15:24.508Z"
      },
      {
        "duration": 0,
        "start_time": "2022-08-02T10:15:24.510Z"
      },
      {
        "duration": 0,
        "start_time": "2022-08-02T10:15:24.510Z"
      },
      {
        "duration": 0,
        "start_time": "2022-08-02T10:15:24.511Z"
      },
      {
        "duration": 0,
        "start_time": "2022-08-02T10:15:24.512Z"
      },
      {
        "duration": 0,
        "start_time": "2022-08-02T10:15:24.513Z"
      },
      {
        "duration": 0,
        "start_time": "2022-08-02T10:15:24.514Z"
      },
      {
        "duration": 0,
        "start_time": "2022-08-02T10:15:24.515Z"
      },
      {
        "duration": 0,
        "start_time": "2022-08-02T10:15:24.515Z"
      },
      {
        "duration": 0,
        "start_time": "2022-08-02T10:15:24.516Z"
      },
      {
        "duration": 0,
        "start_time": "2022-08-02T10:15:24.517Z"
      },
      {
        "duration": 0,
        "start_time": "2022-08-02T10:15:24.518Z"
      },
      {
        "duration": 0,
        "start_time": "2022-08-02T10:15:24.519Z"
      },
      {
        "duration": 0,
        "start_time": "2022-08-02T10:15:24.520Z"
      },
      {
        "duration": 0,
        "start_time": "2022-08-02T10:15:24.521Z"
      },
      {
        "duration": 0,
        "start_time": "2022-08-02T10:15:24.522Z"
      },
      {
        "duration": 0,
        "start_time": "2022-08-02T10:15:24.522Z"
      },
      {
        "duration": 0,
        "start_time": "2022-08-02T10:15:24.523Z"
      },
      {
        "duration": 0,
        "start_time": "2022-08-02T10:15:24.524Z"
      },
      {
        "duration": 9,
        "start_time": "2022-08-02T10:16:18.790Z"
      },
      {
        "duration": 5,
        "start_time": "2022-08-02T10:16:28.504Z"
      },
      {
        "duration": 648,
        "start_time": "2022-08-02T10:17:00.849Z"
      },
      {
        "duration": 608,
        "start_time": "2022-08-02T10:17:13.571Z"
      },
      {
        "duration": 4,
        "start_time": "2022-08-02T10:18:32.745Z"
      },
      {
        "duration": 619,
        "start_time": "2022-08-02T10:19:46.945Z"
      },
      {
        "duration": 14,
        "start_time": "2022-08-02T10:20:09.052Z"
      },
      {
        "duration": 6,
        "start_time": "2022-08-02T10:20:24.385Z"
      },
      {
        "duration": 1173,
        "start_time": "2022-08-02T10:20:53.972Z"
      },
      {
        "duration": 2,
        "start_time": "2022-08-02T10:20:55.148Z"
      },
      {
        "duration": 104,
        "start_time": "2022-08-02T10:20:55.152Z"
      },
      {
        "duration": 70,
        "start_time": "2022-08-02T10:20:55.258Z"
      },
      {
        "duration": 12,
        "start_time": "2022-08-02T10:20:55.330Z"
      },
      {
        "duration": 10,
        "start_time": "2022-08-02T10:20:55.343Z"
      },
      {
        "duration": 15,
        "start_time": "2022-08-02T10:20:55.354Z"
      },
      {
        "duration": 8,
        "start_time": "2022-08-02T10:20:55.371Z"
      },
      {
        "duration": 24,
        "start_time": "2022-08-02T10:20:55.380Z"
      },
      {
        "duration": 4,
        "start_time": "2022-08-02T10:20:55.405Z"
      },
      {
        "duration": 12,
        "start_time": "2022-08-02T10:20:55.410Z"
      },
      {
        "duration": 5,
        "start_time": "2022-08-02T10:20:55.423Z"
      },
      {
        "duration": 4,
        "start_time": "2022-08-02T10:20:55.430Z"
      },
      {
        "duration": 5,
        "start_time": "2022-08-02T10:20:55.437Z"
      },
      {
        "duration": 359,
        "start_time": "2022-08-02T10:20:55.444Z"
      },
      {
        "duration": 103,
        "start_time": "2022-08-02T10:20:55.805Z"
      },
      {
        "duration": 97,
        "start_time": "2022-08-02T10:20:55.910Z"
      },
      {
        "duration": 15,
        "start_time": "2022-08-02T10:20:56.009Z"
      },
      {
        "duration": 4,
        "start_time": "2022-08-02T10:20:56.026Z"
      },
      {
        "duration": 15,
        "start_time": "2022-08-02T10:20:56.031Z"
      },
      {
        "duration": 10,
        "start_time": "2022-08-02T10:20:56.047Z"
      },
      {
        "duration": 43,
        "start_time": "2022-08-02T10:20:56.059Z"
      },
      {
        "duration": 9,
        "start_time": "2022-08-02T10:20:56.104Z"
      },
      {
        "duration": 91,
        "start_time": "2022-08-02T10:20:56.114Z"
      },
      {
        "duration": 6,
        "start_time": "2022-08-02T10:20:56.207Z"
      },
      {
        "duration": 11,
        "start_time": "2022-08-02T10:20:56.214Z"
      },
      {
        "duration": 13,
        "start_time": "2022-08-02T10:20:56.226Z"
      },
      {
        "duration": 15,
        "start_time": "2022-08-02T10:20:56.241Z"
      },
      {
        "duration": 6,
        "start_time": "2022-08-02T10:20:56.257Z"
      },
      {
        "duration": 4,
        "start_time": "2022-08-02T10:20:56.264Z"
      },
      {
        "duration": 5,
        "start_time": "2022-08-02T10:20:56.270Z"
      },
      {
        "duration": 14,
        "start_time": "2022-08-02T10:20:56.302Z"
      },
      {
        "duration": 15,
        "start_time": "2022-08-02T10:20:56.317Z"
      },
      {
        "duration": 5,
        "start_time": "2022-08-02T10:20:56.334Z"
      },
      {
        "duration": 6,
        "start_time": "2022-08-02T10:20:56.340Z"
      },
      {
        "duration": 5,
        "start_time": "2022-08-02T10:20:56.347Z"
      },
      {
        "duration": 46,
        "start_time": "2022-08-02T10:20:56.356Z"
      },
      {
        "duration": 175,
        "start_time": "2022-08-02T10:20:56.404Z"
      },
      {
        "duration": 14,
        "start_time": "2022-08-02T10:20:56.580Z"
      },
      {
        "duration": 7,
        "start_time": "2022-08-02T10:20:56.602Z"
      },
      {
        "duration": 4,
        "start_time": "2022-08-02T10:20:56.614Z"
      },
      {
        "duration": 4,
        "start_time": "2022-08-02T10:20:56.620Z"
      },
      {
        "duration": 189,
        "start_time": "2022-08-02T10:20:56.625Z"
      },
      {
        "duration": 24,
        "start_time": "2022-08-02T10:20:56.816Z"
      },
      {
        "duration": 5,
        "start_time": "2022-08-02T10:20:56.841Z"
      },
      {
        "duration": 12,
        "start_time": "2022-08-02T10:20:56.847Z"
      },
      {
        "duration": 4,
        "start_time": "2022-08-02T10:20:56.861Z"
      },
      {
        "duration": 8,
        "start_time": "2022-08-02T10:20:56.866Z"
      },
      {
        "duration": 24292,
        "start_time": "2022-08-02T10:20:56.875Z"
      },
      {
        "duration": 0,
        "start_time": "2022-08-02T10:21:21.169Z"
      },
      {
        "duration": 0,
        "start_time": "2022-08-02T10:21:21.170Z"
      },
      {
        "duration": 0,
        "start_time": "2022-08-02T10:21:21.171Z"
      },
      {
        "duration": 0,
        "start_time": "2022-08-02T10:21:21.172Z"
      },
      {
        "duration": 0,
        "start_time": "2022-08-02T10:21:21.173Z"
      },
      {
        "duration": 0,
        "start_time": "2022-08-02T10:21:21.174Z"
      },
      {
        "duration": 0,
        "start_time": "2022-08-02T10:21:21.175Z"
      },
      {
        "duration": 0,
        "start_time": "2022-08-02T10:21:21.176Z"
      },
      {
        "duration": 0,
        "start_time": "2022-08-02T10:21:21.177Z"
      },
      {
        "duration": 0,
        "start_time": "2022-08-02T10:21:21.177Z"
      },
      {
        "duration": 0,
        "start_time": "2022-08-02T10:21:21.178Z"
      },
      {
        "duration": 0,
        "start_time": "2022-08-02T10:21:21.179Z"
      },
      {
        "duration": 0,
        "start_time": "2022-08-02T10:21:21.180Z"
      },
      {
        "duration": 0,
        "start_time": "2022-08-02T10:21:21.181Z"
      },
      {
        "duration": 0,
        "start_time": "2022-08-02T10:21:21.182Z"
      },
      {
        "duration": 0,
        "start_time": "2022-08-02T10:21:21.182Z"
      },
      {
        "duration": 0,
        "start_time": "2022-08-02T10:21:21.184Z"
      },
      {
        "duration": 0,
        "start_time": "2022-08-02T10:21:21.185Z"
      },
      {
        "duration": 0,
        "start_time": "2022-08-02T10:21:21.185Z"
      },
      {
        "duration": 0,
        "start_time": "2022-08-02T10:21:21.186Z"
      },
      {
        "duration": 0,
        "start_time": "2022-08-02T10:21:21.187Z"
      },
      {
        "duration": 0,
        "start_time": "2022-08-02T10:21:21.188Z"
      },
      {
        "duration": 13286,
        "start_time": "2022-08-02T10:26:51.182Z"
      },
      {
        "duration": 13,
        "start_time": "2022-08-02T10:27:14.482Z"
      },
      {
        "duration": 1124,
        "start_time": "2022-08-02T10:29:12.737Z"
      },
      {
        "duration": 3,
        "start_time": "2022-08-02T10:29:13.862Z"
      },
      {
        "duration": 100,
        "start_time": "2022-08-02T10:29:13.866Z"
      },
      {
        "duration": 71,
        "start_time": "2022-08-02T10:29:13.967Z"
      },
      {
        "duration": 11,
        "start_time": "2022-08-02T10:29:14.040Z"
      },
      {
        "duration": 6,
        "start_time": "2022-08-02T10:29:14.052Z"
      },
      {
        "duration": 16,
        "start_time": "2022-08-02T10:29:14.060Z"
      },
      {
        "duration": 25,
        "start_time": "2022-08-02T10:29:14.077Z"
      },
      {
        "duration": 6,
        "start_time": "2022-08-02T10:29:14.103Z"
      },
      {
        "duration": 6,
        "start_time": "2022-08-02T10:29:14.110Z"
      },
      {
        "duration": 9,
        "start_time": "2022-08-02T10:29:14.118Z"
      },
      {
        "duration": 5,
        "start_time": "2022-08-02T10:29:14.128Z"
      },
      {
        "duration": 4,
        "start_time": "2022-08-02T10:29:14.134Z"
      },
      {
        "duration": 5,
        "start_time": "2022-08-02T10:29:14.140Z"
      },
      {
        "duration": 352,
        "start_time": "2022-08-02T10:29:14.146Z"
      },
      {
        "duration": 107,
        "start_time": "2022-08-02T10:29:14.499Z"
      },
      {
        "duration": 97,
        "start_time": "2022-08-02T10:29:14.608Z"
      },
      {
        "duration": 15,
        "start_time": "2022-08-02T10:29:14.706Z"
      },
      {
        "duration": 4,
        "start_time": "2022-08-02T10:29:14.722Z"
      },
      {
        "duration": 15,
        "start_time": "2022-08-02T10:29:14.728Z"
      },
      {
        "duration": 9,
        "start_time": "2022-08-02T10:29:14.745Z"
      },
      {
        "duration": 11,
        "start_time": "2022-08-02T10:29:14.756Z"
      },
      {
        "duration": 34,
        "start_time": "2022-08-02T10:29:14.769Z"
      },
      {
        "duration": 82,
        "start_time": "2022-08-02T10:29:14.804Z"
      },
      {
        "duration": 16,
        "start_time": "2022-08-02T10:29:14.887Z"
      },
      {
        "duration": 11,
        "start_time": "2022-08-02T10:29:14.905Z"
      },
      {
        "duration": 9,
        "start_time": "2022-08-02T10:29:14.917Z"
      },
      {
        "duration": 15,
        "start_time": "2022-08-02T10:29:14.927Z"
      },
      {
        "duration": 6,
        "start_time": "2022-08-02T10:29:14.943Z"
      },
      {
        "duration": 5,
        "start_time": "2022-08-02T10:29:14.950Z"
      },
      {
        "duration": 6,
        "start_time": "2022-08-02T10:29:14.956Z"
      },
      {
        "duration": 4,
        "start_time": "2022-08-02T10:29:14.963Z"
      },
      {
        "duration": 38,
        "start_time": "2022-08-02T10:29:14.968Z"
      },
      {
        "duration": 21,
        "start_time": "2022-08-02T10:29:15.007Z"
      },
      {
        "duration": 9,
        "start_time": "2022-08-02T10:29:15.030Z"
      },
      {
        "duration": 6,
        "start_time": "2022-08-02T10:29:15.040Z"
      },
      {
        "duration": 5,
        "start_time": "2022-08-02T10:29:15.048Z"
      },
      {
        "duration": 21,
        "start_time": "2022-08-02T10:29:15.054Z"
      },
      {
        "duration": 190,
        "start_time": "2022-08-02T10:29:15.076Z"
      },
      {
        "duration": 12,
        "start_time": "2022-08-02T10:29:15.268Z"
      },
      {
        "duration": 4,
        "start_time": "2022-08-02T10:29:15.283Z"
      },
      {
        "duration": 17,
        "start_time": "2022-08-02T10:29:15.289Z"
      },
      {
        "duration": 4,
        "start_time": "2022-08-02T10:29:15.307Z"
      },
      {
        "duration": 169,
        "start_time": "2022-08-02T10:29:15.312Z"
      },
      {
        "duration": 33,
        "start_time": "2022-08-02T10:29:15.483Z"
      },
      {
        "duration": 4,
        "start_time": "2022-08-02T10:29:15.517Z"
      },
      {
        "duration": 11,
        "start_time": "2022-08-02T10:29:15.522Z"
      },
      {
        "duration": 7,
        "start_time": "2022-08-02T10:29:15.534Z"
      },
      {
        "duration": 6,
        "start_time": "2022-08-02T10:29:15.542Z"
      },
      {
        "duration": 104746,
        "start_time": "2022-08-02T10:29:15.549Z"
      },
      {
        "duration": 4,
        "start_time": "2022-08-02T10:31:00.297Z"
      },
      {
        "duration": 8,
        "start_time": "2022-08-02T10:31:00.302Z"
      },
      {
        "duration": 15,
        "start_time": "2022-08-02T10:31:00.311Z"
      },
      {
        "duration": 13112,
        "start_time": "2022-08-02T10:31:00.327Z"
      },
      {
        "duration": 14,
        "start_time": "2022-08-02T10:31:13.441Z"
      },
      {
        "duration": 201,
        "start_time": "2022-08-02T10:31:13.457Z"
      },
      {
        "duration": 5,
        "start_time": "2022-08-02T10:31:13.660Z"
      },
      {
        "duration": 11,
        "start_time": "2022-08-02T10:31:13.667Z"
      },
      {
        "duration": 22,
        "start_time": "2022-08-02T10:31:13.680Z"
      },
      {
        "duration": 194315,
        "start_time": "2022-08-02T10:31:13.704Z"
      },
      {
        "duration": 4,
        "start_time": "2022-08-02T10:34:28.020Z"
      },
      {
        "duration": 5,
        "start_time": "2022-08-02T10:34:28.025Z"
      },
      {
        "duration": 36,
        "start_time": "2022-08-02T10:34:28.031Z"
      },
      {
        "duration": 119,
        "start_time": "2022-08-02T10:34:28.069Z"
      },
      {
        "duration": 0,
        "start_time": "2022-08-02T10:34:28.190Z"
      },
      {
        "duration": 0,
        "start_time": "2022-08-02T10:34:28.191Z"
      },
      {
        "duration": 0,
        "start_time": "2022-08-02T10:34:28.201Z"
      },
      {
        "duration": 0,
        "start_time": "2022-08-02T10:34:28.202Z"
      },
      {
        "duration": 0,
        "start_time": "2022-08-02T10:34:28.203Z"
      },
      {
        "duration": 0,
        "start_time": "2022-08-02T10:34:28.204Z"
      },
      {
        "duration": 0,
        "start_time": "2022-08-02T10:34:28.205Z"
      },
      {
        "duration": 0,
        "start_time": "2022-08-02T10:34:28.206Z"
      },
      {
        "duration": 5,
        "start_time": "2022-08-02T10:35:20.279Z"
      },
      {
        "duration": 13167,
        "start_time": "2022-08-02T10:35:20.742Z"
      },
      {
        "duration": 93,
        "start_time": "2022-08-02T10:35:33.911Z"
      },
      {
        "duration": 101,
        "start_time": "2022-08-02T10:35:34.006Z"
      },
      {
        "duration": 11,
        "start_time": "2022-08-02T10:35:34.109Z"
      },
      {
        "duration": 80,
        "start_time": "2022-08-02T10:35:34.122Z"
      },
      {
        "duration": 11,
        "start_time": "2022-08-02T10:35:34.206Z"
      },
      {
        "duration": 12,
        "start_time": "2022-08-02T10:35:34.303Z"
      },
      {
        "duration": 11,
        "start_time": "2022-08-02T10:35:34.316Z"
      },
      {
        "duration": 12,
        "start_time": "2022-08-02T10:49:47.783Z"
      },
      {
        "duration": 10,
        "start_time": "2022-08-02T10:49:49.140Z"
      },
      {
        "duration": 1093,
        "start_time": "2022-08-02T10:53:54.062Z"
      },
      {
        "duration": 2,
        "start_time": "2022-08-02T10:53:55.157Z"
      },
      {
        "duration": 100,
        "start_time": "2022-08-02T10:53:55.161Z"
      },
      {
        "duration": 71,
        "start_time": "2022-08-02T10:53:55.263Z"
      },
      {
        "duration": 12,
        "start_time": "2022-08-02T10:53:55.336Z"
      },
      {
        "duration": 6,
        "start_time": "2022-08-02T10:53:55.350Z"
      },
      {
        "duration": 14,
        "start_time": "2022-08-02T10:53:55.357Z"
      },
      {
        "duration": 5,
        "start_time": "2022-08-02T10:53:55.373Z"
      },
      {
        "duration": 5,
        "start_time": "2022-08-02T10:53:55.402Z"
      },
      {
        "duration": 5,
        "start_time": "2022-08-02T10:53:55.409Z"
      },
      {
        "duration": 8,
        "start_time": "2022-08-02T10:53:55.415Z"
      },
      {
        "duration": 4,
        "start_time": "2022-08-02T10:53:55.425Z"
      },
      {
        "duration": 5,
        "start_time": "2022-08-02T10:53:55.431Z"
      },
      {
        "duration": 6,
        "start_time": "2022-08-02T10:53:55.438Z"
      },
      {
        "duration": 345,
        "start_time": "2022-08-02T10:53:55.445Z"
      },
      {
        "duration": 93,
        "start_time": "2022-08-02T10:53:55.792Z"
      },
      {
        "duration": 94,
        "start_time": "2022-08-02T10:53:55.886Z"
      },
      {
        "duration": 29,
        "start_time": "2022-08-02T10:53:55.982Z"
      },
      {
        "duration": 5,
        "start_time": "2022-08-02T10:53:56.013Z"
      },
      {
        "duration": 17,
        "start_time": "2022-08-02T10:53:56.019Z"
      },
      {
        "duration": 11,
        "start_time": "2022-08-02T10:53:56.037Z"
      },
      {
        "duration": 13,
        "start_time": "2022-08-02T10:53:56.050Z"
      },
      {
        "duration": 14,
        "start_time": "2022-08-02T10:53:56.065Z"
      },
      {
        "duration": 106,
        "start_time": "2022-08-02T10:53:56.080Z"
      },
      {
        "duration": 7,
        "start_time": "2022-08-02T10:53:56.188Z"
      },
      {
        "duration": 11,
        "start_time": "2022-08-02T10:53:56.203Z"
      },
      {
        "duration": 12,
        "start_time": "2022-08-02T10:53:56.215Z"
      },
      {
        "duration": 20,
        "start_time": "2022-08-02T10:53:56.229Z"
      },
      {
        "duration": 9,
        "start_time": "2022-08-02T10:53:56.251Z"
      },
      {
        "duration": 5,
        "start_time": "2022-08-02T10:53:56.261Z"
      },
      {
        "duration": 7,
        "start_time": "2022-08-02T10:53:56.267Z"
      },
      {
        "duration": 28,
        "start_time": "2022-08-02T10:53:56.275Z"
      },
      {
        "duration": 13,
        "start_time": "2022-08-02T10:53:56.304Z"
      },
      {
        "duration": 16,
        "start_time": "2022-08-02T10:53:56.319Z"
      },
      {
        "duration": 4,
        "start_time": "2022-08-02T10:53:56.337Z"
      },
      {
        "duration": 6,
        "start_time": "2022-08-02T10:53:56.342Z"
      },
      {
        "duration": 5,
        "start_time": "2022-08-02T10:53:56.349Z"
      },
      {
        "duration": 22,
        "start_time": "2022-08-02T10:53:56.355Z"
      },
      {
        "duration": 180,
        "start_time": "2022-08-02T10:53:56.378Z"
      },
      {
        "duration": 14,
        "start_time": "2022-08-02T10:53:56.560Z"
      },
      {
        "duration": 4,
        "start_time": "2022-08-02T10:53:56.577Z"
      },
      {
        "duration": 19,
        "start_time": "2022-08-02T10:53:56.583Z"
      },
      {
        "duration": 4,
        "start_time": "2022-08-02T10:53:56.603Z"
      },
      {
        "duration": 160,
        "start_time": "2022-08-02T10:53:56.608Z"
      },
      {
        "duration": 23,
        "start_time": "2022-08-02T10:53:56.770Z"
      },
      {
        "duration": 5,
        "start_time": "2022-08-02T10:53:56.802Z"
      },
      {
        "duration": 8,
        "start_time": "2022-08-02T10:53:56.809Z"
      },
      {
        "duration": 3,
        "start_time": "2022-08-02T10:53:56.819Z"
      },
      {
        "duration": 5,
        "start_time": "2022-08-02T10:53:56.824Z"
      },
      {
        "duration": 89983,
        "start_time": "2022-08-02T10:53:56.830Z"
      },
      {
        "duration": 4,
        "start_time": "2022-08-02T10:55:26.815Z"
      },
      {
        "duration": 5,
        "start_time": "2022-08-02T10:55:26.820Z"
      },
      {
        "duration": 14,
        "start_time": "2022-08-02T10:55:26.827Z"
      },
      {
        "duration": 13108,
        "start_time": "2022-08-02T10:55:26.842Z"
      },
      {
        "duration": 12,
        "start_time": "2022-08-02T10:55:39.952Z"
      },
      {
        "duration": 198,
        "start_time": "2022-08-02T10:55:39.966Z"
      },
      {
        "duration": 3,
        "start_time": "2022-08-02T10:55:40.166Z"
      },
      {
        "duration": 7,
        "start_time": "2022-08-02T10:55:40.171Z"
      },
      {
        "duration": 24,
        "start_time": "2022-08-02T10:55:40.179Z"
      },
      {
        "duration": 194905,
        "start_time": "2022-08-02T10:55:40.204Z"
      },
      {
        "duration": 5,
        "start_time": "2022-08-02T10:58:55.111Z"
      },
      {
        "duration": 21,
        "start_time": "2022-08-02T10:58:55.118Z"
      },
      {
        "duration": 51,
        "start_time": "2022-08-02T10:58:55.141Z"
      },
      {
        "duration": 3,
        "start_time": "2022-08-02T10:58:55.194Z"
      },
      {
        "duration": 121,
        "start_time": "2022-08-02T10:58:55.199Z"
      },
      {
        "duration": 0,
        "start_time": "2022-08-02T10:58:55.322Z"
      },
      {
        "duration": 0,
        "start_time": "2022-08-02T10:58:55.324Z"
      },
      {
        "duration": 0,
        "start_time": "2022-08-02T10:58:55.325Z"
      },
      {
        "duration": 0,
        "start_time": "2022-08-02T10:58:55.326Z"
      },
      {
        "duration": 0,
        "start_time": "2022-08-02T10:58:55.327Z"
      },
      {
        "duration": 0,
        "start_time": "2022-08-02T10:58:55.328Z"
      },
      {
        "duration": 0,
        "start_time": "2022-08-02T10:58:55.329Z"
      },
      {
        "duration": 2,
        "start_time": "2022-08-02T10:59:48.955Z"
      },
      {
        "duration": 12128,
        "start_time": "2022-08-02T10:59:49.482Z"
      },
      {
        "duration": 96,
        "start_time": "2022-08-02T11:00:01.612Z"
      },
      {
        "duration": 97,
        "start_time": "2022-08-02T11:00:01.712Z"
      },
      {
        "duration": 20,
        "start_time": "2022-08-02T11:00:01.811Z"
      },
      {
        "duration": 12922,
        "start_time": "2022-08-02T11:00:50.782Z"
      },
      {
        "duration": 93,
        "start_time": "2022-08-02T11:01:03.710Z"
      },
      {
        "duration": 7,
        "start_time": "2022-08-02T11:01:03.805Z"
      },
      {
        "duration": 11,
        "start_time": "2022-08-02T11:01:03.813Z"
      },
      {
        "duration": 1111,
        "start_time": "2022-08-02T11:04:23.455Z"
      },
      {
        "duration": 3,
        "start_time": "2022-08-02T11:04:24.567Z"
      },
      {
        "duration": 115,
        "start_time": "2022-08-02T11:04:24.571Z"
      },
      {
        "duration": 70,
        "start_time": "2022-08-02T11:04:24.688Z"
      },
      {
        "duration": 11,
        "start_time": "2022-08-02T11:04:24.760Z"
      },
      {
        "duration": 12,
        "start_time": "2022-08-02T11:04:24.772Z"
      },
      {
        "duration": 25,
        "start_time": "2022-08-02T11:04:24.785Z"
      },
      {
        "duration": 4,
        "start_time": "2022-08-02T11:04:24.812Z"
      },
      {
        "duration": 6,
        "start_time": "2022-08-02T11:04:24.818Z"
      },
      {
        "duration": 12,
        "start_time": "2022-08-02T11:04:24.825Z"
      },
      {
        "duration": 15,
        "start_time": "2022-08-02T11:04:24.838Z"
      },
      {
        "duration": 9,
        "start_time": "2022-08-02T11:04:24.855Z"
      },
      {
        "duration": 17,
        "start_time": "2022-08-02T11:04:24.865Z"
      },
      {
        "duration": 5,
        "start_time": "2022-08-02T11:04:24.885Z"
      },
      {
        "duration": 390,
        "start_time": "2022-08-02T11:04:24.892Z"
      },
      {
        "duration": 92,
        "start_time": "2022-08-02T11:04:25.284Z"
      },
      {
        "duration": 105,
        "start_time": "2022-08-02T11:04:25.377Z"
      },
      {
        "duration": 20,
        "start_time": "2022-08-02T11:04:25.483Z"
      },
      {
        "duration": 3,
        "start_time": "2022-08-02T11:04:25.505Z"
      },
      {
        "duration": 21,
        "start_time": "2022-08-02T11:04:25.510Z"
      },
      {
        "duration": 11,
        "start_time": "2022-08-02T11:04:25.532Z"
      },
      {
        "duration": 24,
        "start_time": "2022-08-02T11:04:25.544Z"
      },
      {
        "duration": 16,
        "start_time": "2022-08-02T11:04:25.570Z"
      },
      {
        "duration": 84,
        "start_time": "2022-08-02T11:04:25.587Z"
      },
      {
        "duration": 5,
        "start_time": "2022-08-02T11:04:25.673Z"
      },
      {
        "duration": 12,
        "start_time": "2022-08-02T11:04:25.680Z"
      },
      {
        "duration": 10,
        "start_time": "2022-08-02T11:04:25.701Z"
      },
      {
        "duration": 17,
        "start_time": "2022-08-02T11:04:25.713Z"
      },
      {
        "duration": 5,
        "start_time": "2022-08-02T11:04:25.732Z"
      },
      {
        "duration": 12,
        "start_time": "2022-08-02T11:04:25.739Z"
      },
      {
        "duration": 25,
        "start_time": "2022-08-02T11:04:25.753Z"
      },
      {
        "duration": 13,
        "start_time": "2022-08-02T11:04:25.779Z"
      },
      {
        "duration": 18,
        "start_time": "2022-08-02T11:04:25.794Z"
      },
      {
        "duration": 14,
        "start_time": "2022-08-02T11:04:25.814Z"
      },
      {
        "duration": 7,
        "start_time": "2022-08-02T11:04:25.829Z"
      },
      {
        "duration": 14,
        "start_time": "2022-08-02T11:04:25.837Z"
      },
      {
        "duration": 14,
        "start_time": "2022-08-02T11:04:25.852Z"
      },
      {
        "duration": 32,
        "start_time": "2022-08-02T11:04:25.868Z"
      },
      {
        "duration": 151,
        "start_time": "2022-08-02T11:04:25.902Z"
      },
      {
        "duration": 12,
        "start_time": "2022-08-02T11:04:26.055Z"
      },
      {
        "duration": 8,
        "start_time": "2022-08-02T11:04:26.071Z"
      },
      {
        "duration": 17,
        "start_time": "2022-08-02T11:04:26.080Z"
      },
      {
        "duration": 18,
        "start_time": "2022-08-02T11:04:26.099Z"
      },
      {
        "duration": 169,
        "start_time": "2022-08-02T11:04:26.119Z"
      },
      {
        "duration": 22,
        "start_time": "2022-08-02T11:04:26.290Z"
      },
      {
        "duration": 5,
        "start_time": "2022-08-02T11:04:26.313Z"
      },
      {
        "duration": 30,
        "start_time": "2022-08-02T11:04:26.319Z"
      },
      {
        "duration": 25,
        "start_time": "2022-08-02T11:04:26.350Z"
      },
      {
        "duration": 20,
        "start_time": "2022-08-02T11:04:26.376Z"
      },
      {
        "duration": 90660,
        "start_time": "2022-08-02T11:04:26.398Z"
      },
      {
        "duration": 4,
        "start_time": "2022-08-02T11:05:57.059Z"
      },
      {
        "duration": 7,
        "start_time": "2022-08-02T11:05:57.064Z"
      },
      {
        "duration": 13,
        "start_time": "2022-08-02T11:05:57.073Z"
      },
      {
        "duration": 13383,
        "start_time": "2022-08-02T11:05:57.088Z"
      },
      {
        "duration": 13,
        "start_time": "2022-08-02T11:06:10.472Z"
      },
      {
        "duration": 200,
        "start_time": "2022-08-02T11:06:10.486Z"
      },
      {
        "duration": 4,
        "start_time": "2022-08-02T11:06:10.688Z"
      },
      {
        "duration": 9,
        "start_time": "2022-08-02T11:06:10.701Z"
      },
      {
        "duration": 10,
        "start_time": "2022-08-02T11:06:10.712Z"
      },
      {
        "duration": 198089,
        "start_time": "2022-08-02T11:06:10.723Z"
      },
      {
        "duration": 3,
        "start_time": "2022-08-02T11:09:28.813Z"
      },
      {
        "duration": 12,
        "start_time": "2022-08-02T11:09:28.817Z"
      },
      {
        "duration": 35,
        "start_time": "2022-08-02T11:09:28.830Z"
      },
      {
        "duration": 12435,
        "start_time": "2022-08-02T11:09:28.866Z"
      },
      {
        "duration": 8,
        "start_time": "2022-08-02T11:09:41.303Z"
      },
      {
        "duration": 4,
        "start_time": "2022-08-02T11:09:41.403Z"
      },
      {
        "duration": 26,
        "start_time": "2022-08-02T11:09:41.408Z"
      },
      {
        "duration": 103,
        "start_time": "2022-08-02T11:09:41.503Z"
      },
      {
        "duration": 8,
        "start_time": "2022-08-02T11:09:41.608Z"
      },
      {
        "duration": 14,
        "start_time": "2022-08-02T11:09:41.618Z"
      },
      {
        "duration": 32,
        "start_time": "2022-08-02T11:09:41.634Z"
      },
      {
        "duration": 14,
        "start_time": "2022-08-02T11:18:24.850Z"
      },
      {
        "duration": 13,
        "start_time": "2022-08-02T11:19:10.154Z"
      },
      {
        "duration": 23,
        "start_time": "2022-08-02T11:19:30.786Z"
      },
      {
        "duration": 387,
        "start_time": "2022-08-02T11:20:15.092Z"
      },
      {
        "duration": 107,
        "start_time": "2022-08-02T11:20:23.432Z"
      },
      {
        "duration": 15,
        "start_time": "2022-08-02T11:20:28.784Z"
      },
      {
        "duration": 101,
        "start_time": "2022-08-02T11:21:24.684Z"
      },
      {
        "duration": 11,
        "start_time": "2022-08-02T11:21:36.474Z"
      },
      {
        "duration": 18,
        "start_time": "2022-08-02T11:21:59.553Z"
      },
      {
        "duration": 99,
        "start_time": "2022-08-02T11:23:48.689Z"
      },
      {
        "duration": 15,
        "start_time": "2022-08-02T11:23:49.404Z"
      },
      {
        "duration": 11,
        "start_time": "2022-08-02T11:23:49.735Z"
      },
      {
        "duration": 7,
        "start_time": "2022-08-02T11:23:50.264Z"
      },
      {
        "duration": 13,
        "start_time": "2022-08-02T11:23:50.573Z"
      },
      {
        "duration": 6,
        "start_time": "2022-08-02T11:23:50.854Z"
      },
      {
        "duration": 6,
        "start_time": "2022-08-02T11:23:52.273Z"
      },
      {
        "duration": 4,
        "start_time": "2022-08-02T11:23:52.594Z"
      },
      {
        "duration": 7,
        "start_time": "2022-08-02T11:23:52.884Z"
      },
      {
        "duration": 18,
        "start_time": "2022-08-02T11:23:53.135Z"
      },
      {
        "duration": 17,
        "start_time": "2022-08-02T11:24:44.794Z"
      },
      {
        "duration": 13,
        "start_time": "2022-08-02T11:26:33.302Z"
      },
      {
        "duration": 11,
        "start_time": "2022-08-02T11:26:49.033Z"
      },
      {
        "duration": 6,
        "start_time": "2022-08-02T11:27:26.643Z"
      },
      {
        "duration": 5,
        "start_time": "2022-08-02T11:27:45.083Z"
      },
      {
        "duration": 8,
        "start_time": "2022-08-02T11:27:51.685Z"
      },
      {
        "duration": 14,
        "start_time": "2022-08-02T11:28:43.793Z"
      },
      {
        "duration": 2268,
        "start_time": "2022-08-02T11:35:12.640Z"
      },
      {
        "duration": 3,
        "start_time": "2022-08-02T11:35:14.909Z"
      },
      {
        "duration": 121,
        "start_time": "2022-08-02T11:35:14.914Z"
      },
      {
        "duration": 77,
        "start_time": "2022-08-02T11:35:15.037Z"
      },
      {
        "duration": 14,
        "start_time": "2022-08-02T11:35:15.116Z"
      },
      {
        "duration": 33,
        "start_time": "2022-08-02T11:35:15.132Z"
      },
      {
        "duration": 69,
        "start_time": "2022-08-02T11:35:15.166Z"
      },
      {
        "duration": 25,
        "start_time": "2022-08-02T11:35:15.237Z"
      },
      {
        "duration": 21,
        "start_time": "2022-08-02T11:35:15.264Z"
      },
      {
        "duration": 24,
        "start_time": "2022-08-02T11:35:15.287Z"
      },
      {
        "duration": 17,
        "start_time": "2022-08-02T11:35:15.312Z"
      },
      {
        "duration": 21,
        "start_time": "2022-08-02T11:35:15.330Z"
      },
      {
        "duration": 20,
        "start_time": "2022-08-02T11:35:15.352Z"
      },
      {
        "duration": 24,
        "start_time": "2022-08-02T11:35:15.373Z"
      },
      {
        "duration": 20,
        "start_time": "2022-08-02T11:35:15.399Z"
      },
      {
        "duration": 33,
        "start_time": "2022-08-02T11:35:15.421Z"
      },
      {
        "duration": 355,
        "start_time": "2022-08-02T11:35:15.456Z"
      },
      {
        "duration": 110,
        "start_time": "2022-08-02T11:35:15.812Z"
      },
      {
        "duration": 100,
        "start_time": "2022-08-02T11:35:15.924Z"
      },
      {
        "duration": 16,
        "start_time": "2022-08-02T11:35:16.026Z"
      },
      {
        "duration": 51,
        "start_time": "2022-08-02T11:35:16.044Z"
      },
      {
        "duration": 44,
        "start_time": "2022-08-02T11:35:16.097Z"
      },
      {
        "duration": 22,
        "start_time": "2022-08-02T11:35:16.143Z"
      },
      {
        "duration": 38,
        "start_time": "2022-08-02T11:35:16.166Z"
      },
      {
        "duration": 24,
        "start_time": "2022-08-02T11:35:16.205Z"
      },
      {
        "duration": 105,
        "start_time": "2022-08-02T11:35:16.230Z"
      },
      {
        "duration": 22,
        "start_time": "2022-08-02T11:35:16.336Z"
      },
      {
        "duration": 18,
        "start_time": "2022-08-02T11:35:16.362Z"
      },
      {
        "duration": 25,
        "start_time": "2022-08-02T11:35:16.382Z"
      },
      {
        "duration": 23,
        "start_time": "2022-08-02T11:35:16.409Z"
      },
      {
        "duration": 11,
        "start_time": "2022-08-02T11:35:16.434Z"
      },
      {
        "duration": 6,
        "start_time": "2022-08-02T11:35:16.447Z"
      },
      {
        "duration": 25,
        "start_time": "2022-08-02T11:35:16.455Z"
      },
      {
        "duration": 18,
        "start_time": "2022-08-02T11:35:16.481Z"
      },
      {
        "duration": 35,
        "start_time": "2022-08-02T11:35:16.501Z"
      },
      {
        "duration": 16,
        "start_time": "2022-08-02T11:35:16.537Z"
      },
      {
        "duration": 24,
        "start_time": "2022-08-02T11:35:16.555Z"
      },
      {
        "duration": 26,
        "start_time": "2022-08-02T11:35:16.581Z"
      },
      {
        "duration": 14,
        "start_time": "2022-08-02T11:35:16.608Z"
      },
      {
        "duration": 30,
        "start_time": "2022-08-02T11:35:16.623Z"
      },
      {
        "duration": 148,
        "start_time": "2022-08-02T11:35:16.654Z"
      },
      {
        "duration": 13,
        "start_time": "2022-08-02T11:35:16.804Z"
      },
      {
        "duration": 8,
        "start_time": "2022-08-02T11:35:16.818Z"
      },
      {
        "duration": 14,
        "start_time": "2022-08-02T11:35:16.827Z"
      },
      {
        "duration": 19,
        "start_time": "2022-08-02T11:35:16.843Z"
      },
      {
        "duration": 169,
        "start_time": "2022-08-02T11:35:16.864Z"
      },
      {
        "duration": 24,
        "start_time": "2022-08-02T11:35:17.034Z"
      },
      {
        "duration": 5,
        "start_time": "2022-08-02T11:35:17.060Z"
      },
      {
        "duration": 18,
        "start_time": "2022-08-02T11:35:17.066Z"
      },
      {
        "duration": 22,
        "start_time": "2022-08-02T11:35:17.086Z"
      },
      {
        "duration": 12,
        "start_time": "2022-08-02T11:35:17.110Z"
      },
      {
        "duration": 100765,
        "start_time": "2022-08-02T11:35:17.124Z"
      },
      {
        "duration": 4,
        "start_time": "2022-08-02T11:36:57.890Z"
      },
      {
        "duration": 7,
        "start_time": "2022-08-02T11:36:57.895Z"
      },
      {
        "duration": 14,
        "start_time": "2022-08-02T11:36:57.904Z"
      },
      {
        "duration": 12739,
        "start_time": "2022-08-02T11:36:57.919Z"
      },
      {
        "duration": 12,
        "start_time": "2022-08-02T11:37:10.659Z"
      },
      {
        "duration": 206,
        "start_time": "2022-08-02T11:37:10.673Z"
      },
      {
        "duration": 3,
        "start_time": "2022-08-02T11:37:10.881Z"
      },
      {
        "duration": 16,
        "start_time": "2022-08-02T11:37:10.886Z"
      },
      {
        "duration": 10,
        "start_time": "2022-08-02T11:37:10.904Z"
      },
      {
        "duration": 195179,
        "start_time": "2022-08-02T11:37:10.915Z"
      },
      {
        "duration": 4,
        "start_time": "2022-08-02T11:40:26.103Z"
      },
      {
        "duration": 9,
        "start_time": "2022-08-02T11:40:26.108Z"
      },
      {
        "duration": 18,
        "start_time": "2022-08-02T11:40:26.119Z"
      },
      {
        "duration": 12168,
        "start_time": "2022-08-02T11:40:26.139Z"
      },
      {
        "duration": 4,
        "start_time": "2022-08-02T11:40:38.309Z"
      },
      {
        "duration": 103,
        "start_time": "2022-08-02T11:40:38.401Z"
      },
      {
        "duration": 8,
        "start_time": "2022-08-02T11:40:38.505Z"
      },
      {
        "duration": 89,
        "start_time": "2022-08-02T11:40:38.515Z"
      },
      {
        "duration": 99,
        "start_time": "2022-08-02T11:40:38.607Z"
      },
      {
        "duration": 15,
        "start_time": "2022-08-02T11:40:38.708Z"
      },
      {
        "duration": 14,
        "start_time": "2022-08-02T11:40:38.724Z"
      }
    ],
    "colab": {
      "collapsed_sections": [],
      "provenance": []
    },
    "gpuClass": "standard",
    "kernelspec": {
      "display_name": "Python 3",
      "language": "python",
      "name": "python3"
    },
    "language_info": {
      "codemirror_mode": {
        "name": "ipython",
        "version": 3
      },
      "file_extension": ".py",
      "mimetype": "text/x-python",
      "name": "python",
      "nbconvert_exporter": "python",
      "pygments_lexer": "ipython3",
      "version": "3.8.8"
    },
    "toc": {
      "base_numbering": 1,
      "nav_menu": {},
      "number_sections": true,
      "sideBar": true,
      "skip_h1_title": true,
      "title_cell": "Table of Contents",
      "title_sidebar": "Contents",
      "toc_cell": false,
      "toc_position": {},
      "toc_section_display": true,
      "toc_window_display": false
    }
  },
  "nbformat": 4,
  "nbformat_minor": 0
}